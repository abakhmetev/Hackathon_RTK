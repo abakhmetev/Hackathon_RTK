{
 "cells": [
  {
   "cell_type": "markdown",
   "id": "8269dfe8",
   "metadata": {},
   "source": [
    "<span style=\"color:blue\">*magic_data*</span>"
   ]
  },
  {
   "cell_type": "markdown",
   "id": "48238a22",
   "metadata": {},
   "source": [
    "# Формирование портрета потенциального клиента для Ростелекома\n",
    "\n",
    "от команды magic_data"
   ]
  },
  {
   "cell_type": "markdown",
   "id": "547c9035",
   "metadata": {},
   "source": [
    "**Цель исследования:** на основе выявленных закономерностей в данных о продажах потенциальным клиентам за прошлые периоды сформировать список рекомендаций для поиска новых клиентов. \n",
    "\n",
    "**Задачи исследования:**\n",
    "1. Провести предобработку данных и EDA, включая:\n",
    "- предварительный анализ данных на предмет наличия пропусков, дубликатов, ошибок;\n",
    "- анализ показателей описательной статистики по имеющимся признакам;\n",
    "- выявление аномалий и выбросов;\n",
    "- предварительный анализ корреляции между признаками, устранение мультиколлинеарности;\n",
    "- преобразование данных (стандартизация, перевод категориальных переменных в бинарный вид);\n",
    "- формулировка гипотез, выбор моделей и алгоритмов машинного обучения;\n",
    "\n",
    "2. Проанализировать временной ряд на наличие автокорреляции и тренда.\n",
    "\n",
    "\n",
    "3. Реализовать алгоритмы машинного обучения, в том числе:\n",
    "- провести разбиение выборки две части: train/test;\n",
    "- обучить модели;\n",
    "- сделать прогнозы;\n",
    "- оценить метрики моделей;\n",
    "- выбрать лучшие модели и на их основе сформировать разметку новых клиентов по склонности к подключению.\n",
    "\n",
    "4. Составить портрет потенциального клиента с помощью описательной статистики.\n",
    "\n",
    "\n",
    "5. Визуализировать результаты анализа.\n",
    "\n",
    "\n",
    "6. Сформировать рекомендации по будущим продажам по каждому региону.\n",
    "\n",
    "**Описание данных:**\n",
    "\n",
    "Датасет содержит данные о продажах потенциальным клиентам за прошлые периоды.\n",
    "\n",
    "**Показатели:**\n",
    "\n",
    "- \n",
    "-\n",
    "-\n",
    "-\n",
    "-"
   ]
  },
  {
   "cell_type": "markdown",
   "id": "0e869001",
   "metadata": {},
   "source": [
    "## 1. Предобработка данных и EDA"
   ]
  },
  {
   "cell_type": "markdown",
   "id": "7ec068a1",
   "metadata": {},
   "source": [
    "### Импортируем библиотеки и загрузим файлы"
   ]
  },
  {
   "cell_type": "code",
   "execution_count": null,
   "id": "13366935",
   "metadata": {},
   "outputs": [],
   "source": [
    "import pandas as pd\n",
    "import matplotlib.pyplot as plt\n",
    "import seaborn as sns\n",
    "import numpy as np\n",
    "from scipy import stats as st\n",
    "import math as mth\n",
    "import plotly.express as px\n",
    "import datetime as dt\n",
    "\n",
    "#from pandas.plotting import register_matplotlib_converters\n",
    "#from urllib.parse import urlencode\n",
    "#import requests\n",
    "#import json\n",
    "#from folium import Map, Choropleth, Marker\n",
    "#from folium.plugins import MarkerCluster\n",
    "\n",
    "from statsmodels.tsa.seasonal import seasonal_decompose, adfuller\n",
    "from pylab import rcParams\n",
    "from statsmodels.graphics.tsaplots import plot_acf\n",
    "from statsmodels.tsa.statespace.sarimax import SARIMAX\n",
    "from statsmodels.tsa.arima_model import ARMA, ARIMA\n",
    "import statsmodels.api as sm\n",
    "\n",
    "#import warnings\n",
    "#from datetime import timedelta\n",
    "\n",
    "from sklearn.model_selection import train_test_split\n",
    "from sklearn.linear_model import Lasso, LinearRegression, Ridge, LogisticRegression\n",
    "from sklearn.preprocessing import StandardScalerfrom\n",
    "from sklearn import metrics\n",
    "from sklearn.tree import DecisionTreeRegressor, DecisionTreeClassifier\n",
    "from sklearn.ensemble import RandomForestRegressor, GradientBoostingRegressor, RandomForestClassifier, GradientBoostingClassifier\n",
    "from sklearn.cluster import KMeans\n",
    "from scipy.cluster.hierarchy import dendrogram, linkage \n",
    "from sklearn.decomposition import PCA"
   ]
  },
  {
   "cell_type": "code",
   "execution_count": null,
   "id": "3598a27d",
   "metadata": {},
   "outputs": [],
   "source": [
    "data = pd.read_csv('', sep='')\n",
    "    \n",
    "data.info()"
   ]
  },
  {
   "cell_type": "code",
   "execution_count": null,
   "id": "115b68a0",
   "metadata": {},
   "outputs": [],
   "source": [
    "old_data_shape = data.shape[0]\n",
    "print('Исходное количество единиц наблюдения:', old_data_shape)"
   ]
  },
  {
   "cell_type": "code",
   "execution_count": null,
   "id": "3bfc21de",
   "metadata": {},
   "outputs": [],
   "source": [
    "pd.set_option('display.max_columns', 50)"
   ]
  },
  {
   "cell_type": "code",
   "execution_count": null,
   "id": "91234dea",
   "metadata": {},
   "outputs": [],
   "source": [
    "data.head(10)"
   ]
  },
  {
   "cell_type": "markdown",
   "id": "a44360b8",
   "metadata": {},
   "source": [
    "### Анализ пропусков"
   ]
  },
  {
   "cell_type": "code",
   "execution_count": null,
   "id": "10efd163",
   "metadata": {},
   "outputs": [],
   "source": [
    "print('Количество пропусков по столбцам:')\n",
    "data.isna().sum()"
   ]
  },
  {
   "cell_type": "markdown",
   "id": "8c48cd63",
   "metadata": {},
   "source": [
    "### Анализ дубликатов"
   ]
  },
  {
   "cell_type": "code",
   "execution_count": null,
   "id": "d282e71a",
   "metadata": {},
   "outputs": [],
   "source": [
    "print('Количество явных дубликатов:', data.duplicated().sum())"
   ]
  },
  {
   "cell_type": "code",
   "execution_count": null,
   "id": "033af444",
   "metadata": {},
   "outputs": [],
   "source": [
    "#анализ неявных дубликатов и ошибок в категориальных переменных\n",
    "data['!!!'].unique()"
   ]
  },
  {
   "cell_type": "markdown",
   "id": "0ef3bcac",
   "metadata": {},
   "source": [
    "### Анализ выбросов и описательной статистики"
   ]
  },
  {
   "cell_type": "code",
   "execution_count": null,
   "id": "e179c16f",
   "metadata": {},
   "outputs": [],
   "source": [
    "data.hist(figsize=(15, 20));"
   ]
  },
  {
   "cell_type": "markdown",
   "id": "a773c7e9",
   "metadata": {},
   "source": [
    "**По гистограммам видно, что артефакты и выбросы могут быть в следующих показателях:**\n",
    "\n",
    "- \n",
    "-\n",
    "-\n",
    "-\n",
    "-"
   ]
  },
  {
   "cell_type": "code",
   "execution_count": null,
   "id": "d984b974",
   "metadata": {},
   "outputs": [],
   "source": []
  },
  {
   "cell_type": "code",
   "execution_count": null,
   "id": "cba1e277",
   "metadata": {},
   "outputs": [],
   "source": [
    "plt.figure(figsize=(15, 4))\n",
    "data.boxplot('')\n",
    "plt.show()"
   ]
  },
  {
   "cell_type": "code",
   "execution_count": null,
   "id": "b92d59a8",
   "metadata": {},
   "outputs": [],
   "source": [
    "#выбросы можно поотбрасывать с помощью перцентилей\n",
    "np.percentile(data[''], [90, 95, 99])"
   ]
  },
  {
   "cell_type": "code",
   "execution_count": null,
   "id": "1fc1bde9",
   "metadata": {},
   "outputs": [],
   "source": []
  },
  {
   "cell_type": "code",
   "execution_count": null,
   "id": "19ea7172",
   "metadata": {},
   "outputs": [],
   "source": []
  },
  {
   "cell_type": "code",
   "execution_count": null,
   "id": "50d769dc",
   "metadata": {},
   "outputs": [],
   "source": [
    "#анализ описательной статистики\n",
    "data.describe()"
   ]
  },
  {
   "cell_type": "code",
   "execution_count": null,
   "id": "9b83b375",
   "metadata": {},
   "outputs": [],
   "source": [
    "print(\n",
    "      'Коэффициент вариации:{:.2%}'.format(\n",
    "       np.std(data[''])/data[''].mean()\n",
    "        )\n",
    "      )"
   ]
  },
  {
   "cell_type": "code",
   "execution_count": null,
   "id": "00aeecd1",
   "metadata": {},
   "outputs": [],
   "source": [
    "plt.figure(figsize=(20, 5))\n",
    "sns.boxplot(x='', y='', data=)\n",
    "\n",
    "plt.show()"
   ]
  },
  {
   "cell_type": "code",
   "execution_count": null,
   "id": "ffac9bda",
   "metadata": {},
   "outputs": [],
   "source": [
    "#приблизим\n",
    "plt.figure(figsize=(20, 5))\n",
    "sns.boxplot(x='platform', y='total_sales', data=relevant_data_var)\n",
    "plt.ylim(0, 3)\n",
    "\n",
    "plt.show()"
   ]
  },
  {
   "cell_type": "markdown",
   "id": "ac314073",
   "metadata": {},
   "source": [
    "### Анализ мультиколлинеарности"
   ]
  },
  {
   "cell_type": "code",
   "execution_count": null,
   "id": "bdb92f86",
   "metadata": {},
   "outputs": [],
   "source": [
    "#матрица корреляции\n",
    "corr_matrix = data.corr()\n",
    "fig, ax = plt.subplots()"
   ]
  },
  {
   "cell_type": "code",
   "execution_count": null,
   "id": "b2543296",
   "metadata": {},
   "outputs": [],
   "source": [
    "#тепловая карта для матрицы корреляции\n",
    "sns.heatmap(corr_matrix, annot=True, square=True)\n",
    "ax.set_ylim(7, 0)\n",
    "plt.show()"
   ]
  },
  {
   "cell_type": "code",
   "execution_count": null,
   "id": "487d3e60",
   "metadata": {},
   "outputs": [],
   "source": [
    "#диаграммы рассеяния для взаимосвязи показателей с целевой переменной\n",
    "for col in data.drop('Целевая переменная', axis = 1).columns:\n",
    "    sns.scatterplot(data=data, x=col, y=cars['Целевая пересенная'])\n",
    "    plt.show()"
   ]
  },
  {
   "cell_type": "code",
   "execution_count": null,
   "id": "d1105d66",
   "metadata": {},
   "outputs": [],
   "source": []
  },
  {
   "cell_type": "code",
   "execution_count": null,
   "id": "a8133878",
   "metadata": {},
   "outputs": [],
   "source": []
  },
  {
   "cell_type": "code",
   "execution_count": null,
   "id": "2757f3fa",
   "metadata": {},
   "outputs": [],
   "source": [
    "#преобразование категориальных переменных в бинарный вид\n",
    "\n",
    "data[] = pd.get_dummies(data[])\n",
    "data.head()"
   ]
  },
  {
   "cell_type": "markdown",
   "id": "a88d5bf0",
   "metadata": {},
   "source": [
    "### Выводы по разделу:"
   ]
  },
  {
   "cell_type": "markdown",
   "id": "a6d6693d",
   "metadata": {},
   "source": [
    "1. \n",
    "2. "
   ]
  },
  {
   "cell_type": "markdown",
   "id": "9fc86479",
   "metadata": {},
   "source": [
    "## 2. Анализ временного ряда"
   ]
  },
  {
   "cell_type": "markdown",
   "id": "da95da5c",
   "metadata": {},
   "source": [
    "Для начала посмотрим на динамику показателя ??? и его скользящее среднее за ???"
   ]
  },
  {
   "cell_type": "code",
   "execution_count": null,
   "id": "c1fa21a1",
   "metadata": {},
   "outputs": [],
   "source": [
    "plt.figure(figsize = (15,8))\n",
    "plt.plot(data[''], label = '???', color = 'steelblue')\n",
    "plt.plot(data[''].rolling(window = 12).mean(), label = 'Скользящее среднее за 12 месяцев', color = 'orange')\n",
    "plt.legend(title = '', loc = 'upper left', fontsize = 14)\n",
    "plt.xlabel('Месяцы???', fontsize = 14)\n",
    "plt.ylabel('???', fontsize = 14)\n",
    "plt.title('???', fontsize = 16)\n",
    "plt.show()"
   ]
  },
  {
   "cell_type": "markdown",
   "id": "5eaf1b21",
   "metadata": {},
   "source": []
  },
  {
   "cell_type": "markdown",
   "id": "07522089",
   "metadata": {},
   "source": [
    "**Разложение ряда на компоненты**"
   ]
  },
  {
   "cell_type": "code",
   "execution_count": null,
   "id": "ce440d2e",
   "metadata": {},
   "outputs": [],
   "source": [
    "rcParams['figure.figsize'] = 11, 9\n",
    "decompose = seasonal_decompose(data[''])\n",
    "decompose.plot()\n",
    "plt.show()"
   ]
  },
  {
   "cell_type": "markdown",
   "id": "6c8c12dd",
   "metadata": {},
   "source": []
  },
  {
   "cell_type": "markdown",
   "id": "271bb225",
   "metadata": {},
   "source": [
    "**Проверка на стационарность**"
   ]
  },
  {
   "cell_type": "code",
   "execution_count": null,
   "id": "8424792c",
   "metadata": {},
   "outputs": [],
   "source": [
    "# тест Дики-Фуллера\n",
    "adf_test = adfuller(data[''])\n",
    "print('p-value = ' + str(adf_test[1]))"
   ]
  },
  {
   "cell_type": "markdown",
   "id": "c163d5bc",
   "metadata": {},
   "source": [
    "Стационарен, если есть p-value меньше 0,05 - можем отвергнуть нулевую гипотезу о нестационарности процесса.\n",
    "\n",
    "Если стационарен - тренд можно не выявлять."
   ]
  },
  {
   "cell_type": "markdown",
   "id": "5c25cbed",
   "metadata": {},
   "source": [
    "**Проверка наличия автокорреляции**"
   ]
  },
  {
   "cell_type": "markdown",
   "id": "3a94b961",
   "metadata": {},
   "source": []
  },
  {
   "cell_type": "code",
   "execution_count": null,
   "id": "0942b77a",
   "metadata": {},
   "outputs": [],
   "source": [
    "plot_acf(data[''], lags=np.arange(12))\n",
    "plt.show()"
   ]
  },
  {
   "cell_type": "code",
   "execution_count": null,
   "id": "f3a08803",
   "metadata": {},
   "outputs": [],
   "source": [
    "#уточним значение для лага, с наибольшей автокорреляцией\n",
    "np.round(np.corrcoef(data[''][:-1], data[''][1:])[0,1], 2)"
   ]
  },
  {
   "cell_type": "markdown",
   "id": "3d1e5d38",
   "metadata": {},
   "source": []
  },
  {
   "cell_type": "markdown",
   "id": "bb998ea3",
   "metadata": {},
   "source": [
    "**Выделение тренда**"
   ]
  },
  {
   "cell_type": "markdown",
   "id": "c9c9141d",
   "metadata": {},
   "source": [
    "*Экспоненциальное сглаживание*"
   ]
  },
  {
   "cell_type": "code",
   "execution_count": null,
   "id": "2869ad91",
   "metadata": {},
   "outputs": [],
   "source": [
    "alpha = 0.2\n",
    " \n",
    "exp_smoothing = [data[''][0]]\n",
    "for i in range(1, len(data[''])):\n",
    "    exp_smoothing.append(alpha * data[''][i] + (1 - alpha) * exp_smoothing[i - 1])"
   ]
  },
  {
   "cell_type": "code",
   "execution_count": null,
   "id": "8d2d2ed1",
   "metadata": {},
   "outputs": [],
   "source": [
    "#создание датафрейма с экспоненциальным сглаживанием\n",
    "trend_exp_sm = data[['Дата', '&&&']]\n",
    "trend_exp_sm['Exp_smoothing'] = exp_smoothing\n",
    "last_date = trend_exp_sm['Дата'].iloc[[-1]]\n",
    "last_date = last_date + timedelta(days = 1)\n",
    "trend_exp_sm = trend_exp_sm.append(pd.DataFrame(trend_exp_sm['Дата'] = last_date))\n",
    "trend_exp_sm['Exp_smoothing'] = trend_exp_sm['Exp_smoothing'].shift(1)\n",
    "trend_exp_sm.head()"
   ]
  },
  {
   "cell_type": "code",
   "execution_count": null,
   "id": "9932f250",
   "metadata": {},
   "outputs": [],
   "source": [
    "trend_exp_sm.tail()"
   ]
  },
  {
   "cell_type": "code",
   "execution_count": null,
   "id": "fe499758",
   "metadata": {},
   "outputs": [],
   "source": [
    "#график\n",
    "plt.figure(figsize = (15,8))\n",
    "plt.plot(trend_exp_sm[''], label = '', color = 'steelblue')\n",
    "plt.plot(trend_exp_sm['Exp_smoothing'], label = 'Экспоненциальное сглаживание', color = 'orange')\n",
    "plt.legend(title = '', loc = 'upper left', fontsize = 14)\n",
    "plt.ylabel('', fontsize = 14)\n",
    "plt.xlabel('Месяцы???', fontsize = 14)\n",
    "plt.title('???', fontsize = 16)\n",
    " \n",
    "plt.show()"
   ]
  },
  {
   "cell_type": "markdown",
   "id": "c09d3b3d",
   "metadata": {},
   "source": [
    "*ARMA (для стационарных данных)*"
   ]
  },
  {
   "cell_type": "code",
   "execution_count": null,
   "id": "04a5d58a",
   "metadata": {},
   "outputs": [],
   "source": [
    "#датасет для анализа динамики\n",
    "data_for_models = data[['Дата', '']]\n",
    "data_for_models.set_index('Дата', inplace=True)"
   ]
  },
  {
   "cell_type": "code",
   "execution_count": null,
   "id": "0fab12a3",
   "metadata": {},
   "outputs": [],
   "source": [
    "#модель ARMA\n",
    "model_arma = ARMA(data_for_models[''],order=(2,2))\n",
    "model_arma_fit = model_arma.fit()\n",
    "\n",
    "model_arma_fit.summary()"
   ]
  },
  {
   "cell_type": "code",
   "execution_count": null,
   "id": "7a42cd23",
   "metadata": {},
   "outputs": [],
   "source": [
    "#сравнение с реальным значением\n",
    "data_for_models['forecast_ARMA'] = model_arma_fit.predict(start = !!!92, end= !!!114, dynamic= True)  \n",
    "data_for_models[['', 'forecast_ARMA']].plot(figsize=(8, 5))"
   ]
  },
  {
   "cell_type": "markdown",
   "id": "5fa820ee",
   "metadata": {},
   "source": []
  },
  {
   "cell_type": "markdown",
   "id": "c79548b5",
   "metadata": {},
   "source": [
    "*ARIMA (для нестационарных данных)*"
   ]
  },
  {
   "cell_type": "code",
   "execution_count": null,
   "id": "da0e00b1",
   "metadata": {},
   "outputs": [],
   "source": [
    "model_arima = ARIMA(data[''],order=(2,1,2))\n",
    "model_arima_fit = model_arima.fit()\n",
    "model_arima_fit.summary()"
   ]
  },
  {
   "cell_type": "code",
   "execution_count": null,
   "id": "e622b218",
   "metadata": {},
   "outputs": [],
   "source": [
    "data_for_models['forecast_ARIMA'] = model_arima_fit.predict(start = 92, end= 114, dynamic= True)  \n",
    "data[['', 'forecast_ARIMA']].plot(figsize=(8, 5))"
   ]
  },
  {
   "cell_type": "markdown",
   "id": "2927e967",
   "metadata": {},
   "source": []
  },
  {
   "cell_type": "markdown",
   "id": "94d6af88",
   "metadata": {},
   "source": [
    "*SARIMA (учитывает сезонность)*"
   ]
  },
  {
   "cell_type": "code",
   "execution_count": null,
   "id": "eb2f59e4",
   "metadata": {},
   "outputs": [],
   "source": [
    "#!!!Здесь проверить точно ли это SARIMA, а не SARIMAX\n",
    "model_sarima = sm.tsa.statespace.SARIMAX(data[''],order=(2,1,2),seasonal_order=(2,1,2,6))\n",
    "model_sarima_fit = model_sarima.fit()\n",
    "model_sarima_fit.summary()"
   ]
  },
  {
   "cell_type": "code",
   "execution_count": null,
   "id": "3b8b0ad1",
   "metadata": {},
   "outputs": [],
   "source": [
    "data['forcast_SARIMA'] = model_arima_fit.predict(start=99, end=112, dynamic=True)\n",
    "data[['','forcast_SARIMA']].plot(figsize=(20, 5))"
   ]
  },
  {
   "cell_type": "markdown",
   "id": "98527f04",
   "metadata": {},
   "source": []
  },
  {
   "cell_type": "markdown",
   "id": "ed1ba20f",
   "metadata": {},
   "source": [
    "*SARIMAX (учитывает экзогенные факторы)*"
   ]
  },
  {
   "cell_type": "code",
   "execution_count": null,
   "id": "4401a1d6",
   "metadata": {},
   "outputs": [],
   "source": [
    "train = data_for_models[:'1959-12']\n",
    "test = data_for_models['1960-01':]\n",
    "\n",
    "#warnings.simplefilter(action = 'ignore', category = Warning)\n",
    " \n",
    "model_sarimax = SARIMAX(train, order = (3, 0, 0), seasonal_order = (0, 1, 0, 12))\n",
    "model_sarimax_fit = model.fit()\n",
    "model_sarimax_fit.summary()"
   ]
  },
  {
   "cell_type": "code",
   "execution_count": null,
   "id": "2891f3c6",
   "metadata": {},
   "outputs": [],
   "source": [
    "start = len(train)\n",
    "end = len(train) + len(test) - 1\n",
    "predictions = model_sarimax_fit.predict(start, end)\n",
    "\n",
    "plt.plot(train, color = \"black\")\n",
    "plt.plot(test, color = \"red\")\n",
    "plt.plot(predictions, color = \"green\")\n",
    "plt.title(\"Обучающая выборка, тестовая выборка и тестовый прогноз\")\n",
    "plt.ylabel('&&&')\n",
    "plt.xlabel('Месяцы')\n",
    "plt.grid()\n",
    "plt.show()"
   ]
  },
  {
   "cell_type": "markdown",
   "id": "472edd10",
   "metadata": {},
   "source": []
  },
  {
   "cell_type": "markdown",
   "id": "b6f8f1f6",
   "metadata": {},
   "source": [
    "Для лучшией модели посмотри еще метрики среднеквадратической ошибки (MSE) и корня среднеквадратической ошибки (RMSE) для оценки качества."
   ]
  },
  {
   "cell_type": "code",
   "execution_count": null,
   "id": "b8a765c1",
   "metadata": {},
   "outputs": [],
   "source": [
    "print('Среднеквадратическая ошибка (MSE): ', mean_squared_error(test, predictions))\n",
    "print('Корень среднеквадратической ошибки (RMSE): ', np.sqrt(mean_squared_error(test, predictions)))"
   ]
  },
  {
   "cell_type": "markdown",
   "id": "cc9f8e3f",
   "metadata": {},
   "source": []
  },
  {
   "cell_type": "markdown",
   "id": "19691e89",
   "metadata": {},
   "source": [
    "**Прогнозирование**"
   ]
  },
  {
   "cell_type": "markdown",
   "id": "91abdd07",
   "metadata": {},
   "source": []
  },
  {
   "cell_type": "code",
   "execution_count": null,
   "id": "44cbc7cf",
   "metadata": {},
   "outputs": [],
   "source": [
    "#Создание последующих дат для прогнозирования\n",
    "\n",
    "import datetime\n",
    "from dateutil.relativedelta import relativedelta\n",
    "start = datetime.datetime.strptime(\"1969-07-01\", \"%Y-%m-%d\")\n",
    "date_list = [start + relativedelta(months=x) for x in range(0,12)]\n",
    "future_prediction = pd.DataFrame(index=date_list, columns= data.columns)\n",
    "data = pd.concat([data, future])"
   ]
  },
  {
   "cell_type": "code",
   "execution_count": null,
   "id": "f98040f1",
   "metadata": {},
   "outputs": [],
   "source": [
    "#прогнозирование по лучшей модели\n",
    "\n",
    "data['future_prediction']=result.predict(start=113, end=130, dynamic=True)\n",
    "data[['avg monthly busride','future_prediction']].plot(figsize=(10, 6))\n",
    "plt.grid(True)"
   ]
  },
  {
   "cell_type": "code",
   "execution_count": null,
   "id": "e4e5701b",
   "metadata": {},
   "outputs": [],
   "source": []
  },
  {
   "cell_type": "markdown",
   "id": "07ea81bd",
   "metadata": {},
   "source": [
    "**Выводы по разделу:**\n",
    "\n",
    "1. \n",
    "2. "
   ]
  },
  {
   "cell_type": "markdown",
   "id": "1d58b1fe",
   "metadata": {},
   "source": [
    "## 3. Реализация алгоритмов машинного обучения"
   ]
  },
  {
   "cell_type": "markdown",
   "id": "fc5b87ee",
   "metadata": {},
   "source": [
    "Реализуем следующие алгоритмы машинного обучения:\n",
    "\n",
    "- линейная регрессия (стандартная, а также с L1- и с L2-регуляризацией)\n",
    "- логистическая регрессия (с решателями liblinear, sag и saga),\n",
    "- дерево принятия решений,\n",
    "- случайный лес,\n",
    "- градиентный бустинг.\n",
    "\n",
    "Cначала разделим выборки на обучающую/валидационную, проведем стандартизацию данных. Далее сделаем прогноз, сравним метрики и выберем лучшие модели."
   ]
  },
  {
   "cell_type": "markdown",
   "id": "100dce5b",
   "metadata": {},
   "source": [
    "### Обучение с учителем: регрессия"
   ]
  },
  {
   "cell_type": "markdown",
   "id": "e548ed28",
   "metadata": {},
   "source": [
    "!!! Здесь попробуем добавить период в список факторов, чтобы невилировать влияние тренда, если таковой имеется."
   ]
  },
  {
   "cell_type": "code",
   "execution_count": null,
   "id": "b58a4449",
   "metadata": {},
   "outputs": [],
   "source": [
    "#разделение на x/y\n",
    "X = data.drop('Целевая переменная', axis = 1)\n",
    "y = data['Целевая переменная']\n",
    "\n",
    "\n",
    "#Здесь скорее всего, будет привязка ко времени, нужно будет разделить с ее учетом\n",
    "y_train = data[''][data['Дата'] < '']\n",
    "y_test = data[''][data['Дата'] >= '']\n",
    "X_train = data[data['Дата'] < ''].drop([''], axis = 0)\n",
    "X_test = data[data['Дата'] >= ''].drop([''], axis = 0)\n",
    "\n",
    "#или\n",
    "X_train, X_test, y_train, y_test = train_test_split(X, y, test_size=0.2)\n",
    "\n",
    "#стандартизация\n",
    "scaler = StandardScaler()\n",
    "scaler.fit(X_train)\n",
    "X_train_st = scaler.transform(X_train)\n",
    "X_test_st = scaler.transform(X_test)"
   ]
  },
  {
   "cell_type": "code",
   "execution_count": null,
   "id": "869b8f45",
   "metadata": {},
   "outputs": [],
   "source": [
    "#зададим функцию MAPE (средняя абсолютная процентная ошибкя):\n",
    "def calc_mape(actual, pred): \n",
    "    actual, pred = np.array(actual), np.array(pred)\n",
    "    return np.mean(np.abs((actual - pred) / actual)) * 100"
   ]
  },
  {
   "cell_type": "code",
   "execution_count": null,
   "id": "d24fe1bb",
   "metadata": {},
   "outputs": [],
   "source": [
    "#зададим функцию для расчета разных моделей линейной регрессии:\n",
    "def liner_model_func(m, X_train_st, X_test_st, y_train, y_test):\n",
    "    model = m\n",
    "    model.fit(X_train_st, y_train)\n",
    "    pred = model.predict(X_test_st)\n",
    "    features = pd.DataFrame({'feature': X_train.columns, 'coeff': model.coef_})\n",
    "    features['coeff_abs'] = abs(features['coeff'])\n",
    "    intercept = model.intercept_\n",
    "    features = featureso.sort_values(by=['coeff_abs'], ascending=False)\n",
    "    # вывод метрик\n",
    "    print('\\n', m, '\\n')\n",
    "    print('MAE (средний модуль ошибки): {:.2f}'.format(mean_absolute_error(y_test, pred)))\n",
    "    print('MSE (средняя квадратичная ошибка): {:.2f}'.format(mean_squared_error(y_test, pred)))\n",
    "    print('RMSE (корень из MSE): {:.2f}'.format(mean_squared_error(y_test, pred)**0.5))\n",
    "    print('R2: {:.2f}'.format(r2_score(y_test, pred)))\n",
    "    print('MAPE (средняя абсолютная процентная ошибкя): {:.2f}'.format(mape(y_test, pred)))"
   ]
  },
  {
   "cell_type": "code",
   "execution_count": null,
   "id": "e4d89f8c",
   "metadata": {},
   "outputs": [],
   "source": [
    "#стандартная линейная регрессия\n",
    "liner_model_func(LinearRegression(), X_train_st, X_test_st, y_train, y_test)"
   ]
  },
  {
   "cell_type": "code",
   "execution_count": null,
   "id": "f8f8bab4",
   "metadata": {},
   "outputs": [],
   "source": [
    "#Lasso-регрессия (L1-регуляризация):\n",
    "liner_model_func(Lasso(), X_train_st, X_test_st, y_train, y_test)"
   ]
  },
  {
   "cell_type": "code",
   "execution_count": null,
   "id": "c5639170",
   "metadata": {},
   "outputs": [],
   "source": [
    "#Ridge-регрессия (L2-регуляризация):\n",
    "liner_model_func(Ridge(), X_train_st, X_test_st, y_train, y_test)"
   ]
  },
  {
   "cell_type": "code",
   "execution_count": null,
   "id": "930664a5",
   "metadata": {},
   "outputs": [],
   "source": [
    "#Дерево принятия решений:\n",
    "liner_model_func(DecisionTreeRegressor(), X_train_st, X_test_st, y_train, y_test)"
   ]
  },
  {
   "cell_type": "code",
   "execution_count": null,
   "id": "5da1b305",
   "metadata": {},
   "outputs": [],
   "source": [
    "#Случайный лес:\n",
    "liner_model_func(RandomForestRegressor(), X_train_st, X_test_st, y_train, y_test)"
   ]
  },
  {
   "cell_type": "code",
   "execution_count": null,
   "id": "0ad14ced",
   "metadata": {},
   "outputs": [],
   "source": [
    "#Градиентный бустинг:\n",
    "liner_model_func(GradientBoostingRegressor(), X_train_st, X_test_st, y_train, y_test)"
   ]
  },
  {
   "cell_type": "markdown",
   "id": "cacae48e",
   "metadata": {},
   "source": [
    "Лучшими метриками обладают ??? модели. Для дальнейшей интерпретации будем использовать ???\n",
    "\n",
    "Проанализируем значимость признаков в модели."
   ]
  },
  {
   "cell_type": "code",
   "execution_count": null,
   "id": "4a1d3cd2",
   "metadata": {},
   "outputs": [],
   "source": [
    "final_model = GradientBoostingRegressor(random_state=0) #или другая модель\n",
    "final_model.fit(X_train, y_train)\n",
    "y_pred = final_model.predict(X_test)\n",
    "\n",
    "feat_importance = pd.DataFrame(data = {'feature': X.columns, 'importances': final_model.feature_importances_})\n",
    "final_data.sort_values(by='importances')"
   ]
  },
  {
   "cell_type": "markdown",
   "id": "e13829b9",
   "metadata": {},
   "source": [
    "**Наиболее важными признаками оказались:**\n",
    "\n",
    "1. \n",
    "2. "
   ]
  },
  {
   "cell_type": "markdown",
   "id": "d3aba05a",
   "metadata": {},
   "source": [
    "### Обучение с учителем: бинарная классификация"
   ]
  },
  {
   "cell_type": "markdown",
   "id": "19e2495b",
   "metadata": {},
   "source": [
    "Добавим в датафрейм бинарную целевую переменную, содержащую факт покупки. И заново разделим выборку и проведем стандартизацию."
   ]
  },
  {
   "cell_type": "code",
   "execution_count": null,
   "id": "1774c34e",
   "metadata": {},
   "outputs": [],
   "source": [
    "data['Факт покупки'] = [1 for i in data['???'] if i not 0]\n",
    "\n",
    "print('Получившееся распределение по группам:\\n', data['Факт покупки'].value_counts())"
   ]
  },
  {
   "cell_type": "code",
   "execution_count": null,
   "id": "f552cbd0",
   "metadata": {},
   "outputs": [],
   "source": [
    "#разделение на x/y\n",
    "X_b = data.drop(['Факт покупки', 'Целевой пок-ль из линейной регр'], axis = 1)\n",
    "y_b = data['Факт покупки']\n",
    "\n",
    "#Здесь скорее всего, будет привязка ко времени, нужно будет разделить с ее учетом\n",
    "X_b_train, X_b_test, y_b_train, y_b_test = train_test_split(X_b, y_b, test_size=0.2)\n",
    "\n",
    "#стандартизация\n",
    "scaler = StandardScaler()\n",
    "scaler.fit(X_b_train)\n",
    "X_b_train_st = scaler.transform(X_b_train)\n",
    "X_b_test_st = scaler.transform(X_b_test)"
   ]
  },
  {
   "cell_type": "code",
   "execution_count": null,
   "id": "796249da",
   "metadata": {},
   "outputs": [],
   "source": [
    "#зададим функцию для расчета разных моделей бинарной классификации:\n",
    "def binary_class_func(m, X_b_train, X_b_test, y_b_train, y_b_test):\n",
    "    model = m\n",
    "    model.fit(X_b_train_st, y_b_train)\n",
    "    probabilities = model.predict_proba(X_b_test)[:, 1]\n",
    "    predictions = model.predict(X_b_test)\n",
    "    print('\\n', m, '\\n')\n",
    "    print('Accuracy (доля правильных ответов): {:.2f}'.format(accuracy_score(y_b_test, predictions)))\n",
    "    print('Precision (точность): {:.2f}'.format(precision_score(y_b_test, predictions)))\n",
    "    print('Recall (полнота!): {:.2f}'.format(recall_score(y_b_test, predictions)))\n",
    "    print('F1: {:.2f}'.format(f1_score(y_b_test, predictions)))\n",
    "    print('AUC-ROC (площадь под кривой ошибок): {:.2f}'.format(roc_auc = roc_auc_score(y_b_test, probabilities[:,1])))"
   ]
  },
  {
   "cell_type": "code",
   "execution_count": null,
   "id": "e82f7a8c",
   "metadata": {},
   "outputs": [],
   "source": [
    "#стандартная логистическая регрессия\n",
    "binary_class_func(LogisticRegression(solver='liblinear'), X_b_train_st, X_b_test_st, y_b_train, y_b_test)"
   ]
  },
  {
   "cell_type": "code",
   "execution_count": null,
   "id": "f9fe1a58",
   "metadata": {},
   "outputs": [],
   "source": [
    "#логистическая регрессия с решателем sag (L2)\n",
    "binary_class_func(LogisticRegression(solver='sag'), X_b_train_st, X_b_test_st, y_b_train, y_b_test)"
   ]
  },
  {
   "cell_type": "code",
   "execution_count": null,
   "id": "486d752f",
   "metadata": {},
   "outputs": [],
   "source": [
    "#логистическая регрессия с решателем saga\n",
    "binary_class_func(LogisticRegression(solver='saga'), X_b_train_st, X_b_test_st, y_b_train, y_b_test)"
   ]
  },
  {
   "cell_type": "code",
   "execution_count": null,
   "id": "2e4e0443",
   "metadata": {},
   "outputs": [],
   "source": [
    "#дерево принятия решений\n",
    "binary_class_func(DecisionTreeClassifier(), X_b_train_st, X_b_test_st, y_b_train, y_b_test)"
   ]
  },
  {
   "cell_type": "code",
   "execution_count": null,
   "id": "c06ed669",
   "metadata": {},
   "outputs": [],
   "source": [
    "#случайный лес\n",
    "binary_class_func(RandomForestClassifier(n_estimators = 100), X_b_train_st, X_b_test_st, y_b_train, y_b_test)"
   ]
  },
  {
   "cell_type": "code",
   "execution_count": null,
   "id": "2843051c",
   "metadata": {},
   "outputs": [],
   "source": [
    "#градиентный бустинг\n",
    "binary_class_func(GradientBoostingClassifier(n_estimators = 100), X_b_train_st, X_b_test_st, y_b_train, y_b_test)"
   ]
  },
  {
   "cell_type": "markdown",
   "id": "59cce2b3",
   "metadata": {},
   "source": [
    "Лучшими метриками обладают ??? модели. Поэтому прогнозировать принадлежность потенциального клиента к тому или иному классу будем на основе ???\n",
    "\n",
    "\n",
    "Также можно доработать модель логистической регрессии, поэкспериментировав с порогом отнесения к классу вероятных клиентов. Поскольку нам важно не потерять потенциального клиента, то порог будем постепенно уменьшать. В качестве пороговых значений будем использовать 0.45, 0.40, 0.35 и 0.30."
   ]
  },
  {
   "cell_type": "code",
   "execution_count": null,
   "id": "d8192b3e",
   "metadata": {},
   "outputs": [],
   "source": [
    "model_log = LogisticRegression(solver='liblinear', random_state=0)\n",
    "model_log.fit(X_b_train_st, y_b_train)\n",
    "predictions = model_log.predict(X_b_test_st)\n",
    "probabilities = model_log.predict_proba(X_b_test_st)[:,1]\n",
    "print('Accuracy (доля правильных ответов): {:.2f}'.format(accuracy_score(y_b_test, predictions)))\n",
    "print('Precision (точность): {:.2f}'.format(precision_score(y_b_test, predictions)))\n",
    "print('Recall (полнота!): {:.2f}'.format(recall_score(y_b_test, predictions)))\n",
    "print('F1: {:.2f}'.format(f1_score(y_b_test, predictions)))\n",
    "print('AUC-ROC (площадь под кривой ошибок): {:.2f}'.format(roc_auc = roc_auc_score(y_b_test, probabilities[:,1])))"
   ]
  },
  {
   "cell_type": "code",
   "execution_count": null,
   "id": "62f3b5ea",
   "metadata": {},
   "outputs": [],
   "source": [
    "thresholds = [0.45, 0.4, 0.35, 0.3]\n",
    "\n",
    "for threshold in thresholds:\n",
    "    custom_predictions = [0 if i < threshold else 1 for i in probabilities]\n",
    "    print('Метрики для прогноза с порогом ', i)\n",
    "    print('Accuracy: {:.2f}'.format(accuracy_score(y_b_test, custom_predictions)))\n",
    "    print('Precision: {:.2f}'.format(precision_score(y_b_test, custom_predictions)))\n",
    "    print('Recall: {:.2f}'.format(recall_score(y_b_test, custom_predictions)))\n",
    "    print('F1: {:.2f}'.format(f1_score(y_b_test, custom_predictions)))"
   ]
  },
  {
   "cell_type": "markdown",
   "id": "d5870af2",
   "metadata": {},
   "source": [
    "Выбор лучшей модели"
   ]
  },
  {
   "cell_type": "markdown",
   "id": "7107c292",
   "metadata": {},
   "source": [
    "### Обучение без учителя: кластеризация"
   ]
  },
  {
   "cell_type": "markdown",
   "id": "d3304cdf",
   "metadata": {},
   "source": [
    "Для кластеризации потенциальных клиентов реализуем алгоритм на основе метода к-средних (k-means)."
   ]
  },
  {
   "cell_type": "code",
   "execution_count": null,
   "id": "ca0efbe2",
   "metadata": {},
   "outputs": [],
   "source": [
    "#стандартизация\n",
    "sc = StandardScaler()\n",
    "X_sc = sc.fit_transform(X)\n",
    "\n",
    "#модель\n",
    "km = KMeans(n_clusters=5, random_state=0)\n",
    "labels = km.fit_predict(X_sc)\n",
    "data['clusters'] = labels\n",
    "\n",
    "print('Средние значения признаков по кластерам \\n', data.groupby(['clusters']).mean())"
   ]
  },
  {
   "cell_type": "code",
   "execution_count": null,
   "id": "077505ff",
   "metadata": {},
   "outputs": [],
   "source": [
    "#график кластеризации\n",
    "linked = linkage(X_sc, method = 'ward') \n",
    "plt.figure(figsize=(15, 10))  \n",
    "dendrogram(linked, orientation='top')\n",
    "plt.title('Иерархическая кластеризация клиентов')\n",
    "plt.show() "
   ]
  },
  {
   "cell_type": "code",
   "execution_count": null,
   "id": "0bcae9ea",
   "metadata": {},
   "outputs": [],
   "source": [
    "# Метрика силуэта\n",
    "print('Silhouette score (метрика силуэта): {:.2f}'.format(silhouette_score(X_sc, labels)))"
   ]
  },
  {
   "cell_type": "markdown",
   "id": "1ac2e785",
   "metadata": {},
   "source": [
    "Вывод"
   ]
  },
  {
   "cell_type": "markdown",
   "id": "0feb0aa2",
   "metadata": {},
   "source": [
    "### Уменьшение размерности данных с помощью метода главных компонент"
   ]
  },
  {
   "cell_type": "markdown",
   "id": "f8f57b40",
   "metadata": {},
   "source": [
    "Для того чтобы лучше понять, как взаимосвязаны между собой факторы, влияющие на склонность клиетов к покупке воспользуемся методом PCA."
   ]
  },
  {
   "cell_type": "code",
   "execution_count": null,
   "id": "20029f8b",
   "metadata": {},
   "outputs": [],
   "source": [
    "# Применение PCA с 2мя компонентами\n",
    "pca = PCA(n_components=2)\n",
    "X_pca = pca.fit_transform(X_sc)\n",
    "\n",
    "# Визуализация\n",
    "plt.scatter(X_pca[:, 0], X_pca[:, 1], c=y, cmap='viridis')\n",
    "plt.title(\"Визуализация данных с PCA\")\n",
    "plt.xlabel(\"Главная компонента 1\")\n",
    "plt.ylabel(\"Главная компонента 2\")\n",
    "plt.show()"
   ]
  },
  {
   "cell_type": "markdown",
   "id": "3c2f4a8a",
   "metadata": {},
   "source": [
    "Посмотрим, какие факторы больше всего повлияли на эти компоненты."
   ]
  },
  {
   "cell_type": "code",
   "execution_count": null,
   "id": "ba9f81ab",
   "metadata": {},
   "outputs": [],
   "source": [
    "# Получение собственных векторов (весов) главных компонент\n",
    "eigen_vectors = pca.components_\n",
    "\n",
    "# Визуализация весов для первых нескольких компонент\n",
    "\n",
    "\n",
    "# !!!!! Здесь нужно будет доработать код. Если не получится, то вывести просто веса главных компонент.\n",
    "plt.figure(figsize=(10, 5))\n",
    "for i in range(5):\n",
    "    plt.subplot(1, 5, i + 1)\n",
    "    plt.imshow(eigen_vectors[i].reshape(имя_изображения), cmap='viridis')\n",
    "    plt.title(f\"Главная компонента {i + 1}\")\n",
    "    plt.axis('off')\n",
    "plt.show()"
   ]
  },
  {
   "cell_type": "code",
   "execution_count": null,
   "id": "84a2f3bf",
   "metadata": {},
   "outputs": [],
   "source": [
    " Попробуем использовать метод главных компонент для улучшения качества кластеризации."
   ]
  },
  {
   "cell_type": "code",
   "execution_count": null,
   "id": "bb9f0723",
   "metadata": {},
   "outputs": [],
   "source": [
    "# Кластеризация после применения PCA\n",
    "kmeans_pca = KMeans(n_clusters=5)\n",
    "labels_pca = kmeans_pca.fit_predict(X_pca)\n",
    "\n",
    "# Визуализация результатов\n",
    "plt.figure(figsize=(12, 6))\n",
    "plt.subplot(121)\n",
    "plt.scatter(X_sc[:, 0], X_sc[:, 1], c=labels, cmap='viridis')\n",
    "plt.title(\"Кластеризация без PCA\")\n",
    "plt.subplot(122)\n",
    "plt.scatter(X_pca[:, 0], X_pca[:, 1], c=labels_pca, cmap='viridis')\n",
    "plt.title(\"Кластеризация после PCA\")\n",
    "plt.show()"
   ]
  },
  {
   "cell_type": "markdown",
   "id": "b2978a03",
   "metadata": {},
   "source": [
    "Вывод: "
   ]
  },
  {
   "cell_type": "markdown",
   "id": "cfb3c63d",
   "metadata": {},
   "source": [
    "**Выводы по разделу:**\n",
    "\n",
    "1. \n",
    "2. "
   ]
  },
  {
   "cell_type": "markdown",
   "id": "fb319bcf",
   "metadata": {},
   "source": [
    "## 4. Портрет потенциального клиента"
   ]
  },
  {
   "cell_type": "code",
   "execution_count": null,
   "id": "8b844f5e",
   "metadata": {},
   "outputs": [],
   "source": [
    "data.groupby('').mean()\n",
    "\n",
    "data.pivot_table(index='', values='', aggfunc=['',''])"
   ]
  },
  {
   "cell_type": "markdown",
   "id": "5777e812",
   "metadata": {},
   "source": [
    "Вывод"
   ]
  },
  {
   "cell_type": "code",
   "execution_count": null,
   "id": "fdc42b15",
   "metadata": {},
   "outputs": [],
   "source": []
  },
  {
   "cell_type": "code",
   "execution_count": null,
   "id": "69cb8add",
   "metadata": {},
   "outputs": [],
   "source": []
  },
  {
   "cell_type": "code",
   "execution_count": null,
   "id": "11403833",
   "metadata": {},
   "outputs": [],
   "source": []
  },
  {
   "cell_type": "code",
   "execution_count": null,
   "id": "6b7b81be",
   "metadata": {},
   "outputs": [],
   "source": []
  },
  {
   "cell_type": "markdown",
   "id": "6bc4c317",
   "metadata": {},
   "source": [
    "## 5. Визуализация"
   ]
  },
  {
   "cell_type": "markdown",
   "id": "9820b190",
   "metadata": {},
   "source": [
    "### Дашборд\n",
    "\n",
    "Ссылка на дашборд:\n",
    "\n",
    "\n",
    "[Дашборд \"!!!\"](https://public.tableau.com/app/profile/anna7527/viz/_16738687084650/Dashboard1?publish=yes \"!!!\") \n",
    "\n",
    "\n",
    "Дашборд содержит:\n",
    "- ;\n",
    "- ;\n",
    "- .\n",
    "\n",
    "### Визуализация в Unity3d\n",
    "\n",
    "Ссылка:\n",
    "\n",
    "\n",
    "Даш содержит:"
   ]
  },
  {
   "cell_type": "code",
   "execution_count": 2,
   "id": "eaa772c6",
   "metadata": {},
   "outputs": [],
   "source": [
    "#Загрузка файла для дашборда:\n",
    "#data_by_purchase.to_csv('data_by_purchase.csv', index = False)"
   ]
  },
  {
   "cell_type": "markdown",
   "id": "5f05ddaf",
   "metadata": {},
   "source": [
    "## 6. Презентация"
   ]
  },
  {
   "cell_type": "markdown",
   "id": "ad7d5b9e",
   "metadata": {},
   "source": [
    "Ссылка на презентацию:\n",
    "\n",
    "\n",
    "[Презентация \"Формирование портрета потенциального клиента для Ростелекома от команды magic_data\"](https://disk.yandex.ru/i/1CwfdbHipeEUSg \"Формирование портрета потенциального клиента для Ростелекома от команды magic_data\") \n"
   ]
  },
  {
   "cell_type": "code",
   "execution_count": null,
   "id": "896120cc",
   "metadata": {},
   "outputs": [],
   "source": []
  },
  {
   "cell_type": "code",
   "execution_count": null,
   "id": "1ad375ff",
   "metadata": {},
   "outputs": [],
   "source": []
  },
  {
   "cell_type": "code",
   "execution_count": null,
   "id": "9aa65b47",
   "metadata": {},
   "outputs": [],
   "source": []
  },
  {
   "cell_type": "markdown",
   "id": "39dad15c",
   "metadata": {},
   "source": [
    "## Общий вывод"
   ]
  },
  {
   "cell_type": "code",
   "execution_count": null,
   "id": "9bbe0128",
   "metadata": {},
   "outputs": [],
   "source": []
  },
  {
   "cell_type": "code",
   "execution_count": null,
   "id": "170df822",
   "metadata": {},
   "outputs": [],
   "source": []
  },
  {
   "cell_type": "code",
   "execution_count": null,
   "id": "5f388b6b",
   "metadata": {},
   "outputs": [],
   "source": []
  },
  {
   "cell_type": "code",
   "execution_count": null,
   "id": "4641d6bb",
   "metadata": {},
   "outputs": [],
   "source": []
  },
  {
   "cell_type": "markdown",
   "id": "ab8427f8",
   "metadata": {},
   "source": [
    "**Что можно еще сделать?**\n",
    "\n",
    "I. Можно еще дополнительно поразбиратьcя в агломеративной кластеризации и DBSCAN, KNN, CatBoost и LightGBM.\n",
    "\n",
    "II. Можно посчитать какой-нибудь агрегатный показатель на основе факторов, полученных методом главных компонент. Например, с помощью многомерной средней с весами в виде общностей. По каждому субъету РФ. И визуализировать с помощью фоновой картограммы Choropleth\n",
    "\n",
    "III. Можно взять какие-то данные из внешних источников и дополнить понециал по регионам. Например, количество домохозяйств по субъектам РФ, не подключенных к РТК, или количество новых зданий в субъекте. Количество новых домов можно попробовать получить с сайта: https://dom.mingkh.ru/\n",
    "Потом можно визуализировать с помощью маркеров из folium и с помощью той же Choropleth.\n",
    "\n",
    "IV. Еще можно попробовать сделать анализ временных рядов (просто анализ динамики и попробовать спрогнозировать что-нибудь)\n",
    "\n",
    "V. Можно рассчитать показатели продаж по полному кругу клиентов и по выделенным кластерам, проверить статистические гипотезы:\n",
    "\n",
    "- средняя покупка у клиентов из разных кластеров разная (t-тест):\n",
    "```\n",
    "H_0: средняя покупка кластера 1 = средняя покупка кластера 2\n",
    "H_1: средняя покупка кластера 1 ≠ средняя покупка кластера 2\n",
    "alpha = 0.05\n",
    "```\n",
    "- доля клиентов, совершивших покупку, в разных кластерах разная (z-тест):\n",
    "```\n",
    "H_0: доля  клиентов, совершивших событие, в кластере 1 = доля клиентов, совершивших событие, в кластере 2\n",
    "H_1: доля  клиентов, совершивших событие, в кластере 1 ≠ доля клиентов, совершивших событие, в кластере 2\n",
    "alpha = 0.05\n",
    "```"
   ]
  },
  {
   "cell_type": "code",
   "execution_count": null,
   "id": "aa1f5555",
   "metadata": {},
   "outputs": [],
   "source": []
  },
  {
   "cell_type": "code",
   "execution_count": null,
   "id": "02f91ab7",
   "metadata": {},
   "outputs": [],
   "source": []
  },
  {
   "cell_type": "code",
   "execution_count": null,
   "id": "93a02346",
   "metadata": {},
   "outputs": [],
   "source": []
  },
  {
   "cell_type": "code",
   "execution_count": null,
   "id": "a8cf9d87",
   "metadata": {},
   "outputs": [],
   "source": []
  },
  {
   "cell_type": "code",
   "execution_count": null,
   "id": "bf610277",
   "metadata": {},
   "outputs": [],
   "source": []
  },
  {
   "cell_type": "markdown",
   "id": "869d7ecf",
   "metadata": {},
   "source": [
    "# Черновики"
   ]
  },
  {
   "cell_type": "code",
   "execution_count": null,
   "id": "720bf295",
   "metadata": {},
   "outputs": [],
   "source": [
    "#моя старая mape на случай, если новая не сработает\n",
    "def mape_old(y_true, y_pred):\n",
    "    y_error = y_true - y_pred\n",
    "    y_error_abs = [abs(i) for i in y_error]\n",
    "    perc_error_abs = y_error_abs / y_true\n",
    "    mape = perc_error_abs.sum() / len(y_true)\n",
    "    return mape"
   ]
  },
  {
   "cell_type": "code",
   "execution_count": null,
   "id": "dac19cd6",
   "metadata": {},
   "outputs": [],
   "source": [
    "#черновик - функция с return:\n",
    "def liner_model_func(model, X_train_st, X_test_st, y_train, y_test):\n",
    "    model = model\n",
    "    model.fit(X_train_st, y_train)\n",
    "    pred = model.predict(X_test_st)\n",
    "    features = pd.DataFrame({'feature': X_train.columns, 'coeff': model.coef_})\n",
    "    features['coeff_abs'] = abs(features['coeff'])\n",
    "    intercept = model.intercept_\n",
    "    features = featureso.sort_values(by=['coeff_abs'], ascending=False)\n",
    "    # Метрики\n",
    "    mae = mean_absolute_error(y_test, pred)\n",
    "    mse = mean_squared_error(y_test, pred)\n",
    "    rmse = mean_squared_error(y_test, pred)**0.5\n",
    "    r2 = r2_score(y_test, pred)\n",
    "    mape = calc_mape(y_test, pred)\n",
    "    return pred, features, intercept, mae, mse, rmse, r2, mape"
   ]
  },
  {
   "cell_type": "code",
   "execution_count": null,
   "id": "6ebf9328",
   "metadata": {},
   "outputs": [],
   "source": [
    "#На случай, если будет лучшей модель бинарной классификации - дерево принятия решений. Что маловероятно.\n",
    "\n",
    "tree_model = DecisionTreeClassifier(min_samples_leaf=500)\n",
    "tree_model.fit(X_b_train_st, y_b_train)\n",
    "y_pred = tree_model.predict(X_b_test_st) \n",
    "\n",
    "plt.figure(figsize = (20,15)) # задайте размер фигуры, чтобы получить крупное изображение\n",
    "plot_tree(tree_model, filled=True, feature_names = X_b_train_st.columns, class_names = ['потенциальный клиент', 'не клиент'])\n",
    "plt.show() "
   ]
  },
  {
   "cell_type": "code",
   "execution_count": null,
   "id": "61d02281",
   "metadata": {},
   "outputs": [],
   "source": [
    "#попарные графики признаков с разметкой по кластерам\n",
    "\n",
    "import itertools\n",
    "\n",
    "# определим функцию отрисовки графиков попарных признаков для кластеров\n",
    "def show_clusters_on_plot(df, x_name, y_name, cluster_name):\n",
    "    plt.figure(figsize=(5, 5))\n",
    "    sns.scatterplot(\n",
    "        df[x_name], df[y_name], hue=df[cluster_name], palette='Paired'\n",
    "    )\n",
    "    plt.title('{} vs {}'.format(x_name, y_name))\n",
    "    plt.show()\n",
    "\n",
    "# задаём модель k_means с числом кластеров 3 и фиксируем значение random_state\n",
    "km = KMeans(n_clusters=3, random_state=0)\n",
    "# прогнозируем кластеры для наблюдений (алгоритм присваивает им номера от 0 до 2)\n",
    "labels = km.fit_predict(x_sc)\n",
    "\n",
    "# сохраняем метки кластера в поле нашего датасета\n",
    "travel['cluster_km'] = labels \n",
    "\n",
    "# выводим статистику по средним значениям наших признаков по кластеру\n",
    "print(travel.groupby(['cluster_km']).mean())\n",
    "\n",
    "# отрисуем графики для попарных сочетаний признаков с разметкой по кластерам\n",
    "col_pairs = list(itertools.combinations(travel.drop('cluster_km', axis=1).columns, 2))\n",
    "for pair in col_pairs:\n",
    "    show_clusters_on_plot(travel, pair[0], pair[1], 'cluster_km')"
   ]
  },
  {
   "cell_type": "code",
   "execution_count": null,
   "id": "075e09ae",
   "metadata": {},
   "outputs": [],
   "source": [
    "#Среднее за год\n",
    "data[''].resample(rule = 'AS').mean().head()"
   ]
  },
  {
   "cell_type": "code",
   "execution_count": null,
   "id": "6959b8db",
   "metadata": {},
   "outputs": [],
   "source": [
    "#скользящее среднее\n",
    "passengers.rolling(window = 3).mean().head()"
   ]
  },
  {
   "cell_type": "code",
   "execution_count": null,
   "id": "67241a40",
   "metadata": {},
   "outputs": [],
   "source": []
  }
 ],
 "metadata": {
  "kernelspec": {
   "display_name": "Python 3 (ipykernel)",
   "language": "python",
   "name": "python3"
  },
  "language_info": {
   "codemirror_mode": {
    "name": "ipython",
    "version": 3
   },
   "file_extension": ".py",
   "mimetype": "text/x-python",
   "name": "python",
   "nbconvert_exporter": "python",
   "pygments_lexer": "ipython3",
   "version": "3.9.13"
  }
 },
 "nbformat": 4,
 "nbformat_minor": 5
}
