{
 "cells": [
  {
   "cell_type": "markdown",
   "id": "8269dfe8",
   "metadata": {},
   "source": [
    "<span style=\"color:blue\">*magic_data*</span>"
   ]
  },
  {
   "cell_type": "markdown",
   "id": "48238a22",
   "metadata": {},
   "source": [
    "# Формирование портрета потенциального клиента для Ростелекома\n",
    "\n",
    "от команды magic_data"
   ]
  },
  {
   "cell_type": "markdown",
   "id": "547c9035",
   "metadata": {},
   "source": [
    "**Цель исследования:** на основе выявленных закономерностей в данных о продажах B2B клиентам за прошлые периоды сформировать рекомендации по повышению эффективности процесса по привлечению новых клиентов.\n",
    "\n",
    "**Задачи исследования:**\n",
    "\n",
    "1. Создать модель данных, позволяющую объединить исходные данные.\n",
    "\n",
    "2. Провести предобработку данных, в том числе:\n",
    "- проверить данные на валидность;\n",
    "- проанализировать данные на предмет наличия пропусков, дубликатов, ошибок.\n",
    "\n",
    "3. Провести разведочный анализ EDA, в том числе:\n",
    "- анализ показателей описательной статистики по имеющимся признакам;\n",
    "- выявление аномалий и выбросов;\n",
    "- предварительный анализ корреляции между признаками, устранение мультиколлинеарности;\n",
    "- преобразование данных (стандартизация, перевод категориальных переменных в бинарный вид);\n",
    "- сформулировать гипотезы, выбрать модели и алгоритмы классификации потенциальных клиентов;\n",
    "- проанализировать временной ряд на предмет станционарности, автокорреляции, наличия тренда и сезонности.\n",
    "\n",
    "4. Реализовать алгоритмы машинного обучения, в том числе:\n",
    "- провести разбиение выборки две части: train/test;\n",
    "- обучить модели;\n",
    "- сделать прогнозы;\n",
    "- оценить метрики моделей;\n",
    "- выбрать лучшие модели и на их основе сформировать разметку новых клиентов по склонности к подключению.\n",
    "\n",
    "5. Составить портрет потенциального клиента.\n",
    "\n",
    "\n",
    "6. Визуализировать результаты анализа.\n",
    "\n",
    "\n",
    "7. Сформировать рекомендации по будущим продажам по каждому региону.\n",
    "\n",
    "**Описание данных:**\n",
    "\n",
    "Датасет представляет собой 5 excel файлов, в каждом из которых содержится информация по клиентам: потенциальным и сделавшими покупку в период с января 2023 года по июль 2023 года.\n",
    "\n",
    "\n",
    "**Показатели:**\n",
    "\n",
    "1. Данные по продажам - sales.xls:\n",
    "- month_sale - месяц продажи,\n",
    "- day_sale - день продажи (дата продажи),\n",
    "- id_client_rf - УИД клиента, собранный с помощью склейки «Номер клиента» и «Филиал»,\n",
    "- sale_size - размер продажи («High» - большая покупка, «Middle» - средняя покупка, «Low» - малая покупка).\n",
    "\n",
    "2. Данные по адресам клиентов - address_client.csv:\n",
    "- id_client_rf - УИД клиента, собранный с помощью склейки «Номер клиента» и «Филиал»,\n",
    "- address - наименование адреса,\n",
    "- flag_provider - наличие провайдеров-конкурентов на адресе, где 1 – есть информация о провайдерах, 0 – нет информации о провайдерах,\n",
    "- nflag_have_free_ports - наличие технической возможности подключения на адресе, где 1 – есть техническая возможность, 0 – требуется уточнение,\n",
    "- tech_name - наименование технологии подключения на адресе,\n",
    "- latitude - координаты адреса (широта),\n",
    "- longitude - координаты адреса (долгота).\n",
    "\n",
    "3. Данные по сфере деятельности - okved_industry_client.csv:\n",
    "- id_client_rf - УИД клиента, собранный с помощью склейки «Номер клиента» и «Филиал»,\n",
    "- сode_okved - код ОКВЭД,\n",
    "- name_okved - наименование ОКВЭД,\n",
    "- type_okved - тип ОКВЭД (1 – основной, 0 – дополнительный),\n",
    "- industry - yаименование индустрии.\n",
    "\n",
    "4. Данные по клиентам - base_info_client.csv:\n",
    "- id_client_rf - УИД клиента, собранный с помощью склейки «Номер клиента» и «Филиал»,\n",
    "- name_rf - наименование филиала,\n",
    "- id_client - номер клиента,\n",
    "- workersrange - кол-во сотрудников, работающих в компании,\n",
    "- total_revenue - общая выручка, указанная в млн руб. (0 – до 1 млн руб., 5 – до 5 млн руб. и т.д.)\n",
    "- companywithsameinfo - кол-во компаний с похожей финансовой информацией,\n",
    "- arbitrationcases - кол-во арбитражных дел,\n",
    "- datefirstreg - дата регистрации юр. лица,\n",
    "- flag_site - флаг наличия сайта у клиента, где 1 – сайт есть, 0 – сайта нет,\n",
    "- flag_business_center - флаг присутствия в бизнес-центре, где 1 – да, 0 – нет,\n",
    "- flag_resident - флаг присутствия в жилом доме, где 1 – да, 0 – нет,\n",
    "- date_actual_data - дата актуализации данных,\n",
    "- flag_vk - флаг наличия группы в VK, где 1 – да, 0 – нет.\n",
    "\n",
    "5. Список клиентов для скоринга - final_list.csv:\n",
    "\n",
    "- id_client_rf - УИД клиента, собранный с помощью склейки «Номер клиента» и «Филиал».\n"
   ]
  },
  {
   "cell_type": "markdown",
   "id": "0e869001",
   "metadata": {},
   "source": [
    "## 1. Предобработка данных и EDA"
   ]
  },
  {
   "cell_type": "markdown",
   "id": "7ec068a1",
   "metadata": {},
   "source": [
    "### Импортируем библиотеки и загрузим файлы"
   ]
  },
  {
   "cell_type": "code",
   "execution_count": null,
   "id": "97aa0804",
   "metadata": {},
   "outputs": [],
   "source": [
    "#Попыталась сделать общий доступ к датасетам, но, видимо, на моем копьютере установлена старая версия питона,\n",
    "#поэтому выдоает ошибкe, что имя urlencode не задано\n",
    "\n",
    "\n",
    "#base_url = 'https://cloud-api.yandex.net/v1/disk/public/resources/download?'\n",
    " \n",
    "#public_key_sales = 'https://disk.yandex.ru/i/Y2gL1bC5pXQ8gA'\n",
    "#public_key_address_client = ''\n",
    "#public_key_okved_industry_client = ''\n",
    "#public_key_base_info_client = ''\n",
    "#public_key_final_list = ''\n",
    "\n",
    "#def loading_files_csv(public_key):\n",
    "#    final_url = base_url + urlencode(dict(public_key=public_key))\n",
    "#    response = requests.get(final_url)\n",
    "#    download_url = response.json()['href']\n",
    "#    return download_url\n",
    "\n",
    "#sales_try = pd.read_csv(loading_files_csv(public_key_sales))"
   ]
  },
  {
   "cell_type": "code",
   "execution_count": 1,
   "id": "13366935",
   "metadata": {},
   "outputs": [],
   "source": [
    "import pandas as pd\n",
    "import matplotlib.pyplot as plt\n",
    "import seaborn as sns\n",
    "import numpy as np\n",
    "from scipy import stats as st\n",
    "import math as mth\n",
    "import datetime as dt\n",
    "from urllib.parse import urlencode\n",
    "import requests\n",
    "\n",
    "#import plotly.express as px\n",
    "#from pandas.plotting import register_matplotlib_converters\n",
    "#from urllib.parse import urlencode\n",
    "#import requests\n",
    "#import json\n",
    "#from folium import Map, Choropleth, Marker\n",
    "#from folium.plugins import MarkerCluster\n",
    "\n",
    "from statsmodels.tsa.seasonal import seasonal_decompose\n",
    "from statsmodels.tsa.stattools import adfuller\n",
    "from pylab import rcParams\n",
    "from statsmodels.graphics.tsaplots import plot_acf\n",
    "from statsmodels.tsa.arima_model import ARMA, ARIMA\n",
    "\n",
    "#from statsmodels.tsa.statespace.sarimax import SARIMAX\n",
    "#import statsmodels.api as sm\n",
    "#import warnings\n",
    "#from datetime import timedelta\n",
    "\n",
    "from sklearn.model_selection import train_test_split\n",
    "from sklearn.linear_model import Lasso, LinearRegression, Ridge, LogisticRegression\n",
    "from sklearn.preprocessing import StandardScaler\n",
    "from sklearn import metrics\n",
    "from sklearn.tree import DecisionTreeRegressor, DecisionTreeClassifier\n",
    "from sklearn.ensemble import RandomForestRegressor, GradientBoostingRegressor, RandomForestClassifier, GradientBoostingClassifier\n",
    "from sklearn.cluster import KMeans\n",
    "from sklearn.svm import SVC\n",
    "from sklearn.neighbors import KNeighborsRegressor\n",
    "from scipy.cluster.hierarchy import dendrogram, linkage \n",
    "from sklearn.decomposition import PCA"
   ]
  },
  {
   "cell_type": "code",
   "execution_count": 2,
   "id": "e2e5e3b1",
   "metadata": {},
   "outputs": [],
   "source": [
    "address_client = pd.read_csv(r'C:\\Users\\Anna\\OneDrive\\Рабочий стол\\Данные хакатон\\address_client.csv',\n",
    "                             encoding = \"utf-8\", on_bad_lines='skip',\n",
    "                             names=['id_client_rf', 'address', 'flag_provider', 'nflag_have_free_ports',\n",
    "                                    'tech_name', 'latitude', 'longitude'])\n",
    "\n",
    "base_info_client = pd.read_csv(r'C:\\Users\\Anna\\OneDrive\\Рабочий стол\\Данные хакатон\\base_info_client.csv',\n",
    "                               encoding = \"utf-8\", names=['id_client_rf', 'name_rf', 'id_client',\n",
    "                                                          'workersrange', 'total_revenue', 'companywithsameinfo',\n",
    "                                                          'arbitrationcases', 'datefirstreg', 'flag_site',\n",
    "                                                          'flag_business_center', 'flag_resident', 'date_actual_data',\n",
    "                                                          'flag_vk'], parse_dates=['datefirstreg','date_actual_data'])\n",
    "\n",
    "final_list = pd.read_csv(r'C:\\Users\\Anna\\OneDrive\\Рабочий стол\\Данные хакатон\\final_list.csv',\n",
    "                         encoding = \"utf-8\", names=['id_client_rf'])\n",
    "\n",
    "okved_industry_client = pd.read_csv(r'C:\\Users\\Anna\\OneDrive\\Рабочий стол\\Данные хакатон\\okved_industry_client.csv',\n",
    "                                    encoding = \"utf-8\", names = ['id_client_rf', 'Code_okved', 'Name_okved',\n",
    "                                                                 'Type_okved', 'Industry'])\n",
    "sales = pd.read_excel(r'C:\\Users\\Anna\\OneDrive\\Рабочий стол\\Данные хакатон\\sales.xlsx',\n",
    "                      names = ['month_sale', 'day_sale', 'id_client_rf', 'sale_size'])"
   ]
  },
  {
   "cell_type": "code",
   "execution_count": 3,
   "id": "8d9d1f14",
   "metadata": {},
   "outputs": [
    {
     "name": "stdout",
     "output_type": "stream",
     "text": [
      "Размерность address_client: 1485674\n",
      "<class 'pandas.core.frame.DataFrame'>\n",
      "RangeIndex: 1485674 entries, 0 to 1485673\n",
      "Data columns (total 7 columns):\n",
      " #   Column                 Non-Null Count    Dtype  \n",
      "---  ------                 --------------    -----  \n",
      " 0   id_client_rf           1485674 non-null  object \n",
      " 1   address                1485674 non-null  object \n",
      " 2   flag_provider          1485674 non-null  int64  \n",
      " 3   nflag_have_free_ports  1485674 non-null  int64  \n",
      " 4   tech_name              736940 non-null   object \n",
      " 5   latitude               1259978 non-null  float64\n",
      " 6   longitude              1259978 non-null  float64\n",
      "dtypes: float64(2), int64(2), object(3)\n",
      "memory usage: 79.3+ MB\n",
      "None\n",
      "\n",
      "\n",
      "Размерность base_info_client: 2218328\n",
      "\n",
      "\n",
      "<class 'pandas.core.frame.DataFrame'>\n",
      "RangeIndex: 2218328 entries, 0 to 2218327\n",
      "Data columns (total 13 columns):\n",
      " #   Column                Dtype         \n",
      "---  ------                -----         \n",
      " 0   id_client_rf          int64         \n",
      " 1   name_rf               object        \n",
      " 2   id_client             object        \n",
      " 3   workersrange          object        \n",
      " 4   total_revenue         int64         \n",
      " 5   companywithsameinfo   float64       \n",
      " 6   arbitrationcases      float64       \n",
      " 7   datefirstreg          datetime64[ns]\n",
      " 8   flag_site             int64         \n",
      " 9   flag_business_center  int64         \n",
      " 10  flag_resident         int64         \n",
      " 11  date_actual_data      datetime64[ns]\n",
      " 12  flag_vk               int64         \n",
      "dtypes: datetime64[ns](2), float64(2), int64(6), object(3)\n",
      "memory usage: 220.0+ MB\n",
      "None\n",
      "Размерность final_list: 1950766\n",
      "\n",
      "\n",
      "<class 'pandas.core.frame.DataFrame'>\n",
      "RangeIndex: 1950766 entries, 0 to 1950765\n",
      "Data columns (total 1 columns):\n",
      " #   Column        Dtype \n",
      "---  ------        ----- \n",
      " 0   id_client_rf  object\n",
      "dtypes: object(1)\n",
      "memory usage: 14.9+ MB\n",
      "None\n",
      "Размерность okved_industry_client: 5578226\n",
      "\n",
      "\n",
      "<class 'pandas.core.frame.DataFrame'>\n",
      "RangeIndex: 5578226 entries, 0 to 5578225\n",
      "Data columns (total 5 columns):\n",
      " #   Column        Dtype \n",
      "---  ------        ----- \n",
      " 0   id_client_rf  object\n",
      " 1   Code_okved    object\n",
      " 2   Name_okved    object\n",
      " 3   Type_okved    int64 \n",
      " 4   Industry      object\n",
      "dtypes: int64(1), object(4)\n",
      "memory usage: 212.8+ MB\n",
      "None\n",
      "Размерность sales: 10428\n",
      "<class 'pandas.core.frame.DataFrame'>\n",
      "RangeIndex: 10428 entries, 0 to 10427\n",
      "Data columns (total 4 columns):\n",
      " #   Column        Non-Null Count  Dtype         \n",
      "---  ------        --------------  -----         \n",
      " 0   month_sale    10428 non-null  datetime64[ns]\n",
      " 1   day_sale      10428 non-null  datetime64[ns]\n",
      " 2   id_client_rf  10428 non-null  object        \n",
      " 3   sale_size     10428 non-null  object        \n",
      "dtypes: datetime64[ns](2), object(2)\n",
      "memory usage: 326.0+ KB\n",
      "None\n"
     ]
    }
   ],
   "source": [
    "pd.set_option('display.max_columns', 50)\n",
    "print('Размерность address_client:', address_client.shape[0])\n",
    "print(address_client.info())\n",
    "print('\\n')\n",
    "print('Размерность base_info_client:', base_info_client.shape[0])\n",
    "print('\\n')\n",
    "print(base_info_client.info())\n",
    "print('Размерность final_list:', final_list.shape[0])\n",
    "print('\\n')\n",
    "print(final_list.info())\n",
    "print('Размерность okved_industry_client:', okved_industry_client.shape[0])\n",
    "print('\\n')\n",
    "print(okved_industry_client.info())\n",
    "print('Размерность sales:', sales.shape[0])\n",
    "print(sales.info())"
   ]
  },
  {
   "cell_type": "code",
   "execution_count": 4,
   "id": "efa560d6",
   "metadata": {},
   "outputs": [
    {
     "name": "stdout",
     "output_type": "stream",
     "text": [
      "address_client:\n",
      "id_client_rf             587676\n",
      "address                  183457\n",
      "flag_provider                 2\n",
      "nflag_have_free_ports         2\n",
      "tech_name                    40\n",
      "latitude                 114296\n",
      "longitude                116575\n",
      "dtype: int64\n",
      "\n",
      "base_info_client:\n",
      "id_client_rf            2218328\n",
      "name_rf                      13\n",
      "id_client               2218328\n",
      "workersrange                 11\n",
      "total_revenue              1559\n",
      "companywithsameinfo         135\n",
      "arbitrationcases            575\n",
      "datefirstreg              12865\n",
      "flag_site                     2\n",
      "flag_business_center          2\n",
      "flag_resident                 2\n",
      "date_actual_data           4551\n",
      "flag_vk                       2\n",
      "dtype: int64\n",
      "\n",
      "final_list:\n",
      "id_client_rf    1950766\n",
      "dtype: int64\n",
      "\n",
      "okved_industry_client:\n",
      "id_client_rf    2139266\n",
      "Code_okved         2470\n",
      "Name_okved         2396\n",
      "Type_okved            2\n",
      "Industry             33\n",
      "dtype: int64\n",
      "\n",
      "sales:\n",
      "month_sale         7\n",
      "day_sale         193\n",
      "id_client_rf    9316\n",
      "sale_size          3\n",
      "dtype: int64\n"
     ]
    }
   ],
   "source": [
    "# Проверка кол-ва уникальных значений для столбцов, где должно быть булево значение\n",
    "print('address_client:\\n', address_client.nunique(), sep='')\n",
    "print()\n",
    "print('base_info_client:\\n', base_info_client.nunique(), sep='')\n",
    "print()\n",
    "print('final_list:\\n', final_list.nunique(), sep='')\n",
    "print()\n",
    "print('okved_industry_client:\\n', okved_industry_client.nunique(), sep='')\n",
    "print()\n",
    "print('sales:\\n', sales.nunique(), sep='')"
   ]
  },
  {
   "cell_type": "code",
   "execution_count": 5,
   "id": "d69ec535",
   "metadata": {},
   "outputs": [
    {
     "data": {
      "text/html": [
       "<div>\n",
       "<style scoped>\n",
       "    .dataframe tbody tr th:only-of-type {\n",
       "        vertical-align: middle;\n",
       "    }\n",
       "\n",
       "    .dataframe tbody tr th {\n",
       "        vertical-align: top;\n",
       "    }\n",
       "\n",
       "    .dataframe thead th {\n",
       "        text-align: right;\n",
       "    }\n",
       "</style>\n",
       "<table border=\"1\" class=\"dataframe\">\n",
       "  <thead>\n",
       "    <tr style=\"text-align: right;\">\n",
       "      <th></th>\n",
       "      <th>id_client_rf</th>\n",
       "      <th>address</th>\n",
       "      <th>flag_provider</th>\n",
       "      <th>nflag_have_free_ports</th>\n",
       "      <th>tech_name</th>\n",
       "      <th>latitude</th>\n",
       "      <th>longitude</th>\n",
       "    </tr>\n",
       "  </thead>\n",
       "  <tbody>\n",
       "    <tr>\n",
       "      <th>0</th>\n",
       "      <td>00840127_Ф13</td>\n",
       "      <td>уфа г.\\, лесотехникума улица\\, 49/1</td>\n",
       "      <td>1</td>\n",
       "      <td>0</td>\n",
       "      <td>NaN</td>\n",
       "      <td>NaN</td>\n",
       "      <td>NaN</td>\n",
       "    </tr>\n",
       "    <tr>\n",
       "      <th>1</th>\n",
       "      <td>00840181_Ф13</td>\n",
       "      <td>уфа г.\\, лесотехникума улица\\, 49/1</td>\n",
       "      <td>1</td>\n",
       "      <td>0</td>\n",
       "      <td>NaN</td>\n",
       "      <td>NaN</td>\n",
       "      <td>NaN</td>\n",
       "    </tr>\n",
       "    <tr>\n",
       "      <th>2</th>\n",
       "      <td>00839528_Ф13</td>\n",
       "      <td>уфа г.\\, лесотехникума улица\\, 49/1</td>\n",
       "      <td>1</td>\n",
       "      <td>0</td>\n",
       "      <td>NaN</td>\n",
       "      <td>NaN</td>\n",
       "      <td>NaN</td>\n",
       "    </tr>\n",
       "    <tr>\n",
       "      <th>3</th>\n",
       "      <td>00839607_Ф13</td>\n",
       "      <td>уфа г.\\, лесотехникума улица\\, 49/1</td>\n",
       "      <td>1</td>\n",
       "      <td>0</td>\n",
       "      <td>NaN</td>\n",
       "      <td>NaN</td>\n",
       "      <td>NaN</td>\n",
       "    </tr>\n",
       "    <tr>\n",
       "      <th>4</th>\n",
       "      <td>00075449_Ф13</td>\n",
       "      <td>уфа г.\\, лесотехникума улица\\, 49/1</td>\n",
       "      <td>1</td>\n",
       "      <td>0</td>\n",
       "      <td>NaN</td>\n",
       "      <td>NaN</td>\n",
       "      <td>NaN</td>\n",
       "    </tr>\n",
       "  </tbody>\n",
       "</table>\n",
       "</div>"
      ],
      "text/plain": [
       "   id_client_rf                              address  flag_provider  \\\n",
       "0  00840127_Ф13  уфа г.\\, лесотехникума улица\\, 49/1              1   \n",
       "1  00840181_Ф13  уфа г.\\, лесотехникума улица\\, 49/1              1   \n",
       "2  00839528_Ф13  уфа г.\\, лесотехникума улица\\, 49/1              1   \n",
       "3  00839607_Ф13  уфа г.\\, лесотехникума улица\\, 49/1              1   \n",
       "4  00075449_Ф13  уфа г.\\, лесотехникума улица\\, 49/1              1   \n",
       "\n",
       "   nflag_have_free_ports tech_name  latitude  longitude  \n",
       "0                      0       NaN       NaN        NaN  \n",
       "1                      0       NaN       NaN        NaN  \n",
       "2                      0       NaN       NaN        NaN  \n",
       "3                      0       NaN       NaN        NaN  \n",
       "4                      0       NaN       NaN        NaN  "
      ]
     },
     "execution_count": 5,
     "metadata": {},
     "output_type": "execute_result"
    }
   ],
   "source": [
    "# 1. address_client\n",
    "address_client.head()"
   ]
  },
  {
   "cell_type": "code",
   "execution_count": 6,
   "id": "86eda054",
   "metadata": {},
   "outputs": [
    {
     "data": {
      "text/html": [
       "<div>\n",
       "<style scoped>\n",
       "    .dataframe tbody tr th:only-of-type {\n",
       "        vertical-align: middle;\n",
       "    }\n",
       "\n",
       "    .dataframe tbody tr th {\n",
       "        vertical-align: top;\n",
       "    }\n",
       "\n",
       "    .dataframe thead th {\n",
       "        text-align: right;\n",
       "    }\n",
       "</style>\n",
       "<table border=\"1\" class=\"dataframe\">\n",
       "  <thead>\n",
       "    <tr style=\"text-align: right;\">\n",
       "      <th></th>\n",
       "      <th>id_client_rf</th>\n",
       "      <th>name_rf</th>\n",
       "      <th>id_client</th>\n",
       "      <th>workersrange</th>\n",
       "      <th>total_revenue</th>\n",
       "      <th>companywithsameinfo</th>\n",
       "      <th>arbitrationcases</th>\n",
       "      <th>datefirstreg</th>\n",
       "      <th>flag_site</th>\n",
       "      <th>flag_business_center</th>\n",
       "      <th>flag_resident</th>\n",
       "      <th>date_actual_data</th>\n",
       "      <th>flag_vk</th>\n",
       "    </tr>\n",
       "  </thead>\n",
       "  <tbody>\n",
       "    <tr>\n",
       "      <th>0</th>\n",
       "      <td>1631354</td>\n",
       "      <td>Ф09</td>\n",
       "      <td>01631354_Ф09</td>\n",
       "      <td>NaN</td>\n",
       "      <td>0</td>\n",
       "      <td>1.0</td>\n",
       "      <td>NaN</td>\n",
       "      <td>2020-01-29</td>\n",
       "      <td>0</td>\n",
       "      <td>0</td>\n",
       "      <td>0</td>\n",
       "      <td>NaT</td>\n",
       "      <td>0</td>\n",
       "    </tr>\n",
       "    <tr>\n",
       "      <th>1</th>\n",
       "      <td>1631368</td>\n",
       "      <td>Ф09</td>\n",
       "      <td>01631368_Ф09</td>\n",
       "      <td>NaN</td>\n",
       "      <td>0</td>\n",
       "      <td>1.0</td>\n",
       "      <td>NaN</td>\n",
       "      <td>2020-07-31</td>\n",
       "      <td>0</td>\n",
       "      <td>0</td>\n",
       "      <td>0</td>\n",
       "      <td>NaT</td>\n",
       "      <td>0</td>\n",
       "    </tr>\n",
       "    <tr>\n",
       "      <th>2</th>\n",
       "      <td>1631377</td>\n",
       "      <td>Ф09</td>\n",
       "      <td>01631377_Ф09</td>\n",
       "      <td>NaN</td>\n",
       "      <td>0</td>\n",
       "      <td>1.0</td>\n",
       "      <td>NaN</td>\n",
       "      <td>2020-08-17</td>\n",
       "      <td>0</td>\n",
       "      <td>0</td>\n",
       "      <td>0</td>\n",
       "      <td>NaT</td>\n",
       "      <td>0</td>\n",
       "    </tr>\n",
       "    <tr>\n",
       "      <th>3</th>\n",
       "      <td>1631387</td>\n",
       "      <td>Ф09</td>\n",
       "      <td>01631387_Ф09</td>\n",
       "      <td>NaN</td>\n",
       "      <td>0</td>\n",
       "      <td>1.0</td>\n",
       "      <td>NaN</td>\n",
       "      <td>2019-12-23</td>\n",
       "      <td>0</td>\n",
       "      <td>0</td>\n",
       "      <td>0</td>\n",
       "      <td>NaT</td>\n",
       "      <td>0</td>\n",
       "    </tr>\n",
       "    <tr>\n",
       "      <th>4</th>\n",
       "      <td>1631409</td>\n",
       "      <td>Ф09</td>\n",
       "      <td>01631409_Ф09</td>\n",
       "      <td>NaN</td>\n",
       "      <td>0</td>\n",
       "      <td>1.0</td>\n",
       "      <td>NaN</td>\n",
       "      <td>2020-10-19</td>\n",
       "      <td>0</td>\n",
       "      <td>0</td>\n",
       "      <td>0</td>\n",
       "      <td>NaT</td>\n",
       "      <td>0</td>\n",
       "    </tr>\n",
       "  </tbody>\n",
       "</table>\n",
       "</div>"
      ],
      "text/plain": [
       "   id_client_rf name_rf     id_client workersrange  total_revenue  \\\n",
       "0       1631354     Ф09  01631354_Ф09          NaN              0   \n",
       "1       1631368     Ф09  01631368_Ф09          NaN              0   \n",
       "2       1631377     Ф09  01631377_Ф09          NaN              0   \n",
       "3       1631387     Ф09  01631387_Ф09          NaN              0   \n",
       "4       1631409     Ф09  01631409_Ф09          NaN              0   \n",
       "\n",
       "   companywithsameinfo  arbitrationcases datefirstreg  flag_site  \\\n",
       "0                  1.0               NaN   2020-01-29          0   \n",
       "1                  1.0               NaN   2020-07-31          0   \n",
       "2                  1.0               NaN   2020-08-17          0   \n",
       "3                  1.0               NaN   2019-12-23          0   \n",
       "4                  1.0               NaN   2020-10-19          0   \n",
       "\n",
       "   flag_business_center  flag_resident date_actual_data  flag_vk  \n",
       "0                     0              0              NaT        0  \n",
       "1                     0              0              NaT        0  \n",
       "2                     0              0              NaT        0  \n",
       "3                     0              0              NaT        0  \n",
       "4                     0              0              NaT        0  "
      ]
     },
     "execution_count": 6,
     "metadata": {},
     "output_type": "execute_result"
    }
   ],
   "source": [
    "# 2. base_info_client\n",
    "base_info_client.head()"
   ]
  },
  {
   "cell_type": "code",
   "execution_count": 7,
   "id": "982f66b6",
   "metadata": {},
   "outputs": [],
   "source": [
    "# Смотрим в каком формате хранятся записи workersrange. Нужно будет оставить только правую часть.\n",
    "# base_info_client[base_info_client['workersrange'].notnull()==True]\n",
    "# Переводим workersrange в числовой формат по правой цифре. \n",
    "base_info_client['workersrange'] = base_info_client['workersrange'].str.replace('(.* \\.\\. )|(.*\\.\\.)','', regex=True).dropna().astype(int)\n",
    "# Переводим id_client_rf в такой же формат, как и в других таблицах\n",
    "base_info_client['id_client_rf'] = base_info_client['id_client_rf'].astype(str)+'_'+base_info_client['name_rf'].astype(str)"
   ]
  },
  {
   "cell_type": "code",
   "execution_count": 8,
   "id": "d3c2ba73",
   "metadata": {},
   "outputs": [
    {
     "data": {
      "text/html": [
       "<div>\n",
       "<style scoped>\n",
       "    .dataframe tbody tr th:only-of-type {\n",
       "        vertical-align: middle;\n",
       "    }\n",
       "\n",
       "    .dataframe tbody tr th {\n",
       "        vertical-align: top;\n",
       "    }\n",
       "\n",
       "    .dataframe thead th {\n",
       "        text-align: right;\n",
       "    }\n",
       "</style>\n",
       "<table border=\"1\" class=\"dataframe\">\n",
       "  <thead>\n",
       "    <tr style=\"text-align: right;\">\n",
       "      <th></th>\n",
       "      <th>id_client_rf</th>\n",
       "    </tr>\n",
       "  </thead>\n",
       "  <tbody>\n",
       "    <tr>\n",
       "      <th>0</th>\n",
       "      <td>01768987_Ф04</td>\n",
       "    </tr>\n",
       "    <tr>\n",
       "      <th>1</th>\n",
       "      <td>01769012_Ф04</td>\n",
       "    </tr>\n",
       "    <tr>\n",
       "      <th>2</th>\n",
       "      <td>01769016_Ф04</td>\n",
       "    </tr>\n",
       "    <tr>\n",
       "      <th>3</th>\n",
       "      <td>01769018_Ф04</td>\n",
       "    </tr>\n",
       "    <tr>\n",
       "      <th>4</th>\n",
       "      <td>01769044_Ф04</td>\n",
       "    </tr>\n",
       "  </tbody>\n",
       "</table>\n",
       "</div>"
      ],
      "text/plain": [
       "   id_client_rf\n",
       "0  01768987_Ф04\n",
       "1  01769012_Ф04\n",
       "2  01769016_Ф04\n",
       "3  01769018_Ф04\n",
       "4  01769044_Ф04"
      ]
     },
     "execution_count": 8,
     "metadata": {},
     "output_type": "execute_result"
    }
   ],
   "source": [
    "# 3. final_list\n",
    "final_list.head()"
   ]
  },
  {
   "cell_type": "code",
   "execution_count": 9,
   "id": "28a102ef",
   "metadata": {},
   "outputs": [
    {
     "data": {
      "text/html": [
       "<div>\n",
       "<style scoped>\n",
       "    .dataframe tbody tr th:only-of-type {\n",
       "        vertical-align: middle;\n",
       "    }\n",
       "\n",
       "    .dataframe tbody tr th {\n",
       "        vertical-align: top;\n",
       "    }\n",
       "\n",
       "    .dataframe thead th {\n",
       "        text-align: right;\n",
       "    }\n",
       "</style>\n",
       "<table border=\"1\" class=\"dataframe\">\n",
       "  <thead>\n",
       "    <tr style=\"text-align: right;\">\n",
       "      <th></th>\n",
       "      <th>id_client_rf</th>\n",
       "      <th>Code_okved</th>\n",
       "      <th>Name_okved</th>\n",
       "      <th>Type_okved</th>\n",
       "      <th>Industry</th>\n",
       "    </tr>\n",
       "  </thead>\n",
       "  <tbody>\n",
       "    <tr>\n",
       "      <th>0</th>\n",
       "      <td>00811390_Ф13</td>\n",
       "      <td>47.91.2</td>\n",
       "      <td>Торговля розничная\\, осуществляемая непосредст...</td>\n",
       "      <td>1</td>\n",
       "      <td>Интернет-бизнес</td>\n",
       "    </tr>\n",
       "    <tr>\n",
       "      <th>1</th>\n",
       "      <td>01516426_Ф10</td>\n",
       "      <td>47.91.2</td>\n",
       "      <td>Торговля розничная\\, осуществляемая непосредст...</td>\n",
       "      <td>1</td>\n",
       "      <td>Интернет-бизнес</td>\n",
       "    </tr>\n",
       "    <tr>\n",
       "      <th>2</th>\n",
       "      <td>01258497_Ф06</td>\n",
       "      <td>47.91.2</td>\n",
       "      <td>Торговля розничная\\, осуществляемая непосредст...</td>\n",
       "      <td>1</td>\n",
       "      <td>Интернет-бизнес</td>\n",
       "    </tr>\n",
       "    <tr>\n",
       "      <th>3</th>\n",
       "      <td>01583065_Ф12</td>\n",
       "      <td>47.91.2</td>\n",
       "      <td>Торговля розничная\\, осуществляемая непосредст...</td>\n",
       "      <td>1</td>\n",
       "      <td>Интернет-бизнес</td>\n",
       "    </tr>\n",
       "    <tr>\n",
       "      <th>4</th>\n",
       "      <td>01506195_Ф04</td>\n",
       "      <td>47.91.2</td>\n",
       "      <td>Торговля розничная\\, осуществляемая непосредст...</td>\n",
       "      <td>1</td>\n",
       "      <td>Интернет-бизнес</td>\n",
       "    </tr>\n",
       "  </tbody>\n",
       "</table>\n",
       "</div>"
      ],
      "text/plain": [
       "   id_client_rf Code_okved                                         Name_okved  \\\n",
       "0  00811390_Ф13    47.91.2  Торговля розничная\\, осуществляемая непосредст...   \n",
       "1  01516426_Ф10    47.91.2  Торговля розничная\\, осуществляемая непосредст...   \n",
       "2  01258497_Ф06    47.91.2  Торговля розничная\\, осуществляемая непосредст...   \n",
       "3  01583065_Ф12    47.91.2  Торговля розничная\\, осуществляемая непосредст...   \n",
       "4  01506195_Ф04    47.91.2  Торговля розничная\\, осуществляемая непосредст...   \n",
       "\n",
       "   Type_okved         Industry  \n",
       "0           1  Интернет-бизнес  \n",
       "1           1  Интернет-бизнес  \n",
       "2           1  Интернет-бизнес  \n",
       "3           1  Интернет-бизнес  \n",
       "4           1  Интернет-бизнес  "
      ]
     },
     "execution_count": 9,
     "metadata": {},
     "output_type": "execute_result"
    }
   ],
   "source": [
    "# 4. okved_industry_client\n",
    "okved_industry_client.head()"
   ]
  },
  {
   "cell_type": "code",
   "execution_count": 10,
   "id": "ee65a8b5",
   "metadata": {},
   "outputs": [
    {
     "data": {
      "text/html": [
       "<div>\n",
       "<style scoped>\n",
       "    .dataframe tbody tr th:only-of-type {\n",
       "        vertical-align: middle;\n",
       "    }\n",
       "\n",
       "    .dataframe tbody tr th {\n",
       "        vertical-align: top;\n",
       "    }\n",
       "\n",
       "    .dataframe thead th {\n",
       "        text-align: right;\n",
       "    }\n",
       "</style>\n",
       "<table border=\"1\" class=\"dataframe\">\n",
       "  <thead>\n",
       "    <tr style=\"text-align: right;\">\n",
       "      <th></th>\n",
       "      <th>month_sale</th>\n",
       "      <th>day_sale</th>\n",
       "      <th>id_client_rf</th>\n",
       "      <th>sale_size</th>\n",
       "    </tr>\n",
       "  </thead>\n",
       "  <tbody>\n",
       "    <tr>\n",
       "      <th>0</th>\n",
       "      <td>2023-03-01</td>\n",
       "      <td>2023-03-16</td>\n",
       "      <td>00309682_Ф12</td>\n",
       "      <td>High</td>\n",
       "    </tr>\n",
       "    <tr>\n",
       "      <th>1</th>\n",
       "      <td>2023-03-01</td>\n",
       "      <td>2023-03-16</td>\n",
       "      <td>00309999_Ф12</td>\n",
       "      <td>High</td>\n",
       "    </tr>\n",
       "    <tr>\n",
       "      <th>2</th>\n",
       "      <td>2023-03-01</td>\n",
       "      <td>2023-03-07</td>\n",
       "      <td>00333129_Ф12</td>\n",
       "      <td>High</td>\n",
       "    </tr>\n",
       "    <tr>\n",
       "      <th>3</th>\n",
       "      <td>2023-03-01</td>\n",
       "      <td>2023-03-24</td>\n",
       "      <td>00333306_Ф12</td>\n",
       "      <td>High</td>\n",
       "    </tr>\n",
       "    <tr>\n",
       "      <th>4</th>\n",
       "      <td>2023-03-01</td>\n",
       "      <td>2023-03-07</td>\n",
       "      <td>00333741_Ф12</td>\n",
       "      <td>High</td>\n",
       "    </tr>\n",
       "  </tbody>\n",
       "</table>\n",
       "</div>"
      ],
      "text/plain": [
       "  month_sale   day_sale  id_client_rf  sale_size\n",
       "0 2023-03-01 2023-03-16  00309682_Ф12  High     \n",
       "1 2023-03-01 2023-03-16  00309999_Ф12  High     \n",
       "2 2023-03-01 2023-03-07  00333129_Ф12  High     \n",
       "3 2023-03-01 2023-03-24  00333306_Ф12  High     \n",
       "4 2023-03-01 2023-03-07  00333741_Ф12  High     "
      ]
     },
     "execution_count": 10,
     "metadata": {},
     "output_type": "execute_result"
    }
   ],
   "source": [
    "# 5. sales\n",
    "sales.head()\n",
    "# sales['sale_size'].unique()"
   ]
  },
  {
   "cell_type": "code",
   "execution_count": 11,
   "id": "d43dc4a0",
   "metadata": {},
   "outputs": [],
   "source": [
    "# Переводим sale_size в цифровой формат\n",
    "sales['sale_size'] = np.where(sales['sale_size']=='High     ', 3,\n",
    " np.where(sales['sale_size']=='Middle   ', 2,\n",
    " np.where(sales['sale_size']=='Low      ', 1, 0)))"
   ]
  },
  {
   "cell_type": "code",
   "execution_count": 12,
   "id": "a3ebac07",
   "metadata": {},
   "outputs": [
    {
     "name": "stdout",
     "output_type": "stream",
     "text": [
      "address_client:\n",
      "id_client_rf                  0\n",
      "address                       0\n",
      "flag_provider                 0\n",
      "nflag_have_free_ports         0\n",
      "tech_name                748734\n",
      "latitude                 225696\n",
      "longitude                225696\n",
      "dtype: int64\n",
      "\n",
      "base_info_client:\n",
      "id_client_rf                  0\n",
      "name_rf                       0\n",
      "id_client                     0\n",
      "workersrange            2216478\n",
      "total_revenue                 0\n",
      "companywithsameinfo     1321582\n",
      "arbitrationcases        1781086\n",
      "datefirstreg              10800\n",
      "flag_site                     0\n",
      "flag_business_center          0\n",
      "flag_resident                 0\n",
      "date_actual_data        1751900\n",
      "flag_vk                       0\n",
      "dtype: int64\n",
      "\n",
      "final_list:\n",
      "id_client_rf    0\n",
      "dtype: int64\n",
      "\n",
      "okved_industry_client:\n",
      "id_client_rf      0\n",
      "Code_okved        0\n",
      "Name_okved        0\n",
      "Type_okved        0\n",
      "Industry        236\n",
      "dtype: int64\n",
      "\n",
      "sales:\n",
      "month_sale      0\n",
      "day_sale        0\n",
      "id_client_rf    0\n",
      "sale_size       0\n",
      "dtype: int64\n"
     ]
    }
   ],
   "source": [
    "# Анализ пропусков\n",
    "print('address_client:\\n', address_client.isna().sum(), sep='')\n",
    "print()\n",
    "print('base_info_client:\\n', base_info_client.isna().sum(), sep='')\n",
    "print()\n",
    "print('final_list:\\n', final_list.isna().sum(), sep='')\n",
    "print()\n",
    "print('okved_industry_client:\\n', okved_industry_client.isna().sum(), sep='')\n",
    "print()\n",
    "print('sales:\\n', sales.isna().sum(), sep='')"
   ]
  },
  {
   "cell_type": "code",
   "execution_count": 13,
   "id": "6d8eacdd",
   "metadata": {},
   "outputs": [
    {
     "name": "stdout",
     "output_type": "stream",
     "text": [
      "address_client:\n",
      " 0\n",
      "\n",
      "base_info_client:\n",
      " 0\n",
      "\n",
      "final_list:\n",
      " 0\n",
      "\n",
      "okved_industry_client:\n",
      " 0\n",
      "\n",
      "sales:\n",
      " 0\n"
     ]
    }
   ],
   "source": [
    "# Анализ явных дубликатов\n",
    "print('address_client:\\n', address_client.duplicated().sum())\n",
    "print()\n",
    "print('base_info_client:\\n', base_info_client.duplicated().sum())\n",
    "print()\n",
    "print('final_list:\\n', final_list.duplicated().sum())\n",
    "print()\n",
    "print('okved_industry_client:\\n', okved_industry_client.duplicated().sum())\n",
    "print()\n",
    "print('sales:\\n', sales.duplicated().sum())"
   ]
  },
  {
   "cell_type": "code",
   "execution_count": 14,
   "id": "8451b159",
   "metadata": {},
   "outputs": [],
   "source": [
    "#меняем заголовки местами\n",
    "base_info_client.rename(columns={'id_client_rf': 'id_client', 'id_client': 'id_client_rf'}, inplace=True)"
   ]
  },
  {
   "cell_type": "code",
   "execution_count": 15,
   "id": "f05ac0dc",
   "metadata": {},
   "outputs": [
    {
     "data": {
      "text/html": [
       "<div>\n",
       "<style scoped>\n",
       "    .dataframe tbody tr th:only-of-type {\n",
       "        vertical-align: middle;\n",
       "    }\n",
       "\n",
       "    .dataframe tbody tr th {\n",
       "        vertical-align: top;\n",
       "    }\n",
       "\n",
       "    .dataframe thead th {\n",
       "        text-align: right;\n",
       "    }\n",
       "</style>\n",
       "<table border=\"1\" class=\"dataframe\">\n",
       "  <thead>\n",
       "    <tr style=\"text-align: right;\">\n",
       "      <th></th>\n",
       "      <th>id_client_rf</th>\n",
       "      <th>address</th>\n",
       "      <th>flag_provider</th>\n",
       "      <th>nflag_have_free_ports</th>\n",
       "      <th>tech_name</th>\n",
       "      <th>latitude</th>\n",
       "      <th>longitude</th>\n",
       "    </tr>\n",
       "  </thead>\n",
       "  <tbody>\n",
       "    <tr>\n",
       "      <th>0</th>\n",
       "      <td>00840127_Ф13</td>\n",
       "      <td>уфа г.\\, лесотехникума улица\\, 49/1</td>\n",
       "      <td>1</td>\n",
       "      <td>0</td>\n",
       "      <td>NaN</td>\n",
       "      <td>NaN</td>\n",
       "      <td>NaN</td>\n",
       "    </tr>\n",
       "  </tbody>\n",
       "</table>\n",
       "</div>"
      ],
      "text/plain": [
       "   id_client_rf                              address  flag_provider  \\\n",
       "0  00840127_Ф13  уфа г.\\, лесотехникума улица\\, 49/1              1   \n",
       "\n",
       "   nflag_have_free_ports tech_name  latitude  longitude  \n",
       "0                      0       NaN       NaN        NaN  "
      ]
     },
     "execution_count": 15,
     "metadata": {},
     "output_type": "execute_result"
    }
   ],
   "source": [
    "address_client.head(1)"
   ]
  },
  {
   "cell_type": "code",
   "execution_count": 17,
   "id": "738e284c",
   "metadata": {},
   "outputs": [],
   "source": []
  },
  {
   "cell_type": "code",
   "execution_count": 18,
   "id": "9cd2ad3f",
   "metadata": {},
   "outputs": [
    {
     "name": "stdout",
     "output_type": "stream",
     "text": [
      "<class 'pandas.core.frame.DataFrame'>\n",
      "Int64Index: 62472 entries, 0 to 62471\n",
      "Data columns (total 26 columns):\n",
      " #   Column                 Non-Null Count  Dtype         \n",
      "---  ------                 --------------  -----         \n",
      " 0   month_sale             62472 non-null  datetime64[ns]\n",
      " 1   day_sale               62472 non-null  datetime64[ns]\n",
      " 2   id_client_rf           62472 non-null  object        \n",
      " 3   sale_size              62472 non-null  int32         \n",
      " 4   Code_okved             62438 non-null  object        \n",
      " 5   Name_okved             62438 non-null  object        \n",
      " 6   Type_okved             62438 non-null  float64       \n",
      " 7   Industry               62436 non-null  object        \n",
      " 8   id_client              62472 non-null  object        \n",
      " 9   name_rf                62472 non-null  object        \n",
      " 10  workersrange           0 non-null      float64       \n",
      " 11  total_revenue          62472 non-null  int64         \n",
      " 12  companywithsameinfo    25390 non-null  float64       \n",
      " 13  arbitrationcases       13922 non-null  float64       \n",
      " 14  datefirstreg           61832 non-null  datetime64[ns]\n",
      " 15  flag_site              62472 non-null  int64         \n",
      " 16  flag_business_center   62472 non-null  int64         \n",
      " 17  flag_resident          62472 non-null  int64         \n",
      " 18  date_actual_data       36920 non-null  datetime64[ns]\n",
      " 19  flag_vk                62472 non-null  int64         \n",
      " 20  address                58130 non-null  object        \n",
      " 21  flag_provider          58130 non-null  float64       \n",
      " 22  nflag_have_free_ports  58130 non-null  float64       \n",
      " 23  tech_name              40490 non-null  object        \n",
      " 24  latitude               52958 non-null  float64       \n",
      " 25  longitude              52958 non-null  float64       \n",
      "dtypes: datetime64[ns](4), float64(8), int32(1), int64(5), object(8)\n",
      "memory usage: 12.6+ MB\n"
     ]
    }
   ],
   "source": []
  },
  {
   "cell_type": "code",
   "execution_count": 29,
   "id": "f259e92f",
   "metadata": {},
   "outputs": [
    {
     "data": {
      "text/plain": [
       "2023-03-01    12260\n",
       "2023-04-01    11112\n",
       "2023-02-01     8840\n",
       "2023-05-01     8768\n",
       "2023-06-01     7964\n",
       "2023-01-01     7670\n",
       "2023-07-01     5858\n",
       "Name: month_sale, dtype: int64"
      ]
     },
     "execution_count": 29,
     "metadata": {},
     "output_type": "execute_result"
    }
   ],
   "source": [
    "#преобразуем\n",
    "final_data_sales['month_sale'].value_counts()\n",
    "\n"
   ]
  },
  {
   "cell_type": "code",
   "execution_count": null,
   "id": "b46179f4",
   "metadata": {},
   "outputs": [],
   "source": []
  },
  {
   "cell_type": "code",
   "execution_count": null,
   "id": "6e5fe3ed",
   "metadata": {},
   "outputs": [],
   "source": []
  },
  {
   "cell_type": "code",
   "execution_count": null,
   "id": "6933fb8e",
   "metadata": {},
   "outputs": [],
   "source": []
  },
  {
   "cell_type": "code",
   "execution_count": 24,
   "id": "11623301",
   "metadata": {},
   "outputs": [
    {
     "data": {
      "text/plain": [
       "5.0       1320\n",
       "10.0       180\n",
       "50.0       144\n",
       "15.0        94\n",
       "100.0       48\n",
       "150.0       26\n",
       "1000.0      22\n",
       "250.0       10\n",
       "500.0        4\n",
       "200.0        2\n",
       "Name: workersrange, dtype: int64"
      ]
     },
     "execution_count": 24,
     "metadata": {},
     "output_type": "execute_result"
    }
   ],
   "source": [
    "base_info_client['workersrange'].value_counts()"
   ]
  },
  {
   "cell_type": "code",
   "execution_count": 25,
   "id": "90bdae41",
   "metadata": {},
   "outputs": [
    {
     "data": {
      "text/plain": [
       "9316"
      ]
     },
     "execution_count": 25,
     "metadata": {},
     "output_type": "execute_result"
    }
   ],
   "source": [
    "sales['id_client_rf'].nunique()"
   ]
  },
  {
   "cell_type": "code",
   "execution_count": null,
   "id": "dd74992a",
   "metadata": {},
   "outputs": [],
   "source": [
    "base_info_client['workersrange_is_known'] = [1 ]"
   ]
  },
  {
   "cell_type": "code",
   "execution_count": null,
   "id": "3c52db13",
   "metadata": {},
   "outputs": [],
   "source": [
    "base_info_client['workersrange_is_less_then_5'] = []"
   ]
  },
  {
   "cell_type": "code",
   "execution_count": null,
   "id": "26849269",
   "metadata": {},
   "outputs": [],
   "source": [
    "base_info_client['workersrange_is_more_then_5'] = []"
   ]
  },
  {
   "cell_type": "code",
   "execution_count": null,
   "id": "a6968243",
   "metadata": {},
   "outputs": [],
   "source": []
  },
  {
   "cell_type": "code",
   "execution_count": 28,
   "id": "28514099",
   "metadata": {},
   "outputs": [
    {
     "data": {
      "text/plain": [
       "xDSL                        463692\n",
       "xDSL\\, ETTH                  92202\n",
       "ETTH\\, xDSL                  91206\n",
       "ETTH                         50836\n",
       "PON                           9822\n",
       "FTTx\\, xDSL                   2874\n",
       "PON\\, xDSL                    2744\n",
       "PON\\, xDSL\\, ETTH             2574\n",
       "xDSL\\, FTTx                   2280\n",
       "xDSL\\, PON                    2220\n",
       "ETTH\\, xDSL\\, PON             1950\n",
       "ETTH\\, PON                    1812\n",
       "FTTx\\, xDSL\\, ETTH            1792\n",
       "xDSL\\, PON\\, ETTH             1500\n",
       "xDSL\\, ETTH\\, PON             1498\n",
       "ETTH\\, FTTx\\, xDSL            1292\n",
       "ETTH\\, PON\\, xDSL             1214\n",
       "PON\\, ETTH                    1000\n",
       "FTTx\\, ETTH\\, xDSL             808\n",
       "ETTH\\, xDSL\\, FTTx             778\n",
       "PON\\, ETTH\\, xDSL              742\n",
       "xDSL\\, ETTH\\, FTTx             704\n",
       "xDSL\\, FTTx\\, ETTH             562\n",
       "FTTx                           518\n",
       "БШПД                            84\n",
       "ETTH\\, PON\\, xDSL\\, FTTx        70\n",
       "xDSL\\, PON\\, FTTx               66\n",
       "PON\\, FTTx\\, xDSL\\, ETTH        20\n",
       "xDSL\\, БШПД\\, ETTH              18\n",
       "БШПД\\, ETTH\\, xDSL              16\n",
       "ETTH\\, FTTx                     10\n",
       "PON\\, FTTx\\, ETTH\\, xDSL         8\n",
       "FTTx\\, ETTH                      8\n",
       "xDSL\\, Оптика                    8\n",
       "FTTx\\, PON\\, xDSL                2\n",
       "ETTH\\, БШПД\\, xDSL               2\n",
       "FTTx\\, ETTH\\, PON                2\n",
       "FTTx\\, xDSL\\, PON\\, ETTH         2\n",
       "xDSL\\, ETTH\\, PON\\, FTTx         2\n",
       "FTTx\\, ETTH\\, PON\\, xDSL         2\n",
       "Name: tech_name, dtype: int64"
      ]
     },
     "execution_count": 28,
     "metadata": {},
     "output_type": "execute_result"
    }
   ],
   "source": [
    "address_client['tech_name'].value_counts()"
   ]
  },
  {
   "cell_type": "code",
   "execution_count": null,
   "id": "2ca842fe",
   "metadata": {},
   "outputs": [],
   "source": []
  },
  {
   "cell_type": "code",
   "execution_count": null,
   "id": "c6ed9105",
   "metadata": {},
   "outputs": [],
   "source": []
  },
  {
   "cell_type": "code",
   "execution_count": null,
   "id": "4cad9154",
   "metadata": {},
   "outputs": [],
   "source": []
  },
  {
   "cell_type": "code",
   "execution_count": null,
   "id": "975067ac",
   "metadata": {},
   "outputs": [],
   "source": []
  },
  {
   "cell_type": "code",
   "execution_count": null,
   "id": "d8144dd6",
   "metadata": {},
   "outputs": [],
   "source": [
    "final_data_sales = sales.merge(okved_industry_client, how='left', on='id_client_rf' )\\\n",
    "                  .merge(base_info_client, how='left', on='id_client_rf')\\\n",
    "                  .merge(address_client, how='left', on='id_client_rf')"
   ]
  },
  {
   "cell_type": "code",
   "execution_count": null,
   "id": "6c4d5b1f",
   "metadata": {},
   "outputs": [],
   "source": [
    "final_data_sales.info()"
   ]
  },
  {
   "cell_type": "code",
   "execution_count": null,
   "id": "f400f2c8",
   "metadata": {},
   "outputs": [],
   "source": []
  },
  {
   "cell_type": "code",
   "execution_count": 30,
   "id": "fc2c2286",
   "metadata": {},
   "outputs": [],
   "source": [
    "final_data_predict = final_list.merge(okved_industry_client, how='left', on='id_client_rf' )\\\n",
    "                  .merge(base_info_client, how='left', on='id_client_rf')\\\n",
    "                  .merge(address_client, how='left', on='id_client_rf')"
   ]
  },
  {
   "cell_type": "code",
   "execution_count": 31,
   "id": "6ca20d6d",
   "metadata": {},
   "outputs": [
    {
     "name": "stdout",
     "output_type": "stream",
     "text": [
      "<class 'pandas.core.frame.DataFrame'>\n",
      "Int64Index: 6395006 entries, 0 to 6395005\n",
      "Data columns (total 23 columns):\n",
      " #   Column                 Dtype         \n",
      "---  ------                 -----         \n",
      " 0   id_client_rf           object        \n",
      " 1   Code_okved             object        \n",
      " 2   Name_okved             object        \n",
      " 3   Type_okved             float64       \n",
      " 4   Industry               object        \n",
      " 5   id_client              object        \n",
      " 6   name_rf                object        \n",
      " 7   workersrange           float64       \n",
      " 8   total_revenue          int64         \n",
      " 9   companywithsameinfo    float64       \n",
      " 10  arbitrationcases       float64       \n",
      " 11  datefirstreg           datetime64[ns]\n",
      " 12  flag_site              int64         \n",
      " 13  flag_business_center   int64         \n",
      " 14  flag_resident          int64         \n",
      " 15  date_actual_data       datetime64[ns]\n",
      " 16  flag_vk                int64         \n",
      " 17  address                object        \n",
      " 18  flag_provider          float64       \n",
      " 19  nflag_have_free_ports  float64       \n",
      " 20  tech_name              object        \n",
      " 21  latitude               float64       \n",
      " 22  longitude              float64       \n",
      "dtypes: datetime64[ns](2), float64(8), int64(5), object(8)\n",
      "memory usage: 1.1+ GB\n"
     ]
    }
   ],
   "source": [
    "final_data_predict.info()"
   ]
  },
  {
   "cell_type": "code",
   "execution_count": 32,
   "id": "8c6e8ccf",
   "metadata": {},
   "outputs": [
    {
     "data": {
      "text/html": [
       "<div>\n",
       "<style scoped>\n",
       "    .dataframe tbody tr th:only-of-type {\n",
       "        vertical-align: middle;\n",
       "    }\n",
       "\n",
       "    .dataframe tbody tr th {\n",
       "        vertical-align: top;\n",
       "    }\n",
       "\n",
       "    .dataframe thead th {\n",
       "        text-align: right;\n",
       "    }\n",
       "</style>\n",
       "<table border=\"1\" class=\"dataframe\">\n",
       "  <thead>\n",
       "    <tr style=\"text-align: right;\">\n",
       "      <th></th>\n",
       "      <th>id_client_rf</th>\n",
       "      <th>Code_okved</th>\n",
       "      <th>Name_okved</th>\n",
       "      <th>Type_okved</th>\n",
       "      <th>Industry</th>\n",
       "      <th>id_client</th>\n",
       "      <th>name_rf</th>\n",
       "      <th>workersrange</th>\n",
       "      <th>total_revenue</th>\n",
       "      <th>companywithsameinfo</th>\n",
       "      <th>arbitrationcases</th>\n",
       "      <th>datefirstreg</th>\n",
       "      <th>flag_site</th>\n",
       "      <th>flag_business_center</th>\n",
       "      <th>flag_resident</th>\n",
       "      <th>date_actual_data</th>\n",
       "      <th>flag_vk</th>\n",
       "      <th>address</th>\n",
       "      <th>flag_provider</th>\n",
       "      <th>nflag_have_free_ports</th>\n",
       "      <th>tech_name</th>\n",
       "      <th>latitude</th>\n",
       "      <th>longitude</th>\n",
       "    </tr>\n",
       "  </thead>\n",
       "  <tbody>\n",
       "    <tr>\n",
       "      <th>0</th>\n",
       "      <td>01768987_Ф04</td>\n",
       "      <td>93.11</td>\n",
       "      <td>Деятельность спортивных объектов</td>\n",
       "      <td>0.0</td>\n",
       "      <td>Спорт</td>\n",
       "      <td>1768987_Ф04</td>\n",
       "      <td>Ф04</td>\n",
       "      <td>NaN</td>\n",
       "      <td>0</td>\n",
       "      <td>1.0</td>\n",
       "      <td>NaN</td>\n",
       "      <td>2021-11-30</td>\n",
       "      <td>0</td>\n",
       "      <td>0</td>\n",
       "      <td>0</td>\n",
       "      <td>NaT</td>\n",
       "      <td>0</td>\n",
       "      <td>NaN</td>\n",
       "      <td>NaN</td>\n",
       "      <td>NaN</td>\n",
       "      <td>NaN</td>\n",
       "      <td>NaN</td>\n",
       "      <td>NaN</td>\n",
       "    </tr>\n",
       "    <tr>\n",
       "      <th>1</th>\n",
       "      <td>01768987_Ф04</td>\n",
       "      <td>93.19</td>\n",
       "      <td>Деятельность в области спорта прочая</td>\n",
       "      <td>1.0</td>\n",
       "      <td>Спорт</td>\n",
       "      <td>1768987_Ф04</td>\n",
       "      <td>Ф04</td>\n",
       "      <td>NaN</td>\n",
       "      <td>0</td>\n",
       "      <td>1.0</td>\n",
       "      <td>NaN</td>\n",
       "      <td>2021-11-30</td>\n",
       "      <td>0</td>\n",
       "      <td>0</td>\n",
       "      <td>0</td>\n",
       "      <td>NaT</td>\n",
       "      <td>0</td>\n",
       "      <td>NaN</td>\n",
       "      <td>NaN</td>\n",
       "      <td>NaN</td>\n",
       "      <td>NaN</td>\n",
       "      <td>NaN</td>\n",
       "      <td>NaN</td>\n",
       "    </tr>\n",
       "    <tr>\n",
       "      <th>2</th>\n",
       "      <td>01768987_Ф04</td>\n",
       "      <td>93.12</td>\n",
       "      <td>Деятельность спортивных клубов</td>\n",
       "      <td>0.0</td>\n",
       "      <td>Спорт</td>\n",
       "      <td>1768987_Ф04</td>\n",
       "      <td>Ф04</td>\n",
       "      <td>NaN</td>\n",
       "      <td>0</td>\n",
       "      <td>1.0</td>\n",
       "      <td>NaN</td>\n",
       "      <td>2021-11-30</td>\n",
       "      <td>0</td>\n",
       "      <td>0</td>\n",
       "      <td>0</td>\n",
       "      <td>NaT</td>\n",
       "      <td>0</td>\n",
       "      <td>NaN</td>\n",
       "      <td>NaN</td>\n",
       "      <td>NaN</td>\n",
       "      <td>NaN</td>\n",
       "      <td>NaN</td>\n",
       "      <td>NaN</td>\n",
       "    </tr>\n",
       "    <tr>\n",
       "      <th>3</th>\n",
       "      <td>01769012_Ф04</td>\n",
       "      <td>96.09</td>\n",
       "      <td>Предоставление прочих персональных услуг\\, не ...</td>\n",
       "      <td>0.0</td>\n",
       "      <td>Прочая деятельность</td>\n",
       "      <td>1769012_Ф04</td>\n",
       "      <td>Ф04</td>\n",
       "      <td>NaN</td>\n",
       "      <td>0</td>\n",
       "      <td>1.0</td>\n",
       "      <td>NaN</td>\n",
       "      <td>2021-02-15</td>\n",
       "      <td>0</td>\n",
       "      <td>0</td>\n",
       "      <td>0</td>\n",
       "      <td>NaT</td>\n",
       "      <td>0</td>\n",
       "      <td>NaN</td>\n",
       "      <td>NaN</td>\n",
       "      <td>NaN</td>\n",
       "      <td>NaN</td>\n",
       "      <td>NaN</td>\n",
       "      <td>NaN</td>\n",
       "    </tr>\n",
       "    <tr>\n",
       "      <th>4</th>\n",
       "      <td>01769012_Ф04</td>\n",
       "      <td>36.00</td>\n",
       "      <td>Забор\\, очистка и распределение воды</td>\n",
       "      <td>0.0</td>\n",
       "      <td>ЖКХ</td>\n",
       "      <td>1769012_Ф04</td>\n",
       "      <td>Ф04</td>\n",
       "      <td>NaN</td>\n",
       "      <td>0</td>\n",
       "      <td>1.0</td>\n",
       "      <td>NaN</td>\n",
       "      <td>2021-02-15</td>\n",
       "      <td>0</td>\n",
       "      <td>0</td>\n",
       "      <td>0</td>\n",
       "      <td>NaT</td>\n",
       "      <td>0</td>\n",
       "      <td>NaN</td>\n",
       "      <td>NaN</td>\n",
       "      <td>NaN</td>\n",
       "      <td>NaN</td>\n",
       "      <td>NaN</td>\n",
       "      <td>NaN</td>\n",
       "    </tr>\n",
       "  </tbody>\n",
       "</table>\n",
       "</div>"
      ],
      "text/plain": [
       "   id_client_rf Code_okved                                         Name_okved  \\\n",
       "0  01768987_Ф04      93.11                   Деятельность спортивных объектов   \n",
       "1  01768987_Ф04      93.19               Деятельность в области спорта прочая   \n",
       "2  01768987_Ф04      93.12                     Деятельность спортивных клубов   \n",
       "3  01769012_Ф04      96.09  Предоставление прочих персональных услуг\\, не ...   \n",
       "4  01769012_Ф04      36.00               Забор\\, очистка и распределение воды   \n",
       "\n",
       "   Type_okved             Industry    id_client name_rf  workersrange  \\\n",
       "0         0.0                Спорт  1768987_Ф04     Ф04           NaN   \n",
       "1         1.0                Спорт  1768987_Ф04     Ф04           NaN   \n",
       "2         0.0                Спорт  1768987_Ф04     Ф04           NaN   \n",
       "3         0.0  Прочая деятельность  1769012_Ф04     Ф04           NaN   \n",
       "4         0.0                  ЖКХ  1769012_Ф04     Ф04           NaN   \n",
       "\n",
       "   total_revenue  companywithsameinfo  arbitrationcases datefirstreg  \\\n",
       "0              0                  1.0               NaN   2021-11-30   \n",
       "1              0                  1.0               NaN   2021-11-30   \n",
       "2              0                  1.0               NaN   2021-11-30   \n",
       "3              0                  1.0               NaN   2021-02-15   \n",
       "4              0                  1.0               NaN   2021-02-15   \n",
       "\n",
       "   flag_site  flag_business_center  flag_resident date_actual_data  flag_vk  \\\n",
       "0          0                     0              0              NaT        0   \n",
       "1          0                     0              0              NaT        0   \n",
       "2          0                     0              0              NaT        0   \n",
       "3          0                     0              0              NaT        0   \n",
       "4          0                     0              0              NaT        0   \n",
       "\n",
       "  address  flag_provider  nflag_have_free_ports tech_name  latitude  longitude  \n",
       "0     NaN            NaN                    NaN       NaN       NaN        NaN  \n",
       "1     NaN            NaN                    NaN       NaN       NaN        NaN  \n",
       "2     NaN            NaN                    NaN       NaN       NaN        NaN  \n",
       "3     NaN            NaN                    NaN       NaN       NaN        NaN  \n",
       "4     NaN            NaN                    NaN       NaN       NaN        NaN  "
      ]
     },
     "execution_count": 32,
     "metadata": {},
     "output_type": "execute_result"
    }
   ],
   "source": [
    "final_data_predict.head()"
   ]
  },
  {
   "cell_type": "code",
   "execution_count": 33,
   "id": "6ca83ec5",
   "metadata": {},
   "outputs": [
    {
     "data": {
      "text/plain": [
       "id_client_rf                   0\n",
       "Code_okved                 77980\n",
       "Name_okved                 77980\n",
       "Type_okved                 77980\n",
       "Industry                   78224\n",
       "id_client                      0\n",
       "name_rf                        0\n",
       "workersrange             6389838\n",
       "total_revenue                  0\n",
       "companywithsameinfo      3924322\n",
       "arbitrationcases         5180038\n",
       "datefirstreg               40874\n",
       "flag_site                      0\n",
       "flag_business_center           0\n",
       "flag_resident                  0\n",
       "date_actual_data         3936156\n",
       "flag_vk                        0\n",
       "address                  3877950\n",
       "flag_provider            3877950\n",
       "nflag_have_free_ports    3877950\n",
       "tech_name                5346394\n",
       "latitude                 4334452\n",
       "longitude                4334452\n",
       "dtype: int64"
      ]
     },
     "execution_count": 33,
     "metadata": {},
     "output_type": "execute_result"
    }
   ],
   "source": [
    "final_data_predict.isna().sum()"
   ]
  },
  {
   "cell_type": "code",
   "execution_count": 34,
   "id": "bf5256ac",
   "metadata": {},
   "outputs": [
    {
     "data": {
      "text/plain": [
       "id_client_rf             6395006\n",
       "Code_okved               6317026\n",
       "Name_okved               6317026\n",
       "Type_okved               6317026\n",
       "Industry                 6316782\n",
       "id_client                6395006\n",
       "name_rf                  6395006\n",
       "workersrange                5168\n",
       "total_revenue            6395006\n",
       "companywithsameinfo      2470684\n",
       "arbitrationcases         1214968\n",
       "datefirstreg             6354132\n",
       "flag_site                6395006\n",
       "flag_business_center     6395006\n",
       "flag_resident            6395006\n",
       "date_actual_data         2458850\n",
       "flag_vk                  6395006\n",
       "address                  2517056\n",
       "flag_provider            2517056\n",
       "nflag_have_free_ports    2517056\n",
       "tech_name                1048612\n",
       "latitude                 2060554\n",
       "longitude                2060554\n",
       "dtype: int64"
      ]
     },
     "execution_count": 34,
     "metadata": {},
     "output_type": "execute_result"
    }
   ],
   "source": [
    "final_data_predict.count()"
   ]
  },
  {
   "cell_type": "code",
   "execution_count": null,
   "id": "ab291a40",
   "metadata": {},
   "outputs": [],
   "source": []
  },
  {
   "cell_type": "code",
   "execution_count": null,
   "id": "fd0aa959",
   "metadata": {},
   "outputs": [],
   "source": []
  },
  {
   "cell_type": "code",
   "execution_count": null,
   "id": "bbadb465",
   "metadata": {},
   "outputs": [],
   "source": []
  },
  {
   "cell_type": "code",
   "execution_count": null,
   "id": "416c7523",
   "metadata": {},
   "outputs": [],
   "source": []
  },
  {
   "cell_type": "code",
   "execution_count": null,
   "id": "1df16b81",
   "metadata": {},
   "outputs": [],
   "source": []
  },
  {
   "cell_type": "code",
   "execution_count": null,
   "id": "d86a1282",
   "metadata": {},
   "outputs": [],
   "source": []
  },
  {
   "cell_type": "code",
   "execution_count": null,
   "id": "947030cd",
   "metadata": {},
   "outputs": [],
   "source": []
  },
  {
   "cell_type": "code",
   "execution_count": null,
   "id": "e3f7c7eb",
   "metadata": {},
   "outputs": [],
   "source": []
  },
  {
   "cell_type": "code",
   "execution_count": null,
   "id": "1711ced8",
   "metadata": {},
   "outputs": [],
   "source": []
  },
  {
   "cell_type": "code",
   "execution_count": null,
   "id": "296c2c24",
   "metadata": {},
   "outputs": [],
   "source": []
  },
  {
   "cell_type": "code",
   "execution_count": null,
   "id": "716aff42",
   "metadata": {},
   "outputs": [],
   "source": []
  },
  {
   "cell_type": "code",
   "execution_count": null,
   "id": "8286ea8e",
   "metadata": {},
   "outputs": [],
   "source": []
  },
  {
   "cell_type": "code",
   "execution_count": null,
   "id": "6a0f7f0a",
   "metadata": {},
   "outputs": [],
   "source": []
  },
  {
   "cell_type": "code",
   "execution_count": null,
   "id": "fc7a1452",
   "metadata": {},
   "outputs": [],
   "source": []
  },
  {
   "cell_type": "code",
   "execution_count": null,
   "id": "46c17adc",
   "metadata": {},
   "outputs": [],
   "source": []
  },
  {
   "cell_type": "code",
   "execution_count": null,
   "id": "e6176fe7",
   "metadata": {},
   "outputs": [],
   "source": []
  },
  {
   "cell_type": "code",
   "execution_count": null,
   "id": "0de2db7f",
   "metadata": {},
   "outputs": [],
   "source": []
  },
  {
   "cell_type": "code",
   "execution_count": null,
   "id": "3598a27d",
   "metadata": {},
   "outputs": [],
   "source": [
    "data = pd.read_csv('', sep='')\n",
    "    \n",
    "data.info()"
   ]
  },
  {
   "cell_type": "code",
   "execution_count": null,
   "id": "115b68a0",
   "metadata": {},
   "outputs": [],
   "source": [
    "old_data_shape = data.shape[0]\n",
    "print('Исходное количество единиц наблюдения:', old_data_shape)"
   ]
  },
  {
   "cell_type": "code",
   "execution_count": null,
   "id": "3bfc21de",
   "metadata": {},
   "outputs": [],
   "source": [
    "pd.set_option('display.max_columns', 50)"
   ]
  },
  {
   "cell_type": "code",
   "execution_count": null,
   "id": "91234dea",
   "metadata": {},
   "outputs": [],
   "source": [
    "data.head(10)"
   ]
  },
  {
   "cell_type": "markdown",
   "id": "a44360b8",
   "metadata": {},
   "source": [
    "### Анализ пропусков"
   ]
  },
  {
   "cell_type": "code",
   "execution_count": null,
   "id": "10efd163",
   "metadata": {},
   "outputs": [],
   "source": [
    "print('Количество пропусков по столбцам:')\n",
    "data.isna().sum()"
   ]
  },
  {
   "cell_type": "markdown",
   "id": "8c48cd63",
   "metadata": {},
   "source": [
    "### Анализ дубликатов"
   ]
  },
  {
   "cell_type": "code",
   "execution_count": null,
   "id": "d282e71a",
   "metadata": {},
   "outputs": [],
   "source": [
    "print('Количество явных дубликатов:', data.duplicated().sum())"
   ]
  },
  {
   "cell_type": "code",
   "execution_count": null,
   "id": "033af444",
   "metadata": {},
   "outputs": [],
   "source": [
    "#анализ неявных дубликатов и ошибок в категориальных переменных\n",
    "data['!!!'].unique()"
   ]
  },
  {
   "cell_type": "markdown",
   "id": "0ef3bcac",
   "metadata": {},
   "source": [
    "### Анализ выбросов и описательной статистики"
   ]
  },
  {
   "cell_type": "code",
   "execution_count": null,
   "id": "e179c16f",
   "metadata": {},
   "outputs": [],
   "source": [
    "data.hist(figsize=(15, 20));"
   ]
  },
  {
   "cell_type": "markdown",
   "id": "a773c7e9",
   "metadata": {},
   "source": [
    "**По гистограммам видно, что артефакты и выбросы могут быть в следующих показателях:**\n",
    "\n",
    "- \n",
    "-\n",
    "-\n",
    "-\n",
    "-"
   ]
  },
  {
   "cell_type": "code",
   "execution_count": null,
   "id": "d984b974",
   "metadata": {},
   "outputs": [],
   "source": []
  },
  {
   "cell_type": "code",
   "execution_count": null,
   "id": "cba1e277",
   "metadata": {},
   "outputs": [],
   "source": [
    "plt.figure(figsize=(15, 4))\n",
    "data.boxplot('')\n",
    "plt.show()"
   ]
  },
  {
   "cell_type": "code",
   "execution_count": null,
   "id": "b92d59a8",
   "metadata": {},
   "outputs": [],
   "source": [
    "#выбросы можно поотбрасывать с помощью перцентилей\n",
    "np.percentile(data[''], [90, 95, 99])"
   ]
  },
  {
   "cell_type": "code",
   "execution_count": null,
   "id": "1fc1bde9",
   "metadata": {},
   "outputs": [],
   "source": []
  },
  {
   "cell_type": "code",
   "execution_count": null,
   "id": "19ea7172",
   "metadata": {},
   "outputs": [],
   "source": []
  },
  {
   "cell_type": "code",
   "execution_count": null,
   "id": "50d769dc",
   "metadata": {},
   "outputs": [],
   "source": [
    "#анализ описательной статистики\n",
    "data.describe()"
   ]
  },
  {
   "cell_type": "code",
   "execution_count": null,
   "id": "9b83b375",
   "metadata": {},
   "outputs": [],
   "source": [
    "print(\n",
    "      'Коэффициент вариации:{:.2%}'.format(\n",
    "       np.std(data[''])/data[''].mean()\n",
    "        )\n",
    "      )"
   ]
  },
  {
   "cell_type": "code",
   "execution_count": null,
   "id": "00aeecd1",
   "metadata": {},
   "outputs": [],
   "source": [
    "plt.figure(figsize=(20, 5))\n",
    "sns.boxplot(x='', y='', data=)\n",
    "\n",
    "plt.show()"
   ]
  },
  {
   "cell_type": "code",
   "execution_count": null,
   "id": "ffac9bda",
   "metadata": {},
   "outputs": [],
   "source": [
    "#приблизим\n",
    "plt.figure(figsize=(20, 5))\n",
    "sns.boxplot(x='platform', y='total_sales', data=relevant_data_var)\n",
    "plt.ylim(0, 3)\n",
    "\n",
    "plt.show()"
   ]
  },
  {
   "cell_type": "markdown",
   "id": "ac314073",
   "metadata": {},
   "source": [
    "### Анализ мультиколлинеарности"
   ]
  },
  {
   "cell_type": "code",
   "execution_count": null,
   "id": "bdb92f86",
   "metadata": {},
   "outputs": [],
   "source": [
    "#матрица корреляции\n",
    "corr_matrix = data.corr()\n",
    "fig, ax = plt.subplots()"
   ]
  },
  {
   "cell_type": "code",
   "execution_count": null,
   "id": "b2543296",
   "metadata": {},
   "outputs": [],
   "source": [
    "#тепловая карта для матрицы корреляции\n",
    "sns.heatmap(corr_matrix, annot=True, square=True)\n",
    "ax.set_ylim(7, 0)\n",
    "plt.show()"
   ]
  },
  {
   "cell_type": "code",
   "execution_count": null,
   "id": "487d3e60",
   "metadata": {},
   "outputs": [],
   "source": [
    "#диаграммы рассеяния для взаимосвязи показателей с целевой переменной\n",
    "for col in data.drop('Целевая переменная', axis = 1).columns:\n",
    "    sns.scatterplot(data=data, x=col, y=cars['Целевая пересенная'])\n",
    "    plt.show()"
   ]
  },
  {
   "cell_type": "code",
   "execution_count": null,
   "id": "d1105d66",
   "metadata": {},
   "outputs": [],
   "source": []
  },
  {
   "cell_type": "code",
   "execution_count": null,
   "id": "a8133878",
   "metadata": {},
   "outputs": [],
   "source": []
  },
  {
   "cell_type": "code",
   "execution_count": null,
   "id": "2757f3fa",
   "metadata": {},
   "outputs": [],
   "source": [
    "#преобразование категориальных переменных в бинарный вид\n",
    "\n",
    "data[] = pd.get_dummies(data[])\n",
    "data.head()"
   ]
  },
  {
   "cell_type": "markdown",
   "id": "a88d5bf0",
   "metadata": {},
   "source": [
    "### Выводы по разделу:"
   ]
  },
  {
   "cell_type": "markdown",
   "id": "a6d6693d",
   "metadata": {},
   "source": [
    "1. \n",
    "2. "
   ]
  },
  {
   "cell_type": "markdown",
   "id": "9fc86479",
   "metadata": {},
   "source": [
    "## 2. Анализ временного ряда"
   ]
  },
  {
   "cell_type": "markdown",
   "id": "da95da5c",
   "metadata": {},
   "source": [
    "Для начала посмотрим на динамику показателя ??? и его скользящее среднее за ???"
   ]
  },
  {
   "cell_type": "code",
   "execution_count": null,
   "id": "c1fa21a1",
   "metadata": {},
   "outputs": [],
   "source": [
    "plt.figure(figsize = (15,8))\n",
    "plt.plot(data[''], label = '???', color = 'steelblue')\n",
    "plt.plot(data[''].rolling(window = 12).mean(), label = 'Скользящее среднее за 12 месяцев', color = 'orange')\n",
    "plt.legend(title = '', loc = 'upper left', fontsize = 14)\n",
    "plt.xlabel('Месяцы???', fontsize = 14)\n",
    "plt.ylabel('???', fontsize = 14)\n",
    "plt.title('???', fontsize = 16)\n",
    "plt.show()"
   ]
  },
  {
   "cell_type": "markdown",
   "id": "5eaf1b21",
   "metadata": {},
   "source": []
  },
  {
   "cell_type": "markdown",
   "id": "07522089",
   "metadata": {},
   "source": [
    "**Разложение ряда на компоненты**"
   ]
  },
  {
   "cell_type": "code",
   "execution_count": null,
   "id": "ce440d2e",
   "metadata": {},
   "outputs": [],
   "source": [
    "rcParams['figure.figsize'] = 11, 9\n",
    "decompose = seasonal_decompose(data[''])\n",
    "decompose.plot()\n",
    "plt.show()"
   ]
  },
  {
   "cell_type": "markdown",
   "id": "6c8c12dd",
   "metadata": {},
   "source": []
  },
  {
   "cell_type": "markdown",
   "id": "271bb225",
   "metadata": {},
   "source": [
    "**Проверка на стационарность**"
   ]
  },
  {
   "cell_type": "code",
   "execution_count": null,
   "id": "8424792c",
   "metadata": {},
   "outputs": [],
   "source": [
    "# тест Дики-Фуллера\n",
    "adf_test = adfuller(data[''])\n",
    "print('p-value = ' + str(adf_test[1]))"
   ]
  },
  {
   "cell_type": "markdown",
   "id": "c163d5bc",
   "metadata": {},
   "source": [
    "Стационарен, если есть p-value меньше 0,05 - можем отвергнуть нулевую гипотезу о нестационарности процесса.\n",
    "\n",
    "Если стационарен - тренд можно не выявлять."
   ]
  },
  {
   "cell_type": "markdown",
   "id": "5c25cbed",
   "metadata": {},
   "source": [
    "**Проверка наличия автокорреляции**"
   ]
  },
  {
   "cell_type": "markdown",
   "id": "3a94b961",
   "metadata": {},
   "source": []
  },
  {
   "cell_type": "code",
   "execution_count": null,
   "id": "0942b77a",
   "metadata": {},
   "outputs": [],
   "source": [
    "plot_acf(data[''], lags=np.arange(12))\n",
    "plt.show()"
   ]
  },
  {
   "cell_type": "code",
   "execution_count": null,
   "id": "f3a08803",
   "metadata": {},
   "outputs": [],
   "source": [
    "#уточним значение для лага, с наибольшей автокорреляцией\n",
    "np.round(np.corrcoef(data[''][:-1], data[''][1:])[0,1], 2)"
   ]
  },
  {
   "cell_type": "markdown",
   "id": "3d1e5d38",
   "metadata": {},
   "source": []
  },
  {
   "cell_type": "markdown",
   "id": "bb998ea3",
   "metadata": {},
   "source": [
    "**Выделение тренда**"
   ]
  },
  {
   "cell_type": "markdown",
   "id": "c9c9141d",
   "metadata": {},
   "source": [
    "*Экспоненциальное сглаживание*"
   ]
  },
  {
   "cell_type": "code",
   "execution_count": null,
   "id": "2869ad91",
   "metadata": {},
   "outputs": [],
   "source": [
    "alpha = 0.2\n",
    " \n",
    "exp_smoothing = [data[''][0]]\n",
    "for i in range(1, len(data[''])):\n",
    "    exp_smoothing.append(alpha * data[''][i] + (1 - alpha) * exp_smoothing[i - 1])"
   ]
  },
  {
   "cell_type": "code",
   "execution_count": null,
   "id": "8d2d2ed1",
   "metadata": {},
   "outputs": [],
   "source": [
    "#создание датафрейма с экспоненциальным сглаживанием\n",
    "trend_exp_sm = data[['Дата', '&&&']]\n",
    "trend_exp_sm['Exp_smoothing'] = exp_smoothing\n",
    "last_date = trend_exp_sm['Дата'].iloc[[-1]]\n",
    "last_date = last_date + timedelta(days = 1)\n",
    "trend_exp_sm = trend_exp_sm.append(pd.DataFrame(trend_exp_sm['Дата'] = last_date))\n",
    "trend_exp_sm['Exp_smoothing'] = trend_exp_sm['Exp_smoothing'].shift(1)\n",
    "trend_exp_sm.head()"
   ]
  },
  {
   "cell_type": "code",
   "execution_count": null,
   "id": "9932f250",
   "metadata": {},
   "outputs": [],
   "source": [
    "trend_exp_sm.tail()"
   ]
  },
  {
   "cell_type": "code",
   "execution_count": null,
   "id": "fe499758",
   "metadata": {},
   "outputs": [],
   "source": [
    "#график\n",
    "plt.figure(figsize = (15,8))\n",
    "plt.plot(trend_exp_sm[''], label = '', color = 'steelblue')\n",
    "plt.plot(trend_exp_sm['Exp_smoothing'], label = 'Экспоненциальное сглаживание', color = 'orange')\n",
    "plt.legend(title = '', loc = 'upper left', fontsize = 14)\n",
    "plt.ylabel('', fontsize = 14)\n",
    "plt.xlabel('Месяцы???', fontsize = 14)\n",
    "plt.title('???', fontsize = 16)\n",
    " \n",
    "plt.show()"
   ]
  },
  {
   "cell_type": "markdown",
   "id": "c09d3b3d",
   "metadata": {},
   "source": [
    "*ARMA (для стационарных данных)*"
   ]
  },
  {
   "cell_type": "code",
   "execution_count": null,
   "id": "04a5d58a",
   "metadata": {},
   "outputs": [],
   "source": [
    "#датасет для анализа динамики\n",
    "data_for_models = data[['Дата', '']]\n",
    "data_for_models.set_index('Дата', inplace=True)"
   ]
  },
  {
   "cell_type": "code",
   "execution_count": null,
   "id": "0fab12a3",
   "metadata": {},
   "outputs": [],
   "source": [
    "#модель ARMA\n",
    "model_arma = ARMA(data_for_models[''],order=(2,2))\n",
    "model_arma_fit = model_arma.fit()\n",
    "\n",
    "model_arma_fit.summary()"
   ]
  },
  {
   "cell_type": "code",
   "execution_count": null,
   "id": "7a42cd23",
   "metadata": {},
   "outputs": [],
   "source": [
    "#сравнение с реальным значением\n",
    "data_for_models['forecast_ARMA'] = model_arma_fit.predict(start = !!!92, end= !!!114, dynamic= True)  \n",
    "data_for_models[['', 'forecast_ARMA']].plot(figsize=(8, 5))"
   ]
  },
  {
   "cell_type": "markdown",
   "id": "5fa820ee",
   "metadata": {},
   "source": []
  },
  {
   "cell_type": "markdown",
   "id": "c79548b5",
   "metadata": {},
   "source": [
    "*ARIMA (для нестационарных данных)*"
   ]
  },
  {
   "cell_type": "code",
   "execution_count": null,
   "id": "da0e00b1",
   "metadata": {},
   "outputs": [],
   "source": [
    "model_arima = ARIMA(data[''],order=(2,1,2))\n",
    "model_arima_fit = model_arima.fit()\n",
    "model_arima_fit.summary()"
   ]
  },
  {
   "cell_type": "code",
   "execution_count": null,
   "id": "e622b218",
   "metadata": {},
   "outputs": [],
   "source": [
    "data_for_models['forecast_ARIMA'] = model_arima_fit.predict(start = 92, end= 114, dynamic= True)  \n",
    "data[['', 'forecast_ARIMA']].plot(figsize=(8, 5))"
   ]
  },
  {
   "cell_type": "markdown",
   "id": "2927e967",
   "metadata": {},
   "source": []
  },
  {
   "cell_type": "markdown",
   "id": "94d6af88",
   "metadata": {},
   "source": [
    "*SARIMA (учитывает сезонность)*"
   ]
  },
  {
   "cell_type": "code",
   "execution_count": null,
   "id": "eb2f59e4",
   "metadata": {},
   "outputs": [],
   "source": [
    "#!!!Здесь проверить точно ли это SARIMA, а не SARIMAX\n",
    "model_sarima = sm.tsa.statespace.SARIMAX(data[''],order=(2,1,2),seasonal_order=(2,1,2,6))\n",
    "model_sarima_fit = model_sarima.fit()\n",
    "model_sarima_fit.summary()"
   ]
  },
  {
   "cell_type": "code",
   "execution_count": null,
   "id": "3b8b0ad1",
   "metadata": {},
   "outputs": [],
   "source": [
    "data['forcast_SARIMA'] = model_arima_fit.predict(start=99, end=112, dynamic=True)\n",
    "data[['','forcast_SARIMA']].plot(figsize=(20, 5))"
   ]
  },
  {
   "cell_type": "markdown",
   "id": "98527f04",
   "metadata": {},
   "source": []
  },
  {
   "cell_type": "markdown",
   "id": "ed1ba20f",
   "metadata": {},
   "source": [
    "*SARIMAX (учитывает экзогенные факторы)*"
   ]
  },
  {
   "cell_type": "code",
   "execution_count": null,
   "id": "4401a1d6",
   "metadata": {},
   "outputs": [],
   "source": [
    "train = data_for_models[:'1959-12']\n",
    "test = data_for_models['1960-01':]\n",
    "\n",
    "#warnings.simplefilter(action = 'ignore', category = Warning)\n",
    " \n",
    "model_sarimax = SARIMAX(train, order = (3, 0, 0), seasonal_order = (0, 1, 0, 12))\n",
    "model_sarimax_fit = model.fit()\n",
    "model_sarimax_fit.summary()"
   ]
  },
  {
   "cell_type": "code",
   "execution_count": null,
   "id": "2891f3c6",
   "metadata": {},
   "outputs": [],
   "source": [
    "start = len(train)\n",
    "end = len(train) + len(test) - 1\n",
    "predictions = model_sarimax_fit.predict(start, end)\n",
    "\n",
    "plt.plot(train, color = \"black\")\n",
    "plt.plot(test, color = \"red\")\n",
    "plt.plot(predictions, color = \"green\")\n",
    "plt.title(\"Обучающая выборка, тестовая выборка и тестовый прогноз\")\n",
    "plt.ylabel('&&&')\n",
    "plt.xlabel('Месяцы')\n",
    "plt.grid()\n",
    "plt.show()"
   ]
  },
  {
   "cell_type": "markdown",
   "id": "472edd10",
   "metadata": {},
   "source": []
  },
  {
   "cell_type": "markdown",
   "id": "b6f8f1f6",
   "metadata": {},
   "source": [
    "Для лучшией модели посмотри еще метрики среднеквадратической ошибки (MSE) и корня среднеквадратической ошибки (RMSE) для оценки качества."
   ]
  },
  {
   "cell_type": "code",
   "execution_count": null,
   "id": "b8a765c1",
   "metadata": {},
   "outputs": [],
   "source": [
    "print('Среднеквадратическая ошибка (MSE): ', mean_squared_error(test, predictions))\n",
    "print('Корень среднеквадратической ошибки (RMSE): ', np.sqrt(mean_squared_error(test, predictions)))"
   ]
  },
  {
   "cell_type": "markdown",
   "id": "cc9f8e3f",
   "metadata": {},
   "source": []
  },
  {
   "cell_type": "markdown",
   "id": "19691e89",
   "metadata": {},
   "source": [
    "**Прогнозирование**"
   ]
  },
  {
   "cell_type": "markdown",
   "id": "91abdd07",
   "metadata": {},
   "source": []
  },
  {
   "cell_type": "code",
   "execution_count": null,
   "id": "44cbc7cf",
   "metadata": {},
   "outputs": [],
   "source": [
    "#Создание последующих дат для прогнозирования\n",
    "\n",
    "import datetime\n",
    "from dateutil.relativedelta import relativedelta\n",
    "start = datetime.datetime.strptime(\"1969-07-01\", \"%Y-%m-%d\")\n",
    "date_list = [start + relativedelta(months=x) for x in range(0,12)]\n",
    "future_prediction = pd.DataFrame(index=date_list, columns= data.columns)\n",
    "data = pd.concat([data, future])"
   ]
  },
  {
   "cell_type": "code",
   "execution_count": null,
   "id": "f98040f1",
   "metadata": {},
   "outputs": [],
   "source": [
    "#прогнозирование по лучшей модели\n",
    "\n",
    "data['future_prediction']=result.predict(start=113, end=130, dynamic=True)\n",
    "data[['avg monthly busride','future_prediction']].plot(figsize=(10, 6))\n",
    "plt.grid(True)"
   ]
  },
  {
   "cell_type": "code",
   "execution_count": null,
   "id": "e4e5701b",
   "metadata": {},
   "outputs": [],
   "source": []
  },
  {
   "cell_type": "markdown",
   "id": "07ea81bd",
   "metadata": {},
   "source": [
    "**Выводы по разделу:**\n",
    "\n",
    "1. \n",
    "2. "
   ]
  },
  {
   "cell_type": "markdown",
   "id": "1d58b1fe",
   "metadata": {},
   "source": [
    "## 3. Реализация алгоритмов машинного обучения"
   ]
  },
  {
   "cell_type": "markdown",
   "id": "fc5b87ee",
   "metadata": {},
   "source": [
    "Реализуем следующие алгоритмы машинного обучения:\n",
    "\n",
    "- линейная регрессия (стандартная, а также с L1- и с L2-регуляризацией)\n",
    "- логистическая регрессия (с решателями liblinear, sag и saga),\n",
    "- дерево принятия решений,\n",
    "- случайный лес,\n",
    "- градиентный бустинг.\n",
    "\n",
    "Cначала разделим выборки на обучающую/валидационную, проведем стандартизацию данных. Далее сделаем прогноз, сравним метрики и выберем лучшие модели."
   ]
  },
  {
   "cell_type": "markdown",
   "id": "100dce5b",
   "metadata": {},
   "source": [
    "### Обучение с учителем: регрессия"
   ]
  },
  {
   "cell_type": "markdown",
   "id": "e548ed28",
   "metadata": {},
   "source": [
    "!!! Здесь попробуем добавить период в список факторов, чтобы невилировать влияние тренда, если таковой имеется."
   ]
  },
  {
   "cell_type": "code",
   "execution_count": null,
   "id": "b58a4449",
   "metadata": {},
   "outputs": [],
   "source": [
    "#разделение на x/y\n",
    "X = data.drop('Целевая переменная', axis = 1)\n",
    "y = data['Целевая переменная']\n",
    "\n",
    "\n",
    "#Здесь скорее всего, будет привязка ко времени, нужно будет разделить с ее учетом\n",
    "y_train = data[''][data['Дата'] < '']\n",
    "y_test = data[''][data['Дата'] >= '']\n",
    "X_train = data[data['Дата'] < ''].drop([''], axis = 0)\n",
    "X_test = data[data['Дата'] >= ''].drop([''], axis = 0)\n",
    "\n",
    "#или\n",
    "X_train, X_test, y_train, y_test = train_test_split(X, y, test_size=0.2)\n",
    "\n",
    "#стандартизация\n",
    "scaler = StandardScaler()\n",
    "scaler.fit(X_train)\n",
    "X_train_st = scaler.transform(X_train)\n",
    "X_test_st = scaler.transform(X_test)"
   ]
  },
  {
   "cell_type": "code",
   "execution_count": null,
   "id": "869b8f45",
   "metadata": {},
   "outputs": [],
   "source": [
    "#зададим функцию MAPE (средняя абсолютная процентная ошибкя):\n",
    "def calc_mape(actual, pred): \n",
    "    actual, pred = np.array(actual), np.array(pred)\n",
    "    return np.mean(np.abs((actual - pred) / actual)) * 100"
   ]
  },
  {
   "cell_type": "code",
   "execution_count": null,
   "id": "d24fe1bb",
   "metadata": {},
   "outputs": [],
   "source": [
    "#зададим функцию для расчета разных моделей линейной регрессии:\n",
    "def liner_model_func(m, X_train_st, X_test_st, y_train, y_test):\n",
    "    model = m\n",
    "    model.fit(X_train_st, y_train)\n",
    "    pred = model.predict(X_test_st)\n",
    "    features = pd.DataFrame({'feature': X_train.columns, 'coeff': model.coef_})\n",
    "    features['coeff_abs'] = abs(features['coeff'])\n",
    "    intercept = model.intercept_\n",
    "    features = featureso.sort_values(by=['coeff_abs'], ascending=False)\n",
    "    # вывод метрик\n",
    "    print('\\n', m, '\\n')\n",
    "    print('MAE (средний модуль ошибки): {:.2f}'.format(mean_absolute_error(y_test, pred)))\n",
    "    print('MSE (средняя квадратичная ошибка): {:.2f}'.format(mean_squared_error(y_test, pred)))\n",
    "    print('RMSE (корень из MSE): {:.2f}'.format(mean_squared_error(y_test, pred)**0.5))\n",
    "    print('R2: {:.2f}'.format(r2_score(y_test, pred)))\n",
    "    print('MAPE (средняя абсолютная процентная ошибкя): {:.2f}'.format(mape(y_test, pred)))"
   ]
  },
  {
   "cell_type": "code",
   "execution_count": null,
   "id": "e4d89f8c",
   "metadata": {},
   "outputs": [],
   "source": [
    "#стандартная линейная регрессия\n",
    "liner_model_func(LinearRegression(), X_train_st, X_test_st, y_train, y_test)"
   ]
  },
  {
   "cell_type": "code",
   "execution_count": null,
   "id": "f8f8bab4",
   "metadata": {},
   "outputs": [],
   "source": [
    "#Lasso-регрессия (L1-регуляризация):\n",
    "liner_model_func(Lasso(), X_train_st, X_test_st, y_train, y_test)"
   ]
  },
  {
   "cell_type": "code",
   "execution_count": null,
   "id": "c5639170",
   "metadata": {},
   "outputs": [],
   "source": [
    "#Ridge-регрессия (L2-регуляризация):\n",
    "liner_model_func(Ridge(), X_train_st, X_test_st, y_train, y_test)"
   ]
  },
  {
   "cell_type": "code",
   "execution_count": null,
   "id": "930664a5",
   "metadata": {},
   "outputs": [],
   "source": [
    "#Дерево принятия решений:\n",
    "liner_model_func(DecisionTreeRegressor(), X_train_st, X_test_st, y_train, y_test)"
   ]
  },
  {
   "cell_type": "code",
   "execution_count": null,
   "id": "5da1b305",
   "metadata": {},
   "outputs": [],
   "source": [
    "#Случайный лес:\n",
    "liner_model_func(RandomForestRegressor(), X_train_st, X_test_st, y_train, y_test)"
   ]
  },
  {
   "cell_type": "code",
   "execution_count": null,
   "id": "0ad14ced",
   "metadata": {},
   "outputs": [],
   "source": [
    "#Градиентный бустинг:\n",
    "liner_model_func(GradientBoostingRegressor(), X_train_st, X_test_st, y_train, y_test)"
   ]
  },
  {
   "cell_type": "code",
   "execution_count": null,
   "id": "3fd6d659",
   "metadata": {},
   "outputs": [],
   "source": []
  },
  {
   "cell_type": "markdown",
   "id": "cacae48e",
   "metadata": {},
   "source": [
    "Лучшими метриками обладают ??? модели. Для дальнейшей интерпретации будем использовать ???\n",
    "\n",
    "Проанализируем значимость признаков в модели."
   ]
  },
  {
   "cell_type": "code",
   "execution_count": null,
   "id": "4a1d3cd2",
   "metadata": {},
   "outputs": [],
   "source": [
    "final_model = GradientBoostingRegressor(random_state=0) #или другая модель\n",
    "final_model.fit(X_train, y_train)\n",
    "y_pred = final_model.predict(X_test)\n",
    "\n",
    "feat_importance = pd.DataFrame(data = {'feature': X.columns, 'importances': final_model.feature_importances_})\n",
    "final_data.sort_values(by='importances')"
   ]
  },
  {
   "cell_type": "markdown",
   "id": "e13829b9",
   "metadata": {},
   "source": [
    "**Наиболее важными признаками оказались:**\n",
    "\n",
    "1. \n",
    "2. "
   ]
  },
  {
   "cell_type": "markdown",
   "id": "d3aba05a",
   "metadata": {},
   "source": [
    "### Обучение с учителем: бинарная классификация"
   ]
  },
  {
   "cell_type": "markdown",
   "id": "19e2495b",
   "metadata": {},
   "source": [
    "Добавим в датафрейм бинарную целевую переменную, содержащую факт покупки. И заново разделим выборку и проведем стандартизацию."
   ]
  },
  {
   "cell_type": "code",
   "execution_count": null,
   "id": "1774c34e",
   "metadata": {},
   "outputs": [],
   "source": [
    "data['Факт покупки'] = [1 for i in data['???'] if i not 0]\n",
    "\n",
    "print('Получившееся распределение по группам:\\n', data['Факт покупки'].value_counts())"
   ]
  },
  {
   "cell_type": "code",
   "execution_count": null,
   "id": "f552cbd0",
   "metadata": {},
   "outputs": [],
   "source": [
    "#разделение на x/y\n",
    "X_b = data.drop(['Факт покупки', 'Целевой пок-ль из линейной регр'], axis = 1)\n",
    "y_b = data['Факт покупки']\n",
    "\n",
    "#Здесь скорее всего, будет привязка ко времени, нужно будет разделить с ее учетом\n",
    "X_b_train, X_b_test, y_b_train, y_b_test = train_test_split(X_b, y_b, test_size=0.2)\n",
    "\n",
    "#стандартизация\n",
    "scaler = StandardScaler()\n",
    "scaler.fit(X_b_train)\n",
    "X_b_train_st = scaler.transform(X_b_train)\n",
    "X_b_test_st = scaler.transform(X_b_test)"
   ]
  },
  {
   "cell_type": "code",
   "execution_count": null,
   "id": "796249da",
   "metadata": {},
   "outputs": [],
   "source": [
    "#зададим функцию для расчета разных моделей бинарной классификации:\n",
    "def binary_class_func(m, X_b_train, X_b_test, y_b_train, y_b_test):\n",
    "    model = m\n",
    "    model.fit(X_b_train_st, y_b_train)\n",
    "    probabilities = model.predict_proba(X_b_test)[:, 1]\n",
    "    predictions = model.predict(X_b_test)\n",
    "    print('\\n', m, '\\n')\n",
    "    print('Accuracy (доля правильных ответов): {:.2f}'.format(accuracy_score(y_b_test, predictions)))\n",
    "    print('Precision (точность): {:.2f}'.format(precision_score(y_b_test, predictions)))\n",
    "    print('Recall (полнота!): {:.2f}'.format(recall_score(y_b_test, predictions)))\n",
    "    print('F1: {:.2f}'.format(f1_score(y_b_test, predictions)))\n",
    "    print('AUC-ROC (площадь под кривой ошибок): {:.2f}'.format(roc_auc = roc_auc_score(y_b_test, probabilities[:,1])))"
   ]
  },
  {
   "cell_type": "code",
   "execution_count": null,
   "id": "e82f7a8c",
   "metadata": {},
   "outputs": [],
   "source": [
    "#стандартная логистическая регрессия\n",
    "binary_class_func(LogisticRegression(solver='liblinear'), X_b_train_st, X_b_test_st, y_b_train, y_b_test)"
   ]
  },
  {
   "cell_type": "code",
   "execution_count": null,
   "id": "f9fe1a58",
   "metadata": {},
   "outputs": [],
   "source": [
    "#логистическая регрессия с решателем sag (L2)\n",
    "binary_class_func(LogisticRegression(solver='sag'), X_b_train_st, X_b_test_st, y_b_train, y_b_test)"
   ]
  },
  {
   "cell_type": "code",
   "execution_count": null,
   "id": "486d752f",
   "metadata": {},
   "outputs": [],
   "source": [
    "#логистическая регрессия с решателем saga\n",
    "binary_class_func(LogisticRegression(solver='saga'), X_b_train_st, X_b_test_st, y_b_train, y_b_test)"
   ]
  },
  {
   "cell_type": "code",
   "execution_count": null,
   "id": "2e4e0443",
   "metadata": {},
   "outputs": [],
   "source": [
    "#дерево принятия решений\n",
    "binary_class_func(DecisionTreeClassifier(), X_b_train_st, X_b_test_st, y_b_train, y_b_test)"
   ]
  },
  {
   "cell_type": "code",
   "execution_count": null,
   "id": "c06ed669",
   "metadata": {},
   "outputs": [],
   "source": [
    "#случайный лес\n",
    "binary_class_func(RandomForestClassifier(n_estimators = 100), X_b_train_st, X_b_test_st, y_b_train, y_b_test)"
   ]
  },
  {
   "cell_type": "code",
   "execution_count": null,
   "id": "2843051c",
   "metadata": {},
   "outputs": [],
   "source": [
    "#градиентный бустинг\n",
    "binary_class_func(GradientBoostingClassifier(n_estimators = 100), X_b_train_st, X_b_test_st, y_b_train, y_b_test)"
   ]
  },
  {
   "cell_type": "code",
   "execution_count": null,
   "id": "f8b098bf",
   "metadata": {},
   "outputs": [],
   "source": [
    "#метод опорных векторов\n",
    "binary_class_func(SVC(kernel='linear'), X_b_train_st, X_b_test_st, y_b_train, y_b_test)"
   ]
  },
  {
   "cell_type": "code",
   "execution_count": null,
   "id": "82d3b1f3",
   "metadata": {},
   "outputs": [],
   "source": [
    "#метод K-ближайших соседей\n",
    "binary_class_func(KNeighborsRegressor(n_neighbors=5), X_b_train_st, X_b_test_st, y_b_train, y_b_test)"
   ]
  },
  {
   "cell_type": "markdown",
   "id": "59cce2b3",
   "metadata": {},
   "source": [
    "Лучшими метриками обладают ??? модели. Поэтому прогнозировать принадлежность потенциального клиента к тому или иному классу будем на основе ???\n",
    "\n",
    "\n",
    "Также можно доработать модель логистической регрессии, поэкспериментировав с порогом отнесения к классу вероятных клиентов. Поскольку нам важно не потерять потенциального клиента, то порог будем постепенно уменьшать. В качестве пороговых значений будем использовать 0.45, 0.40, 0.35 и 0.30."
   ]
  },
  {
   "cell_type": "code",
   "execution_count": null,
   "id": "d8192b3e",
   "metadata": {},
   "outputs": [],
   "source": [
    "model_log = LogisticRegression(solver='liblinear', random_state=0)\n",
    "model_log.fit(X_b_train_st, y_b_train)\n",
    "predictions = model_log.predict(X_b_test_st)\n",
    "probabilities = model_log.predict_proba(X_b_test_st)[:,1]\n",
    "print('Accuracy (доля правильных ответов): {:.2f}'.format(accuracy_score(y_b_test, predictions)))\n",
    "print('Precision (точность): {:.2f}'.format(precision_score(y_b_test, predictions)))\n",
    "print('Recall (полнота!): {:.2f}'.format(recall_score(y_b_test, predictions)))\n",
    "print('F1: {:.2f}'.format(f1_score(y_b_test, predictions)))\n",
    "print('AUC-ROC (площадь под кривой ошибок): {:.2f}'.format(roc_auc = roc_auc_score(y_b_test, probabilities[:,1])))"
   ]
  },
  {
   "cell_type": "code",
   "execution_count": null,
   "id": "62f3b5ea",
   "metadata": {},
   "outputs": [],
   "source": [
    "thresholds = [0.45, 0.4, 0.35, 0.3]\n",
    "\n",
    "for threshold in thresholds:\n",
    "    custom_predictions = [0 if i < threshold else 1 for i in probabilities]\n",
    "    print('Метрики для прогноза с порогом ', i)\n",
    "    print('Accuracy: {:.2f}'.format(accuracy_score(y_b_test, custom_predictions)))\n",
    "    print('Precision: {:.2f}'.format(precision_score(y_b_test, custom_predictions)))\n",
    "    print('Recall: {:.2f}'.format(recall_score(y_b_test, custom_predictions)))\n",
    "    print('F1: {:.2f}'.format(f1_score(y_b_test, custom_predictions)))"
   ]
  },
  {
   "cell_type": "markdown",
   "id": "d5870af2",
   "metadata": {},
   "source": [
    "Выбор лучшей модели"
   ]
  },
  {
   "cell_type": "markdown",
   "id": "7107c292",
   "metadata": {},
   "source": [
    "### Обучение без учителя: кластеризация"
   ]
  },
  {
   "cell_type": "markdown",
   "id": "d3304cdf",
   "metadata": {},
   "source": [
    "Для кластеризации потенциальных клиентов реализуем алгоритм на основе метода к-средних (k-means)."
   ]
  },
  {
   "cell_type": "code",
   "execution_count": null,
   "id": "ca0efbe2",
   "metadata": {},
   "outputs": [],
   "source": [
    "#стандартизация\n",
    "sc = StandardScaler()\n",
    "X_sc = sc.fit_transform(X)\n",
    "\n",
    "#модель\n",
    "km = KMeans(n_clusters=5, random_state=0)\n",
    "labels = km.fit_predict(X_sc)\n",
    "data['clusters'] = labels\n",
    "\n",
    "print('Средние значения признаков по кластерам \\n', data.groupby(['clusters']).mean())"
   ]
  },
  {
   "cell_type": "code",
   "execution_count": null,
   "id": "077505ff",
   "metadata": {},
   "outputs": [],
   "source": [
    "#график кластеризации\n",
    "linked = linkage(X_sc, method = 'ward') \n",
    "plt.figure(figsize=(15, 10))  \n",
    "dendrogram(linked, orientation='top')\n",
    "plt.title('Иерархическая кластеризация клиентов')\n",
    "plt.show() "
   ]
  },
  {
   "cell_type": "code",
   "execution_count": null,
   "id": "0bcae9ea",
   "metadata": {},
   "outputs": [],
   "source": [
    "# Метрика силуэта\n",
    "print('Silhouette score (метрика силуэта): {:.2f}'.format(silhouette_score(X_sc, labels)))"
   ]
  },
  {
   "cell_type": "markdown",
   "id": "1ac2e785",
   "metadata": {},
   "source": [
    "Вывод"
   ]
  },
  {
   "cell_type": "markdown",
   "id": "0feb0aa2",
   "metadata": {},
   "source": [
    "### Уменьшение размерности данных с помощью метода главных компонент"
   ]
  },
  {
   "cell_type": "markdown",
   "id": "f8f57b40",
   "metadata": {},
   "source": [
    "Для того чтобы лучше понять, как взаимосвязаны между собой факторы, влияющие на склонность клиетов к покупке воспользуемся методом PCA."
   ]
  },
  {
   "cell_type": "code",
   "execution_count": null,
   "id": "20029f8b",
   "metadata": {},
   "outputs": [],
   "source": [
    "# Применение PCA с 2мя компонентами\n",
    "pca = PCA(n_components=2)\n",
    "X_pca = pca.fit_transform(X_sc)\n",
    "\n",
    "# Визуализация\n",
    "plt.scatter(X_pca[:, 0], X_pca[:, 1], c=y, cmap='viridis')\n",
    "plt.title(\"Визуализация данных с PCA\")\n",
    "plt.xlabel(\"Главная компонента 1\")\n",
    "plt.ylabel(\"Главная компонента 2\")\n",
    "plt.show()"
   ]
  },
  {
   "cell_type": "markdown",
   "id": "3c2f4a8a",
   "metadata": {},
   "source": [
    "Посмотрим, какие факторы больше всего повлияли на эти компоненты."
   ]
  },
  {
   "cell_type": "code",
   "execution_count": null,
   "id": "ba9f81ab",
   "metadata": {},
   "outputs": [],
   "source": [
    "# Получение собственных векторов (весов) главных компонент\n",
    "eigen_vectors = pca.components_\n",
    "\n",
    "# Визуализация весов для первых нескольких компонент\n",
    "\n",
    "\n",
    "# !!!!! Здесь нужно будет доработать код. Если не получится, то вывести просто веса главных компонент.\n",
    "plt.figure(figsize=(10, 5))\n",
    "for i in range(5):\n",
    "    plt.subplot(1, 5, i + 1)\n",
    "    plt.imshow(eigen_vectors[i].reshape(имя_изображения), cmap='viridis')\n",
    "    plt.title(f\"Главная компонента {i + 1}\")\n",
    "    plt.axis('off')\n",
    "plt.show()"
   ]
  },
  {
   "cell_type": "code",
   "execution_count": null,
   "id": "84a2f3bf",
   "metadata": {},
   "outputs": [],
   "source": [
    " Попробуем использовать метод главных компонент для улучшения качества кластеризации."
   ]
  },
  {
   "cell_type": "code",
   "execution_count": null,
   "id": "bb9f0723",
   "metadata": {},
   "outputs": [],
   "source": [
    "# Кластеризация после применения PCA\n",
    "kmeans_pca = KMeans(n_clusters=5)\n",
    "labels_pca = kmeans_pca.fit_predict(X_pca)\n",
    "\n",
    "# Визуализация результатов\n",
    "plt.figure(figsize=(12, 6))\n",
    "plt.subplot(121)\n",
    "plt.scatter(X_sc[:, 0], X_sc[:, 1], c=labels, cmap='viridis')\n",
    "plt.title(\"Кластеризация без PCA\")\n",
    "plt.subplot(122)\n",
    "plt.scatter(X_pca[:, 0], X_pca[:, 1], c=labels_pca, cmap='viridis')\n",
    "plt.title(\"Кластеризация после PCA\")\n",
    "plt.show()"
   ]
  },
  {
   "cell_type": "markdown",
   "id": "b2978a03",
   "metadata": {},
   "source": [
    "Вывод: "
   ]
  },
  {
   "cell_type": "markdown",
   "id": "cfb3c63d",
   "metadata": {},
   "source": [
    "**Выводы по разделу:**\n",
    "\n",
    "1. \n",
    "2. "
   ]
  },
  {
   "cell_type": "markdown",
   "id": "fb319bcf",
   "metadata": {},
   "source": [
    "## 4. Портрет потенциального клиента"
   ]
  },
  {
   "cell_type": "code",
   "execution_count": null,
   "id": "8b844f5e",
   "metadata": {},
   "outputs": [],
   "source": [
    "data.groupby('').mean()\n",
    "\n",
    "data.pivot_table(index='', values='', aggfunc=['',''])"
   ]
  },
  {
   "cell_type": "code",
   "execution_count": null,
   "id": "fdc42b15",
   "metadata": {},
   "outputs": [],
   "source": []
  },
  {
   "cell_type": "code",
   "execution_count": null,
   "id": "69cb8add",
   "metadata": {},
   "outputs": [],
   "source": []
  },
  {
   "cell_type": "code",
   "execution_count": null,
   "id": "11403833",
   "metadata": {},
   "outputs": [],
   "source": []
  },
  {
   "cell_type": "code",
   "execution_count": null,
   "id": "6b7b81be",
   "metadata": {},
   "outputs": [],
   "source": []
  },
  {
   "cell_type": "markdown",
   "id": "5777e812",
   "metadata": {},
   "source": [
    "Вывод"
   ]
  },
  {
   "cell_type": "markdown",
   "id": "6bc4c317",
   "metadata": {},
   "source": [
    "## 5. Визуализация"
   ]
  },
  {
   "cell_type": "markdown",
   "id": "9820b190",
   "metadata": {},
   "source": [
    "### Дашборд\n",
    "\n",
    "Ссылка на дашборд:\n",
    "\n",
    "\n",
    "[Дашборд \"!!!\"](https://public.tableau.com/app/profile/anna7527/viz/_16738687084650/Dashboard1?publish=yes \"!!!\") \n",
    "\n",
    "\n",
    "Дашборд содержит:\n",
    "- ;\n",
    "- ;\n",
    "- .\n",
    "\n",
    "### Визуализация в Unity3d\n",
    "\n",
    "Ссылка:\n",
    "\n",
    "\n",
    "Даш содержит:"
   ]
  },
  {
   "cell_type": "code",
   "execution_count": null,
   "id": "eaa772c6",
   "metadata": {},
   "outputs": [],
   "source": [
    "#Загрузка файла для дашборда:\n",
    "#data_by_purchase.to_csv('data_by_purchase.csv', index = False)"
   ]
  },
  {
   "cell_type": "markdown",
   "id": "5f05ddaf",
   "metadata": {},
   "source": [
    "## 6. Презентация"
   ]
  },
  {
   "cell_type": "markdown",
   "id": "ad7d5b9e",
   "metadata": {},
   "source": [
    "Ссылка на презентацию:\n",
    "\n",
    "\n",
    "[Презентация \"Формирование портрета потенциального клиента для Ростелекома от команды magic_data\"](https://disk.yandex.ru/i/1CwfdbHipeEUSg \"Формирование портрета потенциального клиента для Ростелекома от команды magic_data\") \n"
   ]
  },
  {
   "cell_type": "code",
   "execution_count": null,
   "id": "896120cc",
   "metadata": {},
   "outputs": [],
   "source": []
  },
  {
   "cell_type": "code",
   "execution_count": null,
   "id": "1ad375ff",
   "metadata": {},
   "outputs": [],
   "source": []
  },
  {
   "cell_type": "code",
   "execution_count": null,
   "id": "9aa65b47",
   "metadata": {},
   "outputs": [],
   "source": []
  },
  {
   "cell_type": "markdown",
   "id": "39dad15c",
   "metadata": {},
   "source": [
    "## Общий вывод"
   ]
  },
  {
   "cell_type": "code",
   "execution_count": null,
   "id": "9bbe0128",
   "metadata": {},
   "outputs": [],
   "source": []
  },
  {
   "cell_type": "code",
   "execution_count": null,
   "id": "170df822",
   "metadata": {},
   "outputs": [],
   "source": []
  },
  {
   "cell_type": "code",
   "execution_count": null,
   "id": "5f388b6b",
   "metadata": {},
   "outputs": [],
   "source": []
  },
  {
   "cell_type": "code",
   "execution_count": null,
   "id": "4641d6bb",
   "metadata": {},
   "outputs": [],
   "source": []
  },
  {
   "cell_type": "markdown",
   "id": "ab8427f8",
   "metadata": {},
   "source": [
    "**Что можно еще сделать?**\n",
    "\n",
    "I. Можно еще дополнительно поразбиратьcя в агломеративной кластеризации и DBSCAN, KNN, CatBoost и LightGBM.\n",
    "\n",
    "II. Можно посчитать какой-нибудь агрегатный показатель на основе факторов, полученных методом главных компонент. Например, с помощью многомерной средней с весами в виде общностей. По каждому субъету РФ. И визуализировать с помощью фоновой картограммы Choropleth\n",
    "\n",
    "III. Можно взять какие-то данные из внешних источников и дополнить понециал по регионам. Например, количество домохозяйств по субъектам РФ, не подключенных к РТК, или количество новых зданий в субъекте. Количество новых домов можно попробовать получить с сайта: https://dom.mingkh.ru/\n",
    "Потом можно визуализировать с помощью маркеров из folium и с помощью той же Choropleth.\n",
    "\n",
    "IV. Можно рассчитать показатели продаж по полному кругу клиентов и по выделенным кластерам, проверить статистические гипотезы:\n",
    "\n",
    "- средняя покупка у клиентов из разных кластеров разная (t-тест):\n",
    "```\n",
    "H_0: средняя покупка кластера 1 = средняя покупка кластера 2\n",
    "H_1: средняя покупка кластера 1 ≠ средняя покупка кластера 2\n",
    "alpha = 0.05\n",
    "```\n",
    "- доля клиентов, совершивших покупку, в разных кластерах разная (z-тест):\n",
    "```\n",
    "H_0: доля  клиентов, совершивших событие, в кластере 1 = доля клиентов, совершивших событие, в кластере 2\n",
    "H_1: доля  клиентов, совершивших событие, в кластере 1 ≠ доля клиентов, совершивших событие, в кластере 2\n",
    "alpha = 0.05\n",
    "```"
   ]
  },
  {
   "cell_type": "code",
   "execution_count": null,
   "id": "aa1f5555",
   "metadata": {},
   "outputs": [],
   "source": []
  },
  {
   "cell_type": "code",
   "execution_count": null,
   "id": "02f91ab7",
   "metadata": {},
   "outputs": [],
   "source": []
  },
  {
   "cell_type": "code",
   "execution_count": null,
   "id": "93a02346",
   "metadata": {},
   "outputs": [],
   "source": []
  },
  {
   "cell_type": "code",
   "execution_count": null,
   "id": "a8cf9d87",
   "metadata": {},
   "outputs": [],
   "source": []
  },
  {
   "cell_type": "code",
   "execution_count": null,
   "id": "bf610277",
   "metadata": {},
   "outputs": [],
   "source": []
  },
  {
   "cell_type": "markdown",
   "id": "869d7ecf",
   "metadata": {},
   "source": [
    "# Черновики"
   ]
  },
  {
   "cell_type": "code",
   "execution_count": null,
   "id": "720bf295",
   "metadata": {},
   "outputs": [],
   "source": [
    "#моя старая mape на случай, если новая не сработает\n",
    "def mape_old(y_true, y_pred):\n",
    "    y_error = y_true - y_pred\n",
    "    y_error_abs = [abs(i) for i in y_error]\n",
    "    perc_error_abs = y_error_abs / y_true\n",
    "    mape = perc_error_abs.sum() / len(y_true)\n",
    "    return mape"
   ]
  },
  {
   "cell_type": "code",
   "execution_count": null,
   "id": "dac19cd6",
   "metadata": {},
   "outputs": [],
   "source": [
    "#черновик - функция с return:\n",
    "def liner_model_func(model, X_train_st, X_test_st, y_train, y_test):\n",
    "    model = model\n",
    "    model.fit(X_train_st, y_train)\n",
    "    pred = model.predict(X_test_st)\n",
    "    features = pd.DataFrame({'feature': X_train.columns, 'coeff': model.coef_})\n",
    "    features['coeff_abs'] = abs(features['coeff'])\n",
    "    intercept = model.intercept_\n",
    "    features = featureso.sort_values(by=['coeff_abs'], ascending=False)\n",
    "    # Метрики\n",
    "    mae = mean_absolute_error(y_test, pred)\n",
    "    mse = mean_squared_error(y_test, pred)\n",
    "    rmse = mean_squared_error(y_test, pred)**0.5\n",
    "    r2 = r2_score(y_test, pred)\n",
    "    mape = calc_mape(y_test, pred)\n",
    "    return pred, features, intercept, mae, mse, rmse, r2, mape"
   ]
  },
  {
   "cell_type": "code",
   "execution_count": null,
   "id": "6ebf9328",
   "metadata": {},
   "outputs": [],
   "source": [
    "#На случай, если будет лучшей модель бинарной классификации - дерево принятия решений. Что маловероятно.\n",
    "\n",
    "tree_model = DecisionTreeClassifier(min_samples_leaf=500)\n",
    "tree_model.fit(X_b_train_st, y_b_train)\n",
    "y_pred = tree_model.predict(X_b_test_st) \n",
    "\n",
    "plt.figure(figsize = (20,15)) # задайте размер фигуры, чтобы получить крупное изображение\n",
    "plot_tree(tree_model, filled=True, feature_names = X_b_train_st.columns, class_names = ['потенциальный клиент', 'не клиент'])\n",
    "plt.show() "
   ]
  },
  {
   "cell_type": "code",
   "execution_count": null,
   "id": "61d02281",
   "metadata": {},
   "outputs": [],
   "source": [
    "#попарные графики признаков с разметкой по кластерам\n",
    "\n",
    "import itertools\n",
    "\n",
    "# определим функцию отрисовки графиков попарных признаков для кластеров\n",
    "def show_clusters_on_plot(df, x_name, y_name, cluster_name):\n",
    "    plt.figure(figsize=(5, 5))\n",
    "    sns.scatterplot(\n",
    "        df[x_name], df[y_name], hue=df[cluster_name], palette='Paired'\n",
    "    )\n",
    "    plt.title('{} vs {}'.format(x_name, y_name))\n",
    "    plt.show()\n",
    "\n",
    "# задаём модель k_means с числом кластеров 3 и фиксируем значение random_state\n",
    "km = KMeans(n_clusters=3, random_state=0)\n",
    "# прогнозируем кластеры для наблюдений (алгоритм присваивает им номера от 0 до 2)\n",
    "labels = km.fit_predict(x_sc)\n",
    "\n",
    "# сохраняем метки кластера в поле нашего датасета\n",
    "travel['cluster_km'] = labels \n",
    "\n",
    "# выводим статистику по средним значениям наших признаков по кластеру\n",
    "print(travel.groupby(['cluster_km']).mean())\n",
    "\n",
    "# отрисуем графики для попарных сочетаний признаков с разметкой по кластерам\n",
    "col_pairs = list(itertools.combinations(travel.drop('cluster_km', axis=1).columns, 2))\n",
    "for pair in col_pairs:\n",
    "    show_clusters_on_plot(travel, pair[0], pair[1], 'cluster_km')"
   ]
  },
  {
   "cell_type": "code",
   "execution_count": null,
   "id": "075e09ae",
   "metadata": {},
   "outputs": [],
   "source": [
    "#Среднее за год\n",
    "data[''].resample(rule = 'AS').mean().head()"
   ]
  },
  {
   "cell_type": "code",
   "execution_count": null,
   "id": "6959b8db",
   "metadata": {},
   "outputs": [],
   "source": [
    "#скользящее среднее\n",
    "passengers.rolling(window = 3).mean().head()"
   ]
  },
  {
   "cell_type": "code",
   "execution_count": null,
   "id": "67241a40",
   "metadata": {},
   "outputs": [],
   "source": []
  }
 ],
 "metadata": {
  "kernelspec": {
   "display_name": "Python 3 (ipykernel)",
   "language": "python",
   "name": "python3"
  },
  "language_info": {
   "codemirror_mode": {
    "name": "ipython",
    "version": 3
   },
   "file_extension": ".py",
   "mimetype": "text/x-python",
   "name": "python",
   "nbconvert_exporter": "python",
   "pygments_lexer": "ipython3",
   "version": "3.9.13"
  }
 },
 "nbformat": 4,
 "nbformat_minor": 5
}
