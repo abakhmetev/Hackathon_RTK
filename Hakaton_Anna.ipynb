{
 "cells": [
  {
   "cell_type": "markdown",
   "id": "8269dfe8",
   "metadata": {},
   "source": [
    "<span style=\"color:blue\">*magic_data*</span>"
   ]
  },
  {
   "cell_type": "markdown",
   "id": "48238a22",
   "metadata": {},
   "source": [
    "# Формирование портрета потенциального клиента для Ростелекома\n",
    "\n",
    "от команды magic_data"
   ]
  },
  {
   "cell_type": "markdown",
   "id": "547c9035",
   "metadata": {},
   "source": [
    "**Цель исследования:** на основе выявленных закономерностей в данных о продажах B2B клиентам за прошлые периоды сформировать рекомендации по повышению эффективности процесса по привлечению новых клиентов.\n",
    "\n",
    "**Задачи исследования:**\n",
    "\n",
    "1. Создать модель данных, позволяющую объединить исходные данные.\n",
    "\n",
    "2. Провести предобработку данных, в том числе:\n",
    "- проверить данные на валидность;\n",
    "- проанализировать данные на предмет наличия пропусков, дубликатов, ошибок.\n",
    "\n",
    "3. Провести разведочный анализ EDA, в том числе:\n",
    "- анализ показателей описательной статистики по имеющимся признакам;\n",
    "- выявление аномалий и выбросов;\n",
    "- предварительный анализ корреляции между признаками, устранение мультиколлинеарности;\n",
    "- преобразование данных (стандартизация, перевод категориальных переменных в бинарный вид);\n",
    "- сформулировать гипотезы, выбрать модели и алгоритмы классификации потенциальных клиентов;\n",
    "- проанализировать временной ряд на предмет станционарности, автокорреляции, наличия тренда и сезонности.\n",
    "\n",
    "4. Реализовать алгоритмы машинного обучения, в том числе:\n",
    "- провести разбиение выборки две части: train/test;\n",
    "- обучить модели;\n",
    "- сделать прогнозы;\n",
    "- оценить метрики моделей;\n",
    "- выбрать лучшие модели и на их основе сформировать разметку новых клиентов по склонности к подключению.\n",
    "\n",
    "5. Составить портрет потенциального клиента.\n",
    "\n",
    "\n",
    "6. Визуализировать результаты анализа.\n",
    "\n",
    "\n",
    "7. Сформировать рекомендации по будущим продажам по каждому региону.\n",
    "\n",
    "**Описание данных:**\n",
    "\n",
    "Датасет представляет собой 5 excel файлов, в каждом из которых содержится информация по клиентам: потенциальным и сделавшими покупку в период с января 2023 года по июль 2023 года.\n",
    "\n",
    "\n",
    "**Показатели:**\n",
    "\n",
    "1. Данные по продажам - sales.xls:\n",
    "- month_sale - месяц продажи,\n",
    "- day_sale - день продажи (дата продажи),\n",
    "- id_client_rf - УИД клиента, собранный с помощью склейки «Номер клиента» и «Филиал»,\n",
    "- sale_size - размер продажи («High» - большая покупка, «Middle» - средняя покупка, «Low» - малая покупка).\n",
    "\n",
    "2. Данные по адресам клиентов - address_client.csv:\n",
    "- id_client_rf - УИД клиента, собранный с помощью склейки «Номер клиента» и «Филиал»,\n",
    "- address - наименование адреса,\n",
    "- flag_provider - наличие провайдеров-конкурентов на адресе, где 1 – есть информация о провайдерах, 0 – нет информации о провайдерах,\n",
    "- nflag_have_free_ports - наличие технической возможности подключения на адресе, где 1 – есть техническая возможность, 0 – требуется уточнение,\n",
    "- tech_name - наименование технологии подключения на адресе,\n",
    "- latitude - координаты адреса (широта),\n",
    "- longitude - координаты адреса (долгота).\n",
    "\n",
    "3. Данные по сфере деятельности - okved_industry_client.csv:\n",
    "- id_client_rf - УИД клиента, собранный с помощью склейки «Номер клиента» и «Филиал»,\n",
    "- сode_okved - код ОКВЭД,\n",
    "- name_okved - наименование ОКВЭД,\n",
    "- type_okved - тип ОКВЭД (1 – основной, 0 – дополнительный),\n",
    "- industry - yаименование индустрии.\n",
    "\n",
    "4. Данные по клиентам - base_info_client.csv:\n",
    "- id_client_rf - УИД клиента, собранный с помощью склейки «Номер клиента» и «Филиал»,\n",
    "- name_rf - наименование филиала,\n",
    "- id_client - номер клиента,\n",
    "- workersrange - кол-во сотрудников, работающих в компании,\n",
    "- total_revenue - общая выручка, указанная в млн руб. (0 – до 1 млн руб., 5 – до 5 млн руб. и т.д.)\n",
    "- companywithsameinfo - кол-во компаний с похожей финансовой информацией,\n",
    "- arbitrationcases - кол-во арбитражных дел,\n",
    "- datefirstreg - дата регистрации юр. лица,\n",
    "- flag_site - флаг наличия сайта у клиента, где 1 – сайт есть, 0 – сайта нет,\n",
    "- flag_business_center - флаг присутствия в бизнес-центре, где 1 – да, 0 – нет,\n",
    "- flag_resident - флаг присутствия в жилом доме, где 1 – да, 0 – нет,\n",
    "- date_actual_data - дата актуализации данных,\n",
    "- flag_vk - флаг наличия группы в VK, где 1 – да, 0 – нет.\n",
    "\n",
    "5. Список клиентов для скоринга - final_list.csv:\n",
    "\n",
    "- id_client_rf - УИД клиента, собранный с помощью склейки «Номер клиента» и «Филиал».\n"
   ]
  },
  {
   "cell_type": "markdown",
   "id": "0e869001",
   "metadata": {},
   "source": [
    "## 1. Предобработка данных и EDA"
   ]
  },
  {
   "cell_type": "markdown",
   "id": "7ec068a1",
   "metadata": {},
   "source": [
    "**Импортируем библиотеки и загрузим файлы**"
   ]
  },
  {
   "cell_type": "code",
   "execution_count": 1,
   "id": "8509e91a",
   "metadata": {},
   "outputs": [],
   "source": [
    "#У кого есть желание, можете докрутить код, чтобы мы работали с одной и той же тетрадкой в дальнейшем.\n",
    "\n",
    "#base_url = 'https://cloud-api.yandex.net/v1/disk/public/resources/download?'\n",
    " \n",
    "#public_key_sales = 'https://disk.yandex.ru/i/Y2gL1bC5pXQ8gA'\n",
    "#public_key_address_client = ''\n",
    "#public_key_okved_industry_client = ''\n",
    "#public_key_base_info_client = ''\n",
    "#public_key_final_list = ''\n",
    "\n",
    "#def loading_files_csv(public_key):\n",
    "#    final_url = base_url + urlencode(dict(public_key=public_key))\n",
    "#    response = requests.get(final_url)\n",
    "#    download_url = response.json()['href']\n",
    "#    return download_url\n",
    "\n",
    "#sales_try = pd.read_csv(loading_files_csv(public_key_sales))"
   ]
  },
  {
   "cell_type": "code",
   "execution_count": 2,
   "id": "f580cbb5",
   "metadata": {},
   "outputs": [],
   "source": [
    "# !pip install statsmodels"
   ]
  },
  {
   "cell_type": "code",
   "execution_count": 84,
   "id": "13366935",
   "metadata": {},
   "outputs": [],
   "source": [
    "import pandas as pd\n",
    "import matplotlib.pyplot as plt\n",
    "import seaborn as sns\n",
    "import numpy as np\n",
    "from scipy import stats as st\n",
    "import math as mth\n",
    "import datetime as dt\n",
    "from urllib.parse import urlencode\n",
    "import requests\n",
    "from datetime import datetime\n",
    "\n",
    "#import plotly.express as px\n",
    "#from pandas.plotting import register_matplotlib_converters\n",
    "#from urllib.parse import urlencode\n",
    "#import requests\n",
    "#import json\n",
    "#from folium import Map, Choropleth, Marker\n",
    "#from folium.plugins import MarkerCluster\n",
    "\n",
    "from statsmodels.tsa.seasonal import seasonal_decompose\n",
    "from statsmodels.tsa.stattools import adfuller\n",
    "from pylab import rcParams\n",
    "from statsmodels.graphics.tsaplots import plot_acf\n",
    "from statsmodels.tsa.arima_model import ARMA, ARIMA\n",
    "\n",
    "#from statsmodels.tsa.statespace.sarimax import SARIMAX\n",
    "#import statsmodels.api as sm\n",
    "#import warnings\n",
    "#from datetime import timedelta\n",
    "\n",
    "from sklearn.model_selection import train_test_split\n",
    "from sklearn.linear_model import Lasso, LinearRegression, Ridge, LogisticRegression\n",
    "from sklearn.preprocessing import StandardScaler\n",
    "from sklearn.metrics import accuracy_score, precision_score, recall_score, f1_score, roc_auc_score\n",
    "from sklearn.tree import DecisionTreeRegressor, DecisionTreeClassifier\n",
    "from sklearn.ensemble import RandomForestRegressor, GradientBoostingRegressor, RandomForestClassifier, GradientBoostingClassifier\n",
    "from sklearn.cluster import KMeans\n",
    "from sklearn.svm import SVC\n",
    "from sklearn.neighbors import KNeighborsRegressor\n",
    "from scipy.cluster.hierarchy import dendrogram, linkage \n",
    "from sklearn.decomposition import PCA"
   ]
  },
  {
   "cell_type": "markdown",
   "id": "d4c0d907",
   "metadata": {},
   "source": [
    "**Загрузка датасетов и общая информация по ним**"
   ]
  },
  {
   "cell_type": "code",
   "execution_count": 4,
   "id": "04ada0b5",
   "metadata": {},
   "outputs": [],
   "source": [
    "# Чтение файлов\n",
    "address_client = pd.read_csv(r'C:\\Users\\Anna\\OneDrive\\Рабочий стол\\Данные хакатон\\address_client.csv', # WORK\\STUDY\\GIT\\Данные для хакатона, Users\\Anna\\OneDrive\\Рабочий стол\\Данные хакатон\n",
    "                             encoding = \"utf-8\", on_bad_lines='skip',\n",
    "                             names=['id_client_rf', 'address', 'flag_provider', 'nflag_have_free_ports',\n",
    "                                    'tech_name', 'latitude', 'longitude'])\n",
    "\n",
    "base_info_client = pd.read_csv(r'C:\\Users\\Anna\\OneDrive\\Рабочий стол\\Данные хакатон\\base_info_client.csv',\n",
    "                               encoding = \"utf-8\", names=['id_client_rf', 'name_rf', 'id_client',\n",
    "                                                          'workersrange', 'total_revenue', 'companywithsameinfo',\n",
    "                                                          'arbitrationcases', 'datefirstreg', 'flag_site',\n",
    "                                                          'flag_business_center', 'flag_resident', 'date_actual_data',\n",
    "                                                          'flag_vk'], parse_dates=['datefirstreg','date_actual_data'])\n",
    "\n",
    "final_list = pd.read_csv(r'C:\\Users\\Anna\\OneDrive\\Рабочий стол\\Данные хакатон\\final_list.csv',\n",
    "                         encoding = \"utf-8\", names=['id_client_rf'])\n",
    "\n",
    "okved_industry_client = pd.read_csv(r'C:\\Users\\Anna\\OneDrive\\Рабочий стол\\Данные хакатон\\okved_industry_client.csv',\n",
    "                                    encoding = \"utf-8\", names = ['id_client_rf', 'Code_okved', 'Name_okved',\n",
    "                                                                 'Type_okved', 'Industry'])\n",
    "sales = pd.read_excel(r'C:\\Users\\Anna\\OneDrive\\Рабочий стол\\Данные хакатон\\sales.xlsx',\n",
    "                      names = ['month_sale', 'day_sale', 'id_client_rf', 'sale_size'])"
   ]
  },
  {
   "cell_type": "code",
   "execution_count": 5,
   "id": "f69f8a8d",
   "metadata": {},
   "outputs": [
    {
     "name": "stdout",
     "output_type": "stream",
     "text": [
      "Размерность address_client: 1485674\n",
      "<class 'pandas.core.frame.DataFrame'>\n",
      "RangeIndex: 1485674 entries, 0 to 1485673\n",
      "Data columns (total 7 columns):\n",
      " #   Column                 Non-Null Count    Dtype  \n",
      "---  ------                 --------------    -----  \n",
      " 0   id_client_rf           1485674 non-null  object \n",
      " 1   address                1485674 non-null  object \n",
      " 2   flag_provider          1485674 non-null  int64  \n",
      " 3   nflag_have_free_ports  1485674 non-null  int64  \n",
      " 4   tech_name              736940 non-null   object \n",
      " 5   latitude               1259978 non-null  float64\n",
      " 6   longitude              1259978 non-null  float64\n",
      "dtypes: float64(2), int64(2), object(3)\n",
      "memory usage: 79.3+ MB\n",
      "None\n",
      "\n",
      "\n",
      "Размерность base_info_client: 2218328\n",
      "\n",
      "\n",
      "<class 'pandas.core.frame.DataFrame'>\n",
      "RangeIndex: 2218328 entries, 0 to 2218327\n",
      "Data columns (total 13 columns):\n",
      " #   Column                Dtype         \n",
      "---  ------                -----         \n",
      " 0   id_client_rf          int64         \n",
      " 1   name_rf               object        \n",
      " 2   id_client             object        \n",
      " 3   workersrange          object        \n",
      " 4   total_revenue         int64         \n",
      " 5   companywithsameinfo   float64       \n",
      " 6   arbitrationcases      float64       \n",
      " 7   datefirstreg          datetime64[ns]\n",
      " 8   flag_site             int64         \n",
      " 9   flag_business_center  int64         \n",
      " 10  flag_resident         int64         \n",
      " 11  date_actual_data      datetime64[ns]\n",
      " 12  flag_vk               int64         \n",
      "dtypes: datetime64[ns](2), float64(2), int64(6), object(3)\n",
      "memory usage: 220.0+ MB\n",
      "None\n",
      "Размерность final_list: 1950766\n",
      "\n",
      "\n",
      "<class 'pandas.core.frame.DataFrame'>\n",
      "RangeIndex: 1950766 entries, 0 to 1950765\n",
      "Data columns (total 1 columns):\n",
      " #   Column        Dtype \n",
      "---  ------        ----- \n",
      " 0   id_client_rf  object\n",
      "dtypes: object(1)\n",
      "memory usage: 14.9+ MB\n",
      "None\n",
      "Размерность okved_industry_client: 5578226\n",
      "\n",
      "\n",
      "<class 'pandas.core.frame.DataFrame'>\n",
      "RangeIndex: 5578226 entries, 0 to 5578225\n",
      "Data columns (total 5 columns):\n",
      " #   Column        Dtype \n",
      "---  ------        ----- \n",
      " 0   id_client_rf  object\n",
      " 1   Code_okved    object\n",
      " 2   Name_okved    object\n",
      " 3   Type_okved    int64 \n",
      " 4   Industry      object\n",
      "dtypes: int64(1), object(4)\n",
      "memory usage: 212.8+ MB\n",
      "None\n",
      "Размерность sales: 10428\n",
      "<class 'pandas.core.frame.DataFrame'>\n",
      "RangeIndex: 10428 entries, 0 to 10427\n",
      "Data columns (total 4 columns):\n",
      " #   Column        Non-Null Count  Dtype         \n",
      "---  ------        --------------  -----         \n",
      " 0   month_sale    10428 non-null  datetime64[ns]\n",
      " 1   day_sale      10428 non-null  datetime64[ns]\n",
      " 2   id_client_rf  10428 non-null  object        \n",
      " 3   sale_size     10428 non-null  object        \n",
      "dtypes: datetime64[ns](2), object(2)\n",
      "memory usage: 326.0+ KB\n",
      "None\n"
     ]
    }
   ],
   "source": [
    "# Вывод размерностей\n",
    "pd.set_option('display.max_columns', 50)\n",
    "print('Размерность address_client:', address_client.shape[0])\n",
    "print(address_client.info())\n",
    "print('\\n')\n",
    "print('Размерность base_info_client:', base_info_client.shape[0])\n",
    "print('\\n')\n",
    "print(base_info_client.info())\n",
    "print('Размерность final_list:', final_list.shape[0])\n",
    "print('\\n')\n",
    "print(final_list.info())\n",
    "print('Размерность okved_industry_client:', okved_industry_client.shape[0])\n",
    "print('\\n')\n",
    "print(okved_industry_client.info())\n",
    "print('Размерность sales:', sales.shape[0])\n",
    "print(sales.info())"
   ]
  },
  {
   "cell_type": "code",
   "execution_count": 6,
   "id": "f0317281",
   "metadata": {},
   "outputs": [
    {
     "name": "stdout",
     "output_type": "stream",
     "text": [
      "address_client:\n",
      "id_client_rf             587676\n",
      "address                  183457\n",
      "flag_provider                 2\n",
      "nflag_have_free_ports         2\n",
      "tech_name                    40\n",
      "latitude                 114296\n",
      "longitude                116575\n",
      "dtype: int64\n",
      "\n",
      "base_info_client:\n",
      "id_client_rf            2218328\n",
      "name_rf                      13\n",
      "id_client               2218328\n",
      "workersrange                 11\n",
      "total_revenue              1559\n",
      "companywithsameinfo         135\n",
      "arbitrationcases            575\n",
      "datefirstreg              12865\n",
      "flag_site                     2\n",
      "flag_business_center          2\n",
      "flag_resident                 2\n",
      "date_actual_data           4551\n",
      "flag_vk                       2\n",
      "dtype: int64\n",
      "\n",
      "final_list:\n",
      "id_client_rf    1950766\n",
      "dtype: int64\n",
      "\n",
      "okved_industry_client:\n",
      "id_client_rf    2139266\n",
      "Code_okved         2470\n",
      "Name_okved         2396\n",
      "Type_okved            2\n",
      "Industry             33\n",
      "dtype: int64\n",
      "\n",
      "sales:\n",
      "month_sale         7\n",
      "day_sale         193\n",
      "id_client_rf    9316\n",
      "sale_size          3\n",
      "dtype: int64\n"
     ]
    }
   ],
   "source": [
    "# Проверка кол-ва уникальных значений для столбцов, где должно быть булево значение\n",
    "print('address_client:\\n', address_client.nunique(), sep='')\n",
    "print()\n",
    "print('base_info_client:\\n', base_info_client.nunique(), sep='')\n",
    "print()\n",
    "print('final_list:\\n', final_list.nunique(), sep='')\n",
    "print()\n",
    "print('okved_industry_client:\\n', okved_industry_client.nunique(), sep='')\n",
    "print()\n",
    "print('sales:\\n', sales.nunique(), sep='')"
   ]
  },
  {
   "cell_type": "markdown",
   "id": "047ff35a",
   "metadata": {},
   "source": [
    "**Вывод таблиц**"
   ]
  },
  {
   "cell_type": "code",
   "execution_count": 7,
   "id": "3efa15ad",
   "metadata": {},
   "outputs": [
    {
     "data": {
      "text/html": [
       "<div>\n",
       "<style scoped>\n",
       "    .dataframe tbody tr th:only-of-type {\n",
       "        vertical-align: middle;\n",
       "    }\n",
       "\n",
       "    .dataframe tbody tr th {\n",
       "        vertical-align: top;\n",
       "    }\n",
       "\n",
       "    .dataframe thead th {\n",
       "        text-align: right;\n",
       "    }\n",
       "</style>\n",
       "<table border=\"1\" class=\"dataframe\">\n",
       "  <thead>\n",
       "    <tr style=\"text-align: right;\">\n",
       "      <th></th>\n",
       "      <th>id_client_rf</th>\n",
       "      <th>address</th>\n",
       "      <th>flag_provider</th>\n",
       "      <th>nflag_have_free_ports</th>\n",
       "      <th>tech_name</th>\n",
       "      <th>latitude</th>\n",
       "      <th>longitude</th>\n",
       "    </tr>\n",
       "  </thead>\n",
       "  <tbody>\n",
       "    <tr>\n",
       "      <th>0</th>\n",
       "      <td>00840127_Ф13</td>\n",
       "      <td>уфа г.\\, лесотехникума улица\\, 49/1</td>\n",
       "      <td>1</td>\n",
       "      <td>0</td>\n",
       "      <td>NaN</td>\n",
       "      <td>NaN</td>\n",
       "      <td>NaN</td>\n",
       "    </tr>\n",
       "    <tr>\n",
       "      <th>1</th>\n",
       "      <td>00840181_Ф13</td>\n",
       "      <td>уфа г.\\, лесотехникума улица\\, 49/1</td>\n",
       "      <td>1</td>\n",
       "      <td>0</td>\n",
       "      <td>NaN</td>\n",
       "      <td>NaN</td>\n",
       "      <td>NaN</td>\n",
       "    </tr>\n",
       "    <tr>\n",
       "      <th>2</th>\n",
       "      <td>00839528_Ф13</td>\n",
       "      <td>уфа г.\\, лесотехникума улица\\, 49/1</td>\n",
       "      <td>1</td>\n",
       "      <td>0</td>\n",
       "      <td>NaN</td>\n",
       "      <td>NaN</td>\n",
       "      <td>NaN</td>\n",
       "    </tr>\n",
       "    <tr>\n",
       "      <th>3</th>\n",
       "      <td>00839607_Ф13</td>\n",
       "      <td>уфа г.\\, лесотехникума улица\\, 49/1</td>\n",
       "      <td>1</td>\n",
       "      <td>0</td>\n",
       "      <td>NaN</td>\n",
       "      <td>NaN</td>\n",
       "      <td>NaN</td>\n",
       "    </tr>\n",
       "    <tr>\n",
       "      <th>4</th>\n",
       "      <td>00075449_Ф13</td>\n",
       "      <td>уфа г.\\, лесотехникума улица\\, 49/1</td>\n",
       "      <td>1</td>\n",
       "      <td>0</td>\n",
       "      <td>NaN</td>\n",
       "      <td>NaN</td>\n",
       "      <td>NaN</td>\n",
       "    </tr>\n",
       "  </tbody>\n",
       "</table>\n",
       "</div>"
      ],
      "text/plain": [
       "   id_client_rf                              address  flag_provider  \\\n",
       "0  00840127_Ф13  уфа г.\\, лесотехникума улица\\, 49/1              1   \n",
       "1  00840181_Ф13  уфа г.\\, лесотехникума улица\\, 49/1              1   \n",
       "2  00839528_Ф13  уфа г.\\, лесотехникума улица\\, 49/1              1   \n",
       "3  00839607_Ф13  уфа г.\\, лесотехникума улица\\, 49/1              1   \n",
       "4  00075449_Ф13  уфа г.\\, лесотехникума улица\\, 49/1              1   \n",
       "\n",
       "   nflag_have_free_ports tech_name  latitude  longitude  \n",
       "0                      0       NaN       NaN        NaN  \n",
       "1                      0       NaN       NaN        NaN  \n",
       "2                      0       NaN       NaN        NaN  \n",
       "3                      0       NaN       NaN        NaN  \n",
       "4                      0       NaN       NaN        NaN  "
      ]
     },
     "execution_count": 7,
     "metadata": {},
     "output_type": "execute_result"
    }
   ],
   "source": [
    "# 1. address_client\n",
    "address_client.head()"
   ]
  },
  {
   "cell_type": "code",
   "execution_count": 8,
   "id": "26202323",
   "metadata": {},
   "outputs": [
    {
     "data": {
      "text/html": [
       "<div>\n",
       "<style scoped>\n",
       "    .dataframe tbody tr th:only-of-type {\n",
       "        vertical-align: middle;\n",
       "    }\n",
       "\n",
       "    .dataframe tbody tr th {\n",
       "        vertical-align: top;\n",
       "    }\n",
       "\n",
       "    .dataframe thead th {\n",
       "        text-align: right;\n",
       "    }\n",
       "</style>\n",
       "<table border=\"1\" class=\"dataframe\">\n",
       "  <thead>\n",
       "    <tr style=\"text-align: right;\">\n",
       "      <th></th>\n",
       "      <th>id_client_rf</th>\n",
       "      <th>name_rf</th>\n",
       "      <th>id_client</th>\n",
       "      <th>workersrange</th>\n",
       "      <th>total_revenue</th>\n",
       "      <th>companywithsameinfo</th>\n",
       "      <th>arbitrationcases</th>\n",
       "      <th>datefirstreg</th>\n",
       "      <th>flag_site</th>\n",
       "      <th>flag_business_center</th>\n",
       "      <th>flag_resident</th>\n",
       "      <th>date_actual_data</th>\n",
       "      <th>flag_vk</th>\n",
       "    </tr>\n",
       "  </thead>\n",
       "  <tbody>\n",
       "    <tr>\n",
       "      <th>0</th>\n",
       "      <td>1631354</td>\n",
       "      <td>Ф09</td>\n",
       "      <td>01631354_Ф09</td>\n",
       "      <td>NaN</td>\n",
       "      <td>0</td>\n",
       "      <td>1.0</td>\n",
       "      <td>NaN</td>\n",
       "      <td>2020-01-29</td>\n",
       "      <td>0</td>\n",
       "      <td>0</td>\n",
       "      <td>0</td>\n",
       "      <td>NaT</td>\n",
       "      <td>0</td>\n",
       "    </tr>\n",
       "    <tr>\n",
       "      <th>1</th>\n",
       "      <td>1631368</td>\n",
       "      <td>Ф09</td>\n",
       "      <td>01631368_Ф09</td>\n",
       "      <td>NaN</td>\n",
       "      <td>0</td>\n",
       "      <td>1.0</td>\n",
       "      <td>NaN</td>\n",
       "      <td>2020-07-31</td>\n",
       "      <td>0</td>\n",
       "      <td>0</td>\n",
       "      <td>0</td>\n",
       "      <td>NaT</td>\n",
       "      <td>0</td>\n",
       "    </tr>\n",
       "    <tr>\n",
       "      <th>2</th>\n",
       "      <td>1631377</td>\n",
       "      <td>Ф09</td>\n",
       "      <td>01631377_Ф09</td>\n",
       "      <td>NaN</td>\n",
       "      <td>0</td>\n",
       "      <td>1.0</td>\n",
       "      <td>NaN</td>\n",
       "      <td>2020-08-17</td>\n",
       "      <td>0</td>\n",
       "      <td>0</td>\n",
       "      <td>0</td>\n",
       "      <td>NaT</td>\n",
       "      <td>0</td>\n",
       "    </tr>\n",
       "    <tr>\n",
       "      <th>3</th>\n",
       "      <td>1631387</td>\n",
       "      <td>Ф09</td>\n",
       "      <td>01631387_Ф09</td>\n",
       "      <td>NaN</td>\n",
       "      <td>0</td>\n",
       "      <td>1.0</td>\n",
       "      <td>NaN</td>\n",
       "      <td>2019-12-23</td>\n",
       "      <td>0</td>\n",
       "      <td>0</td>\n",
       "      <td>0</td>\n",
       "      <td>NaT</td>\n",
       "      <td>0</td>\n",
       "    </tr>\n",
       "    <tr>\n",
       "      <th>4</th>\n",
       "      <td>1631409</td>\n",
       "      <td>Ф09</td>\n",
       "      <td>01631409_Ф09</td>\n",
       "      <td>NaN</td>\n",
       "      <td>0</td>\n",
       "      <td>1.0</td>\n",
       "      <td>NaN</td>\n",
       "      <td>2020-10-19</td>\n",
       "      <td>0</td>\n",
       "      <td>0</td>\n",
       "      <td>0</td>\n",
       "      <td>NaT</td>\n",
       "      <td>0</td>\n",
       "    </tr>\n",
       "  </tbody>\n",
       "</table>\n",
       "</div>"
      ],
      "text/plain": [
       "   id_client_rf name_rf     id_client workersrange  total_revenue  \\\n",
       "0       1631354     Ф09  01631354_Ф09          NaN              0   \n",
       "1       1631368     Ф09  01631368_Ф09          NaN              0   \n",
       "2       1631377     Ф09  01631377_Ф09          NaN              0   \n",
       "3       1631387     Ф09  01631387_Ф09          NaN              0   \n",
       "4       1631409     Ф09  01631409_Ф09          NaN              0   \n",
       "\n",
       "   companywithsameinfo  arbitrationcases datefirstreg  flag_site  \\\n",
       "0                  1.0               NaN   2020-01-29          0   \n",
       "1                  1.0               NaN   2020-07-31          0   \n",
       "2                  1.0               NaN   2020-08-17          0   \n",
       "3                  1.0               NaN   2019-12-23          0   \n",
       "4                  1.0               NaN   2020-10-19          0   \n",
       "\n",
       "   flag_business_center  flag_resident date_actual_data  flag_vk  \n",
       "0                     0              0              NaT        0  \n",
       "1                     0              0              NaT        0  \n",
       "2                     0              0              NaT        0  \n",
       "3                     0              0              NaT        0  \n",
       "4                     0              0              NaT        0  "
      ]
     },
     "execution_count": 8,
     "metadata": {},
     "output_type": "execute_result"
    }
   ],
   "source": [
    "# 2. base_info_client\n",
    "base_info_client.head()"
   ]
  },
  {
   "cell_type": "code",
   "execution_count": 9,
   "id": "cd3778cf",
   "metadata": {},
   "outputs": [
    {
     "data": {
      "text/html": [
       "<div>\n",
       "<style scoped>\n",
       "    .dataframe tbody tr th:only-of-type {\n",
       "        vertical-align: middle;\n",
       "    }\n",
       "\n",
       "    .dataframe tbody tr th {\n",
       "        vertical-align: top;\n",
       "    }\n",
       "\n",
       "    .dataframe thead th {\n",
       "        text-align: right;\n",
       "    }\n",
       "</style>\n",
       "<table border=\"1\" class=\"dataframe\">\n",
       "  <thead>\n",
       "    <tr style=\"text-align: right;\">\n",
       "      <th></th>\n",
       "      <th>id_client_rf</th>\n",
       "    </tr>\n",
       "  </thead>\n",
       "  <tbody>\n",
       "    <tr>\n",
       "      <th>0</th>\n",
       "      <td>01768987_Ф04</td>\n",
       "    </tr>\n",
       "    <tr>\n",
       "      <th>1</th>\n",
       "      <td>01769012_Ф04</td>\n",
       "    </tr>\n",
       "    <tr>\n",
       "      <th>2</th>\n",
       "      <td>01769016_Ф04</td>\n",
       "    </tr>\n",
       "    <tr>\n",
       "      <th>3</th>\n",
       "      <td>01769018_Ф04</td>\n",
       "    </tr>\n",
       "    <tr>\n",
       "      <th>4</th>\n",
       "      <td>01769044_Ф04</td>\n",
       "    </tr>\n",
       "  </tbody>\n",
       "</table>\n",
       "</div>"
      ],
      "text/plain": [
       "   id_client_rf\n",
       "0  01768987_Ф04\n",
       "1  01769012_Ф04\n",
       "2  01769016_Ф04\n",
       "3  01769018_Ф04\n",
       "4  01769044_Ф04"
      ]
     },
     "execution_count": 9,
     "metadata": {},
     "output_type": "execute_result"
    }
   ],
   "source": [
    "# 3. final_list\n",
    "final_list.head()"
   ]
  },
  {
   "cell_type": "code",
   "execution_count": 10,
   "id": "03a05de6",
   "metadata": {},
   "outputs": [
    {
     "data": {
      "text/html": [
       "<div>\n",
       "<style scoped>\n",
       "    .dataframe tbody tr th:only-of-type {\n",
       "        vertical-align: middle;\n",
       "    }\n",
       "\n",
       "    .dataframe tbody tr th {\n",
       "        vertical-align: top;\n",
       "    }\n",
       "\n",
       "    .dataframe thead th {\n",
       "        text-align: right;\n",
       "    }\n",
       "</style>\n",
       "<table border=\"1\" class=\"dataframe\">\n",
       "  <thead>\n",
       "    <tr style=\"text-align: right;\">\n",
       "      <th></th>\n",
       "      <th>id_client_rf</th>\n",
       "      <th>Code_okved</th>\n",
       "      <th>Name_okved</th>\n",
       "      <th>Type_okved</th>\n",
       "      <th>Industry</th>\n",
       "    </tr>\n",
       "  </thead>\n",
       "  <tbody>\n",
       "    <tr>\n",
       "      <th>0</th>\n",
       "      <td>00811390_Ф13</td>\n",
       "      <td>47.91.2</td>\n",
       "      <td>Торговля розничная\\, осуществляемая непосредст...</td>\n",
       "      <td>1</td>\n",
       "      <td>Интернет-бизнес</td>\n",
       "    </tr>\n",
       "    <tr>\n",
       "      <th>1</th>\n",
       "      <td>01516426_Ф10</td>\n",
       "      <td>47.91.2</td>\n",
       "      <td>Торговля розничная\\, осуществляемая непосредст...</td>\n",
       "      <td>1</td>\n",
       "      <td>Интернет-бизнес</td>\n",
       "    </tr>\n",
       "    <tr>\n",
       "      <th>2</th>\n",
       "      <td>01258497_Ф06</td>\n",
       "      <td>47.91.2</td>\n",
       "      <td>Торговля розничная\\, осуществляемая непосредст...</td>\n",
       "      <td>1</td>\n",
       "      <td>Интернет-бизнес</td>\n",
       "    </tr>\n",
       "    <tr>\n",
       "      <th>3</th>\n",
       "      <td>01583065_Ф12</td>\n",
       "      <td>47.91.2</td>\n",
       "      <td>Торговля розничная\\, осуществляемая непосредст...</td>\n",
       "      <td>1</td>\n",
       "      <td>Интернет-бизнес</td>\n",
       "    </tr>\n",
       "    <tr>\n",
       "      <th>4</th>\n",
       "      <td>01506195_Ф04</td>\n",
       "      <td>47.91.2</td>\n",
       "      <td>Торговля розничная\\, осуществляемая непосредст...</td>\n",
       "      <td>1</td>\n",
       "      <td>Интернет-бизнес</td>\n",
       "    </tr>\n",
       "  </tbody>\n",
       "</table>\n",
       "</div>"
      ],
      "text/plain": [
       "   id_client_rf Code_okved                                         Name_okved  \\\n",
       "0  00811390_Ф13    47.91.2  Торговля розничная\\, осуществляемая непосредст...   \n",
       "1  01516426_Ф10    47.91.2  Торговля розничная\\, осуществляемая непосредст...   \n",
       "2  01258497_Ф06    47.91.2  Торговля розничная\\, осуществляемая непосредст...   \n",
       "3  01583065_Ф12    47.91.2  Торговля розничная\\, осуществляемая непосредст...   \n",
       "4  01506195_Ф04    47.91.2  Торговля розничная\\, осуществляемая непосредст...   \n",
       "\n",
       "   Type_okved         Industry  \n",
       "0           1  Интернет-бизнес  \n",
       "1           1  Интернет-бизнес  \n",
       "2           1  Интернет-бизнес  \n",
       "3           1  Интернет-бизнес  \n",
       "4           1  Интернет-бизнес  "
      ]
     },
     "execution_count": 10,
     "metadata": {},
     "output_type": "execute_result"
    }
   ],
   "source": [
    "# 4. okved_industry_client\n",
    "okved_industry_client.head()"
   ]
  },
  {
   "cell_type": "code",
   "execution_count": 11,
   "id": "c0a469c1",
   "metadata": {},
   "outputs": [
    {
     "data": {
      "text/html": [
       "<div>\n",
       "<style scoped>\n",
       "    .dataframe tbody tr th:only-of-type {\n",
       "        vertical-align: middle;\n",
       "    }\n",
       "\n",
       "    .dataframe tbody tr th {\n",
       "        vertical-align: top;\n",
       "    }\n",
       "\n",
       "    .dataframe thead th {\n",
       "        text-align: right;\n",
       "    }\n",
       "</style>\n",
       "<table border=\"1\" class=\"dataframe\">\n",
       "  <thead>\n",
       "    <tr style=\"text-align: right;\">\n",
       "      <th></th>\n",
       "      <th>month_sale</th>\n",
       "      <th>day_sale</th>\n",
       "      <th>id_client_rf</th>\n",
       "      <th>sale_size</th>\n",
       "    </tr>\n",
       "  </thead>\n",
       "  <tbody>\n",
       "    <tr>\n",
       "      <th>0</th>\n",
       "      <td>2023-03-01</td>\n",
       "      <td>2023-03-16</td>\n",
       "      <td>00309682_Ф12</td>\n",
       "      <td>High</td>\n",
       "    </tr>\n",
       "    <tr>\n",
       "      <th>1</th>\n",
       "      <td>2023-03-01</td>\n",
       "      <td>2023-03-16</td>\n",
       "      <td>00309999_Ф12</td>\n",
       "      <td>High</td>\n",
       "    </tr>\n",
       "    <tr>\n",
       "      <th>2</th>\n",
       "      <td>2023-03-01</td>\n",
       "      <td>2023-03-07</td>\n",
       "      <td>00333129_Ф12</td>\n",
       "      <td>High</td>\n",
       "    </tr>\n",
       "    <tr>\n",
       "      <th>3</th>\n",
       "      <td>2023-03-01</td>\n",
       "      <td>2023-03-24</td>\n",
       "      <td>00333306_Ф12</td>\n",
       "      <td>High</td>\n",
       "    </tr>\n",
       "    <tr>\n",
       "      <th>4</th>\n",
       "      <td>2023-03-01</td>\n",
       "      <td>2023-03-07</td>\n",
       "      <td>00333741_Ф12</td>\n",
       "      <td>High</td>\n",
       "    </tr>\n",
       "  </tbody>\n",
       "</table>\n",
       "</div>"
      ],
      "text/plain": [
       "  month_sale   day_sale  id_client_rf  sale_size\n",
       "0 2023-03-01 2023-03-16  00309682_Ф12  High     \n",
       "1 2023-03-01 2023-03-16  00309999_Ф12  High     \n",
       "2 2023-03-01 2023-03-07  00333129_Ф12  High     \n",
       "3 2023-03-01 2023-03-24  00333306_Ф12  High     \n",
       "4 2023-03-01 2023-03-07  00333741_Ф12  High     "
      ]
     },
     "execution_count": 11,
     "metadata": {},
     "output_type": "execute_result"
    }
   ],
   "source": [
    "# 5. sales\n",
    "sales.head()\n",
    "# sales['sale_size'].unique()"
   ]
  },
  {
   "cell_type": "markdown",
   "id": "2152483c",
   "metadata": {},
   "source": [
    "**Анализ целостности**"
   ]
  },
  {
   "cell_type": "code",
   "execution_count": 12,
   "id": "502d16b6",
   "metadata": {},
   "outputs": [
    {
     "name": "stdout",
     "output_type": "stream",
     "text": [
      "address_client:\n",
      "id_client_rf                  0\n",
      "address                       0\n",
      "flag_provider                 0\n",
      "nflag_have_free_ports         0\n",
      "tech_name                748734\n",
      "latitude                 225696\n",
      "longitude                225696\n",
      "dtype: int64\n",
      "\n",
      "base_info_client:\n",
      "id_client_rf                  0\n",
      "name_rf                       0\n",
      "id_client                     0\n",
      "workersrange            2216478\n",
      "total_revenue                 0\n",
      "companywithsameinfo     1321582\n",
      "arbitrationcases        1781086\n",
      "datefirstreg              10800\n",
      "flag_site                     0\n",
      "flag_business_center          0\n",
      "flag_resident                 0\n",
      "date_actual_data        1751900\n",
      "flag_vk                       0\n",
      "dtype: int64\n",
      "\n",
      "final_list:\n",
      "id_client_rf    0\n",
      "dtype: int64\n",
      "\n",
      "okved_industry_client:\n",
      "id_client_rf      0\n",
      "Code_okved        0\n",
      "Name_okved        0\n",
      "Type_okved        0\n",
      "Industry        236\n",
      "dtype: int64\n",
      "\n",
      "sales:\n",
      "month_sale      0\n",
      "day_sale        0\n",
      "id_client_rf    0\n",
      "sale_size       0\n",
      "dtype: int64\n"
     ]
    }
   ],
   "source": [
    "# Анализ пропусков\n",
    "print('address_client:\\n', address_client.isna().sum(), sep='')\n",
    "print()\n",
    "print('base_info_client:\\n', base_info_client.isna().sum(), sep='')\n",
    "print()\n",
    "print('final_list:\\n', final_list.isna().sum(), sep='')\n",
    "print()\n",
    "print('okved_industry_client:\\n', okved_industry_client.isna().sum(), sep='')\n",
    "print()\n",
    "print('sales:\\n', sales.isna().sum(), sep='')"
   ]
  },
  {
   "cell_type": "code",
   "execution_count": 13,
   "id": "cc4fffe6",
   "metadata": {},
   "outputs": [
    {
     "name": "stdout",
     "output_type": "stream",
     "text": [
      "address_client:\n",
      " 0\n",
      "\n",
      "base_info_client:\n",
      " 0\n",
      "\n",
      "final_list:\n",
      " 0\n",
      "\n",
      "okved_industry_client:\n",
      " 0\n",
      "\n",
      "sales:\n",
      " 0\n"
     ]
    }
   ],
   "source": [
    "# Анализ явных дубликатов\n",
    "print('address_client:\\n', address_client.duplicated().sum())\n",
    "print()\n",
    "print('base_info_client:\\n', base_info_client.duplicated().sum())\n",
    "print()\n",
    "print('final_list:\\n', final_list.duplicated().sum())\n",
    "print()\n",
    "print('okved_industry_client:\\n', okved_industry_client.duplicated().sum())\n",
    "print()\n",
    "print('sales:\\n', sales.duplicated().sum())"
   ]
  },
  {
   "cell_type": "markdown",
   "id": "aaa5d9b4",
   "metadata": {},
   "source": [
    "**Преобразование признаков**"
   ]
  },
  {
   "cell_type": "markdown",
   "id": "eef875df",
   "metadata": {},
   "source": [
    "*Предобработка sales*"
   ]
  },
  {
   "cell_type": "code",
   "execution_count": 14,
   "id": "fd3d97ce",
   "metadata": {},
   "outputs": [
    {
     "data": {
      "text/plain": [
       "3    7286\n",
       "1    2390\n",
       "2     752\n",
       "Name: sale_size, dtype: int64"
      ]
     },
     "execution_count": 14,
     "metadata": {},
     "output_type": "execute_result"
    }
   ],
   "source": [
    "# Переводим sale_size в цифровой формат\n",
    "sales['sale_size'] = np.where(sales['sale_size']=='High     ', 3,\n",
    " np.where(sales['sale_size']=='Middle   ', 2,\n",
    " np.where(sales['sale_size']=='Low      ', 1, 0)))\n",
    "sales['sale_size'].value_counts()"
   ]
  },
  {
   "cell_type": "code",
   "execution_count": 15,
   "id": "c448979e",
   "metadata": {},
   "outputs": [],
   "source": [
    "# Создаем агрегированную по id_client_rf таблицу, чтобы убрать дубли по клиентам. Берем максимальный чек и первый месяц покупки.\n",
    "sales_clients = sales.groupby('id_client_rf')\\\n",
    "                     .agg(month_sale=('month_sale', 'min'),\n",
    "                          sale_size=('sale_size', 'max'),\n",
    "                          sale_count=('sale_size', 'count'))\\\n",
    "                     .sort_values('sale_count', ascending = False).reset_index()"
   ]
  },
  {
   "cell_type": "markdown",
   "id": "3d14a4b2",
   "metadata": {},
   "source": [
    "*Предобработка base_info_client*"
   ]
  },
  {
   "cell_type": "code",
   "execution_count": 16,
   "id": "822063de",
   "metadata": {},
   "outputs": [
    {
     "data": {
      "text/html": [
       "<div>\n",
       "<style scoped>\n",
       "    .dataframe tbody tr th:only-of-type {\n",
       "        vertical-align: middle;\n",
       "    }\n",
       "\n",
       "    .dataframe tbody tr th {\n",
       "        vertical-align: top;\n",
       "    }\n",
       "\n",
       "    .dataframe thead th {\n",
       "        text-align: right;\n",
       "    }\n",
       "</style>\n",
       "<table border=\"1\" class=\"dataframe\">\n",
       "  <thead>\n",
       "    <tr style=\"text-align: right;\">\n",
       "      <th></th>\n",
       "      <th>id_client</th>\n",
       "      <th>name_rf</th>\n",
       "      <th>id_client_rf</th>\n",
       "      <th>workersrange</th>\n",
       "      <th>total_revenue</th>\n",
       "      <th>companywithsameinfo</th>\n",
       "      <th>arbitrationcases</th>\n",
       "      <th>datefirstreg</th>\n",
       "      <th>flag_site</th>\n",
       "      <th>flag_business_center</th>\n",
       "      <th>flag_resident</th>\n",
       "      <th>date_actual_data</th>\n",
       "      <th>flag_vk</th>\n",
       "    </tr>\n",
       "  </thead>\n",
       "  <tbody>\n",
       "    <tr>\n",
       "      <th>0</th>\n",
       "      <td>1631354</td>\n",
       "      <td>Ф09</td>\n",
       "      <td>01631354_Ф09</td>\n",
       "      <td>NaN</td>\n",
       "      <td>0</td>\n",
       "      <td>1.0</td>\n",
       "      <td>NaN</td>\n",
       "      <td>2020-01-29</td>\n",
       "      <td>0</td>\n",
       "      <td>0</td>\n",
       "      <td>0</td>\n",
       "      <td>NaT</td>\n",
       "      <td>0</td>\n",
       "    </tr>\n",
       "  </tbody>\n",
       "</table>\n",
       "</div>"
      ],
      "text/plain": [
       "   id_client name_rf  id_client_rf  workersrange  total_revenue  \\\n",
       "0    1631354     Ф09  01631354_Ф09           NaN              0   \n",
       "\n",
       "   companywithsameinfo  arbitrationcases datefirstreg  flag_site  \\\n",
       "0                  1.0               NaN   2020-01-29          0   \n",
       "\n",
       "   flag_business_center  flag_resident date_actual_data  flag_vk  \n",
       "0                     0              0              NaT        0  "
      ]
     },
     "execution_count": 16,
     "metadata": {},
     "output_type": "execute_result"
    }
   ],
   "source": [
    "# Переводим workersrange в числовой формат по правой цифре. \n",
    "base_info_client['workersrange'] = base_info_client['workersrange'].str.replace('(.* \\.\\. )|(.*\\.\\.)','', regex=True).dropna().astype(int)\n",
    "\n",
    "# Меняем заголовки местами\n",
    "base_info_client.rename(columns={'id_client_rf': 'id_client', 'id_client': 'id_client_rf'}, inplace=True)\n",
    "base_info_client.head(1)"
   ]
  },
  {
   "cell_type": "code",
   "execution_count": 17,
   "id": "2c9cac15",
   "metadata": {},
   "outputs": [],
   "source": [
    "# Создаем таблицу по клиентам с кол-вом дней с даты регистрации компании до начала месяца первой покупки\n",
    "df_delta_date = sales_clients.merge(base_info_client, how='left', on='id_client_rf' )  \n",
    "df_delta_date['delta_date'] = (df_delta_date['month_sale'] - df_delta_date['datefirstreg']).astype('int64')/ 10**9"
   ]
  },
  {
   "cell_type": "code",
   "execution_count": 18,
   "id": "ee107081",
   "metadata": {},
   "outputs": [
    {
     "name": "stdout",
     "output_type": "stream",
     "text": [
      "<class 'pandas.core.frame.DataFrame'>\n",
      "Int64Index: 9316 entries, 0 to 9315\n",
      "Data columns (total 2 columns):\n",
      " #   Column        Non-Null Count  Dtype  \n",
      "---  ------        --------------  -----  \n",
      " 0   delta_date    9316 non-null   float64\n",
      " 1   id_client_rf  9316 non-null   object \n",
      "dtypes: float64(1), object(1)\n",
      "memory usage: 218.3+ KB\n"
     ]
    }
   ],
   "source": [
    "df_delta_date = df_delta_date[['delta_date', 'id_client_rf']]\n",
    "df_delta_date.info()"
   ]
  },
  {
   "cell_type": "code",
   "execution_count": 19,
   "id": "47624148",
   "metadata": {},
   "outputs": [
    {
     "data": {
      "text/plain": [
       "3    1842\n",
       "4    1578\n",
       "2    1566\n",
       "6    1468\n",
       "5    1454\n",
       "7    1348\n",
       "1    1172\n",
       "Name: month_sale, dtype: int64"
      ]
     },
     "execution_count": 19,
     "metadata": {},
     "output_type": "execute_result"
    }
   ],
   "source": [
    "#преобразуем month_sale\n",
    "month_sale_mapping = {'2023-01-01': 1, '2023-02-01': 2, '2023-03-01': 3,\n",
    "                     '2023-04-01': 4, '2023-05-01': 5, '2023-06-01': 6, '2023-07-01': 7}\n",
    "sales['month_sale'] = sales['month_sale'].replace(month_sale_mapping)\n",
    "sales['month_sale'].value_counts()"
   ]
  },
  {
   "cell_type": "code",
   "execution_count": 20,
   "id": "106fe516",
   "metadata": {},
   "outputs": [],
   "source": [
    "#преобразование признака workersrange\n",
    "base_info_client['workersrange'] = base_info_client['workersrange'].fillna(value=0)\n",
    "def get_workersrange_is_known(workersrange):\n",
    "    if workersrange == 0:\n",
    "        x = 0\n",
    "    else:\n",
    "        x = 1\n",
    "    return x\n",
    "def get_workersrange_is_less_then_5(workersrange):\n",
    "    if workersrange == 5:\n",
    "        x = 1\n",
    "    else:\n",
    "        x = 0\n",
    "    return x\n",
    "def get_workersrange_is_more_then_5(workersrange):\n",
    "    if workersrange > 5:\n",
    "        x = 1\n",
    "    else:\n",
    "        x = 0\n",
    "    return x\n",
    "base_info_client['workersrange_is_known'] = base_info_client['workersrange'].apply(get_workersrange_is_known)\n",
    "base_info_client['workersrange_is_less_then_5'] = base_info_client['workersrange'].apply(get_workersrange_is_less_then_5)\n",
    "base_info_client['workersrange_is_more_then_5'] = base_info_client['workersrange'].apply(get_workersrange_is_more_then_5)"
   ]
  },
  {
   "cell_type": "code",
   "execution_count": 21,
   "id": "1b93c7c9",
   "metadata": {},
   "outputs": [
    {
     "data": {
      "text/plain": [
       "0    2216478\n",
       "1       1850\n",
       "Name: workersrange_is_known, dtype: int64"
      ]
     },
     "execution_count": 21,
     "metadata": {},
     "output_type": "execute_result"
    }
   ],
   "source": [
    "base_info_client['workersrange_is_known'].value_counts()"
   ]
  },
  {
   "cell_type": "code",
   "execution_count": 22,
   "id": "331eed79",
   "metadata": {},
   "outputs": [
    {
     "data": {
      "text/plain": [
       "0    2217008\n",
       "1       1320\n",
       "Name: workersrange_is_less_then_5, dtype: int64"
      ]
     },
     "execution_count": 22,
     "metadata": {},
     "output_type": "execute_result"
    }
   ],
   "source": [
    "base_info_client['workersrange_is_less_then_5'].value_counts()"
   ]
  },
  {
   "cell_type": "code",
   "execution_count": 23,
   "id": "750f1182",
   "metadata": {},
   "outputs": [
    {
     "data": {
      "text/plain": [
       "0    2217798\n",
       "1        530\n",
       "Name: workersrange_is_more_then_5, dtype: int64"
      ]
     },
     "execution_count": 23,
     "metadata": {},
     "output_type": "execute_result"
    }
   ],
   "source": [
    "base_info_client['workersrange_is_more_then_5'].value_counts()"
   ]
  },
  {
   "cell_type": "code",
   "execution_count": 24,
   "id": "53cd339d",
   "metadata": {},
   "outputs": [
    {
     "data": {
      "text/plain": [
       "0.0      1321586\n",
       "1.0       597766\n",
       "2.0       147444\n",
       "3.0        58514\n",
       "4.0        30802\n",
       "          ...   \n",
       "116.0          2\n",
       "161.0          2\n",
       "156.0          2\n",
       "83.0           2\n",
       "213.0          2\n",
       "Name: companywithsameinfo, Length: 135, dtype: int64"
      ]
     },
     "execution_count": 24,
     "metadata": {},
     "output_type": "execute_result"
    }
   ],
   "source": [
    "#заполнение пропусков companywithsameinfo\n",
    "base_info_client['companywithsameinfo'] = base_info_client['companywithsameinfo'].fillna(value=0)\n",
    "base_info_client['companywithsameinfo'].value_counts()"
   ]
  },
  {
   "cell_type": "code",
   "execution_count": 25,
   "id": "070a7896",
   "metadata": {},
   "outputs": [
    {
     "data": {
      "text/plain": [
       "0.0       1781196\n",
       "1.0        124988\n",
       "2.0         69408\n",
       "3.0         45444\n",
       "4.0         31344\n",
       "           ...   \n",
       "1016.0          2\n",
       "359.0           2\n",
       "3449.0          2\n",
       "2132.0          2\n",
       "864.0           2\n",
       "Name: arbitrationcases, Length: 575, dtype: int64"
      ]
     },
     "execution_count": 25,
     "metadata": {},
     "output_type": "execute_result"
    }
   ],
   "source": [
    "#заполнение пропусков arbitrationcases\n",
    "base_info_client['arbitrationcases'] = base_info_client['arbitrationcases'].fillna(value=0)\n",
    "base_info_client['arbitrationcases'].value_counts()"
   ]
  },
  {
   "cell_type": "code",
   "execution_count": 26,
   "id": "a4a92535",
   "metadata": {},
   "outputs": [
    {
     "data": {
      "text/plain": [
       "2021-06-25    3728\n",
       "2011-11-16    3676\n",
       "2021-06-18    3180\n",
       "2011-09-27    2934\n",
       "2011-09-01    2668\n",
       "              ... \n",
       "2004-08-21       2\n",
       "1965-01-18       2\n",
       "1989-09-25       2\n",
       "1979-03-16       2\n",
       "2021-08-08       2\n",
       "Name: date_actual_data, Length: 12969, dtype: int64"
      ]
     },
     "execution_count": 26,
     "metadata": {},
     "output_type": "execute_result"
    }
   ],
   "source": [
    "#заполнение пропусков date_actual_data\n",
    "base_info_client['date_actual_data'] = base_info_client['date_actual_data'].fillna(value=base_info_client['datefirstreg'])\n",
    "base_info_client['date_actual_data'].value_counts()"
   ]
  },
  {
   "cell_type": "code",
   "execution_count": 27,
   "id": "27a35475",
   "metadata": {},
   "outputs": [
    {
     "data": {
      "text/plain": [
       "id_client                          0\n",
       "name_rf                            0\n",
       "id_client_rf                       0\n",
       "workersrange                       0\n",
       "total_revenue                      0\n",
       "companywithsameinfo                0\n",
       "arbitrationcases                   0\n",
       "datefirstreg                   10800\n",
       "flag_site                          0\n",
       "flag_business_center               0\n",
       "flag_resident                      0\n",
       "date_actual_data                3232\n",
       "flag_vk                            0\n",
       "workersrange_is_known              0\n",
       "workersrange_is_less_then_5        0\n",
       "workersrange_is_more_then_5        0\n",
       "dtype: int64"
      ]
     },
     "execution_count": 27,
     "metadata": {},
     "output_type": "execute_result"
    }
   ],
   "source": [
    "base_info_client.isna().sum()"
   ]
  },
  {
   "cell_type": "code",
   "execution_count": 28,
   "id": "bb9dda4f",
   "metadata": {},
   "outputs": [],
   "source": [
    "#удаляем остатки строк с пустыми значениями\n",
    "base_info_client = base_info_client.dropna()"
   ]
  },
  {
   "cell_type": "code",
   "execution_count": 29,
   "id": "2a43f4a6",
   "metadata": {},
   "outputs": [
    {
     "data": {
      "text/plain": [
       "2207528"
      ]
     },
     "execution_count": 29,
     "metadata": {},
     "output_type": "execute_result"
    }
   ],
   "source": [
    "base_info_client['id_client_rf'].nunique()"
   ]
  },
  {
   "cell_type": "code",
   "execution_count": 30,
   "id": "112415af",
   "metadata": {},
   "outputs": [
    {
     "data": {
      "text/plain": [
       "2207528"
      ]
     },
     "execution_count": 30,
     "metadata": {},
     "output_type": "execute_result"
    }
   ],
   "source": [
    "base_info_client['id_client_rf'].count()"
   ]
  },
  {
   "cell_type": "markdown",
   "id": "97d20a94",
   "metadata": {},
   "source": [
    "*Предобработка address_client*"
   ]
  },
  {
   "cell_type": "code",
   "execution_count": 31,
   "id": "782be94c",
   "metadata": {},
   "outputs": [
    {
     "data": {
      "text/plain": [
       "unknown                     748734\n",
       "xDSL                        463692\n",
       "xDSL\\, ETTH                  92202\n",
       "ETTH\\, xDSL                  91206\n",
       "ETTH                         50836\n",
       "PON                           9822\n",
       "FTTx\\, xDSL                   2874\n",
       "PON\\, xDSL                    2744\n",
       "PON\\, xDSL\\, ETTH             2574\n",
       "xDSL\\, FTTx                   2280\n",
       "xDSL\\, PON                    2220\n",
       "ETTH\\, xDSL\\, PON             1950\n",
       "ETTH\\, PON                    1812\n",
       "FTTx\\, xDSL\\, ETTH            1792\n",
       "xDSL\\, PON\\, ETTH             1500\n",
       "xDSL\\, ETTH\\, PON             1498\n",
       "ETTH\\, FTTx\\, xDSL            1292\n",
       "ETTH\\, PON\\, xDSL             1214\n",
       "PON\\, ETTH                    1000\n",
       "FTTx\\, ETTH\\, xDSL             808\n",
       "ETTH\\, xDSL\\, FTTx             778\n",
       "PON\\, ETTH\\, xDSL              742\n",
       "xDSL\\, ETTH\\, FTTx             704\n",
       "xDSL\\, FTTx\\, ETTH             562\n",
       "FTTx                           518\n",
       "БШПД                            84\n",
       "ETTH\\, PON\\, xDSL\\, FTTx        70\n",
       "xDSL\\, PON\\, FTTx               66\n",
       "PON\\, FTTx\\, xDSL\\, ETTH        20\n",
       "xDSL\\, БШПД\\, ETTH              18\n",
       "БШПД\\, ETTH\\, xDSL              16\n",
       "ETTH\\, FTTx                     10\n",
       "PON\\, FTTx\\, ETTH\\, xDSL         8\n",
       "FTTx\\, ETTH                      8\n",
       "xDSL\\, Оптика                    8\n",
       "xDSL\\, ETTH\\, PON\\, FTTx         2\n",
       "ETTH\\, БШПД\\, xDSL               2\n",
       "FTTx\\, xDSL\\, PON\\, ETTH         2\n",
       "FTTx\\, ETTH\\, PON                2\n",
       "FTTx\\, PON\\, xDSL                2\n",
       "FTTx\\, ETTH\\, PON\\, xDSL         2\n",
       "Name: tech_name, dtype: int64"
      ]
     },
     "execution_count": 31,
     "metadata": {},
     "output_type": "execute_result"
    }
   ],
   "source": [
    "#преобразование tech_name\n",
    "address_client['tech_name'] = address_client['tech_name'].fillna(value='unknown')\n",
    "address_client['tech_name'].value_counts()"
   ]
  },
  {
   "cell_type": "code",
   "execution_count": 32,
   "id": "4a145bfb",
   "metadata": {},
   "outputs": [
    {
     "data": {
      "text/html": [
       "<div>\n",
       "<style scoped>\n",
       "    .dataframe tbody tr th:only-of-type {\n",
       "        vertical-align: middle;\n",
       "    }\n",
       "\n",
       "    .dataframe tbody tr th {\n",
       "        vertical-align: top;\n",
       "    }\n",
       "\n",
       "    .dataframe thead th {\n",
       "        text-align: right;\n",
       "    }\n",
       "</style>\n",
       "<table border=\"1\" class=\"dataframe\">\n",
       "  <thead>\n",
       "    <tr style=\"text-align: right;\">\n",
       "      <th></th>\n",
       "      <th>id_client_rf</th>\n",
       "      <th>address</th>\n",
       "      <th>flag_provider</th>\n",
       "      <th>nflag_have_free_ports</th>\n",
       "      <th>tech_name</th>\n",
       "      <th>latitude</th>\n",
       "      <th>longitude</th>\n",
       "      <th>ETTH</th>\n",
       "      <th>FTTx</th>\n",
       "      <th>PON</th>\n",
       "      <th>nan</th>\n",
       "      <th>unknown</th>\n",
       "      <th>xDSL</th>\n",
       "      <th>БШПД</th>\n",
       "      <th>Оптика</th>\n",
       "    </tr>\n",
       "  </thead>\n",
       "  <tbody>\n",
       "    <tr>\n",
       "      <th>0</th>\n",
       "      <td>00840127_Ф13</td>\n",
       "      <td>уфа г.\\, лесотехникума улица\\, 49/1</td>\n",
       "      <td>1</td>\n",
       "      <td>0</td>\n",
       "      <td>unknown</td>\n",
       "      <td>NaN</td>\n",
       "      <td>NaN</td>\n",
       "      <td>0</td>\n",
       "      <td>0</td>\n",
       "      <td>0</td>\n",
       "      <td>1</td>\n",
       "      <td>1</td>\n",
       "      <td>0</td>\n",
       "      <td>0</td>\n",
       "      <td>0</td>\n",
       "    </tr>\n",
       "    <tr>\n",
       "      <th>1</th>\n",
       "      <td>00840181_Ф13</td>\n",
       "      <td>уфа г.\\, лесотехникума улица\\, 49/1</td>\n",
       "      <td>1</td>\n",
       "      <td>0</td>\n",
       "      <td>unknown</td>\n",
       "      <td>NaN</td>\n",
       "      <td>NaN</td>\n",
       "      <td>0</td>\n",
       "      <td>0</td>\n",
       "      <td>0</td>\n",
       "      <td>1</td>\n",
       "      <td>1</td>\n",
       "      <td>0</td>\n",
       "      <td>0</td>\n",
       "      <td>0</td>\n",
       "    </tr>\n",
       "    <tr>\n",
       "      <th>2</th>\n",
       "      <td>00839528_Ф13</td>\n",
       "      <td>уфа г.\\, лесотехникума улица\\, 49/1</td>\n",
       "      <td>1</td>\n",
       "      <td>0</td>\n",
       "      <td>unknown</td>\n",
       "      <td>NaN</td>\n",
       "      <td>NaN</td>\n",
       "      <td>0</td>\n",
       "      <td>0</td>\n",
       "      <td>0</td>\n",
       "      <td>1</td>\n",
       "      <td>1</td>\n",
       "      <td>0</td>\n",
       "      <td>0</td>\n",
       "      <td>0</td>\n",
       "    </tr>\n",
       "    <tr>\n",
       "      <th>3</th>\n",
       "      <td>00839607_Ф13</td>\n",
       "      <td>уфа г.\\, лесотехникума улица\\, 49/1</td>\n",
       "      <td>1</td>\n",
       "      <td>0</td>\n",
       "      <td>unknown</td>\n",
       "      <td>NaN</td>\n",
       "      <td>NaN</td>\n",
       "      <td>0</td>\n",
       "      <td>0</td>\n",
       "      <td>0</td>\n",
       "      <td>1</td>\n",
       "      <td>1</td>\n",
       "      <td>0</td>\n",
       "      <td>0</td>\n",
       "      <td>0</td>\n",
       "    </tr>\n",
       "    <tr>\n",
       "      <th>4</th>\n",
       "      <td>00075449_Ф13</td>\n",
       "      <td>уфа г.\\, лесотехникума улица\\, 49/1</td>\n",
       "      <td>1</td>\n",
       "      <td>0</td>\n",
       "      <td>unknown</td>\n",
       "      <td>NaN</td>\n",
       "      <td>NaN</td>\n",
       "      <td>0</td>\n",
       "      <td>0</td>\n",
       "      <td>0</td>\n",
       "      <td>1</td>\n",
       "      <td>1</td>\n",
       "      <td>0</td>\n",
       "      <td>0</td>\n",
       "      <td>0</td>\n",
       "    </tr>\n",
       "  </tbody>\n",
       "</table>\n",
       "</div>"
      ],
      "text/plain": [
       "   id_client_rf                              address  flag_provider  \\\n",
       "0  00840127_Ф13  уфа г.\\, лесотехникума улица\\, 49/1              1   \n",
       "1  00840181_Ф13  уфа г.\\, лесотехникума улица\\, 49/1              1   \n",
       "2  00839528_Ф13  уфа г.\\, лесотехникума улица\\, 49/1              1   \n",
       "3  00839607_Ф13  уфа г.\\, лесотехникума улица\\, 49/1              1   \n",
       "4  00075449_Ф13  уфа г.\\, лесотехникума улица\\, 49/1              1   \n",
       "\n",
       "   nflag_have_free_ports tech_name  latitude  longitude  ETTH  FTTx  PON  nan  \\\n",
       "0                      0   unknown       NaN        NaN     0     0    0    1   \n",
       "1                      0   unknown       NaN        NaN     0     0    0    1   \n",
       "2                      0   unknown       NaN        NaN     0     0    0    1   \n",
       "3                      0   unknown       NaN        NaN     0     0    0    1   \n",
       "4                      0   unknown       NaN        NaN     0     0    0    1   \n",
       "\n",
       "   unknown  xDSL  БШПД  Оптика  \n",
       "0        1     0     0       0  \n",
       "1        1     0     0       0  \n",
       "2        1     0     0       0  \n",
       "3        1     0     0       0  \n",
       "4        1     0     0       0  "
      ]
     },
     "execution_count": 32,
     "metadata": {},
     "output_type": "execute_result"
    }
   ],
   "source": [
    "# Раскладываем технологии из столбца tech_name на отдельные столбцы\n",
    "tech_dummies = pd.get_dummies(address_client['tech_name'].str.split(', ', expand=True), dummy_na=True) \n",
    "tech_dummies.columns = tech_dummies.columns.map(lambda x: x.replace('\\\\', '').split('_')[-1]) \n",
    "tech_dummies = tech_dummies.groupby(lambda x: x, axis=1).max() \n",
    "address_client = pd.concat([address_client, tech_dummies], axis=1) \n",
    "address_client.head()"
   ]
  },
  {
   "cell_type": "code",
   "execution_count": 33,
   "id": "f2518bea",
   "metadata": {},
   "outputs": [
    {
     "name": "stdout",
     "output_type": "stream",
     "text": [
      "<class 'pandas.core.frame.DataFrame'>\n",
      "RangeIndex: 587676 entries, 0 to 587675\n",
      "Data columns (total 12 columns):\n",
      " #   Column                 Non-Null Count   Dtype  \n",
      "---  ------                 --------------   -----  \n",
      " 0   id_client_rf           587676 non-null  object \n",
      " 1   flag_provider          587676 non-null  int64  \n",
      " 2   nflag_have_free_ports  587676 non-null  int64  \n",
      " 3   latitude               544036 non-null  float64\n",
      " 4   longitude              544036 non-null  float64\n",
      " 5   ETTH                   587676 non-null  uint8  \n",
      " 6   FTTx                   587676 non-null  uint8  \n",
      " 7   PON                    587676 non-null  uint8  \n",
      " 8   unknown                587676 non-null  uint8  \n",
      " 9   xDSL                   587676 non-null  uint8  \n",
      " 10  БШПД                   587676 non-null  uint8  \n",
      " 11  Оптика                 587676 non-null  uint8  \n",
      "dtypes: float64(2), int64(2), object(1), uint8(7)\n",
      "memory usage: 26.3+ MB\n"
     ]
    }
   ],
   "source": [
    "address = address_client.groupby('id_client_rf')\\\n",
    "                     .agg(flag_provider=('flag_provider', 'max'),\n",
    "                          nflag_have_free_ports =('nflag_have_free_ports', 'max'),\n",
    "                          latitude=('latitude', 'max'),\n",
    "                          longitude =('longitude', 'max'),\n",
    "                          ETTH=('ETTH', 'max'),                         \n",
    "                          FTTx =('FTTx', 'max'),\n",
    "                          PON=('PON', 'max'),                         \n",
    "                          unknown =('unknown', 'max'),\n",
    "                          xDSL=('xDSL', 'max'),   \n",
    "                          БШПД =('unknown', 'max'),\n",
    "                          Оптика=('xDSL', 'max'))\\\n",
    "                     .reset_index()\n",
    "address.info()"
   ]
  },
  {
   "cell_type": "code",
   "execution_count": 34,
   "id": "65e61f85",
   "metadata": {},
   "outputs": [
    {
     "data": {
      "text/plain": [
       "587676"
      ]
     },
     "execution_count": 34,
     "metadata": {},
     "output_type": "execute_result"
    }
   ],
   "source": [
    "address['id_client_rf'].nunique()"
   ]
  },
  {
   "cell_type": "markdown",
   "id": "bbd24ca8",
   "metadata": {},
   "source": [
    "*Предобработка okved_industry_client*"
   ]
  },
  {
   "cell_type": "code",
   "execution_count": 35,
   "id": "c5c26b97",
   "metadata": {},
   "outputs": [
    {
     "name": "stderr",
     "output_type": "stream",
     "text": [
      "C:\\Users\\Anna\\AppData\\Local\\Temp\\ipykernel_10168\\3958125713.py:5: SettingWithCopyWarning: \n",
      "A value is trying to be set on a copy of a slice from a DataFrame.\n",
      "Try using .loc[row_indexer,col_indexer] = value instead\n",
      "\n",
      "See the caveats in the documentation: https://pandas.pydata.org/pandas-docs/stable/user_guide/indexing.html#returning-a-view-versus-a-copy\n",
      "  okved.loc[:,'Code_okved'] = okved['Code_okved'].str[0:2]\n"
     ]
    },
    {
     "data": {
      "text/plain": [
       "47    482266\n",
       "46    201970\n",
       "49    162086\n",
       "68    155640\n",
       "43    101206\n",
       "       ...  \n",
       "97       102\n",
       "39        74\n",
       "05        34\n",
       "98        28\n",
       "99        20\n",
       "Name: Code_okved, Length: 88, dtype: int64"
      ]
     },
     "execution_count": 35,
     "metadata": {},
     "output_type": "execute_result"
    }
   ],
   "source": [
    "# Оставляем только основную деятельность\n",
    "okved = okved_industry_client[okved_industry_client['Type_okved'] == 1]\n",
    "\n",
    "# Оставляем только первые 2 цифры Code_okved\n",
    "okved.loc[:,'Code_okved'] = okved['Code_okved'].str[0:2]\n",
    "okved['Code_okved'].value_counts()"
   ]
  },
  {
   "cell_type": "markdown",
   "id": "cb144eb3",
   "metadata": {},
   "source": [
    "**Анализ распределения**"
   ]
  },
  {
   "cell_type": "code",
   "execution_count": 36,
   "id": "acd91ef0",
   "metadata": {},
   "outputs": [
    {
     "data": {
      "image/png": "[encoded data removed]",
      "text/plain": [
       "<Figure size 1500x400 with 1 Axes>"
      ]
     },
     "metadata": {},
     "output_type": "display_data"
    }
   ],
   "source": [
    "#убираем выбросы по total_revenue\n",
    "base_info_client['total_revenue'].hist(figsize=(15, 4));"
   ]
  },
  {
   "cell_type": "code",
   "execution_count": 37,
   "id": "f6462e8b",
   "metadata": {},
   "outputs": [
    {
     "data": {
      "image/png": "[encoded data removed]",
      "text/plain": [
       "<Figure size 1500x400 with 1 Axes>"
      ]
     },
     "metadata": {},
     "output_type": "display_data"
    }
   ],
   "source": [
    "plt.figure(figsize=(15, 4))\n",
    "base_info_client.boxplot('total_revenue')\n",
    "plt.show()"
   ]
  },
  {
   "cell_type": "code",
   "execution_count": 38,
   "id": "03927c59",
   "metadata": {},
   "outputs": [
    {
     "data": {
      "text/plain": [
       "array([ 12.,  44., 244.])"
      ]
     },
     "execution_count": 38,
     "metadata": {},
     "output_type": "execute_result"
    }
   ],
   "source": [
    "np.percentile(base_info_client['total_revenue'], [90, 95, 99])"
   ]
  },
  {
   "cell_type": "code",
   "execution_count": 39,
   "id": "865e4547",
   "metadata": {},
   "outputs": [],
   "source": [
    "#удалим по 99-му перцентилю\n",
    "base_info_client = base_info_client[base_info_client['total_revenue'] < 242]"
   ]
  },
  {
   "cell_type": "code",
   "execution_count": 40,
   "id": "d244d4c2",
   "metadata": {},
   "outputs": [
    {
     "data": {
      "image/png": "[encoded data removed]",
      "text/plain": [
       "<Figure size 1500x400 with 1 Axes>"
      ]
     },
     "metadata": {},
     "output_type": "display_data"
    }
   ],
   "source": [
    "plt.figure(figsize=(15, 4))\n",
    "base_info_client.boxplot('total_revenue')\n",
    "plt.show()"
   ]
  },
  {
   "cell_type": "code",
   "execution_count": 41,
   "id": "de529003",
   "metadata": {},
   "outputs": [
    {
     "data": {
      "text/plain": [
       "22"
      ]
     },
     "execution_count": 41,
     "metadata": {},
     "output_type": "execute_result"
    }
   ],
   "source": [
    "# кол-во строк с total_revenue < 0\n",
    "base_info_client[base_info_client['total_revenue'] < 0]['total_revenue'].count()"
   ]
  },
  {
   "cell_type": "code",
   "execution_count": 42,
   "id": "b4ea9cc7",
   "metadata": {},
   "outputs": [],
   "source": [
    "#земеним нулем то, что меньше нуля\n",
    "base_info_client.loc[base_info_client['total_revenue'] < 0, ['total_revenue']] = 0"
   ]
  },
  {
   "cell_type": "code",
   "execution_count": 43,
   "id": "46db1227",
   "metadata": {},
   "outputs": [
    {
     "data": {
      "text/plain": [
       "id_client                      2185258\n",
       "name_rf                        2185258\n",
       "id_client_rf                   2185258\n",
       "workersrange                   2185258\n",
       "total_revenue                  2185258\n",
       "companywithsameinfo            2185258\n",
       "arbitrationcases               2185258\n",
       "datefirstreg                   2185258\n",
       "flag_site                      2185258\n",
       "flag_business_center           2185258\n",
       "flag_resident                  2185258\n",
       "date_actual_data               2185258\n",
       "flag_vk                        2185258\n",
       "workersrange_is_known          2185258\n",
       "workersrange_is_less_then_5    2185258\n",
       "workersrange_is_more_then_5    2185258\n",
       "dtype: int64"
      ]
     },
     "execution_count": 43,
     "metadata": {},
     "output_type": "execute_result"
    }
   ],
   "source": [
    "base_info_client.count()"
   ]
  },
  {
   "cell_type": "code",
   "execution_count": 44,
   "id": "6094cfa9",
   "metadata": {},
   "outputs": [
    {
     "data": {
      "text/plain": [
       "2185258"
      ]
     },
     "execution_count": 44,
     "metadata": {},
     "output_type": "execute_result"
    }
   ],
   "source": [
    "base_info_client['id_client_rf'].nunique()"
   ]
  },
  {
   "cell_type": "markdown",
   "id": "6a648c50",
   "metadata": {},
   "source": [
    "**Финальный датасет**"
   ]
  },
  {
   "cell_type": "code",
   "execution_count": 45,
   "id": "f0e84a38",
   "metadata": {},
   "outputs": [
    {
     "name": "stdout",
     "output_type": "stream",
     "text": [
      "<class 'pandas.core.frame.DataFrame'>\n",
      "Int64Index: 9316 entries, 0 to 9315\n",
      "Data columns (total 36 columns):\n",
      " #   Column                       Non-Null Count  Dtype         \n",
      "---  ------                       --------------  -----         \n",
      " 0   id_client_rf                 9316 non-null   object        \n",
      " 1   month_sale                   9316 non-null   datetime64[ns]\n",
      " 2   sale_size                    9316 non-null   int32         \n",
      " 3   sale_count                   9316 non-null   int64         \n",
      " 4   Code_okved                   9296 non-null   object        \n",
      " 5   Name_okved                   9296 non-null   object        \n",
      " 6   Type_okved                   9296 non-null   float64       \n",
      " 7   Industry                     9296 non-null   object        \n",
      " 8   id_client                    8906 non-null   float64       \n",
      " 9   name_rf                      8906 non-null   object        \n",
      " 10  workersrange                 8906 non-null   float64       \n",
      " 11  total_revenue                8906 non-null   float64       \n",
      " 12  companywithsameinfo          8906 non-null   float64       \n",
      " 13  arbitrationcases             8906 non-null   float64       \n",
      " 14  datefirstreg                 8906 non-null   datetime64[ns]\n",
      " 15  flag_site                    8906 non-null   float64       \n",
      " 16  flag_business_center         8906 non-null   float64       \n",
      " 17  flag_resident                8906 non-null   float64       \n",
      " 18  date_actual_data             8906 non-null   datetime64[ns]\n",
      " 19  flag_vk                      8906 non-null   float64       \n",
      " 20  workersrange_is_known        8906 non-null   float64       \n",
      " 21  workersrange_is_less_then_5  8906 non-null   float64       \n",
      " 22  workersrange_is_more_then_5  8906 non-null   float64       \n",
      " 23  flag_provider                8108 non-null   float64       \n",
      " 24  nflag_have_free_ports        8108 non-null   float64       \n",
      " 25  latitude                     7948 non-null   float64       \n",
      " 26  longitude                    7948 non-null   float64       \n",
      " 27  ETTH                         8108 non-null   float64       \n",
      " 28  FTTx                         8108 non-null   float64       \n",
      " 29  PON                          8108 non-null   float64       \n",
      " 30  unknown                      8108 non-null   float64       \n",
      " 31  xDSL                         8108 non-null   float64       \n",
      " 32  БШПД                         8108 non-null   float64       \n",
      " 33  Оптика                       8108 non-null   float64       \n",
      " 34  delta_date                   9316 non-null   float64       \n",
      " 35  flag_sales                   9316 non-null   int64         \n",
      "dtypes: datetime64[ns](3), float64(25), int32(1), int64(2), object(5)\n",
      "memory usage: 2.6+ MB\n"
     ]
    }
   ],
   "source": [
    "# sales_clients\n",
    "final_data_sales = sales_clients.merge(okved, on='id_client_rf', how='left')\\\n",
    "                  .merge(base_info_client, on='id_client_rf', how='left')\\\n",
    "                  .merge(address, on='id_client_rf', how='left')\\\n",
    "                  .merge(df_delta_date, on='id_client_rf', how='left')\n",
    "\n",
    "# добамляем столбец с флагом покупки\n",
    "final_data_sales['flag_sales'] = 1\n",
    "\n",
    "final_data_sales.info()"
   ]
  },
  {
   "cell_type": "code",
   "execution_count": 46,
   "id": "35992c2a",
   "metadata": {},
   "outputs": [],
   "source": [
    "#добавляем столбец с количеством дней с момента регистрации\n",
    "base_info_client['delta_date'] = base_info_client['datefirstreg']\\\n",
    "                                 .map(lambda x: (datetime.now() - x)/np.timedelta64(1, 'D')).astype(int)"
   ]
  },
  {
   "cell_type": "code",
   "execution_count": 47,
   "id": "8db30be7",
   "metadata": {},
   "outputs": [
    {
     "data": {
      "text/plain": [
       "id_client_rf                   1950832\n",
       "Code_okved                     1873054\n",
       "Name_okved                     1873054\n",
       "Type_okved                     1873054\n",
       "Industry                       1872984\n",
       "id_client                      1932954\n",
       "name_rf                        1932954\n",
       "workersrange                   1932954\n",
       "total_revenue                  1932954\n",
       "companywithsameinfo            1932954\n",
       "arbitrationcases               1932954\n",
       "datefirstreg                   1932954\n",
       "flag_site                      1932954\n",
       "flag_business_center           1932954\n",
       "flag_resident                  1932954\n",
       "date_actual_data               1932954\n",
       "flag_vk                        1932954\n",
       "workersrange_is_known          1932954\n",
       "workersrange_is_less_then_5    1932954\n",
       "workersrange_is_more_then_5    1932954\n",
       "delta_date                     1932954\n",
       "flag_provider                   379598\n",
       "nflag_have_free_ports           379598\n",
       "latitude                        338226\n",
       "longitude                       338226\n",
       "ETTH                            379598\n",
       "FTTx                            379598\n",
       "PON                             379598\n",
       "unknown                         379598\n",
       "xDSL                            379598\n",
       "БШПД                            379598\n",
       "Оптика                          379598\n",
       "flag_sales                     1950832\n",
       "dtype: int64"
      ]
     },
     "execution_count": 47,
     "metadata": {},
     "output_type": "execute_result"
    }
   ],
   "source": [
    "# final_list\n",
    "final_data_predict = final_list.merge(okved, how='left', on='id_client_rf' )\\\n",
    "                  .merge(base_info_client, how='left', on='id_client_rf')\\\n",
    "                  .merge(address, how='left', on='id_client_rf')\n",
    "\n",
    "# добамляем столбец с флагом покупки\n",
    "final_data_predict['flag_sales'] = 0\n",
    "\n",
    "final_data_predict.count()                  "
   ]
  },
  {
   "cell_type": "code",
   "execution_count": 48,
   "id": "621349ee",
   "metadata": {},
   "outputs": [],
   "source": [
    "concat_data = final_data_predict[final_data_predict['Оптика'].isna() == False]"
   ]
  },
  {
   "cell_type": "code",
   "execution_count": 49,
   "id": "f01b99fc",
   "metadata": {},
   "outputs": [
    {
     "name": "stdout",
     "output_type": "stream",
     "text": [
      "<class 'pandas.core.frame.DataFrame'>\n",
      "RangeIndex: 17316 entries, 0 to 17315\n",
      "Data columns (total 36 columns):\n",
      " #   Column                       Non-Null Count  Dtype         \n",
      "---  ------                       --------------  -----         \n",
      " 0   id_client_rf                 17316 non-null  object        \n",
      " 1   month_sale                   17316 non-null  object        \n",
      " 2   sale_size                    17316 non-null  float64       \n",
      " 3   sale_count                   17316 non-null  float64       \n",
      " 4   Code_okved                   17272 non-null  object        \n",
      " 5   Name_okved                   17272 non-null  object        \n",
      " 6   Type_okved                   17272 non-null  float64       \n",
      " 7   Industry                     17272 non-null  object        \n",
      " 8   id_client                    16635 non-null  float64       \n",
      " 9   name_rf                      16635 non-null  object        \n",
      " 10  workersrange                 16635 non-null  float64       \n",
      " 11  total_revenue                16635 non-null  float64       \n",
      " 12  companywithsameinfo          16635 non-null  float64       \n",
      " 13  arbitrationcases             16635 non-null  float64       \n",
      " 14  datefirstreg                 16635 non-null  datetime64[ns]\n",
      " 15  flag_site                    16635 non-null  float64       \n",
      " 16  flag_business_center         16635 non-null  float64       \n",
      " 17  flag_resident                16635 non-null  float64       \n",
      " 18  date_actual_data             16635 non-null  datetime64[ns]\n",
      " 19  flag_vk                      16635 non-null  float64       \n",
      " 20  workersrange_is_known        16635 non-null  float64       \n",
      " 21  workersrange_is_less_then_5  16635 non-null  float64       \n",
      " 22  workersrange_is_more_then_5  16635 non-null  float64       \n",
      " 23  flag_provider                16108 non-null  float64       \n",
      " 24  nflag_have_free_ports        16108 non-null  float64       \n",
      " 25  latitude                     15047 non-null  float64       \n",
      " 26  longitude                    15047 non-null  float64       \n",
      " 27  ETTH                         16108 non-null  float64       \n",
      " 28  FTTx                         16108 non-null  float64       \n",
      " 29  PON                          16108 non-null  float64       \n",
      " 30  unknown                      16108 non-null  float64       \n",
      " 31  xDSL                         16108 non-null  float64       \n",
      " 32  БШПД                         16108 non-null  float64       \n",
      " 33  Оптика                       16108 non-null  float64       \n",
      " 34  delta_date                   17045 non-null  float64       \n",
      " 35  flag_sales                   17316 non-null  int64         \n",
      "dtypes: datetime64[ns](2), float64(27), int64(1), object(6)\n",
      "memory usage: 4.8+ MB\n"
     ]
    }
   ],
   "source": [
    "# Создаем таблицу из final_data_sales и 8000 случайных строк final_data_predict\n",
    "train_data = pd.concat([final_data_sales, concat_data.sample(8000)], ignore_index=True)\n",
    "# Заменяем в столбцах 'month_sale','sale_size','sale_count' NaN\n",
    "train_data['month_sale'] = train_data['month_sale'].fillna(0)\n",
    "train_data['sale_size'] = train_data['sale_size'].fillna(0)\n",
    "train_data['sale_count'] = train_data['sale_count'].fillna(0)\n",
    "train_data.info()"
   ]
  },
  {
   "cell_type": "code",
   "execution_count": 50,
   "id": "32b13140",
   "metadata": {},
   "outputs": [
    {
     "data": {
      "text/plain": [
       "longitude                      2269\n",
       "latitude                       2269\n",
       "unknown                        1208\n",
       "PON                            1208\n",
       "Оптика                         1208\n",
       "FTTx                           1208\n",
       "ETTH                           1208\n",
       "nflag_have_free_ports          1208\n",
       "flag_provider                  1208\n",
       "БШПД                           1208\n",
       "xDSL                           1208\n",
       "flag_resident                   681\n",
       "workersrange_is_more_then_5     681\n",
       "workersrange_is_less_then_5     681\n",
       "workersrange_is_known           681\n",
       "flag_vk                         681\n",
       "date_actual_data                681\n",
       "flag_business_center            681\n",
       "datefirstreg                    681\n",
       "arbitrationcases                681\n",
       "companywithsameinfo             681\n",
       "total_revenue                   681\n",
       "workersrange                    681\n",
       "name_rf                         681\n",
       "id_client                       681\n",
       "flag_site                       681\n",
       "delta_date                      271\n",
       "Industry                         44\n",
       "Type_okved                       44\n",
       "Name_okved                       44\n",
       "Code_okved                       44\n",
       "id_client_rf                      0\n",
       "month_sale                        0\n",
       "sale_count                        0\n",
       "sale_size                         0\n",
       "flag_sales                        0\n",
       "dtype: int64"
      ]
     },
     "execution_count": 50,
     "metadata": {},
     "output_type": "execute_result"
    }
   ],
   "source": [
    "# Анализ пропусков\n",
    "train_data.isna().sum().sort_values(ascending=False)"
   ]
  },
  {
   "cell_type": "code",
   "execution_count": 51,
   "id": "a0bde3b1",
   "metadata": {},
   "outputs": [],
   "source": [
    "columns_list = ['arbitrationcases', 'flag_site', 'flag_business_center', 'flag_resident',\n",
    "                         'flag_vk', 'flag_provider', 'nflag_have_free_ports', 'ETTH', 'FTTx', 'PON',\n",
    "                         'unknown', 'xDSL', 'БШПД', 'Оптика', 'delta_date', 'workersrange']\n",
    "\n",
    "for i in columns_list:\n",
    "    train_data[i] = train_data[i].fillna(value=0)"
   ]
  },
  {
   "cell_type": "code",
   "execution_count": 52,
   "id": "e86f7029",
   "metadata": {},
   "outputs": [],
   "source": [
    "train_data = train_data.dropna()"
   ]
  },
  {
   "cell_type": "code",
   "execution_count": 53,
   "id": "d4cc8889",
   "metadata": {},
   "outputs": [
    {
     "data": {
      "text/plain": [
       "Index(['id_client_rf', 'month_sale', 'sale_size', 'sale_count', 'Code_okved',\n",
       "       'Name_okved', 'Type_okved', 'Industry', 'id_client', 'name_rf',\n",
       "       'workersrange', 'total_revenue', 'companywithsameinfo',\n",
       "       'arbitrationcases', 'datefirstreg', 'flag_site', 'flag_business_center',\n",
       "       'flag_resident', 'date_actual_data', 'flag_vk', 'workersrange_is_known',\n",
       "       'workersrange_is_less_then_5', 'workersrange_is_more_then_5',\n",
       "       'flag_provider', 'nflag_have_free_ports', 'latitude', 'longitude',\n",
       "       'ETTH', 'FTTx', 'PON', 'unknown', 'xDSL', 'БШПД', 'Оптика',\n",
       "       'delta_date', 'flag_sales'],\n",
       "      dtype='object')"
      ]
     },
     "execution_count": 53,
     "metadata": {},
     "output_type": "execute_result"
    }
   ],
   "source": [
    "train_data.columns"
   ]
  },
  {
   "cell_type": "code",
   "execution_count": 54,
   "id": "57ae9e07",
   "metadata": {},
   "outputs": [],
   "source": [
    "#собираем x пока без 'Industry'\n",
    "x = train_data[['workersrange', 'total_revenue', 'arbitrationcases', 'flag_site',\n",
    "                             'flag_business_center', 'flag_resident', 'flag_vk', 'flag_provider',\n",
    "                             'nflag_have_free_ports', 'ETTH', 'FTTx', 'PON', 'unknown', 'xDSL',\n",
    "                             'БШПД', 'Оптика', 'delta_date']]"
   ]
  },
  {
   "cell_type": "code",
   "execution_count": 55,
   "id": "b0042b54",
   "metadata": {},
   "outputs": [],
   "source": [
    "# Раскладываем индустрии из поля Industry по разным полям\n",
    "#x = pd.get_dummies(x, drop_first= True)\n",
    "#x = pd.get_dummies(x, drop_first= True)"
   ]
  },
  {
   "cell_type": "code",
   "execution_count": 56,
   "id": "8fad05dc",
   "metadata": {},
   "outputs": [
    {
     "data": {
      "text/plain": [
       "Index(['workersrange', 'total_revenue', 'arbitrationcases', 'flag_site',\n",
       "       'flag_business_center', 'flag_resident', 'flag_vk', 'flag_provider',\n",
       "       'nflag_have_free_ports', 'ETTH', 'FTTx', 'PON', 'unknown', 'xDSL',\n",
       "       'БШПД', 'Оптика', 'delta_date'],\n",
       "      dtype='object')"
      ]
     },
     "execution_count": 56,
     "metadata": {},
     "output_type": "execute_result"
    }
   ],
   "source": [
    "x.columns"
   ]
  },
  {
   "cell_type": "code",
   "execution_count": 57,
   "id": "3817bb36",
   "metadata": {},
   "outputs": [
    {
     "data": {
      "text/plain": [
       "14411"
      ]
     },
     "execution_count": 57,
     "metadata": {},
     "output_type": "execute_result"
    }
   ],
   "source": [
    "x.shape[0]"
   ]
  },
  {
   "cell_type": "code",
   "execution_count": null,
   "id": "9f79c4a0",
   "metadata": {},
   "outputs": [],
   "source": []
  },
  {
   "cell_type": "code",
   "execution_count": null,
   "id": "69b98a1a",
   "metadata": {},
   "outputs": [],
   "source": []
  },
  {
   "cell_type": "code",
   "execution_count": null,
   "id": "508f161a",
   "metadata": {},
   "outputs": [],
   "source": []
  },
  {
   "cell_type": "code",
   "execution_count": null,
   "id": "5cc23a57",
   "metadata": {},
   "outputs": [],
   "source": []
  },
  {
   "cell_type": "code",
   "execution_count": null,
   "id": "5fd45092",
   "metadata": {},
   "outputs": [],
   "source": [
    "'''\n",
    "\n",
    "# Функция определения ближайших компаний\n",
    "from tqdm.notebook import tqdm\n",
    "from math import radians, sin, cos, sqrt, atan2\n",
    "pbar = tqdm()\n",
    "def haversine(lat1, lon1, lat2, lon2):\n",
    "    R = 6371  # radius of the earth in km\n",
    "    dlat = radians(lat2 - lat1)\n",
    "    dlon = radians(lon2 - lon1)\n",
    "    a = sin(dlat / 2) ** 2 + cos(radians(lat1)) * cos(radians(lat2)) * sin(dlon / 2) ** 2\n",
    "    c = 2 * atan2(sqrt(a), sqrt(1 - a))\n",
    "    return R * c * 1000  # distance in meters\n",
    "\n",
    "train_data['has_nearby_company'] = 0\n",
    "\n",
    "pbar.reset(total=len(train_data))\n",
    "for i, row in train_data.iterrows():\n",
    "    lat1, lon1 = row['latitude'], row['longitude']\n",
    "    for j, other_row in train_data.iterrows():\n",
    "        if i != j:\n",
    "            lat2, lon2 = other_row['latitude'], other_row['longitude']\n",
    "            dist = haversine(lat1, lon1, lat2, lon2)\n",
    "            if dist <= 50:\n",
    "                train_data.at[i, 'has_nearby_company'] = 1\n",
    "                break\n",
    "    pbar.update()             \n",
    "pbar.refresh()\n",
    "\n",
    "train_data.head()\n",
    "\n",
    "train_data.to_csv(r'C:\\WORK\\STUDY\\GIT\\Данные для хакатона\\train_data.csv', index=False)\n",
    "\n",
    "'''"
   ]
  },
  {
   "cell_type": "markdown",
   "id": "ac314073",
   "metadata": {},
   "source": [
    "### Анализ мультиколлинеарности"
   ]
  },
  {
   "cell_type": "code",
   "execution_count": 58,
   "id": "3c01515a",
   "metadata": {},
   "outputs": [
    {
     "data": {
      "text/html": [
       "<div>\n",
       "<style scoped>\n",
       "    .dataframe tbody tr th:only-of-type {\n",
       "        vertical-align: middle;\n",
       "    }\n",
       "\n",
       "    .dataframe tbody tr th {\n",
       "        vertical-align: top;\n",
       "    }\n",
       "\n",
       "    .dataframe thead th {\n",
       "        text-align: right;\n",
       "    }\n",
       "</style>\n",
       "<table border=\"1\" class=\"dataframe\">\n",
       "  <thead>\n",
       "    <tr style=\"text-align: right;\">\n",
       "      <th></th>\n",
       "      <th>workersrange</th>\n",
       "      <th>total_revenue</th>\n",
       "      <th>arbitrationcases</th>\n",
       "      <th>flag_site</th>\n",
       "      <th>flag_business_center</th>\n",
       "      <th>flag_resident</th>\n",
       "      <th>flag_vk</th>\n",
       "      <th>flag_provider</th>\n",
       "      <th>nflag_have_free_ports</th>\n",
       "      <th>delta_date</th>\n",
       "    </tr>\n",
       "  </thead>\n",
       "  <tbody>\n",
       "    <tr>\n",
       "      <th>workersrange</th>\n",
       "      <td>1.000000</td>\n",
       "      <td>-0.002834</td>\n",
       "      <td>0.011274</td>\n",
       "      <td>0.011088</td>\n",
       "      <td>0.019508</td>\n",
       "      <td>-0.005178</td>\n",
       "      <td>-0.004961</td>\n",
       "      <td>0.003560</td>\n",
       "      <td>0.007792</td>\n",
       "      <td>-0.004541</td>\n",
       "    </tr>\n",
       "    <tr>\n",
       "      <th>total_revenue</th>\n",
       "      <td>-0.002834</td>\n",
       "      <td>1.000000</td>\n",
       "      <td>0.029247</td>\n",
       "      <td>0.153051</td>\n",
       "      <td>0.004375</td>\n",
       "      <td>-0.051724</td>\n",
       "      <td>-0.038375</td>\n",
       "      <td>0.044064</td>\n",
       "      <td>-0.019290</td>\n",
       "      <td>0.101630</td>\n",
       "    </tr>\n",
       "    <tr>\n",
       "      <th>arbitrationcases</th>\n",
       "      <td>0.011274</td>\n",
       "      <td>0.029247</td>\n",
       "      <td>1.000000</td>\n",
       "      <td>0.030763</td>\n",
       "      <td>0.009194</td>\n",
       "      <td>-0.006807</td>\n",
       "      <td>0.000536</td>\n",
       "      <td>0.010135</td>\n",
       "      <td>-0.003464</td>\n",
       "      <td>0.003228</td>\n",
       "    </tr>\n",
       "    <tr>\n",
       "      <th>flag_site</th>\n",
       "      <td>0.011088</td>\n",
       "      <td>0.153051</td>\n",
       "      <td>0.030763</td>\n",
       "      <td>1.000000</td>\n",
       "      <td>0.159043</td>\n",
       "      <td>0.189721</td>\n",
       "      <td>0.393753</td>\n",
       "      <td>0.260717</td>\n",
       "      <td>0.013178</td>\n",
       "      <td>-0.027163</td>\n",
       "    </tr>\n",
       "    <tr>\n",
       "      <th>flag_business_center</th>\n",
       "      <td>0.019508</td>\n",
       "      <td>0.004375</td>\n",
       "      <td>0.009194</td>\n",
       "      <td>0.159043</td>\n",
       "      <td>1.000000</td>\n",
       "      <td>-0.027657</td>\n",
       "      <td>0.200977</td>\n",
       "      <td>0.165461</td>\n",
       "      <td>0.078709</td>\n",
       "      <td>-0.027121</td>\n",
       "    </tr>\n",
       "    <tr>\n",
       "      <th>flag_resident</th>\n",
       "      <td>-0.005178</td>\n",
       "      <td>-0.051724</td>\n",
       "      <td>-0.006807</td>\n",
       "      <td>0.189721</td>\n",
       "      <td>-0.027657</td>\n",
       "      <td>1.000000</td>\n",
       "      <td>0.312097</td>\n",
       "      <td>0.246773</td>\n",
       "      <td>0.128188</td>\n",
       "      <td>-0.069392</td>\n",
       "    </tr>\n",
       "    <tr>\n",
       "      <th>flag_vk</th>\n",
       "      <td>-0.004961</td>\n",
       "      <td>-0.038375</td>\n",
       "      <td>0.000536</td>\n",
       "      <td>0.393753</td>\n",
       "      <td>0.200977</td>\n",
       "      <td>0.312097</td>\n",
       "      <td>1.000000</td>\n",
       "      <td>0.222185</td>\n",
       "      <td>0.057377</td>\n",
       "      <td>-0.062535</td>\n",
       "    </tr>\n",
       "    <tr>\n",
       "      <th>flag_provider</th>\n",
       "      <td>0.003560</td>\n",
       "      <td>0.044064</td>\n",
       "      <td>0.010135</td>\n",
       "      <td>0.260717</td>\n",
       "      <td>0.165461</td>\n",
       "      <td>0.246773</td>\n",
       "      <td>0.222185</td>\n",
       "      <td>1.000000</td>\n",
       "      <td>0.161556</td>\n",
       "      <td>-0.148805</td>\n",
       "    </tr>\n",
       "    <tr>\n",
       "      <th>nflag_have_free_ports</th>\n",
       "      <td>0.007792</td>\n",
       "      <td>-0.019290</td>\n",
       "      <td>-0.003464</td>\n",
       "      <td>0.013178</td>\n",
       "      <td>0.078709</td>\n",
       "      <td>0.128188</td>\n",
       "      <td>0.057377</td>\n",
       "      <td>0.161556</td>\n",
       "      <td>1.000000</td>\n",
       "      <td>0.084094</td>\n",
       "    </tr>\n",
       "    <tr>\n",
       "      <th>delta_date</th>\n",
       "      <td>-0.004541</td>\n",
       "      <td>0.101630</td>\n",
       "      <td>0.003228</td>\n",
       "      <td>-0.027163</td>\n",
       "      <td>-0.027121</td>\n",
       "      <td>-0.069392</td>\n",
       "      <td>-0.062535</td>\n",
       "      <td>-0.148805</td>\n",
       "      <td>0.084094</td>\n",
       "      <td>1.000000</td>\n",
       "    </tr>\n",
       "  </tbody>\n",
       "</table>\n",
       "</div>"
      ],
      "text/plain": [
       "                       workersrange  total_revenue  arbitrationcases  \\\n",
       "workersrange               1.000000      -0.002834          0.011274   \n",
       "total_revenue             -0.002834       1.000000          0.029247   \n",
       "arbitrationcases           0.011274       0.029247          1.000000   \n",
       "flag_site                  0.011088       0.153051          0.030763   \n",
       "flag_business_center       0.019508       0.004375          0.009194   \n",
       "flag_resident             -0.005178      -0.051724         -0.006807   \n",
       "flag_vk                   -0.004961      -0.038375          0.000536   \n",
       "flag_provider              0.003560       0.044064          0.010135   \n",
       "nflag_have_free_ports      0.007792      -0.019290         -0.003464   \n",
       "delta_date                -0.004541       0.101630          0.003228   \n",
       "\n",
       "                       flag_site  flag_business_center  flag_resident  \\\n",
       "workersrange            0.011088              0.019508      -0.005178   \n",
       "total_revenue           0.153051              0.004375      -0.051724   \n",
       "arbitrationcases        0.030763              0.009194      -0.006807   \n",
       "flag_site               1.000000              0.159043       0.189721   \n",
       "flag_business_center    0.159043              1.000000      -0.027657   \n",
       "flag_resident           0.189721             -0.027657       1.000000   \n",
       "flag_vk                 0.393753              0.200977       0.312097   \n",
       "flag_provider           0.260717              0.165461       0.246773   \n",
       "nflag_have_free_ports   0.013178              0.078709       0.128188   \n",
       "delta_date             -0.027163             -0.027121      -0.069392   \n",
       "\n",
       "                        flag_vk  flag_provider  nflag_have_free_ports  \\\n",
       "workersrange          -0.004961       0.003560               0.007792   \n",
       "total_revenue         -0.038375       0.044064              -0.019290   \n",
       "arbitrationcases       0.000536       0.010135              -0.003464   \n",
       "flag_site              0.393753       0.260717               0.013178   \n",
       "flag_business_center   0.200977       0.165461               0.078709   \n",
       "flag_resident          0.312097       0.246773               0.128188   \n",
       "flag_vk                1.000000       0.222185               0.057377   \n",
       "flag_provider          0.222185       1.000000               0.161556   \n",
       "nflag_have_free_ports  0.057377       0.161556               1.000000   \n",
       "delta_date            -0.062535      -0.148805               0.084094   \n",
       "\n",
       "                       delta_date  \n",
       "workersrange            -0.004541  \n",
       "total_revenue            0.101630  \n",
       "arbitrationcases         0.003228  \n",
       "flag_site               -0.027163  \n",
       "flag_business_center    -0.027121  \n",
       "flag_resident           -0.069392  \n",
       "flag_vk                 -0.062535  \n",
       "flag_provider           -0.148805  \n",
       "nflag_have_free_ports    0.084094  \n",
       "delta_date               1.000000  "
      ]
     },
     "execution_count": 58,
     "metadata": {},
     "output_type": "execute_result"
    }
   ],
   "source": [
    "#матрица корреляции\n",
    "x[['workersrange', 'total_revenue', 'arbitrationcases', 'flag_site',\n",
    "                             'flag_business_center', 'flag_resident', 'flag_vk', 'flag_provider',\n",
    "                             'nflag_have_free_ports', 'delta_date']].corr()"
   ]
  },
  {
   "cell_type": "code",
   "execution_count": 59,
   "id": "bdb92f86",
   "metadata": {},
   "outputs": [
    {
     "data": {
      "image/png": "[encoded data removed]",
      "text/plain": [
       "<Figure size 640x480 with 2 Axes>"
      ]
     },
     "metadata": {},
     "output_type": "display_data"
    }
   ],
   "source": [
    "#тепловая карты\n",
    "corr_matrix = x[['workersrange', 'total_revenue', 'arbitrationcases', 'flag_site',\n",
    "                             'flag_business_center', 'flag_resident', 'flag_vk', 'flag_provider',\n",
    "                             'nflag_have_free_ports', 'delta_date']].corr()\n",
    "fig, ax = plt.subplots()\n",
    "sns.heatmap(corr_matrix, annot=True, square=True)\n",
    "plt.show()"
   ]
  },
  {
   "cell_type": "markdown",
   "id": "11eca239",
   "metadata": {},
   "source": [
    "Мультиколлинеарность очень слабая. Можно продолжать исследование."
   ]
  },
  {
   "cell_type": "markdown",
   "id": "1d58b1fe",
   "metadata": {},
   "source": [
    "## 2. Реализация алгоритмов машинного обучения"
   ]
  },
  {
   "cell_type": "markdown",
   "id": "fc5b87ee",
   "metadata": {},
   "source": [
    "Реализуем следующие алгоритмы машинного обучения:\n",
    "\n",
    "- логистическая регрессия (с решателями liblinear, sag и saga),\n",
    "- дерево принятия решений,\n",
    "- случайный лес,\n",
    "- градиентный бустинг.\n",
    "\n",
    "Cначала разделим выборки на обучающую/валидационную, проведем стандартизацию данных. Далее сделаем прогноз, сравним метрики и выберем лучшие модели."
   ]
  },
  {
   "cell_type": "markdown",
   "id": "d3aba05a",
   "metadata": {},
   "source": [
    "### Обучение с учителем: бинарная классификация"
   ]
  },
  {
   "cell_type": "markdown",
   "id": "19e2495b",
   "metadata": {},
   "source": [
    "Создадим бинарную целевую переменную, содержащую факт покупки, разделим выборку и проведем стандартизацию."
   ]
  },
  {
   "cell_type": "code",
   "execution_count": 85,
   "id": "656a8c30",
   "metadata": {},
   "outputs": [],
   "source": [
    "#пока без индустрии\n",
    "\n",
    "x = train_data[['workersrange', 'total_revenue', 'arbitrationcases', 'flag_site',\n",
    "                             'flag_business_center', 'flag_resident', 'flag_vk', 'flag_provider',\n",
    "                             'nflag_have_free_ports', 'ETTH', 'FTTx', 'PON', 'unknown', 'xDSL',\n",
    "                             'БШПД', 'Оптика', 'delta_date']]"
   ]
  },
  {
   "cell_type": "code",
   "execution_count": 86,
   "id": "229a5984",
   "metadata": {},
   "outputs": [],
   "source": [
    "y = train_data['flag_sales']"
   ]
  },
  {
   "cell_type": "code",
   "execution_count": 87,
   "id": "1774c34e",
   "metadata": {},
   "outputs": [
    {
     "name": "stdout",
     "output_type": "stream",
     "text": [
      "Получившееся распределение по группам:\n",
      " 1    7562\n",
      "0    6849\n",
      "Name: flag_sales, dtype: int64\n"
     ]
    }
   ],
   "source": [
    "print('Получившееся распределение по группам:\\n', y.value_counts())"
   ]
  },
  {
   "cell_type": "code",
   "execution_count": 88,
   "id": "f552cbd0",
   "metadata": {},
   "outputs": [],
   "source": [
    "#Разбиение выборки на обучающую и валидационную\n",
    "X_train, X_test, y_train, y_test = train_test_split(x, y, test_size=0.2)\n",
    "\n",
    "#стандартизация\n",
    "scaler = StandardScaler()\n",
    "scaler.fit(X_train)\n",
    "X_train_st = scaler.transform(X_train)\n",
    "X_test_st = scaler.transform(X_test)"
   ]
  },
  {
   "cell_type": "code",
   "execution_count": 91,
   "id": "796249da",
   "metadata": {},
   "outputs": [],
   "source": [
    "#зададим функцию для расчета разных моделей бинарной классификации:\n",
    "def binary_class_func(m, X_train, X_test, y_train, y_test):\n",
    "    model = m\n",
    "    model.fit(X_train_st, y_train)\n",
    "    probabilities = model.predict_proba(X_test)[:, 1]\n",
    "    predictions = model.predict(X_test)\n",
    "    print('\\n', m, '\\n')\n",
    "    print('Accuracy (доля правильных ответов): {:.2f}'.format(accuracy_score(y_test, predictions)))\n",
    "    print('Precision (точность): {:.2f}'.format(precision_score(y_test, predictions)))\n",
    "    print('Recall (полнота!): {:.2f}'.format(recall_score(y_test, predictions)))\n",
    "    print('F1: {:.2f}'.format(f1_score(y_test, predictions)))\n",
    "#    print('AUC-ROC (площадь под кривой ошибок): {:.2f}'.format(roc_auc = roc_auc_score(y_test, probabilities[:,1])))"
   ]
  },
  {
   "cell_type": "code",
   "execution_count": 107,
   "id": "e82f7a8c",
   "metadata": {},
   "outputs": [
    {
     "name": "stdout",
     "output_type": "stream",
     "text": [
      "\n",
      " LogisticRegression(solver='liblinear') \n",
      "\n",
      "Accuracy (доля правильных ответов): 0.94\n",
      "Precision (точность): 0.97\n",
      "Recall (полнота!): 0.91\n",
      "F1: 0.94\n"
     ]
    }
   ],
   "source": [
    "#стандартная логистическая регрессия\n",
    "binary_class_func(LogisticRegression(solver='liblinear'), X_train_st, X_test_st, y_train, y_test)"
   ]
  },
  {
   "cell_type": "code",
   "execution_count": 108,
   "id": "f9fe1a58",
   "metadata": {},
   "outputs": [
    {
     "name": "stdout",
     "output_type": "stream",
     "text": [
      "\n",
      " LogisticRegression(solver='sag') \n",
      "\n",
      "Accuracy (доля правильных ответов): 0.91\n",
      "Precision (точность): 0.95\n",
      "Recall (полнота!): 0.88\n",
      "F1: 0.92\n"
     ]
    },
    {
     "name": "stderr",
     "output_type": "stream",
     "text": [
      "C:\\Users\\Anna\\anaconda3\\lib\\site-packages\\sklearn\\linear_model\\_sag.py:352: ConvergenceWarning: The max_iter was reached which means the coef_ did not converge\n",
      "  warnings.warn(\n"
     ]
    }
   ],
   "source": [
    "#логистическая регрессия с решателем sag (L2)\n",
    "binary_class_func(LogisticRegression(solver='sag'), X_train_st, X_test_st, y_train, y_test)"
   ]
  },
  {
   "cell_type": "code",
   "execution_count": 109,
   "id": "486d752f",
   "metadata": {},
   "outputs": [
    {
     "name": "stdout",
     "output_type": "stream",
     "text": [
      "\n",
      " LogisticRegression(solver='saga') \n",
      "\n",
      "Accuracy (доля правильных ответов): 0.91\n",
      "Precision (точность): 0.95\n",
      "Recall (полнота!): 0.87\n",
      "F1: 0.91\n"
     ]
    },
    {
     "name": "stderr",
     "output_type": "stream",
     "text": [
      "C:\\Users\\Anna\\anaconda3\\lib\\site-packages\\sklearn\\linear_model\\_sag.py:352: ConvergenceWarning: The max_iter was reached which means the coef_ did not converge\n",
      "  warnings.warn(\n"
     ]
    }
   ],
   "source": [
    "#логистическая регрессия с решателем saga\n",
    "binary_class_func(LogisticRegression(solver='saga'), X_train_st, X_test_st, y_train, y_test)"
   ]
  },
  {
   "cell_type": "code",
   "execution_count": 110,
   "id": "2e4e0443",
   "metadata": {},
   "outputs": [
    {
     "name": "stdout",
     "output_type": "stream",
     "text": [
      "\n",
      " DecisionTreeClassifier() \n",
      "\n",
      "Accuracy (доля правильных ответов): 1.00\n",
      "Precision (точность): 1.00\n",
      "Recall (полнота!): 1.00\n",
      "F1: 1.00\n"
     ]
    }
   ],
   "source": [
    "#дерево принятия решений\n",
    "binary_class_func(DecisionTreeClassifier(), X_train_st, X_test_st, y_train, y_test)"
   ]
  },
  {
   "cell_type": "code",
   "execution_count": 111,
   "id": "c06ed669",
   "metadata": {},
   "outputs": [
    {
     "name": "stdout",
     "output_type": "stream",
     "text": [
      "\n",
      " RandomForestClassifier() \n",
      "\n",
      "Accuracy (доля правильных ответов): 1.00\n",
      "Precision (точность): 1.00\n",
      "Recall (полнота!): 1.00\n",
      "F1: 1.00\n"
     ]
    }
   ],
   "source": [
    "#случайный лес\n",
    "binary_class_func(RandomForestClassifier(n_estimators = 100), X_train_st, X_test_st, y_train, y_test)"
   ]
  },
  {
   "cell_type": "code",
   "execution_count": 112,
   "id": "2843051c",
   "metadata": {},
   "outputs": [
    {
     "name": "stdout",
     "output_type": "stream",
     "text": [
      "\n",
      " GradientBoostingClassifier() \n",
      "\n",
      "Accuracy (доля правильных ответов): 1.00\n",
      "Precision (точность): 1.00\n",
      "Recall (полнота!): 1.00\n",
      "F1: 1.00\n"
     ]
    }
   ],
   "source": [
    "#градиентный бустинг\n",
    "binary_class_func(GradientBoostingClassifier(n_estimators = 100), X_train_st, X_test_st, y_train, y_test)"
   ]
  },
  {
   "cell_type": "code",
   "execution_count": 113,
   "id": "f8b098bf",
   "metadata": {},
   "outputs": [
    {
     "ename": "AttributeError",
     "evalue": "predict_proba is not available when  probability=False",
     "output_type": "error",
     "traceback": [
      "\u001b[1;31m---------------------------------------------------------------------------\u001b[0m",
      "\u001b[1;31mAttributeError\u001b[0m                            Traceback (most recent call last)",
      "\u001b[1;32m~\\AppData\\Local\\Temp\\ipykernel_10168\\3503742572.py\u001b[0m in \u001b[0;36m<module>\u001b[1;34m\u001b[0m\n\u001b[0;32m      1\u001b[0m \u001b[1;31m#метод опорных векторов\u001b[0m\u001b[1;33m\u001b[0m\u001b[1;33m\u001b[0m\u001b[0m\n\u001b[1;32m----> 2\u001b[1;33m \u001b[0mbinary_class_func\u001b[0m\u001b[1;33m(\u001b[0m\u001b[0mSVC\u001b[0m\u001b[1;33m(\u001b[0m\u001b[0mkernel\u001b[0m\u001b[1;33m=\u001b[0m\u001b[1;34m'linear'\u001b[0m\u001b[1;33m)\u001b[0m\u001b[1;33m,\u001b[0m \u001b[0mX_train_st\u001b[0m\u001b[1;33m,\u001b[0m \u001b[0mX_test_st\u001b[0m\u001b[1;33m,\u001b[0m \u001b[0my_train\u001b[0m\u001b[1;33m,\u001b[0m \u001b[0my_test\u001b[0m\u001b[1;33m)\u001b[0m\u001b[1;33m\u001b[0m\u001b[1;33m\u001b[0m\u001b[0m\n\u001b[0m",
      "\u001b[1;32m~\\AppData\\Local\\Temp\\ipykernel_10168\\3151460045.py\u001b[0m in \u001b[0;36mbinary_class_func\u001b[1;34m(m, X_train, X_test, y_train, y_test)\u001b[0m\n\u001b[0;32m      3\u001b[0m     \u001b[0mmodel\u001b[0m \u001b[1;33m=\u001b[0m \u001b[0mm\u001b[0m\u001b[1;33m\u001b[0m\u001b[1;33m\u001b[0m\u001b[0m\n\u001b[0;32m      4\u001b[0m     \u001b[0mmodel\u001b[0m\u001b[1;33m.\u001b[0m\u001b[0mfit\u001b[0m\u001b[1;33m(\u001b[0m\u001b[0mX_train_st\u001b[0m\u001b[1;33m,\u001b[0m \u001b[0my_train\u001b[0m\u001b[1;33m)\u001b[0m\u001b[1;33m\u001b[0m\u001b[1;33m\u001b[0m\u001b[0m\n\u001b[1;32m----> 5\u001b[1;33m     \u001b[0mprobabilities\u001b[0m \u001b[1;33m=\u001b[0m \u001b[0mmodel\u001b[0m\u001b[1;33m.\u001b[0m\u001b[0mpredict_proba\u001b[0m\u001b[1;33m(\u001b[0m\u001b[0mX_test\u001b[0m\u001b[1;33m)\u001b[0m\u001b[1;33m[\u001b[0m\u001b[1;33m:\u001b[0m\u001b[1;33m,\u001b[0m \u001b[1;36m1\u001b[0m\u001b[1;33m]\u001b[0m\u001b[1;33m\u001b[0m\u001b[1;33m\u001b[0m\u001b[0m\n\u001b[0m\u001b[0;32m      6\u001b[0m     \u001b[0mpredictions\u001b[0m \u001b[1;33m=\u001b[0m \u001b[0mmodel\u001b[0m\u001b[1;33m.\u001b[0m\u001b[0mpredict\u001b[0m\u001b[1;33m(\u001b[0m\u001b[0mX_test\u001b[0m\u001b[1;33m)\u001b[0m\u001b[1;33m\u001b[0m\u001b[1;33m\u001b[0m\u001b[0m\n\u001b[0;32m      7\u001b[0m     \u001b[0mprint\u001b[0m\u001b[1;33m(\u001b[0m\u001b[1;34m'\\n'\u001b[0m\u001b[1;33m,\u001b[0m \u001b[0mm\u001b[0m\u001b[1;33m,\u001b[0m \u001b[1;34m'\\n'\u001b[0m\u001b[1;33m)\u001b[0m\u001b[1;33m\u001b[0m\u001b[1;33m\u001b[0m\u001b[0m\n",
      "\u001b[1;32m~\\anaconda3\\lib\\site-packages\\sklearn\\utils\\metaestimators.py\u001b[0m in \u001b[0;36m__get__\u001b[1;34m(self, obj, owner)\u001b[0m\n\u001b[0;32m    107\u001b[0m             \u001b[1;31m# delegate only on instances, not the classes.\u001b[0m\u001b[1;33m\u001b[0m\u001b[1;33m\u001b[0m\u001b[0m\n\u001b[0;32m    108\u001b[0m             \u001b[1;31m# this is to allow access to the docstrings.\u001b[0m\u001b[1;33m\u001b[0m\u001b[1;33m\u001b[0m\u001b[0m\n\u001b[1;32m--> 109\u001b[1;33m             \u001b[1;32mif\u001b[0m \u001b[1;32mnot\u001b[0m \u001b[0mself\u001b[0m\u001b[1;33m.\u001b[0m\u001b[0mcheck\u001b[0m\u001b[1;33m(\u001b[0m\u001b[0mobj\u001b[0m\u001b[1;33m)\u001b[0m\u001b[1;33m:\u001b[0m\u001b[1;33m\u001b[0m\u001b[1;33m\u001b[0m\u001b[0m\n\u001b[0m\u001b[0;32m    110\u001b[0m                 \u001b[1;32mraise\u001b[0m \u001b[0mattr_err\u001b[0m\u001b[1;33m\u001b[0m\u001b[1;33m\u001b[0m\u001b[0m\n\u001b[0;32m    111\u001b[0m \u001b[1;33m\u001b[0m\u001b[0m\n",
      "\u001b[1;32m~\\anaconda3\\lib\\site-packages\\sklearn\\svm\\_base.py\u001b[0m in \u001b[0;36m_check_proba\u001b[1;34m(self)\u001b[0m\n\u001b[0;32m    798\u001b[0m     \u001b[1;32mdef\u001b[0m \u001b[0m_check_proba\u001b[0m\u001b[1;33m(\u001b[0m\u001b[0mself\u001b[0m\u001b[1;33m)\u001b[0m\u001b[1;33m:\u001b[0m\u001b[1;33m\u001b[0m\u001b[1;33m\u001b[0m\u001b[0m\n\u001b[0;32m    799\u001b[0m         \u001b[1;32mif\u001b[0m \u001b[1;32mnot\u001b[0m \u001b[0mself\u001b[0m\u001b[1;33m.\u001b[0m\u001b[0mprobability\u001b[0m\u001b[1;33m:\u001b[0m\u001b[1;33m\u001b[0m\u001b[1;33m\u001b[0m\u001b[0m\n\u001b[1;32m--> 800\u001b[1;33m             raise AttributeError(\n\u001b[0m\u001b[0;32m    801\u001b[0m                 \u001b[1;34m\"predict_proba is not available when  probability=False\"\u001b[0m\u001b[1;33m\u001b[0m\u001b[1;33m\u001b[0m\u001b[0m\n\u001b[0;32m    802\u001b[0m             )\n",
      "\u001b[1;31mAttributeError\u001b[0m: predict_proba is not available when  probability=False"
     ]
    }
   ],
   "source": [
    "#метод опорных векторов\n",
    "binary_class_func(SVC(kernel='linear'), X_train_st, X_test_st, y_train, y_test)"
   ]
  },
  {
   "cell_type": "code",
   "execution_count": 114,
   "id": "82d3b1f3",
   "metadata": {},
   "outputs": [
    {
     "ename": "AttributeError",
     "evalue": "'KNeighborsRegressor' object has no attribute 'predict_proba'",
     "output_type": "error",
     "traceback": [
      "\u001b[1;31m---------------------------------------------------------------------------\u001b[0m",
      "\u001b[1;31mAttributeError\u001b[0m                            Traceback (most recent call last)",
      "\u001b[1;32m~\\AppData\\Local\\Temp\\ipykernel_10168\\673464769.py\u001b[0m in \u001b[0;36m<module>\u001b[1;34m\u001b[0m\n\u001b[0;32m      1\u001b[0m \u001b[1;31m#метод K-ближайших соседей\u001b[0m\u001b[1;33m\u001b[0m\u001b[1;33m\u001b[0m\u001b[0m\n\u001b[1;32m----> 2\u001b[1;33m \u001b[0mbinary_class_func\u001b[0m\u001b[1;33m(\u001b[0m\u001b[0mKNeighborsRegressor\u001b[0m\u001b[1;33m(\u001b[0m\u001b[0mn_neighbors\u001b[0m\u001b[1;33m=\u001b[0m\u001b[1;36m5\u001b[0m\u001b[1;33m)\u001b[0m\u001b[1;33m,\u001b[0m \u001b[0mX_train_st\u001b[0m\u001b[1;33m,\u001b[0m \u001b[0mX_test_st\u001b[0m\u001b[1;33m,\u001b[0m \u001b[0my_train\u001b[0m\u001b[1;33m,\u001b[0m \u001b[0my_test\u001b[0m\u001b[1;33m)\u001b[0m\u001b[1;33m\u001b[0m\u001b[1;33m\u001b[0m\u001b[0m\n\u001b[0m",
      "\u001b[1;32m~\\AppData\\Local\\Temp\\ipykernel_10168\\3151460045.py\u001b[0m in \u001b[0;36mbinary_class_func\u001b[1;34m(m, X_train, X_test, y_train, y_test)\u001b[0m\n\u001b[0;32m      3\u001b[0m     \u001b[0mmodel\u001b[0m \u001b[1;33m=\u001b[0m \u001b[0mm\u001b[0m\u001b[1;33m\u001b[0m\u001b[1;33m\u001b[0m\u001b[0m\n\u001b[0;32m      4\u001b[0m     \u001b[0mmodel\u001b[0m\u001b[1;33m.\u001b[0m\u001b[0mfit\u001b[0m\u001b[1;33m(\u001b[0m\u001b[0mX_train_st\u001b[0m\u001b[1;33m,\u001b[0m \u001b[0my_train\u001b[0m\u001b[1;33m)\u001b[0m\u001b[1;33m\u001b[0m\u001b[1;33m\u001b[0m\u001b[0m\n\u001b[1;32m----> 5\u001b[1;33m     \u001b[0mprobabilities\u001b[0m \u001b[1;33m=\u001b[0m \u001b[0mmodel\u001b[0m\u001b[1;33m.\u001b[0m\u001b[0mpredict_proba\u001b[0m\u001b[1;33m(\u001b[0m\u001b[0mX_test\u001b[0m\u001b[1;33m)\u001b[0m\u001b[1;33m[\u001b[0m\u001b[1;33m:\u001b[0m\u001b[1;33m,\u001b[0m \u001b[1;36m1\u001b[0m\u001b[1;33m]\u001b[0m\u001b[1;33m\u001b[0m\u001b[1;33m\u001b[0m\u001b[0m\n\u001b[0m\u001b[0;32m      6\u001b[0m     \u001b[0mpredictions\u001b[0m \u001b[1;33m=\u001b[0m \u001b[0mmodel\u001b[0m\u001b[1;33m.\u001b[0m\u001b[0mpredict\u001b[0m\u001b[1;33m(\u001b[0m\u001b[0mX_test\u001b[0m\u001b[1;33m)\u001b[0m\u001b[1;33m\u001b[0m\u001b[1;33m\u001b[0m\u001b[0m\n\u001b[0;32m      7\u001b[0m     \u001b[0mprint\u001b[0m\u001b[1;33m(\u001b[0m\u001b[1;34m'\\n'\u001b[0m\u001b[1;33m,\u001b[0m \u001b[0mm\u001b[0m\u001b[1;33m,\u001b[0m \u001b[1;34m'\\n'\u001b[0m\u001b[1;33m)\u001b[0m\u001b[1;33m\u001b[0m\u001b[1;33m\u001b[0m\u001b[0m\n",
      "\u001b[1;31mAttributeError\u001b[0m: 'KNeighborsRegressor' object has no attribute 'predict_proba'"
     ]
    }
   ],
   "source": [
    "#метод K-ближайших соседей\n",
    "binary_class_func(KNeighborsRegressor(n_neighbors=5), X_train_st, X_test_st, y_train, y_test)"
   ]
  },
  {
   "cell_type": "markdown",
   "id": "59cce2b3",
   "metadata": {},
   "source": [
    "Также можно доработать модель логистической регрессии, поэкспериментировав с порогом отнесения к классу вероятных клиентов. Поскольку нам важно не потерять потенциального клиента, то порог будем постепенно уменьшать. В качестве пороговых значений будем использовать 0.45, 0.40, 0.35 и 0.30."
   ]
  },
  {
   "cell_type": "code",
   "execution_count": 115,
   "id": "d8192b3e",
   "metadata": {},
   "outputs": [
    {
     "name": "stdout",
     "output_type": "stream",
     "text": [
      "Accuracy (доля правильных ответов): 0.94\n",
      "Precision (точность): 0.97\n",
      "Recall (полнота!): 0.91\n",
      "F1: 0.94\n"
     ]
    }
   ],
   "source": [
    "model_log = LogisticRegression(solver='liblinear', random_state=0)\n",
    "model_log.fit(X_train_st, y_train)\n",
    "predictions = model_log.predict(X_test_st)\n",
    "probabilities = model_log.predict_proba(X_test_st)[:,1]\n",
    "print('Accuracy (доля правильных ответов): {:.2f}'.format(accuracy_score(y_test, predictions)))\n",
    "print('Precision (точность): {:.2f}'.format(precision_score(y_test, predictions)))\n",
    "print('Recall (полнота!): {:.2f}'.format(recall_score(y_test, predictions)))\n",
    "print('F1: {:.2f}'.format(f1_score(y_test, predictions)))"
   ]
  },
  {
   "cell_type": "code",
   "execution_count": 117,
   "id": "62f3b5ea",
   "metadata": {},
   "outputs": [
    {
     "name": "stdout",
     "output_type": "stream",
     "text": [
      "Метрики для прогноза с порогом  workersrange\n",
      "Accuracy: 0.94\n",
      "Precision: 0.96\n",
      "Recall: 0.92\n",
      "F1: 0.94\n",
      "Метрики для прогноза с порогом  workersrange\n",
      "Accuracy: 0.94\n",
      "Precision: 0.95\n",
      "Recall: 0.93\n",
      "F1: 0.94\n",
      "Метрики для прогноза с порогом  workersrange\n",
      "Accuracy: 0.93\n",
      "Precision: 0.93\n",
      "Recall: 0.94\n",
      "F1: 0.94\n",
      "Метрики для прогноза с порогом  workersrange\n",
      "Accuracy: 0.93\n",
      "Precision: 0.92\n",
      "Recall: 0.95\n",
      "F1: 0.93\n"
     ]
    }
   ],
   "source": [
    "thresholds = [0.45, 0.4, 0.35, 0.3]\n",
    "\n",
    "for threshold in thresholds:\n",
    "    custom_predictions = [0 if i < threshold else 1 for i in probabilities]\n",
    "    print('Метрики для прогноза с порогом ', i)\n",
    "    print('Accuracy: {:.2f}'.format(accuracy_score(y_test, custom_predictions)))\n",
    "    print('Precision: {:.2f}'.format(precision_score(y_test, custom_predictions)))\n",
    "    print('Recall: {:.2f}'.format(recall_score(y_test, custom_predictions)))\n",
    "    print('F1: {:.2f}'.format(f1_score(y_test, custom_predictions)))"
   ]
  },
  {
   "cell_type": "markdown",
   "id": "7107c292",
   "metadata": {},
   "source": [
    "### Обучение без учителя: кластеризация"
   ]
  },
  {
   "cell_type": "markdown",
   "id": "d3304cdf",
   "metadata": {},
   "source": [
    "Для кластеризации потенциальных клиентов реализуем алгоритм на основе метода к-средних (k-means)."
   ]
  },
  {
   "cell_type": "code",
   "execution_count": null,
   "id": "ca0efbe2",
   "metadata": {},
   "outputs": [],
   "source": [
    "#стандартизация\n",
    "sc = StandardScaler()\n",
    "X_sc = sc.fit_transform(X_for_kmeans)\n",
    "\n",
    "#модель\n",
    "km = KMeans(n_clusters=3, random_state=0)\n",
    "labels = km.fit_predict(X_sc)\n",
    "X_for_kmeans['clusters'] = labels\n",
    "\n",
    "print('Средние значения признаков по кластерам \\n', X_for_kmeans.groupby(['clusters']).mean())"
   ]
  },
  {
   "cell_type": "code",
   "execution_count": null,
   "id": "077505ff",
   "metadata": {},
   "outputs": [],
   "source": [
    "#график кластеризации\n",
    "linked = linkage(X_sc, method = 'ward') \n",
    "plt.figure(figsize=(15, 10))  \n",
    "dendrogram(linked, orientation='top')\n",
    "plt.title('Иерархическая кластеризация клиентов')\n",
    "plt.show() "
   ]
  },
  {
   "cell_type": "code",
   "execution_count": null,
   "id": "0bcae9ea",
   "metadata": {},
   "outputs": [],
   "source": [
    "# Метрика силуэта\n",
    "from sklearn.metrics import silhouette_score, davies_bouldin_score,v_measure_score\n",
    "print('Silhouette score (метрика силуэта): {:.2f}'.format(silhouette_score(X_sc, labels)))"
   ]
  },
  {
   "cell_type": "markdown",
   "id": "d4379d85",
   "metadata": {},
   "source": [
    "**Running k-means and computing inter-cluster distance score for various *k* values**"
   ]
  },
  {
   "cell_type": "code",
   "execution_count": null,
   "id": "0a08a9fe",
   "metadata": {},
   "outputs": [],
   "source": [
    "from sklearn.metrics import silhouette_score, davies_bouldin_score,v_measure_score\n",
    "X_scaled = X_sc\n",
    "km_scores= []\n",
    "km_silhouette = []\n",
    "vmeasure_score =[]\n",
    "db_score = []\n",
    "for i in range(2,12):\n",
    "    km = KMeans(n_clusters=i, random_state=0).fit(X_scaled)\n",
    "    preds = km.predict(X_scaled)\n",
    "    \n",
    "    print(\"Score for number of cluster(s) {}: {}\".format(i,km.score(X_scaled)))\n",
    "    km_scores.append(-km.score(X_scaled))\n",
    "    \n",
    "    silhouette = silhouette_score(X_scaled,preds)\n",
    "    km_silhouette.append(silhouette)\n",
    "    print(\"Silhouette score for number of cluster(s) {}: {}\".format(i,silhouette))\n",
    "    \n",
    "    db = davies_bouldin_score(X_scaled,preds)\n",
    "    db_score.append(db)\n",
    "    print(\"Davies Bouldin score for number of cluster(s) {}: {}\".format(i,db))\n",
    "    \n",
    "    # v_measure = v_measure_score(y,preds)\n",
    "    # vmeasure_score.append(v_measure)\n",
    "    # print(\"V-measure score for number of cluster(s) {}: {}\".format(i,v_measure))\n",
    "    # print(\"-\"*100)"
   ]
  },
  {
   "cell_type": "code",
   "execution_count": null,
   "id": "1691b7bc",
   "metadata": {},
   "outputs": [],
   "source": [
    "plt.figure(figsize=(7,4))\n",
    "plt.title(\"The elbow method for determining number of clusters\\n\",fontsize=16)\n",
    "plt.scatter(x=[i for i in range(2,12)],y=km_scores,s=150,edgecolor='k')\n",
    "plt.grid(True)\n",
    "plt.xlabel(\"Number of clusters\",fontsize=14)\n",
    "plt.ylabel(\"K-means score\",fontsize=15)\n",
    "plt.xticks([i for i in range(2,12)],fontsize=14)\n",
    "plt.yticks(fontsize=15)\n",
    "plt.show()"
   ]
  },
  {
   "cell_type": "code",
   "execution_count": null,
   "id": "00e34c29",
   "metadata": {},
   "outputs": [],
   "source": [
    "plt.figure(figsize=(7,4))\n",
    "plt.title(\"The silhouette coefficient method \\nfor determining number of clusters\\n\",fontsize=16)\n",
    "plt.scatter(x=[i for i in range(2,12)],y=km_silhouette,s=150,edgecolor='k')\n",
    "plt.grid(True)\n",
    "plt.xlabel(\"Number of clusters\",fontsize=14)\n",
    "plt.ylabel(\"Silhouette score\",fontsize=15)\n",
    "plt.xticks([i for i in range(2,12)],fontsize=14)\n",
    "plt.yticks(fontsize=15)\n",
    "plt.show()"
   ]
  },
  {
   "cell_type": "code",
   "execution_count": null,
   "id": "6e5c3169",
   "metadata": {},
   "outputs": [],
   "source": [
    "# Expectation-maximization (Gaussian Mixture Model)\n",
    "from sklearn.mixture import GaussianMixture\n",
    "gm_bic= []\n",
    "gm_score=[]\n",
    "for i in range(2,12):\n",
    "    gm = GaussianMixture(n_components=i,n_init=10,tol=1e-3,max_iter=1000).fit(X_scaled)\n",
    "    print(\"BIC for number of cluster(s) {}: {}\".format(i,gm.bic(X_scaled)))\n",
    "    print(\"Log-likelihood score for number of cluster(s) {}: {}\".format(i,gm.score(X_scaled)))\n",
    "    print(\"-\"*100)\n",
    "    gm_bic.append(-gm.bic(X_scaled))\n",
    "    gm_score.append(gm.score(X_scaled))"
   ]
  },
  {
   "cell_type": "code",
   "execution_count": null,
   "id": "4ed06197",
   "metadata": {},
   "outputs": [],
   "source": [
    "plt.figure(figsize=(7,4))\n",
    "plt.title(\"The Gaussian Mixture model BIC \\nfor determining number of clusters\\n\",fontsize=16)\n",
    "plt.scatter(x=[i for i in range(2,12)],y=np.log(gm_bic),s=150,edgecolor='k')\n",
    "plt.grid(True)\n",
    "plt.xlabel(\"Number of clusters\",fontsize=14)\n",
    "plt.ylabel(\"Log of Gaussian mixture BIC score\",fontsize=15)\n",
    "plt.xticks([i for i in range(2,12)],fontsize=14)\n",
    "plt.yticks(fontsize=15)\n",
    "plt.show()"
   ]
  },
  {
   "cell_type": "code",
   "execution_count": null,
   "id": "15e35a5b",
   "metadata": {},
   "outputs": [],
   "source": [
    "plt.scatter(x=[i for i in range(2,12)],y=gm_score,s=150,edgecolor='k')\n",
    "plt.show()"
   ]
  },
  {
   "cell_type": "markdown",
   "id": "1ac2e785",
   "metadata": {},
   "source": [
    "Вывод"
   ]
  },
  {
   "cell_type": "markdown",
   "id": "0feb0aa2",
   "metadata": {},
   "source": [
    "### Уменьшение размерности данных с помощью метода главных компонент"
   ]
  },
  {
   "cell_type": "markdown",
   "id": "f8f57b40",
   "metadata": {},
   "source": [
    "Для того чтобы лучше понять, как взаимосвязаны между собой факторы, влияющие на склонность клиетов к покупке воспользуемся методом PCA."
   ]
  },
  {
   "cell_type": "code",
   "execution_count": null,
   "id": "20029f8b",
   "metadata": {},
   "outputs": [],
   "source": [
    "# Применение PCA с 2мя компонентами\n",
    "pca = PCA(n_components=2)\n",
    "X_pca = pca.fit_transform(X_sc)\n",
    "\n",
    "# Визуализация\n",
    "plt.scatter(X_pca[:, 0], X_pca[:, 1], c=y, cmap='viridis')\n",
    "plt.title(\"Визуализация данных с PCA\")\n",
    "plt.xlabel(\"Главная компонента 1\")\n",
    "plt.ylabel(\"Главная компонента 2\")\n",
    "plt.show()"
   ]
  },
  {
   "cell_type": "markdown",
   "id": "3c2f4a8a",
   "metadata": {},
   "source": [
    "Посмотрим, какие факторы больше всего повлияли на эти компоненты."
   ]
  },
  {
   "cell_type": "code",
   "execution_count": null,
   "id": "ba9f81ab",
   "metadata": {},
   "outputs": [],
   "source": [
    "# Получение собственных векторов (весов) главных компонент\n",
    "eigen_vectors = pca.components_\n",
    "\n",
    "# Визуализация весов для первых нескольких компонент\n",
    "\n",
    "\n",
    "# !!!!! Здесь нужно будет доработать код. Если не получится, то вывести просто веса главных компонент.\n",
    "plt.figure(figsize=(10, 5))\n",
    "for i in range(5):\n",
    "    plt.subplot(1, 5, i + 1)\n",
    "    plt.imshow(eigen_vectors[i].reshape(имя_изображения), cmap='viridis')\n",
    "    plt.title(f\"Главная компонента {i + 1}\")\n",
    "    plt.axis('off')\n",
    "plt.show()"
   ]
  },
  {
   "cell_type": "code",
   "execution_count": null,
   "id": "84a2f3bf",
   "metadata": {},
   "outputs": [],
   "source": [
    " Попробуем использовать метод главных компонент для улучшения качества кластеризации."
   ]
  },
  {
   "cell_type": "code",
   "execution_count": null,
   "id": "bb9f0723",
   "metadata": {},
   "outputs": [],
   "source": [
    "# Кластеризация после применения PCA\n",
    "kmeans_pca = KMeans(n_clusters=5)\n",
    "labels_pca = kmeans_pca.fit_predict(X_pca)\n",
    "\n",
    "# Визуализация результатов\n",
    "plt.figure(figsize=(12, 6))\n",
    "plt.subplot(121)\n",
    "plt.scatter(X_sc[:, 0], X_sc[:, 1], c=labels, cmap='viridis')\n",
    "plt.title(\"Кластеризация без PCA\")\n",
    "plt.subplot(122)\n",
    "plt.scatter(X_pca[:, 0], X_pca[:, 1], c=labels_pca, cmap='viridis')\n",
    "plt.title(\"Кластеризация после PCA\")\n",
    "plt.show()"
   ]
  },
  {
   "cell_type": "markdown",
   "id": "fb319bcf",
   "metadata": {},
   "source": [
    "## 3. Портрет потенциального клиента"
   ]
  },
  {
   "cell_type": "code",
   "execution_count": null,
   "id": "8b844f5e",
   "metadata": {},
   "outputs": [],
   "source": [
    "data.groupby('').mean()\n",
    "\n",
    "data.pivot_table(index='', values='', aggfunc=['',''])"
   ]
  },
  {
   "cell_type": "code",
   "execution_count": null,
   "id": "fdc42b15",
   "metadata": {},
   "outputs": [],
   "source": []
  },
  {
   "cell_type": "code",
   "execution_count": null,
   "id": "69cb8add",
   "metadata": {},
   "outputs": [],
   "source": []
  },
  {
   "cell_type": "code",
   "execution_count": null,
   "id": "11403833",
   "metadata": {},
   "outputs": [],
   "source": []
  },
  {
   "cell_type": "code",
   "execution_count": null,
   "id": "6b7b81be",
   "metadata": {},
   "outputs": [],
   "source": []
  },
  {
   "cell_type": "markdown",
   "id": "39dad15c",
   "metadata": {},
   "source": [
    "## Общий вывод"
   ]
  },
  {
   "cell_type": "code",
   "execution_count": null,
   "id": "9bbe0128",
   "metadata": {},
   "outputs": [],
   "source": []
  },
  {
   "cell_type": "code",
   "execution_count": null,
   "id": "170df822",
   "metadata": {},
   "outputs": [],
   "source": []
  },
  {
   "cell_type": "code",
   "execution_count": null,
   "id": "5f388b6b",
   "metadata": {},
   "outputs": [],
   "source": []
  },
  {
   "cell_type": "code",
   "execution_count": null,
   "id": "4641d6bb",
   "metadata": {},
   "outputs": [],
   "source": []
  },
  {
   "cell_type": "code",
   "execution_count": null,
   "id": "67241a40",
   "metadata": {},
   "outputs": [],
   "source": []
  }
 ],
 "metadata": {
  "kernelspec": {
   "display_name": "Python 3 (ipykernel)",
   "language": "python",
   "name": "python3"
  },
  "language_info": {
   "codemirror_mode": {
    "name": "ipython",
    "version": 3
   },
   "file_extension": ".py",
   "mimetype": "text/x-python",
   "name": "python",
   "nbconvert_exporter": "python",
   "pygments_lexer": "ipython3",
   "version": "3.9.13"
  }
 },
 "nbformat": 4,
 "nbformat_minor": 5
}
