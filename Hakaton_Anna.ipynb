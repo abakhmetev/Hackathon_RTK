{
 "cells": [
  {
   "cell_type": "markdown",
   "id": "8269dfe8",
   "metadata": {},
   "source": [
    "<span style=\"color:blue\">*magic_data*</span>"
   ]
  },
  {
   "cell_type": "markdown",
   "id": "48238a22",
   "metadata": {},
   "source": [
    "# Формирование портрета потенциального клиента для Ростелекома\n",
    "\n",
    "от команды magic_data"
   ]
  },
  {
   "cell_type": "markdown",
   "id": "547c9035",
   "metadata": {},
   "source": [
    "**Цель исследования:** на основе выявленных закономерностей в данных о продажах B2B клиентам за прошлые периоды сформировать рекомендации по повышению эффективности процесса по привлечению новых клиентов.\n",
    "\n",
    "**Задачи исследования:**\n",
    "\n",
    "1. Создать модель данных, позволяющую объединить исходные данные.\n",
    "\n",
    "2. Провести предобработку данных, в том числе:\n",
    "- проверить данные на валидность;\n",
    "- проанализировать данные на предмет наличия пропусков, дубликатов, ошибок.\n",
    "\n",
    "3. Провести разведочный анализ EDA, в том числе:\n",
    "- анализ показателей описательной статистики по имеющимся признакам;\n",
    "- выявление аномалий и выбросов;\n",
    "- предварительный анализ корреляции между признаками, устранение мультиколлинеарности;\n",
    "- преобразование данных (стандартизация, перевод категориальных переменных в бинарный вид);\n",
    "- сформулировать гипотезы, выбрать модели и алгоритмы классификации потенциальных клиентов;\n",
    "- проанализировать временной ряд на предмет станционарности, автокорреляции, наличия тренда и сезонности.\n",
    "\n",
    "4. Реализовать алгоритмы машинного обучения, в том числе:\n",
    "- провести разбиение выборки две части: train/test;\n",
    "- обучить модели;\n",
    "- сделать прогнозы;\n",
    "- оценить метрики моделей;\n",
    "- выбрать лучшие модели и на их основе сформировать разметку новых клиентов по склонности к подключению.\n",
    "\n",
    "5. Составить портрет потенциального клиента.\n",
    "\n",
    "\n",
    "6. Визуализировать результаты анализа.\n",
    "\n",
    "\n",
    "7. Сформировать рекомендации по будущим продажам по каждому региону.\n",
    "\n",
    "**Описание данных:**\n",
    "\n",
    "Датасет представляет собой 5 excel файлов, в каждом из которых содержится информация по клиентам: потенциальным и сделавшими покупку в период с января 2023 года по июль 2023 года.\n",
    "\n",
    "\n",
    "**Показатели:**\n",
    "\n",
    "1. Данные по продажам - sales.xls:\n",
    "- month_sale - месяц продажи,\n",
    "- day_sale - день продажи (дата продажи),\n",
    "- id_client_rf - УИД клиента, собранный с помощью склейки «Номер клиента» и «Филиал»,\n",
    "- sale_size - размер продажи («High» - большая покупка, «Middle» - средняя покупка, «Low» - малая покупка).\n",
    "\n",
    "2. Данные по адресам клиентов - address_client.csv:\n",
    "- id_client_rf - УИД клиента, собранный с помощью склейки «Номер клиента» и «Филиал»,\n",
    "- address - наименование адреса,\n",
    "- flag_provider - наличие провайдеров-конкурентов на адресе, где 1 – есть информация о провайдерах, 0 – нет информации о провайдерах,\n",
    "- nflag_have_free_ports - наличие технической возможности подключения на адресе, где 1 – есть техническая возможность, 0 – требуется уточнение,\n",
    "- tech_name - наименование технологии подключения на адресе,\n",
    "- latitude - координаты адреса (широта),\n",
    "- longitude - координаты адреса (долгота).\n",
    "\n",
    "3. Данные по сфере деятельности - okved_industry_client.csv:\n",
    "- id_client_rf - УИД клиента, собранный с помощью склейки «Номер клиента» и «Филиал»,\n",
    "- сode_okved - код ОКВЭД,\n",
    "- name_okved - наименование ОКВЭД,\n",
    "- type_okved - тип ОКВЭД (1 – основной, 0 – дополнительный),\n",
    "- industry - yаименование индустрии.\n",
    "\n",
    "4. Данные по клиентам - base_info_client.csv:\n",
    "- id_client_rf - УИД клиента, собранный с помощью склейки «Номер клиента» и «Филиал»,\n",
    "- name_rf - наименование филиала,\n",
    "- id_client - номер клиента,\n",
    "- workersrange - кол-во сотрудников, работающих в компании,\n",
    "- total_revenue - общая выручка, указанная в млн руб. (0 – до 1 млн руб., 5 – до 5 млн руб. и т.д.)\n",
    "- companywithsameinfo - кол-во компаний с похожей финансовой информацией,\n",
    "- arbitrationcases - кол-во арбитражных дел,\n",
    "- datefirstreg - дата регистрации юр. лица,\n",
    "- flag_site - флаг наличия сайта у клиента, где 1 – сайт есть, 0 – сайта нет,\n",
    "- flag_business_center - флаг присутствия в бизнес-центре, где 1 – да, 0 – нет,\n",
    "- flag_resident - флаг присутствия в жилом доме, где 1 – да, 0 – нет,\n",
    "- date_actual_data - дата актуализации данных,\n",
    "- flag_vk - флаг наличия группы в VK, где 1 – да, 0 – нет.\n",
    "\n",
    "5. Список клиентов для скоринга - final_list.csv:\n",
    "\n",
    "- id_client_rf - УИД клиента, собранный с помощью склейки «Номер клиента» и «Филиал».\n"
   ]
  },
  {
   "cell_type": "markdown",
   "id": "0e869001",
   "metadata": {},
   "source": [
    "## 1. Предобработка данных и EDA"
   ]
  },
  {
   "cell_type": "markdown",
   "id": "7ec068a1",
   "metadata": {},
   "source": [
    "**Импортируем библиотеки и загрузим файлы**"
   ]
  },
  {
   "cell_type": "code",
   "execution_count": null,
   "id": "8509e91a",
   "metadata": {},
   "outputs": [],
   "source": [
    "#Попыталась сделать так, чтобы был общий доступ к датасетам, но, видимо, на моем копьютере установлена старая версия питона,\n",
    "#поэтому выдоает ошибку, что имя urlencode не задано\n",
    "#Да и залить на яндекс.диск я не смогла, видимо, интернет сегодня плохой или данные слишком большие.\n",
    "#У кого есть желание, можете докрутить код, чтобы мы работали с одной и той же тетрадкой в дальнейшем.\n",
    "\n",
    "#base_url = 'https://cloud-api.yandex.net/v1/disk/public/resources/download?'\n",
    " \n",
    "#public_key_sales = 'https://disk.yandex.ru/i/Y2gL1bC5pXQ8gA'\n",
    "#public_key_address_client = ''\n",
    "#public_key_okved_industry_client = ''\n",
    "#public_key_base_info_client = ''\n",
    "#public_key_final_list = ''\n",
    "\n",
    "#def loading_files_csv(public_key):\n",
    "#    final_url = base_url + urlencode(dict(public_key=public_key))\n",
    "#    response = requests.get(final_url)\n",
    "#    download_url = response.json()['href']\n",
    "#    return download_url\n",
    "\n",
    "#sales_try = pd.read_csv(loading_files_csv(public_key_sales))"
   ]
  },
  {
   "cell_type": "code",
   "execution_count": 16,
   "id": "f580cbb5",
   "metadata": {},
   "outputs": [],
   "source": [
    "# !pip install statsmodels"
   ]
  },
  {
   "cell_type": "code",
   "execution_count": 1,
   "id": "13366935",
   "metadata": {},
   "outputs": [],
   "source": [
    "import pandas as pd\n",
    "import matplotlib.pyplot as plt\n",
    "import seaborn as sns\n",
    "import numpy as np\n",
    "from scipy import stats as st\n",
    "import math as mth\n",
    "import datetime as dt\n",
    "from urllib.parse import urlencode\n",
    "import requests\n",
    "\n",
    "#import plotly.express as px\n",
    "#from pandas.plotting import register_matplotlib_converters\n",
    "#from urllib.parse import urlencode\n",
    "#import requests\n",
    "#import json\n",
    "#from folium import Map, Choropleth, Marker\n",
    "#from folium.plugins import MarkerCluster\n",
    "\n",
    "from statsmodels.tsa.seasonal import seasonal_decompose\n",
    "from statsmodels.tsa.stattools import adfuller\n",
    "from pylab import rcParams\n",
    "from statsmodels.graphics.tsaplots import plot_acf\n",
    "from statsmodels.tsa.arima_model import ARMA, ARIMA\n",
    "\n",
    "#from statsmodels.tsa.statespace.sarimax import SARIMAX\n",
    "#import statsmodels.api as sm\n",
    "#import warnings\n",
    "#from datetime import timedelta\n",
    "\n",
    "from sklearn.model_selection import train_test_split\n",
    "from sklearn.linear_model import Lasso, LinearRegression, Ridge, LogisticRegression\n",
    "from sklearn.preprocessing import StandardScaler\n",
    "from sklearn import metrics\n",
    "from sklearn.tree import DecisionTreeRegressor, DecisionTreeClassifier\n",
    "from sklearn.ensemble import RandomForestRegressor, GradientBoostingRegressor, RandomForestClassifier, GradientBoostingClassifier\n",
    "from sklearn.cluster import KMeans\n",
    "from sklearn.svm import SVC\n",
    "from sklearn.neighbors import KNeighborsRegressor\n",
    "from scipy.cluster.hierarchy import dendrogram, linkage \n",
    "from sklearn.decomposition import PCA"
   ]
  },
  {
   "cell_type": "markdown",
   "id": "d4c0d907",
   "metadata": {},
   "source": [
    "**Загрузка датасетов и общая информация по ним**"
   ]
  },
  {
   "cell_type": "code",
   "execution_count": 2,
   "id": "04ada0b5",
   "metadata": {},
   "outputs": [],
   "source": [
    "# Чтение файлов\n",
    "address_client = pd.read_csv(r'C:\\WORK\\STUDY\\GIT\\Данные для хакатона\\address_client.csv', # WORK\\STUDY\\GIT\\Данные для хакатона, Users\\Anna\\OneDrive\\Рабочий стол\\Данные хакатон\n",
    "                             encoding = \"utf-8\", on_bad_lines='skip',\n",
    "                             names=['id_client_rf', 'address', 'flag_provider', 'nflag_have_free_ports',\n",
    "                                    'tech_name', 'latitude', 'longitude'])\n",
    "\n",
    "base_info_client = pd.read_csv(r'C:\\WORK\\STUDY\\GIT\\Данные для хакатона\\base_info_client.csv',\n",
    "                               encoding = \"utf-8\", names=['id_client_rf', 'name_rf', 'id_client',\n",
    "                                                          'workersrange', 'total_revenue', 'companywithsameinfo',\n",
    "                                                          'arbitrationcases', 'datefirstreg', 'flag_site',\n",
    "                                                          'flag_business_center', 'flag_resident', 'date_actual_data',\n",
    "                                                          'flag_vk'], parse_dates=['datefirstreg','date_actual_data'])\n",
    "\n",
    "final_list = pd.read_csv(r'C:\\WORK\\STUDY\\GIT\\Данные для хакатона\\final_list.csv',\n",
    "                         encoding = \"utf-8\", names=['id_client_rf'])\n",
    "\n",
    "okved_industry_client = pd.read_csv(r'C:\\WORK\\STUDY\\GIT\\Данные для хакатона\\okved_industry_client.csv',\n",
    "                                    encoding = \"utf-8\", names = ['id_client_rf', 'Code_okved', 'Name_okved',\n",
    "                                                                 'Type_okved', 'Industry'])\n",
    "sales = pd.read_excel(r'C:\\WORK\\STUDY\\GIT\\Данные для хакатона\\sales.xlsx',\n",
    "                      names = ['month_sale', 'day_sale', 'id_client_rf', 'sale_size'])"
   ]
  },
  {
   "cell_type": "code",
   "execution_count": 3,
   "id": "f69f8a8d",
   "metadata": {},
   "outputs": [
    {
     "name": "stdout",
     "output_type": "stream",
     "text": [
      "Размерность address_client: 1485674\n",
      "<class 'pandas.core.frame.DataFrame'>\n",
      "RangeIndex: 1485674 entries, 0 to 1485673\n",
      "Data columns (total 7 columns):\n",
      " #   Column                 Non-Null Count    Dtype  \n",
      "---  ------                 --------------    -----  \n",
      " 0   id_client_rf           1485674 non-null  object \n",
      " 1   address                1485674 non-null  object \n",
      " 2   flag_provider          1485674 non-null  int64  \n",
      " 3   nflag_have_free_ports  1485674 non-null  int64  \n",
      " 4   tech_name              736940 non-null   object \n",
      " 5   latitude               1259978 non-null  float64\n",
      " 6   longitude              1259978 non-null  float64\n",
      "dtypes: float64(2), int64(2), object(3)\n",
      "memory usage: 79.3+ MB\n",
      "None\n",
      "\n",
      "\n",
      "Размерность base_info_client: 2218328\n",
      "\n",
      "\n",
      "<class 'pandas.core.frame.DataFrame'>\n",
      "RangeIndex: 2218328 entries, 0 to 2218327\n",
      "Data columns (total 13 columns):\n",
      " #   Column                Dtype         \n",
      "---  ------                -----         \n",
      " 0   id_client_rf          int64         \n",
      " 1   name_rf               object        \n",
      " 2   id_client             object        \n",
      " 3   workersrange          object        \n",
      " 4   total_revenue         int64         \n",
      " 5   companywithsameinfo   float64       \n",
      " 6   arbitrationcases      float64       \n",
      " 7   datefirstreg          datetime64[ns]\n",
      " 8   flag_site             int64         \n",
      " 9   flag_business_center  int64         \n",
      " 10  flag_resident         int64         \n",
      " 11  date_actual_data      datetime64[ns]\n",
      " 12  flag_vk               int64         \n",
      "dtypes: datetime64[ns](2), float64(2), int64(6), object(3)\n",
      "memory usage: 220.0+ MB\n",
      "None\n",
      "Размерность final_list: 1950766\n",
      "\n",
      "\n",
      "<class 'pandas.core.frame.DataFrame'>\n",
      "RangeIndex: 1950766 entries, 0 to 1950765\n",
      "Data columns (total 1 columns):\n",
      " #   Column        Dtype \n",
      "---  ------        ----- \n",
      " 0   id_client_rf  object\n",
      "dtypes: object(1)\n",
      "memory usage: 14.9+ MB\n",
      "None\n",
      "Размерность okved_industry_client: 5578226\n",
      "\n",
      "\n",
      "<class 'pandas.core.frame.DataFrame'>\n",
      "RangeIndex: 5578226 entries, 0 to 5578225\n",
      "Data columns (total 5 columns):\n",
      " #   Column        Dtype \n",
      "---  ------        ----- \n",
      " 0   id_client_rf  object\n",
      " 1   Code_okved    object\n",
      " 2   Name_okved    object\n",
      " 3   Type_okved    int64 \n",
      " 4   Industry      object\n",
      "dtypes: int64(1), object(4)\n",
      "memory usage: 212.8+ MB\n",
      "None\n",
      "Размерность sales: 10428\n",
      "<class 'pandas.core.frame.DataFrame'>\n",
      "RangeIndex: 10428 entries, 0 to 10427\n",
      "Data columns (total 4 columns):\n",
      " #   Column        Non-Null Count  Dtype         \n",
      "---  ------        --------------  -----         \n",
      " 0   month_sale    10428 non-null  datetime64[ns]\n",
      " 1   day_sale      10428 non-null  datetime64[ns]\n",
      " 2   id_client_rf  10428 non-null  object        \n",
      " 3   sale_size     10428 non-null  object        \n",
      "dtypes: datetime64[ns](2), object(2)\n",
      "memory usage: 326.0+ KB\n",
      "None\n"
     ]
    }
   ],
   "source": [
    "# Вывод размерностей\n",
    "pd.set_option('display.max_columns', 50)\n",
    "print('Размерность address_client:', address_client.shape[0])\n",
    "print(address_client.info())\n",
    "print('\\n')\n",
    "print('Размерность base_info_client:', base_info_client.shape[0])\n",
    "print('\\n')\n",
    "print(base_info_client.info())\n",
    "print('Размерность final_list:', final_list.shape[0])\n",
    "print('\\n')\n",
    "print(final_list.info())\n",
    "print('Размерность okved_industry_client:', okved_industry_client.shape[0])\n",
    "print('\\n')\n",
    "print(okved_industry_client.info())\n",
    "print('Размерность sales:', sales.shape[0])\n",
    "print(sales.info())"
   ]
  },
  {
   "cell_type": "code",
   "execution_count": 4,
   "id": "f0317281",
   "metadata": {},
   "outputs": [
    {
     "name": "stdout",
     "output_type": "stream",
     "text": [
      "address_client:\n",
      "id_client_rf             587676\n",
      "address                  183457\n",
      "flag_provider                 2\n",
      "nflag_have_free_ports         2\n",
      "tech_name                    40\n",
      "latitude                 114296\n",
      "longitude                116575\n",
      "dtype: int64\n",
      "\n",
      "base_info_client:\n",
      "id_client_rf            2218328\n",
      "name_rf                      13\n",
      "id_client               2218328\n",
      "workersrange                 11\n",
      "total_revenue              1559\n",
      "companywithsameinfo         135\n",
      "arbitrationcases            575\n",
      "datefirstreg              12865\n",
      "flag_site                     2\n",
      "flag_business_center          2\n",
      "flag_resident                 2\n",
      "date_actual_data           4551\n",
      "flag_vk                       2\n",
      "dtype: int64\n",
      "\n",
      "final_list:\n",
      "id_client_rf    1950766\n",
      "dtype: int64\n",
      "\n",
      "okved_industry_client:\n",
      "id_client_rf    2139266\n",
      "Code_okved         2470\n",
      "Name_okved         2396\n",
      "Type_okved            2\n",
      "Industry             33\n",
      "dtype: int64\n",
      "\n",
      "sales:\n",
      "month_sale         7\n",
      "day_sale         193\n",
      "id_client_rf    9316\n",
      "sale_size          3\n",
      "dtype: int64\n"
     ]
    }
   ],
   "source": [
    "# Проверка кол-ва уникальных значений для столбцов, где должно быть булево значение\n",
    "print('address_client:\\n', address_client.nunique(), sep='')\n",
    "print()\n",
    "print('base_info_client:\\n', base_info_client.nunique(), sep='')\n",
    "print()\n",
    "print('final_list:\\n', final_list.nunique(), sep='')\n",
    "print()\n",
    "print('okved_industry_client:\\n', okved_industry_client.nunique(), sep='')\n",
    "print()\n",
    "print('sales:\\n', sales.nunique(), sep='')"
   ]
  },
  {
   "cell_type": "markdown",
   "id": "047ff35a",
   "metadata": {},
   "source": [
    "**Вывод таблиц**"
   ]
  },
  {
   "cell_type": "code",
   "execution_count": 5,
   "id": "3efa15ad",
   "metadata": {},
   "outputs": [
    {
     "data": {
      "text/html": [
       "<div>\n",
       "<style scoped>\n",
       "    .dataframe tbody tr th:only-of-type {\n",
       "        vertical-align: middle;\n",
       "    }\n",
       "\n",
       "    .dataframe tbody tr th {\n",
       "        vertical-align: top;\n",
       "    }\n",
       "\n",
       "    .dataframe thead th {\n",
       "        text-align: right;\n",
       "    }\n",
       "</style>\n",
       "<table border=\"1\" class=\"dataframe\">\n",
       "  <thead>\n",
       "    <tr style=\"text-align: right;\">\n",
       "      <th></th>\n",
       "      <th>id_client_rf</th>\n",
       "      <th>address</th>\n",
       "      <th>flag_provider</th>\n",
       "      <th>nflag_have_free_ports</th>\n",
       "      <th>tech_name</th>\n",
       "      <th>latitude</th>\n",
       "      <th>longitude</th>\n",
       "    </tr>\n",
       "  </thead>\n",
       "  <tbody>\n",
       "    <tr>\n",
       "      <th>0</th>\n",
       "      <td>00840127_Ф13</td>\n",
       "      <td>уфа г.\\, лесотехникума улица\\, 49/1</td>\n",
       "      <td>1</td>\n",
       "      <td>0</td>\n",
       "      <td>NaN</td>\n",
       "      <td>NaN</td>\n",
       "      <td>NaN</td>\n",
       "    </tr>\n",
       "    <tr>\n",
       "      <th>1</th>\n",
       "      <td>00840181_Ф13</td>\n",
       "      <td>уфа г.\\, лесотехникума улица\\, 49/1</td>\n",
       "      <td>1</td>\n",
       "      <td>0</td>\n",
       "      <td>NaN</td>\n",
       "      <td>NaN</td>\n",
       "      <td>NaN</td>\n",
       "    </tr>\n",
       "    <tr>\n",
       "      <th>2</th>\n",
       "      <td>00839528_Ф13</td>\n",
       "      <td>уфа г.\\, лесотехникума улица\\, 49/1</td>\n",
       "      <td>1</td>\n",
       "      <td>0</td>\n",
       "      <td>NaN</td>\n",
       "      <td>NaN</td>\n",
       "      <td>NaN</td>\n",
       "    </tr>\n",
       "    <tr>\n",
       "      <th>3</th>\n",
       "      <td>00839607_Ф13</td>\n",
       "      <td>уфа г.\\, лесотехникума улица\\, 49/1</td>\n",
       "      <td>1</td>\n",
       "      <td>0</td>\n",
       "      <td>NaN</td>\n",
       "      <td>NaN</td>\n",
       "      <td>NaN</td>\n",
       "    </tr>\n",
       "    <tr>\n",
       "      <th>4</th>\n",
       "      <td>00075449_Ф13</td>\n",
       "      <td>уфа г.\\, лесотехникума улица\\, 49/1</td>\n",
       "      <td>1</td>\n",
       "      <td>0</td>\n",
       "      <td>NaN</td>\n",
       "      <td>NaN</td>\n",
       "      <td>NaN</td>\n",
       "    </tr>\n",
       "  </tbody>\n",
       "</table>\n",
       "</div>"
      ],
      "text/plain": [
       "   id_client_rf                              address  flag_provider  \\\n",
       "0  00840127_Ф13  уфа г.\\, лесотехникума улица\\, 49/1              1   \n",
       "1  00840181_Ф13  уфа г.\\, лесотехникума улица\\, 49/1              1   \n",
       "2  00839528_Ф13  уфа г.\\, лесотехникума улица\\, 49/1              1   \n",
       "3  00839607_Ф13  уфа г.\\, лесотехникума улица\\, 49/1              1   \n",
       "4  00075449_Ф13  уфа г.\\, лесотехникума улица\\, 49/1              1   \n",
       "\n",
       "   nflag_have_free_ports tech_name  latitude  longitude  \n",
       "0                      0       NaN       NaN        NaN  \n",
       "1                      0       NaN       NaN        NaN  \n",
       "2                      0       NaN       NaN        NaN  \n",
       "3                      0       NaN       NaN        NaN  \n",
       "4                      0       NaN       NaN        NaN  "
      ]
     },
     "execution_count": 5,
     "metadata": {},
     "output_type": "execute_result"
    }
   ],
   "source": [
    "# 1. address_client\n",
    "address_client.head()"
   ]
  },
  {
   "cell_type": "code",
   "execution_count": 6,
   "id": "26202323",
   "metadata": {},
   "outputs": [
    {
     "data": {
      "text/html": [
       "<div>\n",
       "<style scoped>\n",
       "    .dataframe tbody tr th:only-of-type {\n",
       "        vertical-align: middle;\n",
       "    }\n",
       "\n",
       "    .dataframe tbody tr th {\n",
       "        vertical-align: top;\n",
       "    }\n",
       "\n",
       "    .dataframe thead th {\n",
       "        text-align: right;\n",
       "    }\n",
       "</style>\n",
       "<table border=\"1\" class=\"dataframe\">\n",
       "  <thead>\n",
       "    <tr style=\"text-align: right;\">\n",
       "      <th></th>\n",
       "      <th>id_client_rf</th>\n",
       "      <th>name_rf</th>\n",
       "      <th>id_client</th>\n",
       "      <th>workersrange</th>\n",
       "      <th>total_revenue</th>\n",
       "      <th>companywithsameinfo</th>\n",
       "      <th>arbitrationcases</th>\n",
       "      <th>datefirstreg</th>\n",
       "      <th>flag_site</th>\n",
       "      <th>flag_business_center</th>\n",
       "      <th>flag_resident</th>\n",
       "      <th>date_actual_data</th>\n",
       "      <th>flag_vk</th>\n",
       "    </tr>\n",
       "  </thead>\n",
       "  <tbody>\n",
       "    <tr>\n",
       "      <th>0</th>\n",
       "      <td>1631354</td>\n",
       "      <td>Ф09</td>\n",
       "      <td>01631354_Ф09</td>\n",
       "      <td>NaN</td>\n",
       "      <td>0</td>\n",
       "      <td>1.0</td>\n",
       "      <td>NaN</td>\n",
       "      <td>2020-01-29</td>\n",
       "      <td>0</td>\n",
       "      <td>0</td>\n",
       "      <td>0</td>\n",
       "      <td>NaT</td>\n",
       "      <td>0</td>\n",
       "    </tr>\n",
       "    <tr>\n",
       "      <th>1</th>\n",
       "      <td>1631368</td>\n",
       "      <td>Ф09</td>\n",
       "      <td>01631368_Ф09</td>\n",
       "      <td>NaN</td>\n",
       "      <td>0</td>\n",
       "      <td>1.0</td>\n",
       "      <td>NaN</td>\n",
       "      <td>2020-07-31</td>\n",
       "      <td>0</td>\n",
       "      <td>0</td>\n",
       "      <td>0</td>\n",
       "      <td>NaT</td>\n",
       "      <td>0</td>\n",
       "    </tr>\n",
       "    <tr>\n",
       "      <th>2</th>\n",
       "      <td>1631377</td>\n",
       "      <td>Ф09</td>\n",
       "      <td>01631377_Ф09</td>\n",
       "      <td>NaN</td>\n",
       "      <td>0</td>\n",
       "      <td>1.0</td>\n",
       "      <td>NaN</td>\n",
       "      <td>2020-08-17</td>\n",
       "      <td>0</td>\n",
       "      <td>0</td>\n",
       "      <td>0</td>\n",
       "      <td>NaT</td>\n",
       "      <td>0</td>\n",
       "    </tr>\n",
       "    <tr>\n",
       "      <th>3</th>\n",
       "      <td>1631387</td>\n",
       "      <td>Ф09</td>\n",
       "      <td>01631387_Ф09</td>\n",
       "      <td>NaN</td>\n",
       "      <td>0</td>\n",
       "      <td>1.0</td>\n",
       "      <td>NaN</td>\n",
       "      <td>2019-12-23</td>\n",
       "      <td>0</td>\n",
       "      <td>0</td>\n",
       "      <td>0</td>\n",
       "      <td>NaT</td>\n",
       "      <td>0</td>\n",
       "    </tr>\n",
       "    <tr>\n",
       "      <th>4</th>\n",
       "      <td>1631409</td>\n",
       "      <td>Ф09</td>\n",
       "      <td>01631409_Ф09</td>\n",
       "      <td>NaN</td>\n",
       "      <td>0</td>\n",
       "      <td>1.0</td>\n",
       "      <td>NaN</td>\n",
       "      <td>2020-10-19</td>\n",
       "      <td>0</td>\n",
       "      <td>0</td>\n",
       "      <td>0</td>\n",
       "      <td>NaT</td>\n",
       "      <td>0</td>\n",
       "    </tr>\n",
       "  </tbody>\n",
       "</table>\n",
       "</div>"
      ],
      "text/plain": [
       "   id_client_rf name_rf     id_client workersrange  total_revenue  \\\n",
       "0       1631354     Ф09  01631354_Ф09          NaN              0   \n",
       "1       1631368     Ф09  01631368_Ф09          NaN              0   \n",
       "2       1631377     Ф09  01631377_Ф09          NaN              0   \n",
       "3       1631387     Ф09  01631387_Ф09          NaN              0   \n",
       "4       1631409     Ф09  01631409_Ф09          NaN              0   \n",
       "\n",
       "   companywithsameinfo  arbitrationcases datefirstreg  flag_site  \\\n",
       "0                  1.0               NaN   2020-01-29          0   \n",
       "1                  1.0               NaN   2020-07-31          0   \n",
       "2                  1.0               NaN   2020-08-17          0   \n",
       "3                  1.0               NaN   2019-12-23          0   \n",
       "4                  1.0               NaN   2020-10-19          0   \n",
       "\n",
       "   flag_business_center  flag_resident date_actual_data  flag_vk  \n",
       "0                     0              0              NaT        0  \n",
       "1                     0              0              NaT        0  \n",
       "2                     0              0              NaT        0  \n",
       "3                     0              0              NaT        0  \n",
       "4                     0              0              NaT        0  "
      ]
     },
     "execution_count": 6,
     "metadata": {},
     "output_type": "execute_result"
    }
   ],
   "source": [
    "# 2. base_info_client\n",
    "base_info_client.head()"
   ]
  },
  {
   "cell_type": "code",
   "execution_count": 7,
   "id": "cd3778cf",
   "metadata": {},
   "outputs": [
    {
     "data": {
      "text/html": [
       "<div>\n",
       "<style scoped>\n",
       "    .dataframe tbody tr th:only-of-type {\n",
       "        vertical-align: middle;\n",
       "    }\n",
       "\n",
       "    .dataframe tbody tr th {\n",
       "        vertical-align: top;\n",
       "    }\n",
       "\n",
       "    .dataframe thead th {\n",
       "        text-align: right;\n",
       "    }\n",
       "</style>\n",
       "<table border=\"1\" class=\"dataframe\">\n",
       "  <thead>\n",
       "    <tr style=\"text-align: right;\">\n",
       "      <th></th>\n",
       "      <th>id_client_rf</th>\n",
       "    </tr>\n",
       "  </thead>\n",
       "  <tbody>\n",
       "    <tr>\n",
       "      <th>0</th>\n",
       "      <td>01768987_Ф04</td>\n",
       "    </tr>\n",
       "    <tr>\n",
       "      <th>1</th>\n",
       "      <td>01769012_Ф04</td>\n",
       "    </tr>\n",
       "    <tr>\n",
       "      <th>2</th>\n",
       "      <td>01769016_Ф04</td>\n",
       "    </tr>\n",
       "    <tr>\n",
       "      <th>3</th>\n",
       "      <td>01769018_Ф04</td>\n",
       "    </tr>\n",
       "    <tr>\n",
       "      <th>4</th>\n",
       "      <td>01769044_Ф04</td>\n",
       "    </tr>\n",
       "  </tbody>\n",
       "</table>\n",
       "</div>"
      ],
      "text/plain": [
       "   id_client_rf\n",
       "0  01768987_Ф04\n",
       "1  01769012_Ф04\n",
       "2  01769016_Ф04\n",
       "3  01769018_Ф04\n",
       "4  01769044_Ф04"
      ]
     },
     "execution_count": 7,
     "metadata": {},
     "output_type": "execute_result"
    }
   ],
   "source": [
    "# 3. final_list\n",
    "final_list.head()"
   ]
  },
  {
   "cell_type": "code",
   "execution_count": 8,
   "id": "03a05de6",
   "metadata": {},
   "outputs": [
    {
     "data": {
      "text/html": [
       "<div>\n",
       "<style scoped>\n",
       "    .dataframe tbody tr th:only-of-type {\n",
       "        vertical-align: middle;\n",
       "    }\n",
       "\n",
       "    .dataframe tbody tr th {\n",
       "        vertical-align: top;\n",
       "    }\n",
       "\n",
       "    .dataframe thead th {\n",
       "        text-align: right;\n",
       "    }\n",
       "</style>\n",
       "<table border=\"1\" class=\"dataframe\">\n",
       "  <thead>\n",
       "    <tr style=\"text-align: right;\">\n",
       "      <th></th>\n",
       "      <th>id_client_rf</th>\n",
       "      <th>Code_okved</th>\n",
       "      <th>Name_okved</th>\n",
       "      <th>Type_okved</th>\n",
       "      <th>Industry</th>\n",
       "    </tr>\n",
       "  </thead>\n",
       "  <tbody>\n",
       "    <tr>\n",
       "      <th>0</th>\n",
       "      <td>00811390_Ф13</td>\n",
       "      <td>47.91.2</td>\n",
       "      <td>Торговля розничная\\, осуществляемая непосредст...</td>\n",
       "      <td>1</td>\n",
       "      <td>Интернет-бизнес</td>\n",
       "    </tr>\n",
       "    <tr>\n",
       "      <th>1</th>\n",
       "      <td>01516426_Ф10</td>\n",
       "      <td>47.91.2</td>\n",
       "      <td>Торговля розничная\\, осуществляемая непосредст...</td>\n",
       "      <td>1</td>\n",
       "      <td>Интернет-бизнес</td>\n",
       "    </tr>\n",
       "    <tr>\n",
       "      <th>2</th>\n",
       "      <td>01258497_Ф06</td>\n",
       "      <td>47.91.2</td>\n",
       "      <td>Торговля розничная\\, осуществляемая непосредст...</td>\n",
       "      <td>1</td>\n",
       "      <td>Интернет-бизнес</td>\n",
       "    </tr>\n",
       "    <tr>\n",
       "      <th>3</th>\n",
       "      <td>01583065_Ф12</td>\n",
       "      <td>47.91.2</td>\n",
       "      <td>Торговля розничная\\, осуществляемая непосредст...</td>\n",
       "      <td>1</td>\n",
       "      <td>Интернет-бизнес</td>\n",
       "    </tr>\n",
       "    <tr>\n",
       "      <th>4</th>\n",
       "      <td>01506195_Ф04</td>\n",
       "      <td>47.91.2</td>\n",
       "      <td>Торговля розничная\\, осуществляемая непосредст...</td>\n",
       "      <td>1</td>\n",
       "      <td>Интернет-бизнес</td>\n",
       "    </tr>\n",
       "  </tbody>\n",
       "</table>\n",
       "</div>"
      ],
      "text/plain": [
       "   id_client_rf Code_okved                                         Name_okved  \\\n",
       "0  00811390_Ф13    47.91.2  Торговля розничная\\, осуществляемая непосредст...   \n",
       "1  01516426_Ф10    47.91.2  Торговля розничная\\, осуществляемая непосредст...   \n",
       "2  01258497_Ф06    47.91.2  Торговля розничная\\, осуществляемая непосредст...   \n",
       "3  01583065_Ф12    47.91.2  Торговля розничная\\, осуществляемая непосредст...   \n",
       "4  01506195_Ф04    47.91.2  Торговля розничная\\, осуществляемая непосредст...   \n",
       "\n",
       "   Type_okved         Industry  \n",
       "0           1  Интернет-бизнес  \n",
       "1           1  Интернет-бизнес  \n",
       "2           1  Интернет-бизнес  \n",
       "3           1  Интернет-бизнес  \n",
       "4           1  Интернет-бизнес  "
      ]
     },
     "execution_count": 8,
     "metadata": {},
     "output_type": "execute_result"
    }
   ],
   "source": [
    "# 4. okved_industry_client\n",
    "okved_industry_client.head()"
   ]
  },
  {
   "cell_type": "code",
   "execution_count": 9,
   "id": "c0a469c1",
   "metadata": {},
   "outputs": [
    {
     "data": {
      "text/html": [
       "<div>\n",
       "<style scoped>\n",
       "    .dataframe tbody tr th:only-of-type {\n",
       "        vertical-align: middle;\n",
       "    }\n",
       "\n",
       "    .dataframe tbody tr th {\n",
       "        vertical-align: top;\n",
       "    }\n",
       "\n",
       "    .dataframe thead th {\n",
       "        text-align: right;\n",
       "    }\n",
       "</style>\n",
       "<table border=\"1\" class=\"dataframe\">\n",
       "  <thead>\n",
       "    <tr style=\"text-align: right;\">\n",
       "      <th></th>\n",
       "      <th>month_sale</th>\n",
       "      <th>day_sale</th>\n",
       "      <th>id_client_rf</th>\n",
       "      <th>sale_size</th>\n",
       "    </tr>\n",
       "  </thead>\n",
       "  <tbody>\n",
       "    <tr>\n",
       "      <th>0</th>\n",
       "      <td>2023-03-01</td>\n",
       "      <td>2023-03-16</td>\n",
       "      <td>00309682_Ф12</td>\n",
       "      <td>High</td>\n",
       "    </tr>\n",
       "    <tr>\n",
       "      <th>1</th>\n",
       "      <td>2023-03-01</td>\n",
       "      <td>2023-03-16</td>\n",
       "      <td>00309999_Ф12</td>\n",
       "      <td>High</td>\n",
       "    </tr>\n",
       "    <tr>\n",
       "      <th>2</th>\n",
       "      <td>2023-03-01</td>\n",
       "      <td>2023-03-07</td>\n",
       "      <td>00333129_Ф12</td>\n",
       "      <td>High</td>\n",
       "    </tr>\n",
       "    <tr>\n",
       "      <th>3</th>\n",
       "      <td>2023-03-01</td>\n",
       "      <td>2023-03-24</td>\n",
       "      <td>00333306_Ф12</td>\n",
       "      <td>High</td>\n",
       "    </tr>\n",
       "    <tr>\n",
       "      <th>4</th>\n",
       "      <td>2023-03-01</td>\n",
       "      <td>2023-03-07</td>\n",
       "      <td>00333741_Ф12</td>\n",
       "      <td>High</td>\n",
       "    </tr>\n",
       "  </tbody>\n",
       "</table>\n",
       "</div>"
      ],
      "text/plain": [
       "  month_sale   day_sale  id_client_rf  sale_size\n",
       "0 2023-03-01 2023-03-16  00309682_Ф12  High     \n",
       "1 2023-03-01 2023-03-16  00309999_Ф12  High     \n",
       "2 2023-03-01 2023-03-07  00333129_Ф12  High     \n",
       "3 2023-03-01 2023-03-24  00333306_Ф12  High     \n",
       "4 2023-03-01 2023-03-07  00333741_Ф12  High     "
      ]
     },
     "execution_count": 9,
     "metadata": {},
     "output_type": "execute_result"
    }
   ],
   "source": [
    "# 5. sales\n",
    "sales.head()\n",
    "# sales['sale_size'].unique()"
   ]
  },
  {
   "cell_type": "markdown",
   "id": "2152483c",
   "metadata": {},
   "source": [
    "**Анализ целостности**"
   ]
  },
  {
   "cell_type": "code",
   "execution_count": 10,
   "id": "502d16b6",
   "metadata": {},
   "outputs": [
    {
     "name": "stdout",
     "output_type": "stream",
     "text": [
      "address_client:\n",
      "id_client_rf                  0\n",
      "address                       0\n",
      "flag_provider                 0\n",
      "nflag_have_free_ports         0\n",
      "tech_name                748734\n",
      "latitude                 225696\n",
      "longitude                225696\n",
      "dtype: int64\n",
      "\n",
      "base_info_client:\n",
      "id_client_rf                  0\n",
      "name_rf                       0\n",
      "id_client                     0\n",
      "workersrange            2216478\n",
      "total_revenue                 0\n",
      "companywithsameinfo     1321582\n",
      "arbitrationcases        1781086\n",
      "datefirstreg              10800\n",
      "flag_site                     0\n",
      "flag_business_center          0\n",
      "flag_resident                 0\n",
      "date_actual_data        1751900\n",
      "flag_vk                       0\n",
      "dtype: int64\n",
      "\n",
      "final_list:\n",
      "id_client_rf    0\n",
      "dtype: int64\n",
      "\n",
      "okved_industry_client:\n",
      "id_client_rf      0\n",
      "Code_okved        0\n",
      "Name_okved        0\n",
      "Type_okved        0\n",
      "Industry        236\n",
      "dtype: int64\n",
      "\n",
      "sales:\n",
      "month_sale      0\n",
      "day_sale        0\n",
      "id_client_rf    0\n",
      "sale_size       0\n",
      "dtype: int64\n"
     ]
    }
   ],
   "source": [
    "# Анализ пропусков\n",
    "print('address_client:\\n', address_client.isna().sum(), sep='')\n",
    "print()\n",
    "print('base_info_client:\\n', base_info_client.isna().sum(), sep='')\n",
    "print()\n",
    "print('final_list:\\n', final_list.isna().sum(), sep='')\n",
    "print()\n",
    "print('okved_industry_client:\\n', okved_industry_client.isna().sum(), sep='')\n",
    "print()\n",
    "print('sales:\\n', sales.isna().sum(), sep='')"
   ]
  },
  {
   "cell_type": "code",
   "execution_count": 11,
   "id": "cc4fffe6",
   "metadata": {},
   "outputs": [
    {
     "name": "stdout",
     "output_type": "stream",
     "text": [
      "address_client:\n",
      " 0\n",
      "\n",
      "base_info_client:\n",
      " 0\n",
      "\n",
      "final_list:\n",
      " 0\n",
      "\n",
      "okved_industry_client:\n",
      " 0\n",
      "\n",
      "sales:\n",
      " 0\n"
     ]
    }
   ],
   "source": [
    "# Анализ явных дубликатов\n",
    "print('address_client:\\n', address_client.duplicated().sum())\n",
    "print()\n",
    "print('base_info_client:\\n', base_info_client.duplicated().sum())\n",
    "print()\n",
    "print('final_list:\\n', final_list.duplicated().sum())\n",
    "print()\n",
    "print('okved_industry_client:\\n', okved_industry_client.duplicated().sum())\n",
    "print()\n",
    "print('sales:\\n', sales.duplicated().sum())"
   ]
  },
  {
   "cell_type": "markdown",
   "id": "aaa5d9b4",
   "metadata": {},
   "source": [
    "**Преобразование признаков**"
   ]
  },
  {
   "cell_type": "markdown",
   "id": "eef875df",
   "metadata": {},
   "source": [
    "*Предобработка sales*"
   ]
  },
  {
   "cell_type": "code",
   "execution_count": 12,
   "id": "fd3d97ce",
   "metadata": {},
   "outputs": [
    {
     "data": {
      "text/plain": [
       "sale_size\n",
       "3    7286\n",
       "1    2390\n",
       "2     752\n",
       "Name: count, dtype: int64"
      ]
     },
     "execution_count": 12,
     "metadata": {},
     "output_type": "execute_result"
    }
   ],
   "source": [
    "# Переводим sale_size в цифровой формат\n",
    "sales['sale_size'] = np.where(sales['sale_size']=='High     ', 3,\n",
    " np.where(sales['sale_size']=='Middle   ', 2,\n",
    " np.where(sales['sale_size']=='Low      ', 1, 0)))\n",
    "sales['sale_size'].value_counts()"
   ]
  },
  {
   "cell_type": "code",
   "execution_count": 13,
   "id": "c448979e",
   "metadata": {},
   "outputs": [],
   "source": [
    "# Создаем агрегированную по id_client_rf таблицу, чтобы убрать дубли по клиентам. Берем максимальный чек и первый месяц покупки.\n",
    "sales_clients = sales.groupby('id_client_rf')\\\n",
    "                     .agg(month_sale=('month_sale', 'min'),\n",
    "                          sale_size=('sale_size', 'max'),\n",
    "                          sale_count=('sale_size', 'count'))\\\n",
    "                     .sort_values('sale_count', ascending = False)"
   ]
  },
  {
   "cell_type": "markdown",
   "id": "3d14a4b2",
   "metadata": {},
   "source": [
    "*Предобработка base_info_client*"
   ]
  },
  {
   "cell_type": "code",
   "execution_count": 14,
   "id": "822063de",
   "metadata": {},
   "outputs": [
    {
     "data": {
      "text/html": [
       "<div>\n",
       "<style scoped>\n",
       "    .dataframe tbody tr th:only-of-type {\n",
       "        vertical-align: middle;\n",
       "    }\n",
       "\n",
       "    .dataframe tbody tr th {\n",
       "        vertical-align: top;\n",
       "    }\n",
       "\n",
       "    .dataframe thead th {\n",
       "        text-align: right;\n",
       "    }\n",
       "</style>\n",
       "<table border=\"1\" class=\"dataframe\">\n",
       "  <thead>\n",
       "    <tr style=\"text-align: right;\">\n",
       "      <th></th>\n",
       "      <th>id_client</th>\n",
       "      <th>name_rf</th>\n",
       "      <th>id_client_rf</th>\n",
       "      <th>workersrange</th>\n",
       "      <th>total_revenue</th>\n",
       "      <th>companywithsameinfo</th>\n",
       "      <th>arbitrationcases</th>\n",
       "      <th>datefirstreg</th>\n",
       "      <th>flag_site</th>\n",
       "      <th>flag_business_center</th>\n",
       "      <th>flag_resident</th>\n",
       "      <th>date_actual_data</th>\n",
       "      <th>flag_vk</th>\n",
       "    </tr>\n",
       "  </thead>\n",
       "  <tbody>\n",
       "    <tr>\n",
       "      <th>0</th>\n",
       "      <td>1631354</td>\n",
       "      <td>Ф09</td>\n",
       "      <td>01631354_Ф09</td>\n",
       "      <td>NaN</td>\n",
       "      <td>0</td>\n",
       "      <td>1.0</td>\n",
       "      <td>NaN</td>\n",
       "      <td>2020-01-29</td>\n",
       "      <td>0</td>\n",
       "      <td>0</td>\n",
       "      <td>0</td>\n",
       "      <td>NaT</td>\n",
       "      <td>0</td>\n",
       "    </tr>\n",
       "  </tbody>\n",
       "</table>\n",
       "</div>"
      ],
      "text/plain": [
       "   id_client name_rf  id_client_rf  workersrange  total_revenue  \\\n",
       "0    1631354     Ф09  01631354_Ф09           NaN              0   \n",
       "\n",
       "   companywithsameinfo  arbitrationcases datefirstreg  flag_site  \\\n",
       "0                  1.0               NaN   2020-01-29          0   \n",
       "\n",
       "   flag_business_center  flag_resident date_actual_data  flag_vk  \n",
       "0                     0              0              NaT        0  "
      ]
     },
     "execution_count": 14,
     "metadata": {},
     "output_type": "execute_result"
    }
   ],
   "source": [
    "# Переводим workersrange в числовой формат по правой цифре. \n",
    "base_info_client['workersrange'] = base_info_client['workersrange'].str.replace('(.* \\.\\. )|(.*\\.\\.)','', regex=True).dropna().astype(int)\n",
    "# Меняем заголовки местами\n",
    "base_info_client.rename(columns={'id_client_rf': 'id_client', 'id_client': 'id_client_rf'}, inplace=True)\n",
    "base_info_client.head(1)"
   ]
  },
  {
   "cell_type": "code",
   "execution_count": 15,
   "id": "2c9cac15",
   "metadata": {},
   "outputs": [],
   "source": [
    "# Создаем таблицу по клиентам с кол-вом дней с даты регистрации компании до начала месяца первой покупки\n",
    "# Можно перезаписать sales_clients, чтобы не плодить новые таблицы\n",
    "df_delta_date = sales_clients.merge(base_info_client, how='left', on='id_client_rf' )  \n",
    "df_delta_date['delta_date'] = (df_delta_date['month_sale'] - df_delta_date['datefirstreg']).astype('int64')/ 10**9"
   ]
  },
  {
   "cell_type": "code",
   "execution_count": 16,
   "id": "47624148",
   "metadata": {},
   "outputs": [
    {
     "data": {
      "text/plain": [
       "month_sale\n",
       "3    1842\n",
       "4    1578\n",
       "2    1566\n",
       "6    1468\n",
       "5    1454\n",
       "7    1348\n",
       "1    1172\n",
       "Name: count, dtype: int64"
      ]
     },
     "execution_count": 16,
     "metadata": {},
     "output_type": "execute_result"
    }
   ],
   "source": [
    "#преобразуем month_sale\n",
    "month_sale_mapping = {'2023-01-01': 1, '2023-02-01': 2, '2023-03-01': 3,\n",
    "                     '2023-04-01': 4, '2023-05-01': 5, '2023-06-01': 6, '2023-07-01': 7}\n",
    "sales['month_sale'] = sales['month_sale'].replace(month_sale_mapping)\n",
    "sales['month_sale'].value_counts()"
   ]
  },
  {
   "cell_type": "code",
   "execution_count": 17,
   "id": "106fe516",
   "metadata": {},
   "outputs": [],
   "source": [
    "#преобразование признака workersrange\n",
    "base_info_client['workersrange'] = base_info_client['workersrange'].fillna(value=0)\n",
    "def get_workersrange_is_known(workersrange):\n",
    "    if workersrange == 0:\n",
    "        x = 0\n",
    "    else:\n",
    "        x = 1\n",
    "    return x\n",
    "def get_workersrange_is_less_then_5(workersrange):\n",
    "    if workersrange == 5:\n",
    "        x = 1\n",
    "    else:\n",
    "        x = 0\n",
    "    return x\n",
    "def get_workersrange_is_more_then_5(workersrange):\n",
    "    if workersrange > 5:\n",
    "        x = 1\n",
    "    else:\n",
    "        x = 0\n",
    "    return x\n",
    "base_info_client['workersrange_is_known'] = base_info_client['workersrange'].apply(get_workersrange_is_known)\n",
    "base_info_client['workersrange_is_less_then_5'] = base_info_client['workersrange'].apply(get_workersrange_is_less_then_5)\n",
    "base_info_client['workersrange_is_more_then_5'] = base_info_client['workersrange'].apply(get_workersrange_is_more_then_5)"
   ]
  },
  {
   "cell_type": "code",
   "execution_count": 18,
   "id": "1b93c7c9",
   "metadata": {},
   "outputs": [
    {
     "data": {
      "text/plain": [
       "workersrange_is_known\n",
       "0    2216478\n",
       "1       1850\n",
       "Name: count, dtype: int64"
      ]
     },
     "execution_count": 18,
     "metadata": {},
     "output_type": "execute_result"
    }
   ],
   "source": [
    "base_info_client['workersrange_is_known'].value_counts()"
   ]
  },
  {
   "cell_type": "code",
   "execution_count": 19,
   "id": "331eed79",
   "metadata": {},
   "outputs": [
    {
     "data": {
      "text/plain": [
       "workersrange_is_less_then_5\n",
       "0    2217008\n",
       "1       1320\n",
       "Name: count, dtype: int64"
      ]
     },
     "execution_count": 19,
     "metadata": {},
     "output_type": "execute_result"
    }
   ],
   "source": [
    "base_info_client['workersrange_is_less_then_5'].value_counts()"
   ]
  },
  {
   "cell_type": "code",
   "execution_count": 20,
   "id": "750f1182",
   "metadata": {},
   "outputs": [
    {
     "data": {
      "text/plain": [
       "workersrange_is_more_then_5\n",
       "0    2217798\n",
       "1        530\n",
       "Name: count, dtype: int64"
      ]
     },
     "execution_count": 20,
     "metadata": {},
     "output_type": "execute_result"
    }
   ],
   "source": [
    "base_info_client['workersrange_is_more_then_5'].value_counts()"
   ]
  },
  {
   "cell_type": "code",
   "execution_count": 21,
   "id": "53cd339d",
   "metadata": {},
   "outputs": [
    {
     "data": {
      "text/plain": [
       "companywithsameinfo\n",
       "0.0      1321586\n",
       "1.0       597766\n",
       "2.0       147444\n",
       "3.0        58514\n",
       "4.0        30802\n",
       "          ...   \n",
       "116.0          2\n",
       "161.0          2\n",
       "156.0          2\n",
       "83.0           2\n",
       "213.0          2\n",
       "Name: count, Length: 135, dtype: int64"
      ]
     },
     "execution_count": 21,
     "metadata": {},
     "output_type": "execute_result"
    }
   ],
   "source": [
    "#заполнение пропусков companywithsameinfo\n",
    "base_info_client['companywithsameinfo'] = base_info_client['companywithsameinfo'].fillna(value=0)\n",
    "base_info_client['companywithsameinfo'].value_counts()"
   ]
  },
  {
   "cell_type": "code",
   "execution_count": 22,
   "id": "070a7896",
   "metadata": {},
   "outputs": [
    {
     "data": {
      "text/plain": [
       "arbitrationcases\n",
       "0.0       1781196\n",
       "1.0        124988\n",
       "2.0         69408\n",
       "3.0         45444\n",
       "4.0         31344\n",
       "           ...   \n",
       "1016.0          2\n",
       "359.0           2\n",
       "3449.0          2\n",
       "2132.0          2\n",
       "864.0           2\n",
       "Name: count, Length: 575, dtype: int64"
      ]
     },
     "execution_count": 22,
     "metadata": {},
     "output_type": "execute_result"
    }
   ],
   "source": [
    "#заполнение пропусков arbitrationcases\n",
    "base_info_client['arbitrationcases'] = base_info_client['arbitrationcases'].fillna(value=0)\n",
    "base_info_client['arbitrationcases'].value_counts()"
   ]
  },
  {
   "cell_type": "code",
   "execution_count": 23,
   "id": "a4a92535",
   "metadata": {},
   "outputs": [
    {
     "data": {
      "text/plain": [
       "date_actual_data\n",
       "2021-06-25    3728\n",
       "2011-11-16    3676\n",
       "2021-06-18    3180\n",
       "2011-09-27    2934\n",
       "2011-09-01    2668\n",
       "              ... \n",
       "2004-08-21       2\n",
       "1965-01-18       2\n",
       "1989-09-25       2\n",
       "1979-03-16       2\n",
       "2021-08-08       2\n",
       "Name: count, Length: 12969, dtype: int64"
      ]
     },
     "execution_count": 23,
     "metadata": {},
     "output_type": "execute_result"
    }
   ],
   "source": [
    "#заполнение пропусков date_actual_data\n",
    "base_info_client['date_actual_data'] = base_info_client['date_actual_data'].fillna(value=base_info_client['datefirstreg'])\n",
    "base_info_client['date_actual_data'].value_counts()"
   ]
  },
  {
   "cell_type": "code",
   "execution_count": 24,
   "id": "782be94c",
   "metadata": {},
   "outputs": [
    {
     "data": {
      "text/plain": [
       "tech_name\n",
       "2021-06-25 00:00:00    3728\n",
       "2011-11-16 00:00:00    3676\n",
       "unknown                3232\n",
       "2021-06-18 00:00:00    3180\n",
       "2011-09-27 00:00:00    2934\n",
       "                       ... \n",
       "2004-08-21 00:00:00       2\n",
       "1965-01-18 00:00:00       2\n",
       "1989-09-25 00:00:00       2\n",
       "1979-03-16 00:00:00       2\n",
       "2021-08-08 00:00:00       2\n",
       "Name: count, Length: 12970, dtype: int64"
      ]
     },
     "execution_count": 24,
     "metadata": {},
     "output_type": "execute_result"
    }
   ],
   "source": [
    "#преобразование tech_name\n",
    "base_info_client['tech_name'] = base_info_client['date_actual_data'].fillna(value='unknown')\n",
    "base_info_client['tech_name'].value_counts()"
   ]
  },
  {
   "cell_type": "markdown",
   "id": "97d20a94",
   "metadata": {},
   "source": [
    "*Предобработка address_client*"
   ]
  },
  {
   "cell_type": "code",
   "execution_count": 25,
   "id": "4a145bfb",
   "metadata": {},
   "outputs": [
    {
     "data": {
      "text/html": [
       "<div>\n",
       "<style scoped>\n",
       "    .dataframe tbody tr th:only-of-type {\n",
       "        vertical-align: middle;\n",
       "    }\n",
       "\n",
       "    .dataframe tbody tr th {\n",
       "        vertical-align: top;\n",
       "    }\n",
       "\n",
       "    .dataframe thead th {\n",
       "        text-align: right;\n",
       "    }\n",
       "</style>\n",
       "<table border=\"1\" class=\"dataframe\">\n",
       "  <thead>\n",
       "    <tr style=\"text-align: right;\">\n",
       "      <th></th>\n",
       "      <th>id_client_rf</th>\n",
       "      <th>address</th>\n",
       "      <th>flag_provider</th>\n",
       "      <th>nflag_have_free_ports</th>\n",
       "      <th>tech_name</th>\n",
       "      <th>latitude</th>\n",
       "      <th>longitude</th>\n",
       "      <th>ETTH</th>\n",
       "      <th>FTTx</th>\n",
       "      <th>PON</th>\n",
       "      <th>nan</th>\n",
       "      <th>xDSL</th>\n",
       "      <th>БШПД</th>\n",
       "      <th>Оптика</th>\n",
       "    </tr>\n",
       "  </thead>\n",
       "  <tbody>\n",
       "    <tr>\n",
       "      <th>0</th>\n",
       "      <td>00840127_Ф13</td>\n",
       "      <td>уфа г.\\, лесотехникума улица\\, 49/1</td>\n",
       "      <td>1</td>\n",
       "      <td>0</td>\n",
       "      <td>NaN</td>\n",
       "      <td>NaN</td>\n",
       "      <td>NaN</td>\n",
       "      <td>False</td>\n",
       "      <td>False</td>\n",
       "      <td>False</td>\n",
       "      <td>True</td>\n",
       "      <td>False</td>\n",
       "      <td>False</td>\n",
       "      <td>False</td>\n",
       "    </tr>\n",
       "    <tr>\n",
       "      <th>1</th>\n",
       "      <td>00840181_Ф13</td>\n",
       "      <td>уфа г.\\, лесотехникума улица\\, 49/1</td>\n",
       "      <td>1</td>\n",
       "      <td>0</td>\n",
       "      <td>NaN</td>\n",
       "      <td>NaN</td>\n",
       "      <td>NaN</td>\n",
       "      <td>False</td>\n",
       "      <td>False</td>\n",
       "      <td>False</td>\n",
       "      <td>True</td>\n",
       "      <td>False</td>\n",
       "      <td>False</td>\n",
       "      <td>False</td>\n",
       "    </tr>\n",
       "    <tr>\n",
       "      <th>2</th>\n",
       "      <td>00839528_Ф13</td>\n",
       "      <td>уфа г.\\, лесотехникума улица\\, 49/1</td>\n",
       "      <td>1</td>\n",
       "      <td>0</td>\n",
       "      <td>NaN</td>\n",
       "      <td>NaN</td>\n",
       "      <td>NaN</td>\n",
       "      <td>False</td>\n",
       "      <td>False</td>\n",
       "      <td>False</td>\n",
       "      <td>True</td>\n",
       "      <td>False</td>\n",
       "      <td>False</td>\n",
       "      <td>False</td>\n",
       "    </tr>\n",
       "    <tr>\n",
       "      <th>3</th>\n",
       "      <td>00839607_Ф13</td>\n",
       "      <td>уфа г.\\, лесотехникума улица\\, 49/1</td>\n",
       "      <td>1</td>\n",
       "      <td>0</td>\n",
       "      <td>NaN</td>\n",
       "      <td>NaN</td>\n",
       "      <td>NaN</td>\n",
       "      <td>False</td>\n",
       "      <td>False</td>\n",
       "      <td>False</td>\n",
       "      <td>True</td>\n",
       "      <td>False</td>\n",
       "      <td>False</td>\n",
       "      <td>False</td>\n",
       "    </tr>\n",
       "    <tr>\n",
       "      <th>4</th>\n",
       "      <td>00075449_Ф13</td>\n",
       "      <td>уфа г.\\, лесотехникума улица\\, 49/1</td>\n",
       "      <td>1</td>\n",
       "      <td>0</td>\n",
       "      <td>NaN</td>\n",
       "      <td>NaN</td>\n",
       "      <td>NaN</td>\n",
       "      <td>False</td>\n",
       "      <td>False</td>\n",
       "      <td>False</td>\n",
       "      <td>True</td>\n",
       "      <td>False</td>\n",
       "      <td>False</td>\n",
       "      <td>False</td>\n",
       "    </tr>\n",
       "  </tbody>\n",
       "</table>\n",
       "</div>"
      ],
      "text/plain": [
       "   id_client_rf                              address  flag_provider  \\\n",
       "0  00840127_Ф13  уфа г.\\, лесотехникума улица\\, 49/1              1   \n",
       "1  00840181_Ф13  уфа г.\\, лесотехникума улица\\, 49/1              1   \n",
       "2  00839528_Ф13  уфа г.\\, лесотехникума улица\\, 49/1              1   \n",
       "3  00839607_Ф13  уфа г.\\, лесотехникума улица\\, 49/1              1   \n",
       "4  00075449_Ф13  уфа г.\\, лесотехникума улица\\, 49/1              1   \n",
       "\n",
       "   nflag_have_free_ports tech_name  latitude  longitude   ETTH   FTTx    PON  \\\n",
       "0                      0       NaN       NaN        NaN  False  False  False   \n",
       "1                      0       NaN       NaN        NaN  False  False  False   \n",
       "2                      0       NaN       NaN        NaN  False  False  False   \n",
       "3                      0       NaN       NaN        NaN  False  False  False   \n",
       "4                      0       NaN       NaN        NaN  False  False  False   \n",
       "\n",
       "    nan   xDSL   БШПД  Оптика  \n",
       "0  True  False  False   False  \n",
       "1  True  False  False   False  \n",
       "2  True  False  False   False  \n",
       "3  True  False  False   False  \n",
       "4  True  False  False   False  "
      ]
     },
     "execution_count": 25,
     "metadata": {},
     "output_type": "execute_result"
    }
   ],
   "source": [
    "# Раскладываем технологии из столбца tech_name на отдельные столбцы\n",
    "tech_dummies = pd.get_dummies(address_client['tech_name'].str.split(', ', expand=True), dummy_na=True) \n",
    "tech_dummies.columns = tech_dummies.columns.map(lambda x: x.replace('\\\\', '').split('_')[-1]) \n",
    "tech_dummies = tech_dummies.groupby(lambda x: x, axis=1).max() \n",
    "address_client = pd.concat([address_client, tech_dummies], axis=1) \n",
    "address_client.head()"
   ]
  },
  {
   "cell_type": "markdown",
   "id": "bbd24ca8",
   "metadata": {},
   "source": [
    "*Предобработка okved_industry_client*"
   ]
  },
  {
   "cell_type": "code",
   "execution_count": 26,
   "id": "c5c26b97",
   "metadata": {},
   "outputs": [],
   "source": [
    "# Оставляем только основную деятельность\n",
    "okved = okved_industry_client[okved_industry_client['Type_okved'] == 1]\n",
    "\n",
    "# Оставляем только первые 2 цифры Code_okved\n",
    "okved.loc[:,'Code_okved'] = okved['Code_okved'].str[0:2]\n",
    "okved['Code_okved'].value_counts()"
   ]
  },
  {
   "cell_type": "markdown",
   "id": "cb144eb3",
   "metadata": {},
   "source": [
    "**Анализ распределения**"
   ]
  },
  {
   "cell_type": "code",
   "execution_count": 39,
   "id": "acd91ef0",
   "metadata": {},
   "outputs": [
    {
     "data": {
      "image/png": "[encoded data removed]",
      "text/plain": [
       "<Figure size 1500x400 with 1 Axes>"
      ]
     },
     "metadata": {},
     "output_type": "display_data"
    }
   ],
   "source": [
    "#убираем выбросы по total_revenue\n",
    "base_info_client['total_revenue'].hist(figsize=(15, 4));"
   ]
  },
  {
   "cell_type": "code",
   "execution_count": 35,
   "id": "f6462e8b",
   "metadata": {},
   "outputs": [
    {
     "data": {
      "image/png": "[encoded data removed]",
      "text/plain": [
       "<Figure size 1500x400 with 1 Axes>"
      ]
     },
     "metadata": {},
     "output_type": "display_data"
    }
   ],
   "source": [
    "plt.figure(figsize=(15, 4))\n",
    "base_info_client.boxplot('total_revenue')\n",
    "plt.show()"
   ]
  },
  {
   "cell_type": "code",
   "execution_count": 36,
   "id": "03927c59",
   "metadata": {},
   "outputs": [
    {
     "data": {
      "text/plain": [
       "array([ 12.,  44., 242.])"
      ]
     },
     "execution_count": 36,
     "metadata": {},
     "output_type": "execute_result"
    }
   ],
   "source": [
    "np.percentile(base_info_client['total_revenue'], [90, 95, 99])"
   ]
  },
  {
   "cell_type": "code",
   "execution_count": 37,
   "id": "865e4547",
   "metadata": {},
   "outputs": [],
   "source": [
    "#удалим по 99-му перцентилю\n",
    "base_info_client_corr = base_info_client[base_info_client['total_revenue'] < 242]"
   ]
  },
  {
   "cell_type": "code",
   "execution_count": 38,
   "id": "d244d4c2",
   "metadata": {},
   "outputs": [
    {
     "data": {
      "image/png": "[encoded data removed]",
      "text/plain": [
       "<Figure size 1500x400 with 1 Axes>"
      ]
     },
     "metadata": {},
     "output_type": "display_data"
    }
   ],
   "source": [
    "plt.figure(figsize=(15, 4))\n",
    "base_info_client_corr.boxplot('total_revenue')\n",
    "plt.show()"
   ]
  },
  {
   "cell_type": "code",
   "execution_count": 41,
   "id": "de529003",
   "metadata": {},
   "outputs": [
    {
     "data": {
      "text/plain": [
       "22"
      ]
     },
     "execution_count": 41,
     "metadata": {},
     "output_type": "execute_result"
    }
   ],
   "source": [
    "# кол-во строк с total_revenue < 0\n",
    "base_info_client_corr[base_info_client_corr['total_revenue'] < 0]['total_revenue'].count()"
   ]
  },
  {
   "cell_type": "code",
   "execution_count": 43,
   "id": "b4ea9cc7",
   "metadata": {},
   "outputs": [],
   "source": [
    "#земеним нулем то, что меньше нуля\n",
    "base_info_client_corr.loc[base_info_client_corr['total_revenue'] < 0, ['total_revenue']] = 0"
   ]
  },
  {
   "cell_type": "markdown",
   "id": "6a648c50",
   "metadata": {},
   "source": [
    "**Финальный датасет**"
   ]
  },
  {
   "cell_type": "code",
   "execution_count": 45,
   "id": "f0e84a38",
   "metadata": {},
   "outputs": [
    {
     "name": "stdout",
     "output_type": "stream",
     "text": [
      "<class 'pandas.core.frame.DataFrame'>\n",
      "RangeIndex: 20138 entries, 0 to 20137\n",
      "Data columns (total 38 columns):\n",
      " #   Column                       Non-Null Count  Dtype         \n",
      "---  ------                       --------------  -----         \n",
      " 0   id_client_rf                 20138 non-null  object        \n",
      " 1   month_sale                   20138 non-null  datetime64[ns]\n",
      " 2   sale_size                    20138 non-null  int32         \n",
      " 3   sale_count                   20138 non-null  int64         \n",
      " 4   Code_okved                   20112 non-null  object        \n",
      " 5   Name_okved                   20112 non-null  object        \n",
      " 6   Type_okved                   20112 non-null  float64       \n",
      " 7   Industry                     20112 non-null  object        \n",
      " 8   id_client                    20138 non-null  int64         \n",
      " 9   name_rf                      20138 non-null  object        \n",
      " 10  workersrange                 20138 non-null  float64       \n",
      " 11  total_revenue                20138 non-null  int64         \n",
      " 12  companywithsameinfo          20138 non-null  float64       \n",
      " 13  arbitrationcases             20138 non-null  float64       \n",
      " 14  datefirstreg                 19922 non-null  datetime64[ns]\n",
      " 15  flag_site                    20138 non-null  int64         \n",
      " 16  flag_business_center         20138 non-null  int64         \n",
      " 17  flag_resident                20138 non-null  int64         \n",
      " 18  date_actual_data             19992 non-null  datetime64[ns]\n",
      " 19  flag_vk                      20138 non-null  int64         \n",
      " 20  workersrange_is_known        20138 non-null  int64         \n",
      " 21  workersrange_is_less_then_5  20138 non-null  int64         \n",
      " 22  workersrange_is_more_then_5  20138 non-null  int64         \n",
      " 23  tech_name_x                  20138 non-null  object        \n",
      " 24  address                      18930 non-null  object        \n",
      " 25  flag_provider                18930 non-null  float64       \n",
      " 26  nflag_have_free_ports        18930 non-null  float64       \n",
      " 27  tech_name_y                  13080 non-null  object        \n",
      " 28  latitude                     17204 non-null  float64       \n",
      " 29  longitude                    17204 non-null  float64       \n",
      " 30  ETTH                         18930 non-null  object        \n",
      " 31  FTTx                         18930 non-null  object        \n",
      " 32  PON                          18930 non-null  object        \n",
      " 33  nan                          18930 non-null  object        \n",
      " 34  xDSL                         18930 non-null  object        \n",
      " 35  БШПД                         18930 non-null  object        \n",
      " 36  Оптика                       18930 non-null  object        \n",
      " 37  delta_date                   20138 non-null  float64       \n",
      "dtypes: datetime64[ns](3), float64(9), int32(1), int64(10), object(15)\n",
      "memory usage: 5.8+ MB\n"
     ]
    }
   ],
   "source": [
    "# sales_clients\n",
    "final_data_sales = sales_clients.merge(okved, how='left', on='id_client_rf')\\\n",
    "                  .merge(base_info_client, how='left', on='id_client_rf')\\\n",
    "                  .merge(address_client, how='left', on='id_client_rf')\\\n",
    "                  .merge(df_delta_date[['delta_date', 'id_client_rf']], how='left', on='id_client_rf')\n",
    "\n",
    "final_data_sales.info()"
   ]
  },
  {
   "cell_type": "code",
   "execution_count": 46,
   "id": "8db30be7",
   "metadata": {},
   "outputs": [
    {
     "name": "stdout",
     "output_type": "stream",
     "text": [
      "<class 'pandas.core.frame.DataFrame'>\n",
      "RangeIndex: 2471446 entries, 0 to 2471445\n",
      "Data columns (total 35 columns):\n",
      " #   Column                       Dtype         \n",
      "---  ------                       -----         \n",
      " 0   id_client_rf                 object        \n",
      " 1   Code_okved                   object        \n",
      " 2   Name_okved                   object        \n",
      " 3   Type_okved                   float64       \n",
      " 4   Industry                     object        \n",
      " 5   id_client                    int64         \n",
      " 6   name_rf                      object        \n",
      " 7   workersrange                 float64       \n",
      " 8   total_revenue                int64         \n",
      " 9   companywithsameinfo          float64       \n",
      " 10  arbitrationcases             float64       \n",
      " 11  datefirstreg                 datetime64[ns]\n",
      " 12  flag_site                    int64         \n",
      " 13  flag_business_center         int64         \n",
      " 14  flag_resident                int64         \n",
      " 15  date_actual_data             datetime64[ns]\n",
      " 16  flag_vk                      int64         \n",
      " 17  workersrange_is_known        int64         \n",
      " 18  workersrange_is_less_then_5  int64         \n",
      " 19  workersrange_is_more_then_5  int64         \n",
      " 20  tech_name_x                  object        \n",
      " 21  address                      object        \n",
      " 22  flag_provider                float64       \n",
      " 23  nflag_have_free_ports        float64       \n",
      " 24  tech_name_y                  object        \n",
      " 25  latitude                     float64       \n",
      " 26  longitude                    float64       \n",
      " 27  ETTH                         object        \n",
      " 28  FTTx                         object        \n",
      " 29  PON                          object        \n",
      " 30  nan                          object        \n",
      " 31  xDSL                         object        \n",
      " 32  БШПД                         object        \n",
      " 33  Оптика                       object        \n",
      " 34  delta_date                   float64       \n",
      "dtypes: datetime64[ns](2), float64(9), int64(9), object(15)\n",
      "memory usage: 659.9+ MB\n"
     ]
    }
   ],
   "source": [
    "# final_list\n",
    "final_data_predict = final_list.merge(okved, how='left', on='id_client_rf' )\\\n",
    "                  .merge(base_info_client, how='left', on='id_client_rf')\\\n",
    "                  .merge(address_client, how='left', on='id_client_rf')\\\n",
    "                  .merge(df_delta_date[['delta_date', 'id_client_rf']], how='left', on='id_client_rf')\n",
    "\n",
    "final_data_predict.info()                  "
   ]
  },
  {
   "cell_type": "code",
   "execution_count": 47,
   "id": "c8a56bd6",
   "metadata": {},
   "outputs": [
    {
     "data": {
      "text/plain": [
       "id_client_rf                   2471446\n",
       "Code_okved                     2393428\n",
       "Name_okved                     2393428\n",
       "Type_okved                     2393428\n",
       "Industry                       2393356\n",
       "id_client                      2471446\n",
       "name_rf                        2471446\n",
       "workersrange                   2471446\n",
       "total_revenue                  2471446\n",
       "companywithsameinfo            2471446\n",
       "arbitrationcases               2471446\n",
       "datefirstreg                   2456546\n",
       "flag_site                      2471446\n",
       "flag_business_center           2471446\n",
       "flag_resident                  2471446\n",
       "date_actual_data               2471282\n",
       "flag_vk                        2471446\n",
       "workersrange_is_known          2471446\n",
       "workersrange_is_less_then_5    2471446\n",
       "workersrange_is_more_then_5    2471446\n",
       "tech_name_x                    2471446\n",
       "address                         900212\n",
       "flag_provider                   900212\n",
       "nflag_have_free_ports           900212\n",
       "tech_name_y                     375012\n",
       "latitude                        736200\n",
       "longitude                       736200\n",
       "ETTH                            900212\n",
       "FTTx                            900212\n",
       "PON                             900212\n",
       "nan                             900212\n",
       "xDSL                            900212\n",
       "БШПД                            900212\n",
       "Оптика                          900212\n",
       "delta_date                           0\n",
       "dtype: int64"
      ]
     },
     "execution_count": 47,
     "metadata": {},
     "output_type": "execute_result"
    }
   ],
   "source": [
    "final_data_predict.count()"
   ]
  },
  {
   "cell_type": "code",
   "execution_count": 48,
   "id": "f0aa546a",
   "metadata": {},
   "outputs": [
    {
     "data": {
      "text/html": [
       "<div>\n",
       "<style scoped>\n",
       "    .dataframe tbody tr th:only-of-type {\n",
       "        vertical-align: middle;\n",
       "    }\n",
       "\n",
       "    .dataframe tbody tr th {\n",
       "        vertical-align: top;\n",
       "    }\n",
       "\n",
       "    .dataframe thead th {\n",
       "        text-align: right;\n",
       "    }\n",
       "</style>\n",
       "<table border=\"1\" class=\"dataframe\">\n",
       "  <thead>\n",
       "    <tr style=\"text-align: right;\">\n",
       "      <th></th>\n",
       "      <th>id_client_rf</th>\n",
       "      <th>month_sale</th>\n",
       "      <th>sale_size</th>\n",
       "      <th>sale_count</th>\n",
       "      <th>Code_okved</th>\n",
       "      <th>Name_okved</th>\n",
       "      <th>Type_okved</th>\n",
       "      <th>Industry</th>\n",
       "      <th>id_client</th>\n",
       "      <th>name_rf</th>\n",
       "      <th>workersrange</th>\n",
       "      <th>total_revenue</th>\n",
       "      <th>companywithsameinfo</th>\n",
       "      <th>arbitrationcases</th>\n",
       "      <th>datefirstreg</th>\n",
       "      <th>flag_site</th>\n",
       "      <th>flag_business_center</th>\n",
       "      <th>flag_resident</th>\n",
       "      <th>date_actual_data</th>\n",
       "      <th>flag_vk</th>\n",
       "      <th>workersrange_is_known</th>\n",
       "      <th>workersrange_is_less_then_5</th>\n",
       "      <th>workersrange_is_more_then_5</th>\n",
       "      <th>tech_name_x</th>\n",
       "      <th>address</th>\n",
       "      <th>flag_provider</th>\n",
       "      <th>nflag_have_free_ports</th>\n",
       "      <th>tech_name_y</th>\n",
       "      <th>latitude</th>\n",
       "      <th>longitude</th>\n",
       "      <th>ETTH</th>\n",
       "      <th>FTTx</th>\n",
       "      <th>PON</th>\n",
       "      <th>nan</th>\n",
       "      <th>xDSL</th>\n",
       "      <th>БШПД</th>\n",
       "      <th>Оптика</th>\n",
       "      <th>delta_date</th>\n",
       "    </tr>\n",
       "  </thead>\n",
       "  <tbody>\n",
       "    <tr>\n",
       "      <th>0</th>\n",
       "      <td>01017082_Ф02</td>\n",
       "      <td>2023-01-01</td>\n",
       "      <td>3</td>\n",
       "      <td>11</td>\n",
       "      <td>96</td>\n",
       "      <td>Деятельность физкультурно-оздоровительная</td>\n",
       "      <td>1.0</td>\n",
       "      <td>Спорт</td>\n",
       "      <td>1017082</td>\n",
       "      <td>Ф02</td>\n",
       "      <td>0.0</td>\n",
       "      <td>0</td>\n",
       "      <td>1.0</td>\n",
       "      <td>1.0</td>\n",
       "      <td>2018-11-14</td>\n",
       "      <td>0</td>\n",
       "      <td>0</td>\n",
       "      <td>0</td>\n",
       "      <td>2018-11-14</td>\n",
       "      <td>0</td>\n",
       "      <td>0</td>\n",
       "      <td>0</td>\n",
       "      <td>0</td>\n",
       "      <td>2018-11-14 00:00:00</td>\n",
       "      <td>NaN</td>\n",
       "      <td>NaN</td>\n",
       "      <td>NaN</td>\n",
       "      <td>NaN</td>\n",
       "      <td>NaN</td>\n",
       "      <td>NaN</td>\n",
       "      <td>NaN</td>\n",
       "      <td>NaN</td>\n",
       "      <td>NaN</td>\n",
       "      <td>NaN</td>\n",
       "      <td>NaN</td>\n",
       "      <td>NaN</td>\n",
       "      <td>NaN</td>\n",
       "      <td>130377600.0</td>\n",
       "    </tr>\n",
       "    <tr>\n",
       "      <th>1</th>\n",
       "      <td>01016923_Ф02</td>\n",
       "      <td>2023-01-01</td>\n",
       "      <td>3</td>\n",
       "      <td>11</td>\n",
       "      <td>96</td>\n",
       "      <td>Деятельность физкультурно-оздоровительная</td>\n",
       "      <td>1.0</td>\n",
       "      <td>Спорт</td>\n",
       "      <td>1016923</td>\n",
       "      <td>Ф02</td>\n",
       "      <td>0.0</td>\n",
       "      <td>0</td>\n",
       "      <td>1.0</td>\n",
       "      <td>1.0</td>\n",
       "      <td>2018-11-14</td>\n",
       "      <td>0</td>\n",
       "      <td>0</td>\n",
       "      <td>0</td>\n",
       "      <td>2018-11-14</td>\n",
       "      <td>0</td>\n",
       "      <td>0</td>\n",
       "      <td>0</td>\n",
       "      <td>0</td>\n",
       "      <td>2018-11-14 00:00:00</td>\n",
       "      <td>NaN</td>\n",
       "      <td>NaN</td>\n",
       "      <td>NaN</td>\n",
       "      <td>NaN</td>\n",
       "      <td>NaN</td>\n",
       "      <td>NaN</td>\n",
       "      <td>NaN</td>\n",
       "      <td>NaN</td>\n",
       "      <td>NaN</td>\n",
       "      <td>NaN</td>\n",
       "      <td>NaN</td>\n",
       "      <td>NaN</td>\n",
       "      <td>NaN</td>\n",
       "      <td>130377600.0</td>\n",
       "    </tr>\n",
       "    <tr>\n",
       "      <th>2</th>\n",
       "      <td>00287063_Ф06</td>\n",
       "      <td>2023-01-01</td>\n",
       "      <td>3</td>\n",
       "      <td>8</td>\n",
       "      <td>47</td>\n",
       "      <td>Торговля розничная непродовольственными товара...</td>\n",
       "      <td>1.0</td>\n",
       "      <td>Ритейл</td>\n",
       "      <td>287063</td>\n",
       "      <td>Ф06</td>\n",
       "      <td>0.0</td>\n",
       "      <td>0</td>\n",
       "      <td>2.0</td>\n",
       "      <td>0.0</td>\n",
       "      <td>2015-10-20</td>\n",
       "      <td>1</td>\n",
       "      <td>0</td>\n",
       "      <td>0</td>\n",
       "      <td>2021-09-16</td>\n",
       "      <td>0</td>\n",
       "      <td>0</td>\n",
       "      <td>0</td>\n",
       "      <td>0</td>\n",
       "      <td>2021-09-16 00:00:00</td>\n",
       "      <td>410028\\, саратовская обл\\, саратов г.\\, им чер...</td>\n",
       "      <td>1.0</td>\n",
       "      <td>1.0</td>\n",
       "      <td>xDSL\\, ETTH</td>\n",
       "      <td>51.523566</td>\n",
       "      <td>46.032199</td>\n",
       "      <td>True</td>\n",
       "      <td>False</td>\n",
       "      <td>False</td>\n",
       "      <td>True</td>\n",
       "      <td>True</td>\n",
       "      <td>False</td>\n",
       "      <td>False</td>\n",
       "      <td>227232000.0</td>\n",
       "    </tr>\n",
       "    <tr>\n",
       "      <th>3</th>\n",
       "      <td>00287187_Ф06</td>\n",
       "      <td>2023-01-01</td>\n",
       "      <td>3</td>\n",
       "      <td>8</td>\n",
       "      <td>47</td>\n",
       "      <td>Торговля розничная непродовольственными товара...</td>\n",
       "      <td>1.0</td>\n",
       "      <td>Ритейл</td>\n",
       "      <td>287187</td>\n",
       "      <td>Ф06</td>\n",
       "      <td>0.0</td>\n",
       "      <td>0</td>\n",
       "      <td>2.0</td>\n",
       "      <td>0.0</td>\n",
       "      <td>2015-10-20</td>\n",
       "      <td>1</td>\n",
       "      <td>0</td>\n",
       "      <td>0</td>\n",
       "      <td>2021-09-16</td>\n",
       "      <td>0</td>\n",
       "      <td>0</td>\n",
       "      <td>0</td>\n",
       "      <td>0</td>\n",
       "      <td>2021-09-16 00:00:00</td>\n",
       "      <td>410028\\, саратовская обл\\, саратов г.\\, им чер...</td>\n",
       "      <td>1.0</td>\n",
       "      <td>1.0</td>\n",
       "      <td>xDSL\\, ETTH</td>\n",
       "      <td>51.523566</td>\n",
       "      <td>46.032199</td>\n",
       "      <td>True</td>\n",
       "      <td>False</td>\n",
       "      <td>False</td>\n",
       "      <td>True</td>\n",
       "      <td>True</td>\n",
       "      <td>False</td>\n",
       "      <td>False</td>\n",
       "      <td>227232000.0</td>\n",
       "    </tr>\n",
       "    <tr>\n",
       "      <th>4</th>\n",
       "      <td>00896607_Ф02</td>\n",
       "      <td>2023-01-01</td>\n",
       "      <td>3</td>\n",
       "      <td>7</td>\n",
       "      <td>68</td>\n",
       "      <td>Аренда и управление собственным или арендованн...</td>\n",
       "      <td>1.0</td>\n",
       "      <td>Недвижимость</td>\n",
       "      <td>896607</td>\n",
       "      <td>Ф02</td>\n",
       "      <td>0.0</td>\n",
       "      <td>0</td>\n",
       "      <td>1.0</td>\n",
       "      <td>9.0</td>\n",
       "      <td>1992-07-21</td>\n",
       "      <td>0</td>\n",
       "      <td>0</td>\n",
       "      <td>0</td>\n",
       "      <td>1992-07-21</td>\n",
       "      <td>0</td>\n",
       "      <td>0</td>\n",
       "      <td>0</td>\n",
       "      <td>0</td>\n",
       "      <td>1992-07-21 00:00:00</td>\n",
       "      <td>NaN</td>\n",
       "      <td>NaN</td>\n",
       "      <td>NaN</td>\n",
       "      <td>NaN</td>\n",
       "      <td>NaN</td>\n",
       "      <td>NaN</td>\n",
       "      <td>NaN</td>\n",
       "      <td>NaN</td>\n",
       "      <td>NaN</td>\n",
       "      <td>NaN</td>\n",
       "      <td>NaN</td>\n",
       "      <td>NaN</td>\n",
       "      <td>NaN</td>\n",
       "      <td>960854400.0</td>\n",
       "    </tr>\n",
       "  </tbody>\n",
       "</table>\n",
       "</div>"
      ],
      "text/plain": [
       "   id_client_rf month_sale  sale_size  sale_count Code_okved  \\\n",
       "0  01017082_Ф02 2023-01-01          3          11         96   \n",
       "1  01016923_Ф02 2023-01-01          3          11         96   \n",
       "2  00287063_Ф06 2023-01-01          3           8         47   \n",
       "3  00287187_Ф06 2023-01-01          3           8         47   \n",
       "4  00896607_Ф02 2023-01-01          3           7         68   \n",
       "\n",
       "                                          Name_okved  Type_okved  \\\n",
       "0          Деятельность физкультурно-оздоровительная         1.0   \n",
       "1          Деятельность физкультурно-оздоровительная         1.0   \n",
       "2  Торговля розничная непродовольственными товара...         1.0   \n",
       "3  Торговля розничная непродовольственными товара...         1.0   \n",
       "4  Аренда и управление собственным или арендованн...         1.0   \n",
       "\n",
       "       Industry  id_client name_rf  workersrange  total_revenue  \\\n",
       "0         Спорт    1017082     Ф02           0.0              0   \n",
       "1         Спорт    1016923     Ф02           0.0              0   \n",
       "2        Ритейл     287063     Ф06           0.0              0   \n",
       "3        Ритейл     287187     Ф06           0.0              0   \n",
       "4  Недвижимость     896607     Ф02           0.0              0   \n",
       "\n",
       "   companywithsameinfo  arbitrationcases datefirstreg  flag_site  \\\n",
       "0                  1.0               1.0   2018-11-14          0   \n",
       "1                  1.0               1.0   2018-11-14          0   \n",
       "2                  2.0               0.0   2015-10-20          1   \n",
       "3                  2.0               0.0   2015-10-20          1   \n",
       "4                  1.0               9.0   1992-07-21          0   \n",
       "\n",
       "   flag_business_center  flag_resident date_actual_data  flag_vk  \\\n",
       "0                     0              0       2018-11-14        0   \n",
       "1                     0              0       2018-11-14        0   \n",
       "2                     0              0       2021-09-16        0   \n",
       "3                     0              0       2021-09-16        0   \n",
       "4                     0              0       1992-07-21        0   \n",
       "\n",
       "   workersrange_is_known  workersrange_is_less_then_5  \\\n",
       "0                      0                            0   \n",
       "1                      0                            0   \n",
       "2                      0                            0   \n",
       "3                      0                            0   \n",
       "4                      0                            0   \n",
       "\n",
       "   workersrange_is_more_then_5          tech_name_x  \\\n",
       "0                            0  2018-11-14 00:00:00   \n",
       "1                            0  2018-11-14 00:00:00   \n",
       "2                            0  2021-09-16 00:00:00   \n",
       "3                            0  2021-09-16 00:00:00   \n",
       "4                            0  1992-07-21 00:00:00   \n",
       "\n",
       "                                             address  flag_provider  \\\n",
       "0                                                NaN            NaN   \n",
       "1                                                NaN            NaN   \n",
       "2  410028\\, саратовская обл\\, саратов г.\\, им чер...            1.0   \n",
       "3  410028\\, саратовская обл\\, саратов г.\\, им чер...            1.0   \n",
       "4                                                NaN            NaN   \n",
       "\n",
       "   nflag_have_free_ports  tech_name_y   latitude  longitude  ETTH   FTTx  \\\n",
       "0                    NaN          NaN        NaN        NaN   NaN    NaN   \n",
       "1                    NaN          NaN        NaN        NaN   NaN    NaN   \n",
       "2                    1.0  xDSL\\, ETTH  51.523566  46.032199  True  False   \n",
       "3                    1.0  xDSL\\, ETTH  51.523566  46.032199  True  False   \n",
       "4                    NaN          NaN        NaN        NaN   NaN    NaN   \n",
       "\n",
       "     PON   nan  xDSL   БШПД Оптика   delta_date  \n",
       "0    NaN   NaN   NaN    NaN    NaN  130377600.0  \n",
       "1    NaN   NaN   NaN    NaN    NaN  130377600.0  \n",
       "2  False  True  True  False  False  227232000.0  \n",
       "3  False  True  True  False  False  227232000.0  \n",
       "4    NaN   NaN   NaN    NaN    NaN  960854400.0  "
      ]
     },
     "execution_count": 48,
     "metadata": {},
     "output_type": "execute_result"
    }
   ],
   "source": [
    "final_data_sales.head()"
   ]
  },
  {
   "cell_type": "code",
   "execution_count": 49,
   "id": "5caa4752",
   "metadata": {},
   "outputs": [],
   "source": [
    "# Очистка от дубликатов\n",
    "final_data_sales = final_data_sales.drop_duplicates(['id_client_rf', 'total_revenue', 'sale_size'])\n",
    "final_data_predict = final_data_predict.drop_duplicates(['id_client_rf', 'total_revenue'])"
   ]
  },
  {
   "cell_type": "code",
   "execution_count": 52,
   "id": "28360737",
   "metadata": {},
   "outputs": [],
   "source": [
    "# Очистка от NaN\n",
    "final_data_sales = final_data_sales[final_data_sales['datefirstreg'].isna() == False]\n",
    "final_data_predict = final_data_predict[final_data_predict['flag_provider'].isna() == False]"
   ]
  },
  {
   "cell_type": "code",
   "execution_count": 61,
   "id": "c1c1366f",
   "metadata": {},
   "outputs": [
    {
     "name": "stdout",
     "output_type": "stream",
     "text": [
      "<class 'pandas.core.frame.DataFrame'>\n",
      "Index: 9164 entries, 0 to 20137\n",
      "Data columns (total 70 columns):\n",
      " #   Column                                                                        Non-Null Count  Dtype         \n",
      "---  ------                                                                        --------------  -----         \n",
      " 0   id_client_rf                                                                  9164 non-null   object        \n",
      " 1   month_sale                                                                    9164 non-null   datetime64[ns]\n",
      " 2   sale_size                                                                     9164 non-null   int32         \n",
      " 3   sale_count                                                                    9164 non-null   int64         \n",
      " 4   Code_okved                                                                    9146 non-null   object        \n",
      " 5   Name_okved                                                                    9146 non-null   object        \n",
      " 6   Type_okved                                                                    9146 non-null   float64       \n",
      " 7   id_client                                                                     9164 non-null   int64         \n",
      " 8   name_rf                                                                       9164 non-null   object        \n",
      " 9   workersrange                                                                  9164 non-null   float64       \n",
      " 10  total_revenue                                                                 9164 non-null   int64         \n",
      " 11  companywithsameinfo                                                           9164 non-null   float64       \n",
      " 12  arbitrationcases                                                              9164 non-null   float64       \n",
      " 13  datefirstreg                                                                  9164 non-null   datetime64[ns]\n",
      " 14  flag_site                                                                     9164 non-null   int64         \n",
      " 15  flag_business_center                                                          9164 non-null   int64         \n",
      " 16  flag_resident                                                                 9164 non-null   int64         \n",
      " 17  date_actual_data                                                              9164 non-null   datetime64[ns]\n",
      " 18  flag_vk                                                                       9164 non-null   int64         \n",
      " 19  workersrange_is_known                                                         9164 non-null   int64         \n",
      " 20  workersrange_is_less_then_5                                                   9164 non-null   int64         \n",
      " 21  workersrange_is_more_then_5                                                   9164 non-null   int64         \n",
      " 22  tech_name_x                                                                   9164 non-null   object        \n",
      " 23  address                                                                       7972 non-null   object        \n",
      " 24  flag_provider                                                                 7972 non-null   float64       \n",
      " 25  nflag_have_free_ports                                                         7972 non-null   float64       \n",
      " 26  tech_name_y                                                                   6597 non-null   object        \n",
      " 27  latitude                                                                      7280 non-null   float64       \n",
      " 28  longitude                                                                     7280 non-null   float64       \n",
      " 29  ETTH                                                                          7972 non-null   object        \n",
      " 30  FTTx                                                                          7972 non-null   object        \n",
      " 31  PON                                                                           7972 non-null   object        \n",
      " 32  nan                                                                           7972 non-null   object        \n",
      " 33  xDSL                                                                          7972 non-null   object        \n",
      " 34  БШПД                                                                          7972 non-null   object        \n",
      " 35  Оптика                                                                        7972 non-null   object        \n",
      " 36  delta_date                                                                    9164 non-null   float64       \n",
      " 37  Industry_Автодилеры                                                           9164 non-null   bool          \n",
      " 38  Industry_Агропромышленность                                                   9164 non-null   bool          \n",
      " 39  Industry_Аренда и лизинг                                                      9164 non-null   bool          \n",
      " 40  Industry_Гос. органы                                                          9164 non-null   bool          \n",
      " 41  Industry_Гостиницы                                                            9164 non-null   bool          \n",
      " 42  Industry_ЖКХ                                                                  9164 non-null   bool          \n",
      " 43  Industry_Издательская деятельность                                            9164 non-null   bool          \n",
      " 44  Industry_Инженерная\\, проектная\\, изыскательная и архитектурная деятельность  9164 non-null   bool          \n",
      " 45  Industry_Интернет-бизнес                                                      9164 non-null   bool          \n",
      " 46  Industry_Культура/Развлечения                                                 9164 non-null   bool          \n",
      " 47  Industry_Легкая промышленность                                                9164 non-null   bool          \n",
      " 48  Industry_Медицина                                                             9164 non-null   bool          \n",
      " 49  Industry_Недвижимость                                                         9164 non-null   bool          \n",
      " 50  Industry_Образование                                                          9164 non-null   bool          \n",
      " 51  Industry_Оптовая торговля                                                     9164 non-null   bool          \n",
      " 52  Industry_Охранная деятельность                                                9164 non-null   bool          \n",
      " 53  Industry_Прочая деятельность                                                  9164 non-null   bool          \n",
      " 54  Industry_Радиоэлектроника                                                     9164 non-null   bool          \n",
      " 55  Industry_Ремонт изделий                                                       9164 non-null   bool          \n",
      " 56  Industry_Рестораны и кафе                                                     9164 non-null   bool          \n",
      " 57  Industry_Ритейл                                                               9164 non-null   bool          \n",
      " 58  Industry_Салоны красоты                                                       9164 non-null   bool          \n",
      " 59  Industry_Связь                                                                9164 non-null   bool          \n",
      " 60  Industry_Службы доставки                                                      9164 non-null   bool          \n",
      " 61  Industry_Спорт                                                                9164 non-null   bool          \n",
      " 62  Industry_Строительство                                                        9164 non-null   bool          \n",
      " 63  Industry_Транспорт/Логистика                                                  9164 non-null   bool          \n",
      " 64  Industry_Туризм                                                               9164 non-null   bool          \n",
      " 65  Industry_Тяжелая промышленность                                               9164 non-null   bool          \n",
      " 66  Industry_Услуги                                                               9164 non-null   bool          \n",
      " 67  Industry_Финансы                                                              9164 non-null   bool          \n",
      " 68  Industry_Энергетика                                                           9164 non-null   bool          \n",
      " 69  has_nearby_company                                                            9164 non-null   int64         \n",
      "dtypes: bool(32), datetime64[ns](3), float64(9), int32(1), int64(11), object(14)\n",
      "memory usage: 3.2+ MB\n"
     ]
    }
   ],
   "source": [
    "final_data_sales.info()"
   ]
  },
  {
   "cell_type": "code",
   "execution_count": 60,
   "id": "2fe969ba",
   "metadata": {},
   "outputs": [
    {
     "name": "stdout",
     "output_type": "stream",
     "text": [
      "<class 'pandas.core.frame.DataFrame'>\n",
      "Index: 379586 entries, 21 to 2471393\n",
      "Data columns (total 66 columns):\n",
      " #   Column                                                                        Non-Null Count   Dtype         \n",
      "---  ------                                                                        --------------   -----         \n",
      " 0   id_client_rf                                                                  379586 non-null  object        \n",
      " 1   Code_okved                                                                    378298 non-null  object        \n",
      " 2   Name_okved                                                                    378298 non-null  object        \n",
      " 3   Type_okved                                                                    378298 non-null  float64       \n",
      " 4   id_client                                                                     379586 non-null  int64         \n",
      " 5   name_rf                                                                       379586 non-null  object        \n",
      " 6   workersrange                                                                  379586 non-null  float64       \n",
      " 7   total_revenue                                                                 379586 non-null  int64         \n",
      " 8   companywithsameinfo                                                           379586 non-null  float64       \n",
      " 9   arbitrationcases                                                              379586 non-null  float64       \n",
      " 10  datefirstreg                                                                  372814 non-null  datetime64[ns]\n",
      " 11  flag_site                                                                     379586 non-null  int64         \n",
      " 12  flag_business_center                                                          379586 non-null  int64         \n",
      " 13  flag_resident                                                                 379586 non-null  int64         \n",
      " 14  date_actual_data                                                              379514 non-null  datetime64[ns]\n",
      " 15  flag_vk                                                                       379586 non-null  int64         \n",
      " 16  workersrange_is_known                                                         379586 non-null  int64         \n",
      " 17  workersrange_is_less_then_5                                                   379586 non-null  int64         \n",
      " 18  workersrange_is_more_then_5                                                   379586 non-null  int64         \n",
      " 19  tech_name_x                                                                   379586 non-null  object        \n",
      " 20  address                                                                       379586 non-null  object        \n",
      " 21  flag_provider                                                                 379586 non-null  float64       \n",
      " 22  nflag_have_free_ports                                                         379586 non-null  float64       \n",
      " 23  tech_name_y                                                                   165778 non-null  object        \n",
      " 24  latitude                                                                      299358 non-null  float64       \n",
      " 25  longitude                                                                     299358 non-null  float64       \n",
      " 26  ETTH                                                                          379586 non-null  object        \n",
      " 27  FTTx                                                                          379586 non-null  object        \n",
      " 28  PON                                                                           379586 non-null  object        \n",
      " 29  nan                                                                           379586 non-null  object        \n",
      " 30  xDSL                                                                          379586 non-null  object        \n",
      " 31  БШПД                                                                          379586 non-null  object        \n",
      " 32  Оптика                                                                        379586 non-null  object        \n",
      " 33  delta_date                                                                    0 non-null       float64       \n",
      " 34  Industry_Автодилеры                                                           379586 non-null  bool          \n",
      " 35  Industry_Агропромышленность                                                   379586 non-null  bool          \n",
      " 36  Industry_Аренда и лизинг                                                      379586 non-null  bool          \n",
      " 37  Industry_Гос. органы                                                          379586 non-null  bool          \n",
      " 38  Industry_Гостиницы                                                            379586 non-null  bool          \n",
      " 39  Industry_ЖКХ                                                                  379586 non-null  bool          \n",
      " 40  Industry_Издательская деятельность                                            379586 non-null  bool          \n",
      " 41  Industry_Инженерная\\, проектная\\, изыскательная и архитектурная деятельность  379586 non-null  bool          \n",
      " 42  Industry_Интернет-бизнес                                                      379586 non-null  bool          \n",
      " 43  Industry_Культура/Развлечения                                                 379586 non-null  bool          \n",
      " 44  Industry_Легкая промышленность                                                379586 non-null  bool          \n",
      " 45  Industry_Медицина                                                             379586 non-null  bool          \n",
      " 46  Industry_Недвижимость                                                         379586 non-null  bool          \n",
      " 47  Industry_Образование                                                          379586 non-null  bool          \n",
      " 48  Industry_Оптовая торговля                                                     379586 non-null  bool          \n",
      " 49  Industry_Охранная деятельность                                                379586 non-null  bool          \n",
      " 50  Industry_Прочая деятельность                                                  379586 non-null  bool          \n",
      " 51  Industry_Радиоэлектроника                                                     379586 non-null  bool          \n",
      " 52  Industry_Ремонт изделий                                                       379586 non-null  bool          \n",
      " 53  Industry_Рестораны и кафе                                                     379586 non-null  bool          \n",
      " 54  Industry_Ритейл                                                               379586 non-null  bool          \n",
      " 55  Industry_Салоны красоты                                                       379586 non-null  bool          \n",
      " 56  Industry_Связь                                                                379586 non-null  bool          \n",
      " 57  Industry_Службы доставки                                                      379586 non-null  bool          \n",
      " 58  Industry_Спорт                                                                379586 non-null  bool          \n",
      " 59  Industry_Строительство                                                        379586 non-null  bool          \n",
      " 60  Industry_Транспорт/Логистика                                                  379586 non-null  bool          \n",
      " 61  Industry_Туризм                                                               379586 non-null  bool          \n",
      " 62  Industry_Тяжелая промышленность                                               379586 non-null  bool          \n",
      " 63  Industry_Услуги                                                               379586 non-null  bool          \n",
      " 64  Industry_Финансы                                                              379586 non-null  bool          \n",
      " 65  Industry_Энергетика                                                           379586 non-null  bool          \n",
      "dtypes: bool(32), datetime64[ns](2), float64(9), int64(9), object(14)\n",
      "memory usage: 112.9+ MB\n"
     ]
    }
   ],
   "source": [
    "final_data_predict.info()"
   ]
  },
  {
   "cell_type": "code",
   "execution_count": 55,
   "id": "b0042b54",
   "metadata": {},
   "outputs": [],
   "source": [
    "# Раскладываем индустрии из поля Industry по разным полям\n",
    "final_data_sales = pd.get_dummies(final_data_sales, columns=['Industry'], drop_first= True)\n",
    "final_data_predict = pd.get_dummies(final_data_predict, columns=['Industry'], drop_first= True)"
   ]
  },
  {
   "cell_type": "code",
   "execution_count": null,
   "id": "9765ed2a",
   "metadata": {},
   "outputs": [],
   "source": [
    "'''\n",
    "1. Создай датасет train_data, который будет полностью состоять из final_data_sales\n",
    "и выборочных 8000 строк из датасета final_data_predict. По показателю продаж sale_size пустые значения заполни 0.\n",
    "2. Добавь в него признак по координатам с помощью функции ниже.\n",
    "\n",
    "'''"
   ]
  },
  {
   "cell_type": "code",
   "execution_count": 74,
   "id": "ffca4a8a",
   "metadata": {},
   "outputs": [
    {
     "name": "stdout",
     "output_type": "stream",
     "text": [
      "<class 'pandas.core.frame.DataFrame'>\n",
      "RangeIndex: 17164 entries, 0 to 17163\n",
      "Data columns (total 70 columns):\n",
      " #   Column                                                                        Non-Null Count  Dtype         \n",
      "---  ------                                                                        --------------  -----         \n",
      " 0   id_client_rf                                                                  17164 non-null  object        \n",
      " 1   month_sale                                                                    17164 non-null  object        \n",
      " 2   sale_size                                                                     17164 non-null  float64       \n",
      " 3   sale_count                                                                    17164 non-null  float64       \n",
      " 4   Code_okved                                                                    17120 non-null  object        \n",
      " 5   Name_okved                                                                    17120 non-null  object        \n",
      " 6   Type_okved                                                                    17120 non-null  float64       \n",
      " 7   id_client                                                                     17164 non-null  int64         \n",
      " 8   name_rf                                                                       17164 non-null  object        \n",
      " 9   workersrange                                                                  17164 non-null  float64       \n",
      " 10  total_revenue                                                                 17164 non-null  int64         \n",
      " 11  companywithsameinfo                                                           17164 non-null  float64       \n",
      " 12  arbitrationcases                                                              17164 non-null  float64       \n",
      " 13  datefirstreg                                                                  17035 non-null  datetime64[ns]\n",
      " 14  flag_site                                                                     17164 non-null  int64         \n",
      " 15  flag_business_center                                                          17164 non-null  int64         \n",
      " 16  flag_resident                                                                 17164 non-null  int64         \n",
      " 17  date_actual_data                                                              17160 non-null  datetime64[ns]\n",
      " 18  flag_vk                                                                       17164 non-null  int64         \n",
      " 19  workersrange_is_known                                                         17164 non-null  int64         \n",
      " 20  workersrange_is_less_then_5                                                   17164 non-null  int64         \n",
      " 21  workersrange_is_more_then_5                                                   17164 non-null  int64         \n",
      " 22  tech_name_x                                                                   17164 non-null  object        \n",
      " 23  address                                                                       15972 non-null  object        \n",
      " 24  flag_provider                                                                 15972 non-null  float64       \n",
      " 25  nflag_have_free_ports                                                         15972 non-null  float64       \n",
      " 26  tech_name_y                                                                   10085 non-null  object        \n",
      " 27  latitude                                                                      13560 non-null  float64       \n",
      " 28  longitude                                                                     13560 non-null  float64       \n",
      " 29  ETTH                                                                          15972 non-null  object        \n",
      " 30  FTTx                                                                          15972 non-null  object        \n",
      " 31  PON                                                                           15972 non-null  object        \n",
      " 32  nan                                                                           15972 non-null  object        \n",
      " 33  xDSL                                                                          15972 non-null  object        \n",
      " 34  БШПД                                                                          15972 non-null  object        \n",
      " 35  Оптика                                                                        15972 non-null  object        \n",
      " 36  delta_date                                                                    9164 non-null   float64       \n",
      " 37  Industry_Автодилеры                                                           17164 non-null  bool          \n",
      " 38  Industry_Агропромышленность                                                   17164 non-null  bool          \n",
      " 39  Industry_Аренда и лизинг                                                      17164 non-null  bool          \n",
      " 40  Industry_Гос. органы                                                          17164 non-null  bool          \n",
      " 41  Industry_Гостиницы                                                            17164 non-null  bool          \n",
      " 42  Industry_ЖКХ                                                                  17164 non-null  bool          \n",
      " 43  Industry_Издательская деятельность                                            17164 non-null  bool          \n",
      " 44  Industry_Инженерная\\, проектная\\, изыскательная и архитектурная деятельность  17164 non-null  bool          \n",
      " 45  Industry_Интернет-бизнес                                                      17164 non-null  bool          \n",
      " 46  Industry_Культура/Развлечения                                                 17164 non-null  bool          \n",
      " 47  Industry_Легкая промышленность                                                17164 non-null  bool          \n",
      " 48  Industry_Медицина                                                             17164 non-null  bool          \n",
      " 49  Industry_Недвижимость                                                         17164 non-null  bool          \n",
      " 50  Industry_Образование                                                          17164 non-null  bool          \n",
      " 51  Industry_Оптовая торговля                                                     17164 non-null  bool          \n",
      " 52  Industry_Охранная деятельность                                                17164 non-null  bool          \n",
      " 53  Industry_Прочая деятельность                                                  17164 non-null  bool          \n",
      " 54  Industry_Радиоэлектроника                                                     17164 non-null  bool          \n",
      " 55  Industry_Ремонт изделий                                                       17164 non-null  bool          \n",
      " 56  Industry_Рестораны и кафе                                                     17164 non-null  bool          \n",
      " 57  Industry_Ритейл                                                               17164 non-null  bool          \n",
      " 58  Industry_Салоны красоты                                                       17164 non-null  bool          \n",
      " 59  Industry_Связь                                                                17164 non-null  bool          \n",
      " 60  Industry_Службы доставки                                                      17164 non-null  bool          \n",
      " 61  Industry_Спорт                                                                17164 non-null  bool          \n",
      " 62  Industry_Строительство                                                        17164 non-null  bool          \n",
      " 63  Industry_Транспорт/Логистика                                                  17164 non-null  bool          \n",
      " 64  Industry_Туризм                                                               17164 non-null  bool          \n",
      " 65  Industry_Тяжелая промышленность                                               17164 non-null  bool          \n",
      " 66  Industry_Услуги                                                               17164 non-null  bool          \n",
      " 67  Industry_Финансы                                                              17164 non-null  bool          \n",
      " 68  Industry_Энергетика                                                           17164 non-null  bool          \n",
      " 69  has_nearby_company                                                            9164 non-null   float64       \n",
      "dtypes: bool(32), datetime64[ns](2), float64(12), int64(9), object(15)\n",
      "memory usage: 5.5+ MB\n"
     ]
    }
   ],
   "source": [
    "# Создаем таблицу из final_data_sales и 8000 случайных строк final_data_predict\n",
    "train_data = pd.concat([final_data_sales, final_data_predict.sample(8000)], ignore_index=True)\n",
    "# Заменяем в столбцах 'month_sale','sale_size','sale_count' NaN\n",
    "train_data['month_sale'] = train_data['month_sale'].fillna(0)\n",
    "train_data['sale_size'] = train_data['sale_size'].fillna(0)\n",
    "train_data['sale_count'] = train_data['sale_count'].fillna(0)\n",
    "train_data.info()"
   ]
  },
  {
   "cell_type": "code",
   "execution_count": 81,
   "id": "5cc23a57",
   "metadata": {},
   "outputs": [
    {
     "data": {
      "text/plain": [
       "has_nearby_company       8000\n",
       "delta_date               8000\n",
       "tech_name_y              7079\n",
       "longitude                3604\n",
       "latitude                 3604\n",
       "address                  1192\n",
       "БШПД                     1192\n",
       "xDSL                     1192\n",
       "nan                      1192\n",
       "PON                      1192\n",
       "FTTx                     1192\n",
       "ETTH                     1192\n",
       "nflag_have_free_ports    1192\n",
       "flag_provider            1192\n",
       "Оптика                   1192\n",
       "datefirstreg              129\n",
       "Type_okved                 44\n",
       "Code_okved                 44\n",
       "Name_okved                 44\n",
       "date_actual_data            4\n",
       "dtype: int64"
      ]
     },
     "execution_count": 81,
     "metadata": {},
     "output_type": "execute_result"
    }
   ],
   "source": [
    "# Анализ пропусков\n",
    "train_data.isna().sum().sort_values(ascending=False).head(20)"
   ]
  },
  {
   "cell_type": "code",
   "execution_count": 82,
   "id": "5fd45092",
   "metadata": {},
   "outputs": [
    {
     "data": {
      "application/vnd.jupyter.widget-view+json": {
       "model_id": "c02db3f717c2479ea74f042c251751dc",
       "version_major": 2,
       "version_minor": 0
      },
      "text/plain": [
       "0it [00:00, ?it/s]"
      ]
     },
     "metadata": {},
     "output_type": "display_data"
    },
    {
     "ename": "KeyboardInterrupt",
     "evalue": "",
     "output_type": "error",
     "traceback": [
      "\u001b[1;31m---------------------------------------------------------------------------\u001b[0m",
      "\u001b[1;31mKeyboardInterrupt\u001b[0m                         Traceback (most recent call last)",
      "\u001b[1;32mc:\\WORK\\STUDY\\GIT\\hackathon_rtk\\Hakaton_Anna.ipynb Cell 63\u001b[0m line \u001b[0;36m2\n\u001b[0;32m     <a href='vscode-notebook-cell:/c%3A/WORK/STUDY/GIT/hackathon_rtk/Hakaton_Anna.ipynb#Y116sZmlsZQ%3D%3D?line=18'>19</a>\u001b[0m \u001b[39mif\u001b[39;00m i \u001b[39m!=\u001b[39m j:\n\u001b[0;32m     <a href='vscode-notebook-cell:/c%3A/WORK/STUDY/GIT/hackathon_rtk/Hakaton_Anna.ipynb#Y116sZmlsZQ%3D%3D?line=19'>20</a>\u001b[0m     lat2, lon2 \u001b[39m=\u001b[39m other_row[\u001b[39m'\u001b[39m\u001b[39mlatitude\u001b[39m\u001b[39m'\u001b[39m], other_row[\u001b[39m'\u001b[39m\u001b[39mlongitude\u001b[39m\u001b[39m'\u001b[39m]\n\u001b[1;32m---> <a href='vscode-notebook-cell:/c%3A/WORK/STUDY/GIT/hackathon_rtk/Hakaton_Anna.ipynb#Y116sZmlsZQ%3D%3D?line=20'>21</a>\u001b[0m     dist \u001b[39m=\u001b[39m haversine(lat1, lon1, lat2, lon2)\n\u001b[0;32m     <a href='vscode-notebook-cell:/c%3A/WORK/STUDY/GIT/hackathon_rtk/Hakaton_Anna.ipynb#Y116sZmlsZQ%3D%3D?line=21'>22</a>\u001b[0m     \u001b[39mif\u001b[39;00m dist \u001b[39m<\u001b[39m\u001b[39m=\u001b[39m \u001b[39m50\u001b[39m:\n\u001b[0;32m     <a href='vscode-notebook-cell:/c%3A/WORK/STUDY/GIT/hackathon_rtk/Hakaton_Anna.ipynb#Y116sZmlsZQ%3D%3D?line=22'>23</a>\u001b[0m         train_data\u001b[39m.\u001b[39mat[i, \u001b[39m'\u001b[39m\u001b[39mhas_nearby_company\u001b[39m\u001b[39m'\u001b[39m] \u001b[39m=\u001b[39m \u001b[39m1\u001b[39m\n",
      "\u001b[1;32mc:\\WORK\\STUDY\\GIT\\hackathon_rtk\\Hakaton_Anna.ipynb Cell 63\u001b[0m line \u001b[0;36m1\n\u001b[0;32m      <a href='vscode-notebook-cell:/c%3A/WORK/STUDY/GIT/hackathon_rtk/Hakaton_Anna.ipynb#Y116sZmlsZQ%3D%3D?line=7'>8</a>\u001b[0m dlon \u001b[39m=\u001b[39m radians(lon2 \u001b[39m-\u001b[39m lon1)\n\u001b[0;32m      <a href='vscode-notebook-cell:/c%3A/WORK/STUDY/GIT/hackathon_rtk/Hakaton_Anna.ipynb#Y116sZmlsZQ%3D%3D?line=8'>9</a>\u001b[0m a \u001b[39m=\u001b[39m sin(dlat \u001b[39m/\u001b[39m \u001b[39m2\u001b[39m) \u001b[39m*\u001b[39m\u001b[39m*\u001b[39m \u001b[39m2\u001b[39m \u001b[39m+\u001b[39m cos(radians(lat1)) \u001b[39m*\u001b[39m cos(radians(lat2)) \u001b[39m*\u001b[39m sin(dlon \u001b[39m/\u001b[39m \u001b[39m2\u001b[39m) \u001b[39m*\u001b[39m\u001b[39m*\u001b[39m \u001b[39m2\u001b[39m\n\u001b[1;32m---> <a href='vscode-notebook-cell:/c%3A/WORK/STUDY/GIT/hackathon_rtk/Hakaton_Anna.ipynb#Y116sZmlsZQ%3D%3D?line=9'>10</a>\u001b[0m c \u001b[39m=\u001b[39m \u001b[39m2\u001b[39m \u001b[39m*\u001b[39m atan2(sqrt(a), sqrt(\u001b[39m1\u001b[39m \u001b[39m-\u001b[39m a))\n\u001b[0;32m     <a href='vscode-notebook-cell:/c%3A/WORK/STUDY/GIT/hackathon_rtk/Hakaton_Anna.ipynb#Y116sZmlsZQ%3D%3D?line=10'>11</a>\u001b[0m \u001b[39mreturn\u001b[39;00m R \u001b[39m*\u001b[39m c \u001b[39m*\u001b[39m \u001b[39m1000\u001b[39m\n",
      "\u001b[1;31mKeyboardInterrupt\u001b[0m: "
     ]
    }
   ],
   "source": [
    "# Функция определения ближайших компаний\n",
    "from tqdm.notebook import tqdm\n",
    "from math import radians, sin, cos, sqrt, atan2\n",
    "pbar = tqdm()\n",
    "def haversine(lat1, lon1, lat2, lon2):\n",
    "    R = 6371  # radius of the earth in km\n",
    "    dlat = radians(lat2 - lat1)\n",
    "    dlon = radians(lon2 - lon1)\n",
    "    a = sin(dlat / 2) ** 2 + cos(radians(lat1)) * cos(radians(lat2)) * sin(dlon / 2) ** 2\n",
    "    c = 2 * atan2(sqrt(a), sqrt(1 - a))\n",
    "    return R * c * 1000  # distance in meters\n",
    "\n",
    "train_data['has_nearby_company'] = 0\n",
    "\n",
    "pbar.reset(total=len(train_data))\n",
    "for i, row in train_data.iterrows():\n",
    "    lat1, lon1 = row['latitude'], row['longitude']\n",
    "    for j, other_row in train_data.iterrows():\n",
    "        if i != j:\n",
    "            lat2, lon2 = other_row['latitude'], other_row['longitude']\n",
    "            dist = haversine(lat1, lon1, lat2, lon2)\n",
    "            if dist <= 50:\n",
    "                train_data.at[i, 'has_nearby_company'] = 1\n",
    "                break\n",
    "    pbar.update()             \n",
    "pbar.refresh()\n",
    "\n",
    "train_data.head()"
   ]
  },
  {
   "cell_type": "code",
   "execution_count": 84,
   "id": "3c01515a",
   "metadata": {},
   "outputs": [],
   "source": [
    "train_data.to_csv(r'C:\\WORK\\STUDY\\GIT\\Данные для хакатона\\train_data.csv', index=False)"
   ]
  },
  {
   "cell_type": "code",
   "execution_count": 103,
   "id": "b79a7816",
   "metadata": {},
   "outputs": [],
   "source": [
    "X_for_kmeans = final_data_sales.drop(columns = ['tech_name_y', 'Code_okved', 'Name_okved',\n",
    "                      'Type_okved', 'id_client', 'workersrange',\n",
    "                      'datefirstreg', 'date_actual_data', 'tech_name_x',\n",
    "                      'address', 'latitude', 'longitude', 'id_client_rf', 'month_sale', 'name_rf'], axis=1)"
   ]
  },
  {
   "cell_type": "code",
   "execution_count": 86,
   "id": "2f2c238d",
   "metadata": {},
   "outputs": [],
   "source": [
    "X_for_kmeans = X_for_kmeans.dropna()"
   ]
  },
  {
   "cell_type": "code",
   "execution_count": 95,
   "id": "b34f5c25",
   "metadata": {},
   "outputs": [
    {
     "name": "stdout",
     "output_type": "stream",
     "text": [
      "<class 'pandas.core.frame.DataFrame'>\n",
      "Index: 9164 entries, 0 to 20137\n",
      "Data columns (total 54 columns):\n",
      " #   Column                                                                        Non-Null Count  Dtype  \n",
      "---  ------                                                                        --------------  -----  \n",
      " 0   sale_size                                                                     9164 non-null   int32  \n",
      " 1   total_revenue                                                                 9164 non-null   int64  \n",
      " 2   companywithsameinfo                                                           9164 non-null   float64\n",
      " 3   arbitrationcases                                                              9164 non-null   float64\n",
      " 4   flag_site                                                                     9164 non-null   int64  \n",
      " 5   flag_business_center                                                          9164 non-null   int64  \n",
      " 6   flag_resident                                                                 9164 non-null   int64  \n",
      " 7   flag_vk                                                                       9164 non-null   int64  \n",
      " 8   workersrange_is_known                                                         9164 non-null   int64  \n",
      " 9   workersrange_is_less_then_5                                                   9164 non-null   int64  \n",
      " 10  workersrange_is_more_then_5                                                   9164 non-null   int64  \n",
      " 11  flag_provider                                                                 7972 non-null   float64\n",
      " 12  nflag_have_free_ports                                                         7972 non-null   float64\n",
      " 13  ETTH                                                                          7972 non-null   object \n",
      " 14  FTTx                                                                          7972 non-null   object \n",
      " 15  PON                                                                           7972 non-null   object \n",
      " 16  nan                                                                           7972 non-null   object \n",
      " 17  xDSL                                                                          7972 non-null   object \n",
      " 18  БШПД                                                                          7972 non-null   object \n",
      " 19  Оптика                                                                        7972 non-null   object \n",
      " 20  delta_date                                                                    9164 non-null   float64\n",
      " 21  Industry_Автодилеры                                                           9164 non-null   bool   \n",
      " 22  Industry_Агропромышленность                                                   9164 non-null   bool   \n",
      " 23  Industry_Аренда и лизинг                                                      9164 non-null   bool   \n",
      " 24  Industry_Гос. органы                                                          9164 non-null   bool   \n",
      " 25  Industry_Гостиницы                                                            9164 non-null   bool   \n",
      " 26  Industry_ЖКХ                                                                  9164 non-null   bool   \n",
      " 27  Industry_Издательская деятельность                                            9164 non-null   bool   \n",
      " 28  Industry_Инженерная\\, проектная\\, изыскательная и архитектурная деятельность  9164 non-null   bool   \n",
      " 29  Industry_Интернет-бизнес                                                      9164 non-null   bool   \n",
      " 30  Industry_Культура/Развлечения                                                 9164 non-null   bool   \n",
      " 31  Industry_Легкая промышленность                                                9164 non-null   bool   \n",
      " 32  Industry_Медицина                                                             9164 non-null   bool   \n",
      " 33  Industry_Недвижимость                                                         9164 non-null   bool   \n",
      " 34  Industry_Образование                                                          9164 non-null   bool   \n",
      " 35  Industry_Оптовая торговля                                                     9164 non-null   bool   \n",
      " 36  Industry_Охранная деятельность                                                9164 non-null   bool   \n",
      " 37  Industry_Прочая деятельность                                                  9164 non-null   bool   \n",
      " 38  Industry_Радиоэлектроника                                                     9164 non-null   bool   \n",
      " 39  Industry_Ремонт изделий                                                       9164 non-null   bool   \n",
      " 40  Industry_Рестораны и кафе                                                     9164 non-null   bool   \n",
      " 41  Industry_Ритейл                                                               9164 non-null   bool   \n",
      " 42  Industry_Салоны красоты                                                       9164 non-null   bool   \n",
      " 43  Industry_Связь                                                                9164 non-null   bool   \n",
      " 44  Industry_Службы доставки                                                      9164 non-null   bool   \n",
      " 45  Industry_Спорт                                                                9164 non-null   bool   \n",
      " 46  Industry_Строительство                                                        9164 non-null   bool   \n",
      " 47  Industry_Транспорт/Логистика                                                  9164 non-null   bool   \n",
      " 48  Industry_Туризм                                                               9164 non-null   bool   \n",
      " 49  Industry_Тяжелая промышленность                                               9164 non-null   bool   \n",
      " 50  Industry_Услуги                                                               9164 non-null   bool   \n",
      " 51  Industry_Финансы                                                              9164 non-null   bool   \n",
      " 52  Industry_Энергетика                                                           9164 non-null   bool   \n",
      " 53  has_nearby_company                                                            9164 non-null   int64  \n",
      "dtypes: bool(32), float64(5), int32(1), int64(9), object(7)\n",
      "memory usage: 2.1+ MB\n"
     ]
    }
   ],
   "source": [
    "X_for_kmeans.info()"
   ]
  },
  {
   "cell_type": "markdown",
   "id": "ac314073",
   "metadata": {},
   "source": [
    "### Анализ мультиколлинеарности"
   ]
  },
  {
   "cell_type": "code",
   "execution_count": null,
   "id": "bdb92f86",
   "metadata": {},
   "outputs": [],
   "source": [
    "#матрица корреляции\n",
    "corr_matrix = X_for_kmeans.corr()\n",
    "fig, ax = plt.subplots()"
   ]
  },
  {
   "cell_type": "code",
   "execution_count": null,
   "id": "b2543296",
   "metadata": {},
   "outputs": [],
   "source": [
    "#тепловая карта для матрицы корреляции\n",
    "sns.heatmap(corr_matrix, annot=True, square=True)\n",
    "ax.set_ylim(7, 0)\n",
    "plt.show()"
   ]
  },
  {
   "cell_type": "code",
   "execution_count": null,
   "id": "487d3e60",
   "metadata": {},
   "outputs": [],
   "source": [
    "#диаграммы рассеяния для взаимосвязи показателей с целевой переменной\n",
    "for col in data.drop('Целевая переменная', axis = 1).columns:\n",
    "    sns.scatterplot(data=data, x=col, y=cars['Целевая переменная'])\n",
    "    plt.show()"
   ]
  },
  {
   "cell_type": "code",
   "execution_count": null,
   "id": "2757f3fa",
   "metadata": {},
   "outputs": [],
   "source": [
    "#преобразование категориальных переменных в бинарный вид\n",
    "\n",
    "data[] = pd.get_dummies(data[])\n",
    "data.head()"
   ]
  },
  {
   "cell_type": "markdown",
   "id": "a88d5bf0",
   "metadata": {},
   "source": [
    "### Выводы по разделу:"
   ]
  },
  {
   "cell_type": "markdown",
   "id": "a6d6693d",
   "metadata": {},
   "source": [
    "1. \n",
    "2. "
   ]
  },
  {
   "cell_type": "markdown",
   "id": "9fc86479",
   "metadata": {},
   "source": [
    "## 2. Анализ временного ряда"
   ]
  },
  {
   "cell_type": "markdown",
   "id": "da95da5c",
   "metadata": {},
   "source": [
    "Для начала посмотрим на динамику показателя ??? и его скользящее среднее за ???"
   ]
  },
  {
   "cell_type": "code",
   "execution_count": null,
   "id": "c1fa21a1",
   "metadata": {},
   "outputs": [],
   "source": [
    "plt.figure(figsize = (15,8))\n",
    "plt.plot(data[''], label = '???', color = 'steelblue')\n",
    "plt.plot(data[''].rolling(window = 12).mean(), label = 'Скользящее среднее за 12 месяцев', color = 'orange')\n",
    "plt.legend(title = '', loc = 'upper left', fontsize = 14)\n",
    "plt.xlabel('Месяцы???', fontsize = 14)\n",
    "plt.ylabel('???', fontsize = 14)\n",
    "plt.title('???', fontsize = 16)\n",
    "plt.show()"
   ]
  },
  {
   "cell_type": "markdown",
   "id": "5eaf1b21",
   "metadata": {},
   "source": []
  },
  {
   "cell_type": "markdown",
   "id": "07522089",
   "metadata": {},
   "source": [
    "**Разложение ряда на компоненты**"
   ]
  },
  {
   "cell_type": "code",
   "execution_count": null,
   "id": "ce440d2e",
   "metadata": {},
   "outputs": [],
   "source": [
    "rcParams['figure.figsize'] = 11, 9\n",
    "decompose = seasonal_decompose(data[''])\n",
    "decompose.plot()\n",
    "plt.show()"
   ]
  },
  {
   "cell_type": "markdown",
   "id": "6c8c12dd",
   "metadata": {},
   "source": []
  },
  {
   "cell_type": "markdown",
   "id": "271bb225",
   "metadata": {},
   "source": [
    "**Проверка на стационарность**"
   ]
  },
  {
   "cell_type": "code",
   "execution_count": null,
   "id": "8424792c",
   "metadata": {},
   "outputs": [],
   "source": [
    "# тест Дики-Фуллера\n",
    "adf_test = adfuller(data[''])\n",
    "print('p-value = ' + str(adf_test[1]))"
   ]
  },
  {
   "cell_type": "markdown",
   "id": "c163d5bc",
   "metadata": {},
   "source": [
    "Стационарен, если есть p-value меньше 0,05 - можем отвергнуть нулевую гипотезу о нестационарности процесса.\n",
    "\n",
    "Если стационарен - тренд можно не выявлять."
   ]
  },
  {
   "cell_type": "markdown",
   "id": "5c25cbed",
   "metadata": {},
   "source": [
    "**Проверка наличия автокорреляции**"
   ]
  },
  {
   "cell_type": "markdown",
   "id": "3a94b961",
   "metadata": {},
   "source": []
  },
  {
   "cell_type": "code",
   "execution_count": null,
   "id": "0942b77a",
   "metadata": {},
   "outputs": [],
   "source": [
    "plot_acf(data[''], lags=np.arange(12))\n",
    "plt.show()"
   ]
  },
  {
   "cell_type": "code",
   "execution_count": null,
   "id": "f3a08803",
   "metadata": {},
   "outputs": [],
   "source": [
    "#уточним значение для лага, с наибольшей автокорреляцией\n",
    "np.round(np.corrcoef(data[''][:-1], data[''][1:])[0,1], 2)"
   ]
  },
  {
   "cell_type": "markdown",
   "id": "3d1e5d38",
   "metadata": {},
   "source": []
  },
  {
   "cell_type": "markdown",
   "id": "1d58b1fe",
   "metadata": {},
   "source": [
    "## 3. Реализация алгоритмов машинного обучения"
   ]
  },
  {
   "cell_type": "markdown",
   "id": "fc5b87ee",
   "metadata": {},
   "source": [
    "Реализуем следующие алгоритмы машинного обучения:\n",
    "\n",
    "- линейная регрессия (стандартная, а также с L1- и с L2-регуляризацией)\n",
    "- логистическая регрессия (с решателями liblinear, sag и saga),\n",
    "- дерево принятия решений,\n",
    "- случайный лес,\n",
    "- градиентный бустинг.\n",
    "\n",
    "Cначала разделим выборки на обучающую/валидационную, проведем стандартизацию данных. Далее сделаем прогноз, сравним метрики и выберем лучшие модели."
   ]
  },
  {
   "cell_type": "markdown",
   "id": "d3aba05a",
   "metadata": {},
   "source": [
    "### Обучение с учителем: бинарная классификация"
   ]
  },
  {
   "cell_type": "markdown",
   "id": "19e2495b",
   "metadata": {},
   "source": [
    "Добавим в датафрейм бинарную целевую переменную, содержащую факт покупки. И заново разделим выборку и проведем стандартизацию."
   ]
  },
  {
   "cell_type": "code",
   "execution_count": null,
   "id": "1774c34e",
   "metadata": {},
   "outputs": [],
   "source": [
    "data['Факт покупки'] = [1 for i in data['???'] if i not 0]\n",
    "\n",
    "print('Получившееся распределение по группам:\\n', data['Факт покупки'].value_counts())"
   ]
  },
  {
   "cell_type": "code",
   "execution_count": null,
   "id": "f552cbd0",
   "metadata": {},
   "outputs": [],
   "source": [
    "#разделение на x/y\n",
    "X_b = data.drop(['Факт покупки', 'Целевой пок-ль из линейной регр'], axis = 1)\n",
    "y_b = data['Факт покупки']\n",
    "\n",
    "#Здесь скорее всего, будет привязка ко времени, нужно будет разделить с ее учетом\n",
    "X_b_train, X_b_test, y_b_train, y_b_test = train_test_split(X_b, y_b, test_size=0.2)\n",
    "\n",
    "#стандартизация\n",
    "scaler = StandardScaler()\n",
    "scaler.fit(X_b_train)\n",
    "X_b_train_st = scaler.transform(X_b_train)\n",
    "X_b_test_st = scaler.transform(X_b_test)"
   ]
  },
  {
   "cell_type": "code",
   "execution_count": null,
   "id": "796249da",
   "metadata": {},
   "outputs": [],
   "source": [
    "#зададим функцию для расчета разных моделей бинарной классификации:\n",
    "def binary_class_func(m, X_b_train, X_b_test, y_b_train, y_b_test):\n",
    "    model = m\n",
    "    model.fit(X_b_train_st, y_b_train)\n",
    "    probabilities = model.predict_proba(X_b_test)[:, 1]\n",
    "    predictions = model.predict(X_b_test)\n",
    "    print('\\n', m, '\\n')\n",
    "    print('Accuracy (доля правильных ответов): {:.2f}'.format(accuracy_score(y_b_test, predictions)))\n",
    "    print('Precision (точность): {:.2f}'.format(precision_score(y_b_test, predictions)))\n",
    "    print('Recall (полнота!): {:.2f}'.format(recall_score(y_b_test, predictions)))\n",
    "    print('F1: {:.2f}'.format(f1_score(y_b_test, predictions)))\n",
    "    print('AUC-ROC (площадь под кривой ошибок): {:.2f}'.format(roc_auc = roc_auc_score(y_b_test, probabilities[:,1])))"
   ]
  },
  {
   "cell_type": "code",
   "execution_count": null,
   "id": "e82f7a8c",
   "metadata": {},
   "outputs": [],
   "source": [
    "#стандартная логистическая регрессия\n",
    "binary_class_func(LogisticRegression(solver='liblinear'), X_b_train_st, X_b_test_st, y_b_train, y_b_test)"
   ]
  },
  {
   "cell_type": "code",
   "execution_count": null,
   "id": "f9fe1a58",
   "metadata": {},
   "outputs": [],
   "source": [
    "#логистическая регрессия с решателем sag (L2)\n",
    "binary_class_func(LogisticRegression(solver='sag'), X_b_train_st, X_b_test_st, y_b_train, y_b_test)"
   ]
  },
  {
   "cell_type": "code",
   "execution_count": null,
   "id": "486d752f",
   "metadata": {},
   "outputs": [],
   "source": [
    "#логистическая регрессия с решателем saga\n",
    "binary_class_func(LogisticRegression(solver='saga'), X_b_train_st, X_b_test_st, y_b_train, y_b_test)"
   ]
  },
  {
   "cell_type": "code",
   "execution_count": null,
   "id": "2e4e0443",
   "metadata": {},
   "outputs": [],
   "source": [
    "#дерево принятия решений\n",
    "binary_class_func(DecisionTreeClassifier(), X_b_train_st, X_b_test_st, y_b_train, y_b_test)"
   ]
  },
  {
   "cell_type": "code",
   "execution_count": null,
   "id": "c06ed669",
   "metadata": {},
   "outputs": [],
   "source": [
    "#случайный лес\n",
    "binary_class_func(RandomForestClassifier(n_estimators = 100), X_b_train_st, X_b_test_st, y_b_train, y_b_test)"
   ]
  },
  {
   "cell_type": "code",
   "execution_count": null,
   "id": "2843051c",
   "metadata": {},
   "outputs": [],
   "source": [
    "#градиентный бустинг\n",
    "binary_class_func(GradientBoostingClassifier(n_estimators = 100), X_b_train_st, X_b_test_st, y_b_train, y_b_test)"
   ]
  },
  {
   "cell_type": "code",
   "execution_count": null,
   "id": "f8b098bf",
   "metadata": {},
   "outputs": [],
   "source": [
    "#метод опорных векторов\n",
    "binary_class_func(SVC(kernel='linear'), X_b_train_st, X_b_test_st, y_b_train, y_b_test)"
   ]
  },
  {
   "cell_type": "code",
   "execution_count": null,
   "id": "82d3b1f3",
   "metadata": {},
   "outputs": [],
   "source": [
    "#метод K-ближайших соседей\n",
    "binary_class_func(KNeighborsRegressor(n_neighbors=5), X_b_train_st, X_b_test_st, y_b_train, y_b_test)"
   ]
  },
  {
   "cell_type": "markdown",
   "id": "59cce2b3",
   "metadata": {},
   "source": [
    "Лучшими метриками обладают ??? модели. Поэтому прогнозировать принадлежность потенциального клиента к тому или иному классу будем на основе ???\n",
    "\n",
    "\n",
    "Также можно доработать модель логистической регрессии, поэкспериментировав с порогом отнесения к классу вероятных клиентов. Поскольку нам важно не потерять потенциального клиента, то порог будем постепенно уменьшать. В качестве пороговых значений будем использовать 0.45, 0.40, 0.35 и 0.30."
   ]
  },
  {
   "cell_type": "code",
   "execution_count": null,
   "id": "d8192b3e",
   "metadata": {},
   "outputs": [],
   "source": [
    "model_log = LogisticRegression(solver='liblinear', random_state=0)\n",
    "model_log.fit(X_b_train_st, y_b_train)\n",
    "predictions = model_log.predict(X_b_test_st)\n",
    "probabilities = model_log.predict_proba(X_b_test_st)[:,1]\n",
    "print('Accuracy (доля правильных ответов): {:.2f}'.format(accuracy_score(y_b_test, predictions)))\n",
    "print('Precision (точность): {:.2f}'.format(precision_score(y_b_test, predictions)))\n",
    "print('Recall (полнота!): {:.2f}'.format(recall_score(y_b_test, predictions)))\n",
    "print('F1: {:.2f}'.format(f1_score(y_b_test, predictions)))\n",
    "print('AUC-ROC (площадь под кривой ошибок): {:.2f}'.format(roc_auc = roc_auc_score(y_b_test, probabilities[:,1])))"
   ]
  },
  {
   "cell_type": "code",
   "execution_count": null,
   "id": "62f3b5ea",
   "metadata": {},
   "outputs": [],
   "source": [
    "thresholds = [0.45, 0.4, 0.35, 0.3]\n",
    "\n",
    "for threshold in thresholds:\n",
    "    custom_predictions = [0 if i < threshold else 1 for i in probabilities]\n",
    "    print('Метрики для прогноза с порогом ', i)\n",
    "    print('Accuracy: {:.2f}'.format(accuracy_score(y_b_test, custom_predictions)))\n",
    "    print('Precision: {:.2f}'.format(precision_score(y_b_test, custom_predictions)))\n",
    "    print('Recall: {:.2f}'.format(recall_score(y_b_test, custom_predictions)))\n",
    "    print('F1: {:.2f}'.format(f1_score(y_b_test, custom_predictions)))"
   ]
  },
  {
   "cell_type": "markdown",
   "id": "d5870af2",
   "metadata": {},
   "source": [
    "Выбор лучшей модели"
   ]
  },
  {
   "cell_type": "markdown",
   "id": "7107c292",
   "metadata": {},
   "source": [
    "### Обучение без учителя: кластеризация"
   ]
  },
  {
   "cell_type": "markdown",
   "id": "d3304cdf",
   "metadata": {},
   "source": [
    "Для кластеризации потенциальных клиентов реализуем алгоритм на основе метода к-средних (k-means)."
   ]
  },
  {
   "cell_type": "code",
   "execution_count": 88,
   "id": "ca0efbe2",
   "metadata": {},
   "outputs": [
    {
     "name": "stderr",
     "output_type": "stream",
     "text": [
      "c:\\Users\\anton.bakhmetev\\AppData\\Local\\Programs\\Python\\Python311\\Lib\\site-packages\\sklearn\\cluster\\_kmeans.py:1412: FutureWarning: The default value of `n_init` will change from 10 to 'auto' in 1.4. Set the value of `n_init` explicitly to suppress the warning\n",
      "  super()._check_params_vs_input(X, default_n_init=10)\n"
     ]
    },
    {
     "name": "stdout",
     "output_type": "stream",
     "text": [
      "Средние значения признаков по кластерам \n",
      "           sale_size  sale_count  total_revenue  companywithsameinfo  \\\n",
      "clusters                                                              \n",
      "0          2.882517    1.678322      16.422378             0.545455   \n",
      "1          2.629951    1.037439      34.899258             0.996564   \n",
      "2          2.649306    1.031250      72.042824             0.747685   \n",
      "\n",
      "          arbitrationcases  flag_site  flag_business_center  flag_resident  \\\n",
      "clusters                                                                     \n",
      "0                 1.742657   0.187413              0.060140       0.097902   \n",
      "1                 1.639718   0.143968              0.029662       0.041418   \n",
      "2                 3.082176   0.761574              0.353588       0.565394   \n",
      "\n",
      "           flag_vk  workersrange_is_known  workersrange_is_less_then_5  \\\n",
      "clusters                                                                 \n",
      "0         0.090909                    0.0                          0.0   \n",
      "1         0.007596                    0.0                          0.0   \n",
      "2         0.743634                    0.0                          0.0   \n",
      "\n",
      "          workersrange_is_more_then_5  flag_provider  nflag_have_free_ports  \\\n",
      "clusters                                                                      \n",
      "0                                 0.0       0.686713               0.559441   \n",
      "1                                 0.0       0.650570               0.486345   \n",
      "2                                 0.0       0.925926               0.506366   \n",
      "\n",
      "              ETTH      FTTx       PON       nan      xDSL      БШПД Оптика  \\\n",
      "clusters                                                                      \n",
      "0         0.243357   0.01958  0.072727       1.0  0.854545       0.0    0.0   \n",
      "1         0.294086  0.023874  0.080304       1.0  0.779707  0.000362    0.0   \n",
      "2         0.322917  0.013889  0.041667  0.997685  0.657986       0.0    0.0   \n",
      "\n",
      "            delta_date  Industry_Автодилеры  Industry_Агропромышленность  \\\n",
      "clusters                                                                   \n",
      "0         1.023571e+08             0.009790                     0.002797   \n",
      "1         1.641937e+08             0.044674                     0.018448   \n",
      "2         2.089294e+08             0.033565                     0.001157   \n",
      "\n",
      "          Industry_Аренда и лизинг  ...  Industry_Интернет-бизнес  \\\n",
      "clusters                            ...                             \n",
      "0                         0.002797  ...                  0.467133   \n",
      "1                         0.006873  ...                  0.000000   \n",
      "2                         0.002315  ...                  0.015046   \n",
      "\n",
      "          Industry_Культура/Развлечения  Industry_Легкая промышленность  \\\n",
      "clusters                                                                  \n",
      "0                              0.005594                        0.022378   \n",
      "1                              0.011575                        0.061132   \n",
      "2                              0.024306                        0.037037   \n",
      "\n",
      "          Industry_Медицина  Industry_Недвижимость  Industry_Образование  \\\n",
      "clusters                                                                   \n",
      "0                  0.019580               0.030769              0.005594   \n",
      "1                  0.014469               0.062941              0.005788   \n",
      "2                  0.030093               0.035880              0.037037   \n",
      "\n",
      "          Industry_Оптовая торговля  Industry_Охранная деятельность  \\\n",
      "clusters                                                              \n",
      "0                          0.072727                        0.005594   \n",
      "1                          0.111051                        0.009767   \n",
      "2                          0.082176                        0.000000   \n",
      "\n",
      "          Industry_Прочая деятельность  Industry_Радиоэлектроника  \\\n",
      "clusters                                                            \n",
      "0                             0.013986                   0.005594   \n",
      "1                             0.009043                   0.002532   \n",
      "2                             0.006944                   0.011574   \n",
      "\n",
      "          Industry_Ремонт изделий  Industry_Рестораны и кафе  Industry_Ритейл  \\\n",
      "clusters                                                                        \n",
      "0                        0.008392                   0.025175         0.104895   \n",
      "1                        0.014107                   0.047387         0.239826   \n",
      "2                        0.019676                   0.079861         0.260995   \n",
      "\n",
      "          Industry_Салоны красоты  Industry_Связь  Industry_Службы доставки  \\\n",
      "clusters                                                                      \n",
      "0                        0.008392        0.002797                  0.005594   \n",
      "1                        0.008320        0.003979                  0.003617   \n",
      "2                        0.056713        0.001157                  0.000000   \n",
      "\n",
      "          Industry_Спорт  Industry_Строительство  \\\n",
      "clusters                                           \n",
      "0               0.005594                0.047552   \n",
      "1               0.006511                0.091517   \n",
      "2               0.024306                0.043981   \n",
      "\n",
      "          Industry_Транспорт/Логистика  Industry_Туризм  \\\n",
      "clusters                                                  \n",
      "0                             0.027972         0.000000   \n",
      "1                             0.051727         0.006873   \n",
      "2                             0.026620         0.009259   \n",
      "\n",
      "          Industry_Тяжелая промышленность  Industry_Услуги  Industry_Финансы  \\\n",
      "clusters                                                                       \n",
      "0                                0.016783         0.020979          0.005594   \n",
      "1                                0.032917         0.050642          0.011575   \n",
      "2                                0.019676         0.049190          0.017361   \n",
      "\n",
      "          Industry_Энергетика  has_nearby_company  \n",
      "clusters                                           \n",
      "0                    0.011189            0.538462  \n",
      "1                    0.004702            0.000000  \n",
      "2                    0.005787            0.003472  \n",
      "\n",
      "[3 rows x 55 columns]\n"
     ]
    }
   ],
   "source": [
    "#стандартизация\n",
    "sc = StandardScaler()\n",
    "X_sc = sc.fit_transform(X_for_kmeans)\n",
    "\n",
    "#модель\n",
    "km = KMeans(n_clusters=3, random_state=0)\n",
    "labels = km.fit_predict(X_sc)\n",
    "X_for_kmeans['clusters'] = labels\n",
    "\n",
    "print('Средние значения признаков по кластерам \\n', X_for_kmeans.groupby(['clusters']).mean())"
   ]
  },
  {
   "cell_type": "code",
   "execution_count": 89,
   "id": "077505ff",
   "metadata": {},
   "outputs": [
    {
     "data": {
      "image/png": "[encoded data removed]",
      "text/plain": [
       "<Figure size 1500x1000 with 1 Axes>"
      ]
     },
     "metadata": {},
     "output_type": "display_data"
    }
   ],
   "source": [
    "#график кластеризации\n",
    "linked = linkage(X_sc, method = 'ward') \n",
    "plt.figure(figsize=(15, 10))  \n",
    "dendrogram(linked, orientation='top')\n",
    "plt.title('Иерархическая кластеризация клиентов')\n",
    "plt.show() "
   ]
  },
  {
   "cell_type": "code",
   "execution_count": 91,
   "id": "0bcae9ea",
   "metadata": {},
   "outputs": [
    {
     "name": "stderr",
     "output_type": "stream",
     "text": [
      "c:\\Users\\anton.bakhmetev\\AppData\\Local\\Programs\\Python\\Python311\\Lib\\site-packages\\sklearn\\utils\\extmath.py:193: RuntimeWarning: invalid value encountered in matmul\n",
      "  ret = a @ b\n"
     ]
    },
    {
     "name": "stdout",
     "output_type": "stream",
     "text": [
      "Silhouette score (метрика силуэта): 0.10\n"
     ]
    }
   ],
   "source": [
    "# Метрика силуэта\n",
    "from sklearn.metrics import silhouette_score, davies_bouldin_score,v_measure_score\n",
    "print('Silhouette score (метрика силуэта): {:.2f}'.format(silhouette_score(X_sc, labels)))"
   ]
  },
  {
   "cell_type": "markdown",
   "id": "d4379d85",
   "metadata": {},
   "source": [
    "**Running k-means and computing inter-cluster distance score for various *k* values**"
   ]
  },
  {
   "cell_type": "code",
   "execution_count": 104,
   "id": "0a08a9fe",
   "metadata": {},
   "outputs": [
    {
     "name": "stderr",
     "output_type": "stream",
     "text": [
      "c:\\Users\\anton.bakhmetev\\AppData\\Local\\Programs\\Python\\Python311\\Lib\\site-packages\\sklearn\\cluster\\_kmeans.py:1412: FutureWarning: The default value of `n_init` will change from 10 to 'auto' in 1.4. Set the value of `n_init` explicitly to suppress the warning\n",
      "  super()._check_params_vs_input(X, default_n_init=10)\n"
     ]
    },
    {
     "name": "stdout",
     "output_type": "stream",
     "text": [
      "Score for number of cluster(s) 2: -392714.4318403469\n"
     ]
    },
    {
     "name": "stderr",
     "output_type": "stream",
     "text": [
      "c:\\Users\\anton.bakhmetev\\AppData\\Local\\Programs\\Python\\Python311\\Lib\\site-packages\\sklearn\\utils\\extmath.py:193: RuntimeWarning: invalid value encountered in matmul\n",
      "  ret = a @ b\n"
     ]
    },
    {
     "name": "stdout",
     "output_type": "stream",
     "text": [
      "Silhouette score for number of cluster(s) 2: 0.09711078472726713\n",
      "Davies Bouldin score for number of cluster(s) 2: 4.046531618255971\n",
      "Score for number of cluster(s) 3: -383397.19721010374\n"
     ]
    },
    {
     "name": "stderr",
     "output_type": "stream",
     "text": [
      "c:\\Users\\anton.bakhmetev\\AppData\\Local\\Programs\\Python\\Python311\\Lib\\site-packages\\sklearn\\cluster\\_kmeans.py:1412: FutureWarning: The default value of `n_init` will change from 10 to 'auto' in 1.4. Set the value of `n_init` explicitly to suppress the warning\n",
      "  super()._check_params_vs_input(X, default_n_init=10)\n",
      "c:\\Users\\anton.bakhmetev\\AppData\\Local\\Programs\\Python\\Python311\\Lib\\site-packages\\sklearn\\utils\\extmath.py:193: RuntimeWarning: invalid value encountered in matmul\n",
      "  ret = a @ b\n"
     ]
    },
    {
     "name": "stdout",
     "output_type": "stream",
     "text": [
      "Silhouette score for number of cluster(s) 3: 0.09569941816670376\n",
      "Davies Bouldin score for number of cluster(s) 3: 3.657306904125194\n",
      "Score for number of cluster(s) 4: -374749.2125268545\n"
     ]
    },
    {
     "name": "stderr",
     "output_type": "stream",
     "text": [
      "c:\\Users\\anton.bakhmetev\\AppData\\Local\\Programs\\Python\\Python311\\Lib\\site-packages\\sklearn\\cluster\\_kmeans.py:1412: FutureWarning: The default value of `n_init` will change from 10 to 'auto' in 1.4. Set the value of `n_init` explicitly to suppress the warning\n",
      "  super()._check_params_vs_input(X, default_n_init=10)\n",
      "c:\\Users\\anton.bakhmetev\\AppData\\Local\\Programs\\Python\\Python311\\Lib\\site-packages\\sklearn\\utils\\extmath.py:193: RuntimeWarning: invalid value encountered in matmul\n",
      "  ret = a @ b\n"
     ]
    },
    {
     "name": "stdout",
     "output_type": "stream",
     "text": [
      "Silhouette score for number of cluster(s) 4: 0.04329033305184602\n",
      "Davies Bouldin score for number of cluster(s) 4: 3.9278116395924183\n",
      "Score for number of cluster(s) 5: -365978.102912646\n"
     ]
    },
    {
     "name": "stderr",
     "output_type": "stream",
     "text": [
      "c:\\Users\\anton.bakhmetev\\AppData\\Local\\Programs\\Python\\Python311\\Lib\\site-packages\\sklearn\\cluster\\_kmeans.py:1412: FutureWarning: The default value of `n_init` will change from 10 to 'auto' in 1.4. Set the value of `n_init` explicitly to suppress the warning\n",
      "  super()._check_params_vs_input(X, default_n_init=10)\n",
      "c:\\Users\\anton.bakhmetev\\AppData\\Local\\Programs\\Python\\Python311\\Lib\\site-packages\\sklearn\\utils\\extmath.py:193: RuntimeWarning: invalid value encountered in matmul\n",
      "  ret = a @ b\n"
     ]
    },
    {
     "name": "stdout",
     "output_type": "stream",
     "text": [
      "Silhouette score for number of cluster(s) 5: 0.036267189314934854\n",
      "Davies Bouldin score for number of cluster(s) 5: 2.828501319915027\n",
      "Score for number of cluster(s) 6: -357449.7634783037\n"
     ]
    },
    {
     "name": "stderr",
     "output_type": "stream",
     "text": [
      "c:\\Users\\anton.bakhmetev\\AppData\\Local\\Programs\\Python\\Python311\\Lib\\site-packages\\sklearn\\cluster\\_kmeans.py:1412: FutureWarning: The default value of `n_init` will change from 10 to 'auto' in 1.4. Set the value of `n_init` explicitly to suppress the warning\n",
      "  super()._check_params_vs_input(X, default_n_init=10)\n",
      "c:\\Users\\anton.bakhmetev\\AppData\\Local\\Programs\\Python\\Python311\\Lib\\site-packages\\sklearn\\utils\\extmath.py:193: RuntimeWarning: invalid value encountered in matmul\n",
      "  ret = a @ b\n"
     ]
    },
    {
     "name": "stdout",
     "output_type": "stream",
     "text": [
      "Silhouette score for number of cluster(s) 6: -0.029134815991902412\n",
      "Davies Bouldin score for number of cluster(s) 6: 2.6279753922540974\n",
      "Score for number of cluster(s) 7: -351390.8360416174\n"
     ]
    },
    {
     "name": "stderr",
     "output_type": "stream",
     "text": [
      "c:\\Users\\anton.bakhmetev\\AppData\\Local\\Programs\\Python\\Python311\\Lib\\site-packages\\sklearn\\cluster\\_kmeans.py:1412: FutureWarning: The default value of `n_init` will change from 10 to 'auto' in 1.4. Set the value of `n_init` explicitly to suppress the warning\n",
      "  super()._check_params_vs_input(X, default_n_init=10)\n",
      "c:\\Users\\anton.bakhmetev\\AppData\\Local\\Programs\\Python\\Python311\\Lib\\site-packages\\sklearn\\utils\\extmath.py:193: RuntimeWarning: invalid value encountered in matmul\n",
      "  ret = a @ b\n"
     ]
    },
    {
     "name": "stdout",
     "output_type": "stream",
     "text": [
      "Silhouette score for number of cluster(s) 7: 0.014467160472981924\n",
      "Davies Bouldin score for number of cluster(s) 7: 2.166774389027337\n",
      "Score for number of cluster(s) 8: -341889.9143972904\n"
     ]
    },
    {
     "name": "stderr",
     "output_type": "stream",
     "text": [
      "c:\\Users\\anton.bakhmetev\\AppData\\Local\\Programs\\Python\\Python311\\Lib\\site-packages\\sklearn\\cluster\\_kmeans.py:1412: FutureWarning: The default value of `n_init` will change from 10 to 'auto' in 1.4. Set the value of `n_init` explicitly to suppress the warning\n",
      "  super()._check_params_vs_input(X, default_n_init=10)\n",
      "c:\\Users\\anton.bakhmetev\\AppData\\Local\\Programs\\Python\\Python311\\Lib\\site-packages\\sklearn\\utils\\extmath.py:193: RuntimeWarning: invalid value encountered in matmul\n",
      "  ret = a @ b\n"
     ]
    },
    {
     "name": "stdout",
     "output_type": "stream",
     "text": [
      "Silhouette score for number of cluster(s) 8: 0.05427511651714734\n",
      "Davies Bouldin score for number of cluster(s) 8: 1.925050160982364\n"
     ]
    },
    {
     "name": "stderr",
     "output_type": "stream",
     "text": [
      "c:\\Users\\anton.bakhmetev\\AppData\\Local\\Programs\\Python\\Python311\\Lib\\site-packages\\sklearn\\cluster\\_kmeans.py:1412: FutureWarning: The default value of `n_init` will change from 10 to 'auto' in 1.4. Set the value of `n_init` explicitly to suppress the warning\n",
      "  super()._check_params_vs_input(X, default_n_init=10)\n"
     ]
    },
    {
     "name": "stdout",
     "output_type": "stream",
     "text": [
      "Score for number of cluster(s) 9: -335005.7235229688\n"
     ]
    },
    {
     "name": "stderr",
     "output_type": "stream",
     "text": [
      "c:\\Users\\anton.bakhmetev\\AppData\\Local\\Programs\\Python\\Python311\\Lib\\site-packages\\sklearn\\utils\\extmath.py:193: RuntimeWarning: invalid value encountered in matmul\n",
      "  ret = a @ b\n"
     ]
    },
    {
     "name": "stdout",
     "output_type": "stream",
     "text": [
      "Silhouette score for number of cluster(s) 9: 0.08841041293611866\n",
      "Davies Bouldin score for number of cluster(s) 9: 2.351357421608832\n"
     ]
    },
    {
     "name": "stderr",
     "output_type": "stream",
     "text": [
      "c:\\Users\\anton.bakhmetev\\AppData\\Local\\Programs\\Python\\Python311\\Lib\\site-packages\\sklearn\\cluster\\_kmeans.py:1412: FutureWarning: The default value of `n_init` will change from 10 to 'auto' in 1.4. Set the value of `n_init` explicitly to suppress the warning\n",
      "  super()._check_params_vs_input(X, default_n_init=10)\n"
     ]
    },
    {
     "name": "stdout",
     "output_type": "stream",
     "text": [
      "Score for number of cluster(s) 10: -327327.05043962505\n"
     ]
    },
    {
     "name": "stderr",
     "output_type": "stream",
     "text": [
      "c:\\Users\\anton.bakhmetev\\AppData\\Local\\Programs\\Python\\Python311\\Lib\\site-packages\\sklearn\\utils\\extmath.py:193: RuntimeWarning: invalid value encountered in matmul\n",
      "  ret = a @ b\n"
     ]
    },
    {
     "name": "stdout",
     "output_type": "stream",
     "text": [
      "Silhouette score for number of cluster(s) 10: 0.07393248612844076\n",
      "Davies Bouldin score for number of cluster(s) 10: 2.3298039165810875\n",
      "Score for number of cluster(s) 11: -319555.1740031383\n"
     ]
    },
    {
     "name": "stderr",
     "output_type": "stream",
     "text": [
      "c:\\Users\\anton.bakhmetev\\AppData\\Local\\Programs\\Python\\Python311\\Lib\\site-packages\\sklearn\\cluster\\_kmeans.py:1412: FutureWarning: The default value of `n_init` will change from 10 to 'auto' in 1.4. Set the value of `n_init` explicitly to suppress the warning\n",
      "  super()._check_params_vs_input(X, default_n_init=10)\n",
      "c:\\Users\\anton.bakhmetev\\AppData\\Local\\Programs\\Python\\Python311\\Lib\\site-packages\\sklearn\\utils\\extmath.py:193: RuntimeWarning: invalid value encountered in matmul\n",
      "  ret = a @ b\n"
     ]
    },
    {
     "name": "stdout",
     "output_type": "stream",
     "text": [
      "Silhouette score for number of cluster(s) 11: 0.09409732809926787\n",
      "Davies Bouldin score for number of cluster(s) 11: 2.2496299242630724\n"
     ]
    }
   ],
   "source": [
    "from sklearn.metrics import silhouette_score, davies_bouldin_score,v_measure_score\n",
    "X_scaled = X_sc\n",
    "km_scores= []\n",
    "km_silhouette = []\n",
    "vmeasure_score =[]\n",
    "db_score = []\n",
    "for i in range(2,12):\n",
    "    km = KMeans(n_clusters=i, random_state=0).fit(X_scaled)\n",
    "    preds = km.predict(X_scaled)\n",
    "    \n",
    "    print(\"Score for number of cluster(s) {}: {}\".format(i,km.score(X_scaled)))\n",
    "    km_scores.append(-km.score(X_scaled))\n",
    "    \n",
    "    silhouette = silhouette_score(X_scaled,preds)\n",
    "    km_silhouette.append(silhouette)\n",
    "    print(\"Silhouette score for number of cluster(s) {}: {}\".format(i,silhouette))\n",
    "    \n",
    "    db = davies_bouldin_score(X_scaled,preds)\n",
    "    db_score.append(db)\n",
    "    print(\"Davies Bouldin score for number of cluster(s) {}: {}\".format(i,db))\n",
    "    \n",
    "    # v_measure = v_measure_score(y,preds)\n",
    "    # vmeasure_score.append(v_measure)\n",
    "    # print(\"V-measure score for number of cluster(s) {}: {}\".format(i,v_measure))\n",
    "    # print(\"-\"*100)"
   ]
  },
  {
   "cell_type": "code",
   "execution_count": 105,
   "id": "1691b7bc",
   "metadata": {},
   "outputs": [
    {
     "data": {
      "image/png": "[encoded data removed]",
      "text/plain": [
       "<Figure size 700x400 with 1 Axes>"
      ]
     },
     "metadata": {},
     "output_type": "display_data"
    }
   ],
   "source": [
    "plt.figure(figsize=(7,4))\n",
    "plt.title(\"The elbow method for determining number of clusters\\n\",fontsize=16)\n",
    "plt.scatter(x=[i for i in range(2,12)],y=km_scores,s=150,edgecolor='k')\n",
    "plt.grid(True)\n",
    "plt.xlabel(\"Number of clusters\",fontsize=14)\n",
    "plt.ylabel(\"K-means score\",fontsize=15)\n",
    "plt.xticks([i for i in range(2,12)],fontsize=14)\n",
    "plt.yticks(fontsize=15)\n",
    "plt.show()"
   ]
  },
  {
   "cell_type": "code",
   "execution_count": 108,
   "id": "00e34c29",
   "metadata": {},
   "outputs": [
    {
     "data": {
      "image/png": "[encoded data removed]",
      "text/plain": [
       "<Figure size 700x400 with 1 Axes>"
      ]
     },
     "metadata": {},
     "output_type": "display_data"
    }
   ],
   "source": [
    "plt.figure(figsize=(7,4))\n",
    "plt.title(\"The silhouette coefficient method \\nfor determining number of clusters\\n\",fontsize=16)\n",
    "plt.scatter(x=[i for i in range(2,12)],y=km_silhouette,s=150,edgecolor='k')\n",
    "plt.grid(True)\n",
    "plt.xlabel(\"Number of clusters\",fontsize=14)\n",
    "plt.ylabel(\"Silhouette score\",fontsize=15)\n",
    "plt.xticks([i for i in range(2,12)],fontsize=14)\n",
    "plt.yticks(fontsize=15)\n",
    "plt.show()"
   ]
  },
  {
   "cell_type": "code",
   "execution_count": 110,
   "id": "6e5c3169",
   "metadata": {},
   "outputs": [
    {
     "name": "stdout",
     "output_type": "stream",
     "text": [
      "BIC for number of cluster(s) 2: -998878.4406351023\n",
      "Log-likelihood score for number of cluster(s) 2: 64.44715238329371\n",
      "----------------------------------------------------------------------------------------------------\n",
      "BIC for number of cluster(s) 3: -1496151.984189814\n",
      "Log-likelihood score for number of cluster(s) 3: 96.53518009792734\n",
      "----------------------------------------------------------------------------------------------------\n",
      "BIC for number of cluster(s) 4: -1930499.6686730827\n",
      "Log-likelihood score for number of cluster(s) 4: 124.67652824209918\n",
      "----------------------------------------------------------------------------------------------------\n",
      "BIC for number of cluster(s) 5: -2029293.3712674545\n",
      "Log-likelihood score for number of cluster(s) 5: 131.77209227382139\n",
      "----------------------------------------------------------------------------------------------------\n",
      "BIC for number of cluster(s) 6: -1790358.0862950769\n",
      "Log-likelihood score for number of cluster(s) 6: 117.6854568846486\n",
      "----------------------------------------------------------------------------------------------------\n",
      "BIC for number of cluster(s) 7: -2190101.8809040315\n",
      "Log-likelihood score for number of cluster(s) 7: 143.65646572410932\n",
      "----------------------------------------------------------------------------------------------------\n",
      "BIC for number of cluster(s) 8: -2250916.39597704\n",
      "Log-likelihood score for number of cluster(s) 8: 148.36999340853075\n",
      "----------------------------------------------------------------------------------------------------\n",
      "BIC for number of cluster(s) 9: -2414529.8814987396\n",
      "Log-likelihood score for number of cluster(s) 9: 159.53102300267943\n",
      "----------------------------------------------------------------------------------------------------\n",
      "BIC for number of cluster(s) 10: -2371588.2217893926\n",
      "Log-likelihood score for number of cluster(s) 10: 157.73701338263805\n",
      "----------------------------------------------------------------------------------------------------\n",
      "BIC for number of cluster(s) 11: -2467546.5376346465\n",
      "Log-likelihood score for number of cluster(s) 11: 164.6547433232214\n",
      "----------------------------------------------------------------------------------------------------\n"
     ]
    }
   ],
   "source": [
    "# Expectation-maximization (Gaussian Mixture Model)\n",
    "from sklearn.mixture import GaussianMixture\n",
    "gm_bic= []\n",
    "gm_score=[]\n",
    "for i in range(2,12):\n",
    "    gm = GaussianMixture(n_components=i,n_init=10,tol=1e-3,max_iter=1000).fit(X_scaled)\n",
    "    print(\"BIC for number of cluster(s) {}: {}\".format(i,gm.bic(X_scaled)))\n",
    "    print(\"Log-likelihood score for number of cluster(s) {}: {}\".format(i,gm.score(X_scaled)))\n",
    "    print(\"-\"*100)\n",
    "    gm_bic.append(-gm.bic(X_scaled))\n",
    "    gm_score.append(gm.score(X_scaled))"
   ]
  },
  {
   "cell_type": "code",
   "execution_count": 111,
   "id": "4ed06197",
   "metadata": {},
   "outputs": [
    {
     "data": {
      "image/png": "[encoded data removed]",
      "text/plain": [
       "<Figure size 700x400 with 1 Axes>"
      ]
     },
     "metadata": {},
     "output_type": "display_data"
    }
   ],
   "source": [
    "plt.figure(figsize=(7,4))\n",
    "plt.title(\"The Gaussian Mixture model BIC \\nfor determining number of clusters\\n\",fontsize=16)\n",
    "plt.scatter(x=[i for i in range(2,12)],y=np.log(gm_bic),s=150,edgecolor='k')\n",
    "plt.grid(True)\n",
    "plt.xlabel(\"Number of clusters\",fontsize=14)\n",
    "plt.ylabel(\"Log of Gaussian mixture BIC score\",fontsize=15)\n",
    "plt.xticks([i for i in range(2,12)],fontsize=14)\n",
    "plt.yticks(fontsize=15)\n",
    "plt.show()"
   ]
  },
  {
   "cell_type": "code",
   "execution_count": 112,
   "id": "15e35a5b",
   "metadata": {},
   "outputs": [
    {
     "data": {
      "image/png": "[encoded data removed]",
      "text/plain": [
       "<Figure size 640x480 with 1 Axes>"
      ]
     },
     "metadata": {},
     "output_type": "display_data"
    }
   ],
   "source": [
    "plt.scatter(x=[i for i in range(2,12)],y=gm_score,s=150,edgecolor='k')\n",
    "plt.show()"
   ]
  },
  {
   "cell_type": "markdown",
   "id": "1ac2e785",
   "metadata": {},
   "source": [
    "Вывод"
   ]
  },
  {
   "cell_type": "markdown",
   "id": "0feb0aa2",
   "metadata": {},
   "source": [
    "### Уменьшение размерности данных с помощью метода главных компонент"
   ]
  },
  {
   "cell_type": "markdown",
   "id": "f8f57b40",
   "metadata": {},
   "source": [
    "Для того чтобы лучше понять, как взаимосвязаны между собой факторы, влияющие на склонность клиетов к покупке воспользуемся методом PCA."
   ]
  },
  {
   "cell_type": "code",
   "execution_count": null,
   "id": "20029f8b",
   "metadata": {},
   "outputs": [],
   "source": [
    "# Применение PCA с 2мя компонентами\n",
    "pca = PCA(n_components=2)\n",
    "X_pca = pca.fit_transform(X_sc)\n",
    "\n",
    "# Визуализация\n",
    "plt.scatter(X_pca[:, 0], X_pca[:, 1], c=y, cmap='viridis')\n",
    "plt.title(\"Визуализация данных с PCA\")\n",
    "plt.xlabel(\"Главная компонента 1\")\n",
    "plt.ylabel(\"Главная компонента 2\")\n",
    "plt.show()"
   ]
  },
  {
   "cell_type": "markdown",
   "id": "3c2f4a8a",
   "metadata": {},
   "source": [
    "Посмотрим, какие факторы больше всего повлияли на эти компоненты."
   ]
  },
  {
   "cell_type": "code",
   "execution_count": null,
   "id": "ba9f81ab",
   "metadata": {},
   "outputs": [],
   "source": [
    "# Получение собственных векторов (весов) главных компонент\n",
    "eigen_vectors = pca.components_\n",
    "\n",
    "# Визуализация весов для первых нескольких компонент\n",
    "\n",
    "\n",
    "# !!!!! Здесь нужно будет доработать код. Если не получится, то вывести просто веса главных компонент.\n",
    "plt.figure(figsize=(10, 5))\n",
    "for i in range(5):\n",
    "    plt.subplot(1, 5, i + 1)\n",
    "    plt.imshow(eigen_vectors[i].reshape(имя_изображения), cmap='viridis')\n",
    "    plt.title(f\"Главная компонента {i + 1}\")\n",
    "    plt.axis('off')\n",
    "plt.show()"
   ]
  },
  {
   "cell_type": "code",
   "execution_count": null,
   "id": "84a2f3bf",
   "metadata": {},
   "outputs": [],
   "source": [
    " Попробуем использовать метод главных компонент для улучшения качества кластеризации."
   ]
  },
  {
   "cell_type": "code",
   "execution_count": null,
   "id": "bb9f0723",
   "metadata": {},
   "outputs": [],
   "source": [
    "# Кластеризация после применения PCA\n",
    "kmeans_pca = KMeans(n_clusters=5)\n",
    "labels_pca = kmeans_pca.fit_predict(X_pca)\n",
    "\n",
    "# Визуализация результатов\n",
    "plt.figure(figsize=(12, 6))\n",
    "plt.subplot(121)\n",
    "plt.scatter(X_sc[:, 0], X_sc[:, 1], c=labels, cmap='viridis')\n",
    "plt.title(\"Кластеризация без PCA\")\n",
    "plt.subplot(122)\n",
    "plt.scatter(X_pca[:, 0], X_pca[:, 1], c=labels_pca, cmap='viridis')\n",
    "plt.title(\"Кластеризация после PCA\")\n",
    "plt.show()"
   ]
  },
  {
   "cell_type": "markdown",
   "id": "b2978a03",
   "metadata": {},
   "source": [
    "Вывод: "
   ]
  },
  {
   "cell_type": "markdown",
   "id": "cfb3c63d",
   "metadata": {},
   "source": [
    "**Выводы по разделу:**\n",
    "\n",
    "1. \n",
    "2. "
   ]
  },
  {
   "cell_type": "markdown",
   "id": "fb319bcf",
   "metadata": {},
   "source": [
    "## 4. Портрет потенциального клиента"
   ]
  },
  {
   "cell_type": "code",
   "execution_count": null,
   "id": "8b844f5e",
   "metadata": {},
   "outputs": [],
   "source": [
    "data.groupby('').mean()\n",
    "\n",
    "data.pivot_table(index='', values='', aggfunc=['',''])"
   ]
  },
  {
   "cell_type": "code",
   "execution_count": null,
   "id": "fdc42b15",
   "metadata": {},
   "outputs": [],
   "source": []
  },
  {
   "cell_type": "code",
   "execution_count": null,
   "id": "69cb8add",
   "metadata": {},
   "outputs": [],
   "source": []
  },
  {
   "cell_type": "code",
   "execution_count": null,
   "id": "11403833",
   "metadata": {},
   "outputs": [],
   "source": []
  },
  {
   "cell_type": "code",
   "execution_count": null,
   "id": "6b7b81be",
   "metadata": {},
   "outputs": [],
   "source": []
  },
  {
   "cell_type": "markdown",
   "id": "5777e812",
   "metadata": {},
   "source": [
    "Вывод"
   ]
  },
  {
   "cell_type": "markdown",
   "id": "6bc4c317",
   "metadata": {},
   "source": [
    "## 5. Визуализация"
   ]
  },
  {
   "cell_type": "markdown",
   "id": "9820b190",
   "metadata": {},
   "source": [
    "### Дашборд\n",
    "\n",
    "Ссылка на дашборд:\n",
    "\n",
    "\n",
    "[Дашборд \"!!!\"](https://public.tableau.com/app/profile/anna7527/viz/_16738687084650/Dashboard1?publish=yes \"!!!\") \n",
    "\n",
    "\n",
    "Дашборд содержит:\n",
    "- ;\n",
    "- ;\n",
    "- .\n",
    "\n",
    "### Визуализация в Unity3d\n",
    "\n",
    "Ссылка:\n",
    "\n",
    "\n",
    "Даш содержит:"
   ]
  },
  {
   "cell_type": "code",
   "execution_count": null,
   "id": "eaa772c6",
   "metadata": {},
   "outputs": [],
   "source": [
    "#Загрузка файла для дашборда:\n",
    "#data_by_purchase.to_csv('data_by_purchase.csv', index = False)"
   ]
  },
  {
   "cell_type": "markdown",
   "id": "5f05ddaf",
   "metadata": {},
   "source": [
    "## 6. Презентация"
   ]
  },
  {
   "cell_type": "markdown",
   "id": "ad7d5b9e",
   "metadata": {},
   "source": [
    "Ссылка на презентацию:\n",
    "\n",
    "\n",
    "[Презентация \"Формирование портрета потенциального клиента для Ростелекома от команды magic_data\"](https://disk.yandex.ru/i/1CwfdbHipeEUSg \"Формирование портрета потенциального клиента для Ростелекома от команды magic_data\") \n"
   ]
  },
  {
   "cell_type": "code",
   "execution_count": null,
   "id": "896120cc",
   "metadata": {},
   "outputs": [],
   "source": []
  },
  {
   "cell_type": "code",
   "execution_count": null,
   "id": "1ad375ff",
   "metadata": {},
   "outputs": [],
   "source": []
  },
  {
   "cell_type": "code",
   "execution_count": null,
   "id": "9aa65b47",
   "metadata": {},
   "outputs": [],
   "source": []
  },
  {
   "cell_type": "markdown",
   "id": "39dad15c",
   "metadata": {},
   "source": [
    "## Общий вывод"
   ]
  },
  {
   "cell_type": "code",
   "execution_count": null,
   "id": "9bbe0128",
   "metadata": {},
   "outputs": [],
   "source": []
  },
  {
   "cell_type": "code",
   "execution_count": null,
   "id": "170df822",
   "metadata": {},
   "outputs": [],
   "source": []
  },
  {
   "cell_type": "code",
   "execution_count": null,
   "id": "5f388b6b",
   "metadata": {},
   "outputs": [],
   "source": []
  },
  {
   "cell_type": "code",
   "execution_count": null,
   "id": "4641d6bb",
   "metadata": {},
   "outputs": [],
   "source": []
  },
  {
   "cell_type": "markdown",
   "id": "ab8427f8",
   "metadata": {},
   "source": [
    "**Что можно еще сделать?**\n",
    "\n",
    "I. Можно еще дополнительно поразбиратьcя в агломеративной кластеризации и DBSCAN, KNN, CatBoost и LightGBM.\n",
    "\n",
    "II. Можно посчитать какой-нибудь агрегатный показатель на основе факторов, полученных методом главных компонент. Например, с помощью многомерной средней с весами в виде общностей. По каждому субъету РФ. И визуализировать с помощью фоновой картограммы Choropleth\n",
    "\n",
    "III. Можно взять какие-то данные из внешних источников и дополнить понециал по регионам. Например, количество домохозяйств по субъектам РФ, не подключенных к РТК, или количество новых зданий в субъекте. Количество новых домов можно попробовать получить с сайта: https://dom.mingkh.ru/\n",
    "Потом можно визуализировать с помощью маркеров из folium и с помощью той же Choropleth.\n",
    "\n",
    "IV. Можно рассчитать показатели продаж по полному кругу клиентов и по выделенным кластерам, проверить статистические гипотезы:\n",
    "\n",
    "- средняя покупка у клиентов из разных кластеров разная (t-тест):\n",
    "```\n",
    "H_0: средняя покупка кластера 1 = средняя покупка кластера 2\n",
    "H_1: средняя покупка кластера 1 ≠ средняя покупка кластера 2\n",
    "alpha = 0.05\n",
    "```\n",
    "- доля клиентов, совершивших покупку, в разных кластерах разная (z-тест):\n",
    "```\n",
    "H_0: доля  клиентов, совершивших событие, в кластере 1 = доля клиентов, совершивших событие, в кластере 2\n",
    "H_1: доля  клиентов, совершивших событие, в кластере 1 ≠ доля клиентов, совершивших событие, в кластере 2\n",
    "alpha = 0.05\n",
    "```"
   ]
  },
  {
   "cell_type": "code",
   "execution_count": null,
   "id": "aa1f5555",
   "metadata": {},
   "outputs": [],
   "source": []
  },
  {
   "cell_type": "code",
   "execution_count": null,
   "id": "02f91ab7",
   "metadata": {},
   "outputs": [],
   "source": []
  },
  {
   "cell_type": "code",
   "execution_count": null,
   "id": "93a02346",
   "metadata": {},
   "outputs": [],
   "source": []
  },
  {
   "cell_type": "code",
   "execution_count": null,
   "id": "a8cf9d87",
   "metadata": {},
   "outputs": [],
   "source": []
  },
  {
   "cell_type": "code",
   "execution_count": null,
   "id": "bf610277",
   "metadata": {},
   "outputs": [],
   "source": []
  },
  {
   "cell_type": "markdown",
   "id": "869d7ecf",
   "metadata": {},
   "source": [
    "# Черновики"
   ]
  },
  {
   "cell_type": "code",
   "execution_count": null,
   "id": "720bf295",
   "metadata": {},
   "outputs": [],
   "source": [
    "#моя старая mape на случай, если новая не сработает\n",
    "def mape_old(y_true, y_pred):\n",
    "    y_error = y_true - y_pred\n",
    "    y_error_abs = [abs(i) for i in y_error]\n",
    "    perc_error_abs = y_error_abs / y_true\n",
    "    mape = perc_error_abs.sum() / len(y_true)\n",
    "    return mape"
   ]
  },
  {
   "cell_type": "code",
   "execution_count": null,
   "id": "dac19cd6",
   "metadata": {},
   "outputs": [],
   "source": [
    "#черновик - функция с return:\n",
    "def liner_model_func(model, X_train_st, X_test_st, y_train, y_test):\n",
    "    model = model\n",
    "    model.fit(X_train_st, y_train)\n",
    "    pred = model.predict(X_test_st)\n",
    "    features = pd.DataFrame({'feature': X_train.columns, 'coeff': model.coef_})\n",
    "    features['coeff_abs'] = abs(features['coeff'])\n",
    "    intercept = model.intercept_\n",
    "    features = featureso.sort_values(by=['coeff_abs'], ascending=False)\n",
    "    # Метрики\n",
    "    mae = mean_absolute_error(y_test, pred)\n",
    "    mse = mean_squared_error(y_test, pred)\n",
    "    rmse = mean_squared_error(y_test, pred)**0.5\n",
    "    r2 = r2_score(y_test, pred)\n",
    "    mape = calc_mape(y_test, pred)\n",
    "    return pred, features, intercept, mae, mse, rmse, r2, mape"
   ]
  },
  {
   "cell_type": "code",
   "execution_count": null,
   "id": "6ebf9328",
   "metadata": {},
   "outputs": [],
   "source": [
    "#На случай, если будет лучшей модель бинарной классификации - дерево принятия решений. Что маловероятно.\n",
    "\n",
    "tree_model = DecisionTreeClassifier(min_samples_leaf=500)\n",
    "tree_model.fit(X_b_train_st, y_b_train)\n",
    "y_pred = tree_model.predict(X_b_test_st) \n",
    "\n",
    "plt.figure(figsize = (20,15)) # задайте размер фигуры, чтобы получить крупное изображение\n",
    "plot_tree(tree_model, filled=True, feature_names = X_b_train_st.columns, class_names = ['потенциальный клиент', 'не клиент'])\n",
    "plt.show() "
   ]
  },
  {
   "cell_type": "code",
   "execution_count": null,
   "id": "61d02281",
   "metadata": {},
   "outputs": [],
   "source": [
    "#попарные графики признаков с разметкой по кластерам\n",
    "\n",
    "import itertools\n",
    "\n",
    "# определим функцию отрисовки графиков попарных признаков для кластеров\n",
    "def show_clusters_on_plot(df, x_name, y_name, cluster_name):\n",
    "    plt.figure(figsize=(5, 5))\n",
    "    sns.scatterplot(\n",
    "        df[x_name], df[y_name], hue=df[cluster_name], palette='Paired'\n",
    "    )\n",
    "    plt.title('{} vs {}'.format(x_name, y_name))\n",
    "    plt.show()\n",
    "\n",
    "# задаём модель k_means с числом кластеров 3 и фиксируем значение random_state\n",
    "km = KMeans(n_clusters=3, random_state=0)\n",
    "# прогнозируем кластеры для наблюдений (алгоритм присваивает им номера от 0 до 2)\n",
    "labels = km.fit_predict(x_sc)\n",
    "\n",
    "# сохраняем метки кластера в поле нашего датасета\n",
    "travel['cluster_km'] = labels \n",
    "\n",
    "# выводим статистику по средним значениям наших признаков по кластеру\n",
    "print(travel.groupby(['cluster_km']).mean())\n",
    "\n",
    "# отрисуем графики для попарных сочетаний признаков с разметкой по кластерам\n",
    "col_pairs = list(itertools.combinations(travel.drop('cluster_km', axis=1).columns, 2))\n",
    "for pair in col_pairs:\n",
    "    show_clusters_on_plot(travel, pair[0], pair[1], 'cluster_km')"
   ]
  },
  {
   "cell_type": "code",
   "execution_count": null,
   "id": "075e09ae",
   "metadata": {},
   "outputs": [],
   "source": [
    "#Среднее за год\n",
    "data[''].resample(rule = 'AS').mean().head()"
   ]
  },
  {
   "cell_type": "code",
   "execution_count": null,
   "id": "6959b8db",
   "metadata": {},
   "outputs": [],
   "source": [
    "#скользящее среднее\n",
    "passengers.rolling(window = 3).mean().head()"
   ]
  },
  {
   "cell_type": "code",
   "execution_count": null,
   "id": "67241a40",
   "metadata": {},
   "outputs": [],
   "source": []
  }
 ],
 "metadata": {
  "kernelspec": {
   "display_name": "Python 3 (ipykernel)",
   "language": "python",
   "name": "python3"
  },
  "language_info": {
   "codemirror_mode": {
    "name": "ipython",
    "version": 3
   },
   "file_extension": ".py",
   "mimetype": "text/x-python",
   "name": "python",
   "nbconvert_exporter": "python",
   "pygments_lexer": "ipython3",
   "version": "3.11.4"
  }
 },
 "nbformat": 4,
 "nbformat_minor": 5
}
