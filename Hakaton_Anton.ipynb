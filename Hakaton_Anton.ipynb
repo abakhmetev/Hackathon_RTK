{
 "cells": [
  {
   "cell_type": "markdown",
   "metadata": {},
   "source": [
    "## 1. Предобработка данных"
   ]
  },
  {
   "cell_type": "code",
   "execution_count": 10,
   "metadata": {},
   "outputs": [],
   "source": [
    "import pandas as pd\n",
    "import matplotlib.pyplot as plt\n",
    "import seaborn as sns\n",
    "import numpy as np\n",
    "from scipy import stats as st"
   ]
  },
  {
   "cell_type": "code",
   "execution_count": 25,
   "metadata": {},
   "outputs": [],
   "source": [
    "address_client = pd.read_csv(r'C:\\WORK\\STUDY\\GIT\\Данные для хакатона\\address_client.csv', encoding = \"utf-8\", on_bad_lines='skip')\n",
    "base_info_client = pd.read_csv(r'C:\\WORK\\STUDY\\GIT\\Данные для хакатона\\base_info_client.csv', encoding = \"utf-8\")\n",
    "final_list = pd.read_csv(r'C:\\WORK\\STUDY\\GIT\\Данные для хакатона\\final_list.csv', encoding = \"utf-8\")\n",
    "okved_industry_client = pd.read_csv(r'C:\\WORK\\STUDY\\GIT\\Данные для хакатона\\okved_industry_client.csv', encoding = \"utf-8\")\n",
    "sales = pd.read_excel(r'C:\\WORK\\STUDY\\GIT\\Данные для хакатона\\sales.xlsx')"
   ]
  },
  {
   "cell_type": "code",
   "execution_count": 26,
   "metadata": {},
   "outputs": [
    {
     "name": "stdout",
     "output_type": "stream",
     "text": [
      "<class 'pandas.core.frame.DataFrame'>\n",
      "RangeIndex: 1485673 entries, 0 to 1485672\n",
      "Data columns (total 7 columns):\n",
      " #   Column                               Non-Null Count    Dtype  \n",
      "---  ------                               --------------    -----  \n",
      " 0   00840127_Ф13                         1485673 non-null  object \n",
      " 1   уфа г.\\, лесотехникума улица\\, 49/1  1485673 non-null  object \n",
      " 2   1                                    1485673 non-null  int64  \n",
      " 3   0                                    1485673 non-null  int64  \n",
      " 4   Unnamed: 4                           736940 non-null   object \n",
      " 5   Unnamed: 5                           1259978 non-null  float64\n",
      " 6   Unnamed: 6                           1259978 non-null  float64\n",
      "dtypes: float64(2), int64(2), object(3)\n",
      "memory usage: 79.3+ MB\n"
     ]
    }
   ],
   "source": [
    "address_client.info()"
   ]
  },
  {
   "cell_type": "code",
   "execution_count": 27,
   "metadata": {},
   "outputs": [
    {
     "data": {
      "text/plain": [
       "1485673"
      ]
     },
     "execution_count": 27,
     "metadata": {},
     "output_type": "execute_result"
    }
   ],
   "source": [
    "address_client.shape[0]"
   ]
  }
 ],
 "metadata": {
  "kernelspec": {
   "display_name": "Python 3",
   "language": "python",
   "name": "python3"
  },
  "language_info": {
   "codemirror_mode": {
    "name": "ipython",
    "version": 3
   },
   "file_extension": ".py",
   "mimetype": "text/x-python",
   "name": "python",
   "nbconvert_exporter": "python",
   "pygments_lexer": "ipython3",
   "version": "3.11.4"
  }
 },
 "nbformat": 4,
 "nbformat_minor": 2
}
